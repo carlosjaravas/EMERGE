{
 "cells": [
  {
   "cell_type": "markdown",
   "metadata": {},
   "source": [
    "# Pruebas para la generacion de datos de entrenamiento"
   ]
  },
  {
   "cell_type": "markdown",
   "metadata": {},
   "source": [
    "## Cambios para que funcione con clases"
   ]
  },
  {
   "cell_type": "markdown",
   "metadata": {},
   "source": [
    "Para exportar se ve que crear una clase para almacenar todas las percepciones es muy util por lo que se procede a modificar todas las funciones anteriores que lo requieran para que funcionen con la clase de percepciones."
   ]
  },
  {
   "cell_type": "markdown",
   "metadata": {},
   "source": [
    "#### Librerias"
   ]
  },
  {
   "cell_type": "code",
   "execution_count": 1,
   "metadata": {},
   "outputs": [],
   "source": [
    "import os\n",
    "import math\n",
    "import pickle\n",
    "from zmqRemoteApi import RemoteAPIClient\n",
    "from random import randint as rn"
   ]
  },
  {
   "cell_type": "markdown",
   "metadata": {},
   "source": [
    "#### Creacion de clases"
   ]
  },
  {
   "cell_type": "code",
   "execution_count": 2,
   "metadata": {},
   "outputs": [],
   "source": [
    "#Class for simulation object\n",
    "class sim_objects ():\n",
    "    def __init__(self):\n",
    "        self.client = RemoteAPIClient()\n",
    "        self.sim = self.client.getObject('sim')\n",
    "        self.file = 0\n",
    "        self.random_increments = []\n",
    "        self.executed = False\n",
    "        self.handler_ids = []\n",
    "\n",
    "sim_obj = sim_objects()\n",
    "\n",
    "# Class to store the different handlers the robot needs to operate in the simulator. \n",
    "class handlers_class ():\n",
    "    def __init__(self):\n",
    "        self.JRF0 = 0\n",
    "        self.JRF1 = 0\n",
    "        #self.JRF2 = 0\n",
    "        self.JRB0 = 0\n",
    "        self.JRB1 = 0\n",
    "        #self.JRB2 = 0\n",
    "        self.JLF0 = 0\n",
    "        self.JLF1 = 0\n",
    "        #self.JLF2 = 0\n",
    "        self.JLB0 = 0\n",
    "        self.JLB1 = 0\n",
    "        #self.JLB2 = 0\n",
    "        self.base = 0\n",
    "\n",
    "handler = handlers_class()"
   ]
  },
  {
   "cell_type": "markdown",
   "metadata": {},
   "source": [
    "#### Funciones de carga del quad y generacion de acciones random"
   ]
  },
  {
   "cell_type": "code",
   "execution_count": 3,
   "metadata": {},
   "outputs": [],
   "source": [
    "# Function that load the robot in the scene at the beggining of each evaluation.\n",
    "def load_quad_class():\n",
    "    # Opening the connection with CoppeliaSim simulator\n",
    "    sim_obj.client = RemoteAPIClient()\n",
    "    sim_obj.sim = sim_obj.client.getObject('sim')\n",
    "    \n",
    "    # Setting the simulation mode for working in sinchronous mode. The simulation timming is controlled by the Python program and not by the simulation itselfs.\n",
    "    sim_obj.client.setStepping(True)\n",
    "    \n",
    "    handler.base = sim_obj.sim.getObject(\"/Base\")\n",
    "    #Right-front\n",
    "    handler.JRF0 = sim_obj.sim.getObject(\"/JRF0\")\n",
    "    handler.JRF1 = sim_obj.sim.getObject(\"/JRF1\")\n",
    "    #handler.JRF2 = sim_obj.sim.getObject(\"/JRF2\")\n",
    "    #Right-back\n",
    "    handler.JRB0 = sim_obj.sim.getObject(\"/JRB0\")\n",
    "    handler.JRB1 = sim_obj.sim.getObject(\"/JRB1\")\n",
    "    #handler.JRB2 = sim_obj.sim.getObject(\"/JRB2\")\n",
    "    #Left-front\n",
    "    handler.JLF0 = sim_obj.sim.getObject(\"/JLF0\")\n",
    "    handler.JLF1 = sim_obj.sim.getObject(\"/JLF1\")\n",
    "    #handler.JLF2 = sim_obj.sim.getObject(\"/JLF2\")\n",
    "    #Left-back\n",
    "    handler.JLB0 = sim_obj.sim.getObject(\"/JLB0\")\n",
    "    handler.JLB1 = sim_obj.sim.getObject(\"/JLB1\")\n",
    "    #handler.JLB2 = sim_obj.sim.getObject(\"/JLB2\")\n",
    "    \n",
    "    #Stores the different id for every handler starting with the base\n",
    "    sim_obj.handler_ids = list(handler.__dict__.values())"
   ]
  },
  {
   "cell_type": "code",
   "execution_count": 4,
   "metadata": {},
   "outputs": [],
   "source": [
    "#Generate list of random positions\n",
    "def rand_gen():\n",
    "    randomlist = []\n",
    "    for i in range(len(sim_obj.handler_ids)-1):\n",
    "        n = rn(-10, 10) * math.pi / 180\n",
    "        randomlist.append(n)\n",
    "    sim_obj.random_increments.append(randomlist)"
   ]
  },
  {
   "cell_type": "markdown",
   "metadata": {},
   "source": [
    "#### Clase y funcion para percepciones"
   ]
  },
  {
   "cell_type": "code",
   "execution_count": 5,
   "metadata": {},
   "outputs": [],
   "source": [
    "\n",
    "#Class to store all the perceptions\n",
    "class perceptions ():\n",
    "    def __init__(self):\n",
    "        #Initial perceptions\n",
    "        self.prev_j_positions = []\n",
    "        self.prev_j_velocities = []\n",
    "        self.prev_j_l_velocities = []\n",
    "        self.prev_j_forces = []\n",
    "        self.prev_base_pos = []\n",
    "        self.prev_base_ori = []\n",
    "        self.prev_base_accel = []\n",
    "\n",
    "        #Resulting perceptions\n",
    "        self.post_j_positions = []\n",
    "        self.post_j_velocities = []\n",
    "        self.post_j_l_velocities = []\n",
    "        self.post_j_forces = []\n",
    "        self.post_base_pos = []\n",
    "        self.post_base_ori = []\n",
    "        self.post_base_accel = []        \n",
    "\n",
    "perception = perceptions()"
   ]
  },
  {
   "cell_type": "code",
   "execution_count": 6,
   "metadata": {},
   "outputs": [],
   "source": [
    "\n",
    "def get_joints_preceptions():\n",
    "    positions = []\n",
    "    forces = []\n",
    "    velocities = []\n",
    "    l_velocities = []\n",
    "    base_pos = sim_obj.sim.getObjectPosition(handler.base, sim_obj.sim.handle_world)\n",
    "    base_ori = sim_obj.sim.getObjectOrientation(handler.base, sim_obj.sim.handle_world)\n",
    "    base_accel = [0,0,0] #sim_obj.sim.getObjectOrientation(handler.base, sim_obj.sim.handle_world) --- MISSING\n",
    "    for i in sim_obj.handler_ids[:-1]:\n",
    "        #Angular/linear position of the joint\n",
    "        pos = sim_obj.sim.getJointPosition(i)\n",
    "        positions.append(pos)\n",
    "        #Torque/force being aplied by the joint\n",
    "        force = sim_obj.sim.getJointForce(i)\n",
    "        forces.append(force)\n",
    "        #Angular/linear velocity of the joint's movement\n",
    "        veloc = sim_obj.sim.getJointVelocity(i)\n",
    "        velocities.append(veloc)\n",
    "        #Linear velocity of the joint\n",
    "        l_veloc = sim_obj.sim.getJointVelocity(i)\n",
    "        l_velocities.append(l_veloc)\n",
    "    if  not sim_obj.executed:\n",
    "        print(\"Getting prev perceptions\")\n",
    "        perception.prev_j_positions.append(positions)\n",
    "        perception.prev_j_velocities.append(velocities)\n",
    "        perception.prev_j_l_velocities.append(l_velocities)\n",
    "        perception.prev_j_forces.append(forces)\n",
    "        perception.prev_base_pos.append(base_pos)\n",
    "        perception.prev_base_ori.append(base_ori)\n",
    "        perception.prev_base_accel.append(base_accel)\n",
    "    else:\n",
    "        print(\"Getting post perceptions\")\n",
    "        perception.post_j_positions.append(positions)\n",
    "        perception.post_j_velocities.append(velocities)\n",
    "        perception.post_j_l_velocities.append(l_velocities)\n",
    "        perception.post_j_forces.append(forces)\n",
    "        perception.post_base_pos.append(base_pos)\n",
    "        perception.post_base_ori.append(base_ori)\n",
    "        perception.post_base_accel.append(base_accel)"
   ]
  },
  {
   "cell_type": "markdown",
   "metadata": {},
   "source": [
    "#### Exportar"
   ]
  },
  {
   "cell_type": "code",
   "execution_count": 17,
   "metadata": {},
   "outputs": [],
   "source": [
    "def export():    \n",
    "    #Dump data in file\n",
    "    sim_obj.file = open(os.getcwd() + r'\\training_dataset.txt', 'wb')\n",
    "    pickle.dump(perception, sim_obj.file)\n",
    "    sim_obj.file.close()"
   ]
  },
  {
   "cell_type": "markdown",
   "metadata": {},
   "source": [
    "#### Ejecucion"
   ]
  },
  {
   "cell_type": "code",
   "execution_count": 18,
   "metadata": {},
   "outputs": [],
   "source": [
    "#Main function\n",
    "def main():\n",
    "    print(\"Executing main function\")\n",
    "    sim_obj.sim.startSimulation()\n",
    "    load_quad_class()\n",
    "    rand_gen()\n",
    "    get_joints_preceptions()\n",
    "    #Execute every joint action\n",
    "    for i in range(len(sim_obj.random_increments[-1])):\n",
    "        sim_obj.sim.setJointTargetPosition(sim_obj.handler_ids[i], (sim_obj.random_increments[-1][i]+perception.prev_j_positions[-1][i]))\n",
    "        sim_obj.client.step()\n",
    "        sim_obj.client.step()\n",
    "        sim_obj.client.step()\n",
    "        sim_obj.client.step()\n",
    "    sim_obj.executed = True\n",
    "    get_joints_preceptions()\n",
    "    sim_obj.executed = False\n",
    "    #sim_obj.sim.pauseSimulation()\n",
    "    sim_obj.sim.stopSimulation()\n",
    "    export()"
   ]
  },
  {
   "cell_type": "code",
   "execution_count": 9,
   "metadata": {},
   "outputs": [],
   "source": [
    "#if __name__ == \"__main__\":\n",
    "#    main()"
   ]
  },
  {
   "cell_type": "code",
   "execution_count": 19,
   "metadata": {},
   "outputs": [
    {
     "name": "stdout",
     "output_type": "stream",
     "text": [
      "Executing main function\n",
      "Getting prev perceptions\n",
      "Getting post perceptions\n"
     ]
    }
   ],
   "source": [
    "main()"
   ]
  },
  {
   "cell_type": "code",
   "execution_count": 20,
   "metadata": {},
   "outputs": [
    {
     "name": "stdout",
     "output_type": "stream",
     "text": [
      "Handler ids: \n",
      "[25, 29, 37, 41, 49, 53, 61, 65, 22]\n",
      "Joints handler ids: \n",
      "[25, 29, 37, 41, 49, 53, 61, 65]\n"
     ]
    }
   ],
   "source": [
    "print(\"Handler ids: \")\n",
    "print(sim_obj.handler_ids)\n",
    "print(\"Joints handler ids: \")\n",
    "print(sim_obj.handler_ids[:-1])"
   ]
  },
  {
   "cell_type": "code",
   "execution_count": 28,
   "metadata": {},
   "outputs": [
    {
     "name": "stdout",
     "output_type": "stream",
     "text": [
      "Cantidad total de datos para 2 ejecuciones: 164\n"
     ]
    }
   ],
   "source": [
    "data = 0\n",
    "num_exec = []\n",
    "for i in perception.__dict__.keys():\n",
    "    #print(i)\n",
    "    for k in perception.__dict__[i]:\n",
    "        #print(k)\n",
    "        #print(\"\")\n",
    "        data = data + len(k)\n",
    "num_exec.append(len(perception.__dict__[i]))\n",
    "print(f\"Cantidad total de datos para {max(num_exec)} ejecuciones: {data}\")"
   ]
  },
  {
   "cell_type": "markdown",
   "metadata": {},
   "source": [
    "##### Pruebas con la funcion de exportar"
   ]
  },
  {
   "cell_type": "code",
   "execution_count": 22,
   "metadata": {},
   "outputs": [
    {
     "name": "stdout",
     "output_type": "stream",
     "text": [
      "prev_j_positions\n",
      "[-0.005038261413574219, 1.5691473484039307, -0.23506546020507812, 1.5683519840240479, -0.2618119716644287, 1.5995008945465088, -0.24020624160766602, 1.5551073551177979]\n",
      "\n",
      "[-0.005038261413574219, 1.5691473484039307, -0.23506546020507812, 1.5683519840240479, -0.2618119716644287, 1.5995008945465088, -0.24020624160766602, 1.5551073551177979]\n",
      "\n",
      "prev_j_velocities\n",
      "[-0.01406668871641159, -0.19683827459812164, -2.548454761505127, 0.03795621916651726, -2.440260648727417, 0.2828596532344818, -2.5351510047912598, 0.13637535274028778]\n",
      "\n",
      "[-0.01406668871641159, -0.19683827459812164, -2.548454761505127, 0.03795621916651726, -2.440260648727417, 0.2828596532344818, -2.5351510047912598, 0.13637535274028778]\n",
      "\n",
      "prev_j_l_velocities\n",
      "[-0.01406668871641159, -0.19683827459812164, -2.548454761505127, 0.03795621916651726, -2.440260648727417, 0.2828596532344818, -2.5351510047912598, 0.13637535274028778]\n",
      "\n",
      "[-0.01406668871641159, -0.19683827459812164, -2.548454761505127, 0.03795621916651726, -2.440260648727417, 0.2828596532344818, -2.5351510047912598, 0.13637535274028778]\n",
      "\n",
      "prev_j_forces\n",
      "[-0.26205432415008545, -0.21247799694538116, 0.28384917974472046, 0.022762075066566467, -0.09527697414159775, 0.8808501958847046, 0.455443799495697, -0.44367942214012146]\n",
      "\n",
      "[-0.26205432415008545, -0.21247799694538116, 0.28384917974472046, 0.022762075066566467, -0.09527697414159775, 0.8808501958847046, 0.455443799495697, -0.44367942214012146]\n",
      "\n",
      "prev_base_pos\n",
      "[0.0006062639877200127, -0.008117370307445526, 0.12337339669466019]\n",
      "\n",
      "[0.0006062639877200127, -0.008117370307445526, 0.12337339669466019]\n",
      "\n",
      "prev_base_ori\n",
      "[-0.0012819510884582996, 0.00021309207659214735, 0.0925273597240448]\n",
      "\n",
      "[-0.0012819510884582996, 0.00021309207659214735, 0.0925273597240448]\n",
      "\n",
      "prev_base_accel\n",
      "[0, 0, 0]\n",
      "\n",
      "[0, 0, 0]\n",
      "\n",
      "post_j_positions\n",
      "[-0.09410333633422852, 1.4046919345855713, -0.4375724792480469, 1.475637674331665, -0.4592556953430176, 1.4520056247711182, -0.714442253112793, 1.679307222366333]\n",
      "\n",
      "[-0.07579350471496582, 1.7306063175201416, -0.5149595737457275, 1.731471300125122, -0.22479605674743652, 1.719402551651001, -0.3601667881011963, 1.4328272342681885]\n",
      "\n",
      "post_j_velocities\n",
      "[0.05493169277906418, 0.15945449471473694, 0.006723410449922085, -0.011253368109464645, -0.1417638212442398, 0.1230241060256958, -0.08416184037923813, 0.4787449538707733]\n",
      "\n",
      "[0.03533366695046425, 0.04615788161754608, 0.16298308968544006, -0.15678420662879944, 0.011873256415128708, -0.1207352802157402, 0.06027227267622948, -0.25920891761779785]\n",
      "\n",
      "post_j_l_velocities\n",
      "[0.05493169277906418, 0.15945449471473694, 0.006723410449922085, -0.011253368109464645, -0.1417638212442398, 0.1230241060256958, -0.08416184037923813, 0.4787449538707733]\n",
      "\n",
      "[0.03533366695046425, 0.04615788161754608, 0.16298308968544006, -0.15678420662879944, 0.011873256415128708, -0.1207352802157402, 0.06027227267622948, -0.25920891761779785]\n",
      "\n",
      "post_j_forces\n",
      "[-0.09337727725505829, -0.2463158369064331, 0.06688795238733292, -0.40772002935409546, 0.18586839735507965, -0.08834262192249298, -1.4950220584869385, -0.14758983254432678]\n",
      "\n",
      "[0.005752851255238056, 0.6067395806312561, -0.04537989944219589, 0.048710983246564865, 0.0009582798811607063, -0.007764200679957867, -0.24498674273490906, 0.40926384925842285]\n",
      "\n",
      "post_base_pos\n",
      "[-0.010002726688981056, -0.03783431276679039, 0.12360958009958267]\n",
      "\n",
      "[0.008555442094802856, -0.06890890002250671, 0.12548157572746277]\n",
      "\n",
      "post_base_ori\n",
      "[0.015777401626110077, 0.013893903233110905, 0.19634506106376648]\n",
      "\n",
      "[0.006168810650706291, 0.00549080315977335, 0.22865723073482513]\n",
      "\n",
      "post_base_accel\n",
      "[0, 0, 0]\n",
      "\n",
      "[0, 0, 0]\n",
      "\n"
     ]
    }
   ],
   "source": [
    "sim_obj.file = open(os.getcwd() + r'\\training.txt', 'wb')\n",
    "pickle.dump(perception, sim_obj.file)\n",
    "sim_obj.file.close()\n",
    "for i in perception.__dict__.keys():\n",
    "    print(i)\n",
    "    for k in perception.__dict__[i]:\n",
    "        print(k)\n",
    "        print(\"\")"
   ]
  },
  {
   "cell_type": "markdown",
   "metadata": {},
   "source": [
    "##### Pruebas para la carga de datos"
   ]
  },
  {
   "cell_type": "code",
   "execution_count": 29,
   "metadata": {},
   "outputs": [
    {
     "name": "stdout",
     "output_type": "stream",
     "text": [
      "prev_j_positions\n",
      "[-0.005038261413574219, 1.5691473484039307, -0.23506546020507812, 1.5683519840240479, -0.2618119716644287, 1.5995008945465088, -0.24020624160766602, 1.5551073551177979]\n",
      "\n",
      "[-0.005038261413574219, 1.5691473484039307, -0.23506546020507812, 1.5683519840240479, -0.2618119716644287, 1.5995008945465088, -0.24020624160766602, 1.5551073551177979]\n",
      "\n",
      "prev_j_velocities\n",
      "[-0.01406668871641159, -0.19683827459812164, -2.548454761505127, 0.03795621916651726, -2.440260648727417, 0.2828596532344818, -2.5351510047912598, 0.13637535274028778]\n",
      "\n",
      "[-0.01406668871641159, -0.19683827459812164, -2.548454761505127, 0.03795621916651726, -2.440260648727417, 0.2828596532344818, -2.5351510047912598, 0.13637535274028778]\n",
      "\n",
      "prev_j_l_velocities\n",
      "[-0.01406668871641159, -0.19683827459812164, -2.548454761505127, 0.03795621916651726, -2.440260648727417, 0.2828596532344818, -2.5351510047912598, 0.13637535274028778]\n",
      "\n",
      "[-0.01406668871641159, -0.19683827459812164, -2.548454761505127, 0.03795621916651726, -2.440260648727417, 0.2828596532344818, -2.5351510047912598, 0.13637535274028778]\n",
      "\n",
      "prev_j_forces\n",
      "[-0.26205432415008545, -0.21247799694538116, 0.28384917974472046, 0.022762075066566467, -0.09527697414159775, 0.8808501958847046, 0.455443799495697, -0.44367942214012146]\n",
      "\n",
      "[-0.26205432415008545, -0.21247799694538116, 0.28384917974472046, 0.022762075066566467, -0.09527697414159775, 0.8808501958847046, 0.455443799495697, -0.44367942214012146]\n",
      "\n",
      "prev_base_pos\n",
      "[0.0006062639877200127, -0.008117370307445526, 0.12337339669466019]\n",
      "\n",
      "[0.0006062639877200127, -0.008117370307445526, 0.12337339669466019]\n",
      "\n",
      "prev_base_ori\n",
      "[-0.0012819510884582996, 0.00021309207659214735, 0.0925273597240448]\n",
      "\n",
      "[-0.0012819510884582996, 0.00021309207659214735, 0.0925273597240448]\n",
      "\n",
      "prev_base_accel\n",
      "[0, 0, 0]\n",
      "\n",
      "[0, 0, 0]\n",
      "\n",
      "post_j_positions\n",
      "[-0.09410333633422852, 1.4046919345855713, -0.4375724792480469, 1.475637674331665, -0.4592556953430176, 1.4520056247711182, -0.714442253112793, 1.679307222366333]\n",
      "\n",
      "[-0.07579350471496582, 1.7306063175201416, -0.5149595737457275, 1.731471300125122, -0.22479605674743652, 1.719402551651001, -0.3601667881011963, 1.4328272342681885]\n",
      "\n",
      "post_j_velocities\n",
      "[0.05493169277906418, 0.15945449471473694, 0.006723410449922085, -0.011253368109464645, -0.1417638212442398, 0.1230241060256958, -0.08416184037923813, 0.4787449538707733]\n",
      "\n",
      "[0.03533366695046425, 0.04615788161754608, 0.16298308968544006, -0.15678420662879944, 0.011873256415128708, -0.1207352802157402, 0.06027227267622948, -0.25920891761779785]\n",
      "\n",
      "post_j_l_velocities\n",
      "[0.05493169277906418, 0.15945449471473694, 0.006723410449922085, -0.011253368109464645, -0.1417638212442398, 0.1230241060256958, -0.08416184037923813, 0.4787449538707733]\n",
      "\n",
      "[0.03533366695046425, 0.04615788161754608, 0.16298308968544006, -0.15678420662879944, 0.011873256415128708, -0.1207352802157402, 0.06027227267622948, -0.25920891761779785]\n",
      "\n",
      "post_j_forces\n",
      "[-0.09337727725505829, -0.2463158369064331, 0.06688795238733292, -0.40772002935409546, 0.18586839735507965, -0.08834262192249298, -1.4950220584869385, -0.14758983254432678]\n",
      "\n",
      "[0.005752851255238056, 0.6067395806312561, -0.04537989944219589, 0.048710983246564865, 0.0009582798811607063, -0.007764200679957867, -0.24498674273490906, 0.40926384925842285]\n",
      "\n",
      "post_base_pos\n",
      "[-0.010002726688981056, -0.03783431276679039, 0.12360958009958267]\n",
      "\n",
      "[0.008555442094802856, -0.06890890002250671, 0.12548157572746277]\n",
      "\n",
      "post_base_ori\n",
      "[0.015777401626110077, 0.013893903233110905, 0.19634506106376648]\n",
      "\n",
      "[0.006168810650706291, 0.00549080315977335, 0.22865723073482513]\n",
      "\n",
      "post_base_accel\n",
      "[0, 0, 0]\n",
      "\n",
      "[0, 0, 0]\n",
      "\n"
     ]
    }
   ],
   "source": [
    "load_file = open(os.getcwd() + r'\\training.txt', 'rb')\n",
    "pickled_prception_class = pickle.load(load_file)\n",
    "load_file.close()\n",
    "for i in pickled_prception_class.__dict__.keys():\n",
    "    print(i)\n",
    "    for k in pickled_prception_class.__dict__[i]:\n",
    "        print(k)\n",
    "        print(\"\")"
   ]
  },
  {
   "cell_type": "code",
   "execution_count": 30,
   "metadata": {},
   "outputs": [
    {
     "name": "stdout",
     "output_type": "stream",
     "text": [
      "Se conserva el mismo objeto\n"
     ]
    }
   ],
   "source": [
    "if perception.__dict__ == pickled_prception_class.__dict__:\n",
    "    print(\"Se conserva el mismo objeto\")\n",
    "else:\n",
    "    print(\"No se conserva el mismo objeto\")"
   ]
  }
 ],
 "metadata": {
  "kernelspec": {
   "display_name": "EMERGE_Py311",
   "language": "python",
   "name": "python3"
  },
  "language_info": {
   "codemirror_mode": {
    "name": "ipython",
    "version": 3
   },
   "file_extension": ".py",
   "mimetype": "text/x-python",
   "name": "python",
   "nbconvert_exporter": "python",
   "pygments_lexer": "ipython3",
   "version": "3.11.5"
  },
  "orig_nbformat": 4
 },
 "nbformat": 4,
 "nbformat_minor": 2
}
