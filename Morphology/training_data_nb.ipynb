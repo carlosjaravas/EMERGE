{
 "cells": [
  {
   "cell_type": "markdown",
   "metadata": {},
   "source": [
    "# Pruebas para la generacion de datos de entrenamiento"
   ]
  },
  {
   "cell_type": "markdown",
   "metadata": {},
   "source": [
    "## Funciona sin utilizar clases"
   ]
  },
  {
   "cell_type": "markdown",
   "metadata": {},
   "source": [
    "#### Importar librerias"
   ]
  },
  {
   "cell_type": "code",
   "execution_count": 1,
   "metadata": {},
   "outputs": [],
   "source": [
    "import os\n",
    "import math\n",
    "import pickle\n",
    "from zmqRemoteApi import RemoteAPIClient\n",
    "from random import randint as rn"
   ]
  },
  {
   "cell_type": "markdown",
   "metadata": {},
   "source": [
    "#### Inicializar la simulacion"
   ]
  },
  {
   "cell_type": "markdown",
   "metadata": {},
   "source": [
    "Clase para los objetos de simulacion y poder utilizarlos como variables globales"
   ]
  },
  {
   "cell_type": "code",
   "execution_count": 14,
   "metadata": {},
   "outputs": [],
   "source": [
    "#Class for simulation object\n",
    "class sim_objects ():\n",
    "    def __init__(self):\n",
    "        self.client = 0\n",
    "        self.sim = 0\n",
    "        self.file = 0\n",
    "        self.random_positions = []\n",
    "        self.previous = True\n",
    "\n",
    "sim_obj = sim_objects()"
   ]
  },
  {
   "cell_type": "markdown",
   "metadata": {},
   "source": [
    "No se usan los siguientes porque se creo una clase"
   ]
  },
  {
   "cell_type": "code",
   "execution_count": 7,
   "metadata": {},
   "outputs": [],
   "source": [
    "#Always add at the begining of every code for simulations after the libraries import\n",
    "client = RemoteAPIClient()\n",
    "sim = client.getObject('sim')"
   ]
  },
  {
   "cell_type": "markdown",
   "metadata": {},
   "source": [
    "#### Funciones"
   ]
  },
  {
   "cell_type": "markdown",
   "metadata": {},
   "source": [
    "##### Handlers del robot"
   ]
  },
  {
   "cell_type": "markdown",
   "metadata": {},
   "source": [
    "###### No se usan"
   ]
  },
  {
   "cell_type": "code",
   "execution_count": 5,
   "metadata": {},
   "outputs": [
    {
     "data": {
      "text/plain": [
       "'\\n#Defining handlers\\ndef load_quad():\\n    #Right-front\\n    JRF0 = sim.getObject(\"/JRF0\")\\n    JRF1 = sim.getObject(\"/JRF1\")\\n    JRF2 = sim.getObject(\"/JRF2\")\\n    #Right-back\\n    JRB0 = sim.getObject(\"/JRB0\")\\n    JRB1 = sim.getObject(\"/JRB1\")\\n    JRB2 = sim.getObject(\"/JRB2\")\\n    #Left-front\\n    JLF0 = sim.getObject(\"/JLF0\")\\n    JLF1 = sim.getObject(\"/JLF1\")\\n    JLF2 = sim.getObject(\"/JLF2\")\\n    #Left-back\\n    JLB0 = sim.getObject(\"/JLB0\")\\n    JLB1 = sim.getObject(\"/JLB1\")\\n    JLB2 = sim.getObject(\"/JLB2\")\\n    #Head\\n    Head = sim.getObject(\"/Head\")\\n    Base = sim.getObject(\"/Base\")\\n    joint_handlers = [JRF0, JRF1, JRF2, JRB0, JRB1, JRB2, JLF0, JLF1, JLF2, JLB0, JLB1, JLB2]\\n    shape_handlers = [Base, Head]\\n    return joint_handlers, shape_handlers\\n'"
      ]
     },
     "execution_count": 5,
     "metadata": {},
     "output_type": "execute_result"
    }
   ],
   "source": [
    "\"\"\"\n",
    "#Defining handlers\n",
    "def load_quad():\n",
    "    #Right-front\n",
    "    JRF0 = sim.getObject(\"/JRF0\")\n",
    "    JRF1 = sim.getObject(\"/JRF1\")\n",
    "    JRF2 = sim.getObject(\"/JRF2\")\n",
    "    #Right-back\n",
    "    JRB0 = sim.getObject(\"/JRB0\")\n",
    "    JRB1 = sim.getObject(\"/JRB1\")\n",
    "    JRB2 = sim.getObject(\"/JRB2\")\n",
    "    #Left-front\n",
    "    JLF0 = sim.getObject(\"/JLF0\")\n",
    "    JLF1 = sim.getObject(\"/JLF1\")\n",
    "    JLF2 = sim.getObject(\"/JLF2\")\n",
    "    #Left-back\n",
    "    JLB0 = sim.getObject(\"/JLB0\")\n",
    "    JLB1 = sim.getObject(\"/JLB1\")\n",
    "    JLB2 = sim.getObject(\"/JLB2\")\n",
    "    #Head\n",
    "    Head = sim.getObject(\"/Head\")\n",
    "    Base = sim.getObject(\"/Base\")\n",
    "    joint_handlers = [JRF0, JRF1, JRF2, JRB0, JRB1, JRB2, JLF0, JLF1, JLF2, JLB0, JLB1, JLB2]\n",
    "    shape_handlers = [Base, Head]\n",
    "    return joint_handlers, shape_handlers\n",
    "\"\"\""
   ]
  },
  {
   "cell_type": "code",
   "execution_count": 3,
   "metadata": {},
   "outputs": [],
   "source": [
    "#Defining handlers\n",
    "def load_quad():\n",
    "    base = sim.getObject(\"/Base\")\n",
    "    #Right-front\n",
    "    JRF0 = sim.getObject(\"/JRF0\")\n",
    "    JRF1 = sim.getObject(\"/JRF1\")\n",
    "    JRF2 = sim.getObject(\"/JRF2\")\n",
    "    #Right-back\n",
    "    JRB0 = sim.getObject(\"/JRB0\")\n",
    "    JRB1 = sim.getObject(\"/JRB1\")\n",
    "    JRB2 = sim.getObject(\"/JRB2\")\n",
    "    #Left-front\n",
    "    JLF0 = sim.getObject(\"/JLF0\")\n",
    "    JLF1 = sim.getObject(\"/JLF1\")\n",
    "    JLF2 = sim.getObject(\"/JLF2\")\n",
    "    #Left-back\n",
    "    JLB0 = sim.getObject(\"/JLB0\")\n",
    "    JLB1 = sim.getObject(\"/JLB1\")\n",
    "    JLB2 = sim.getObject(\"/JLB2\")\n",
    "\n",
    "    joint_handlers = [JRF0, JRF1, JRF2, JRB0, JRB1, JRB2, JLF0, JLF1, JLF2, JLB0, JLB1, JLB2]\n",
    "    return joint_handlers, base"
   ]
  },
  {
   "cell_type": "markdown",
   "metadata": {},
   "source": [
    "###### Se utilizara\n",
    "Se utilizaran los handlers dentro de una clase para poder utilizarlos como variables globales"
   ]
  },
  {
   "cell_type": "code",
   "execution_count": 7,
   "metadata": {},
   "outputs": [],
   "source": [
    "# Class to store the different handlers the robot needs to operate in the simulator. \n",
    "class handlers ():\n",
    "    def __init__(self):\n",
    "        self.JRF0 = 0\n",
    "        self.JRF1 = 0\n",
    "        #self.JRF2 = 0\n",
    "        self.JRB0 = 0\n",
    "        self.JRB1 = 0\n",
    "        #self.JRB2 = 0\n",
    "        self.JLF0 = 0\n",
    "        self.JLF1 = 0\n",
    "        #self.JLF2 = 0\n",
    "        self.JLB0 = 0\n",
    "        self.JLB1 = 0\n",
    "        #self.JLB2 = 0\n",
    "        self.base = 0\n",
    "\n",
    "handler = handlers()"
   ]
  },
  {
   "cell_type": "markdown",
   "metadata": {},
   "source": [
    "Funcion para crear los handlers"
   ]
  },
  {
   "cell_type": "code",
   "execution_count": 8,
   "metadata": {},
   "outputs": [],
   "source": [
    "# Function that load the robot in the scene at the beggining of each evaluation.\n",
    "def load_quad_class():\n",
    "    # Opening the connection with CoppeliaSim simulator\n",
    "    sim_obj.client = RemoteAPIClient()\n",
    "    sim_obj.sim = sim_obj.client.getObject('sim')\n",
    "    \n",
    "    # Setting the simulation mode for working in sinchronous mode. The simulation timming is controlled by the Python program and not by the simulation itselfs.\n",
    "    sim_obj.client.setStepping(True)\n",
    "    \n",
    "    handler.base = sim.getObject(\"/Base\")\n",
    "    #Right-front\n",
    "    handler.JRF0 = sim_obj.sim.getObject(\"/JRF0\")\n",
    "    handler.JRF1 = sim_obj.sim.getObject(\"/JRF1\")\n",
    "    handler.JRF2 = sim_obj.sim.getObject(\"/JRF2\")\n",
    "    #Right-back\n",
    "    handler.JRB0 = sim_obj.sim.getObject(\"/JRB0\")\n",
    "    handler.JRB1 = sim_obj.sim.getObject(\"/JRB1\")\n",
    "    handler.JRB2 = sim_obj.sim.getObject(\"/JRB2\")\n",
    "    #Left-front\n",
    "    handler.JLF0 = sim_obj.sim.getObject(\"/JLF0\")\n",
    "    handler.JLF1 = sim_obj.sim.getObject(\"/JLF1\")\n",
    "    handler.JLF2 = sim_obj.sim.getObject(\"/JLF2\")\n",
    "    #Left-back\n",
    "    handler.JLB0 = sim_obj.sim.getObject(\"/JLB0\")\n",
    "    handler.JLB1 = sim_obj.sim.getObject(\"/JLB1\")\n",
    "    handler.JLB2 = sim_obj.sim.getObject(\"/JLB2\")"
   ]
  },
  {
   "cell_type": "markdown",
   "metadata": {},
   "source": [
    "##### Set de posiciones random"
   ]
  },
  {
   "cell_type": "markdown",
   "metadata": {},
   "source": [
    "Seran angulos pequeños angulos aleatorios para simular angulos incrementales a partir de la posicion angular anterior"
   ]
  },
  {
   "cell_type": "code",
   "execution_count": 12,
   "metadata": {},
   "outputs": [],
   "source": [
    "#Generate list of random positions\n",
    "def rand_gen():\n",
    "    randomlist = []\n",
    "    for i in range(9):\n",
    "        n = rn(-10, 10) * math.pi / 180\n",
    "        randomlist.append(n)\n",
    "    return randomlist"
   ]
  },
  {
   "cell_type": "markdown",
   "metadata": {},
   "source": [
    "##### Toma de datos"
   ]
  },
  {
   "cell_type": "markdown",
   "metadata": {},
   "source": [
    "* Posicion (angular) de las joints con respecto a su eje de giro.\n",
    "* Posicion y orientacion absoluta de la base."
   ]
  },
  {
   "cell_type": "code",
   "execution_count": 13,
   "metadata": {},
   "outputs": [
    {
     "data": {
      "text/plain": [
       "'\\ndef get_joints_preceptions(handlers, base):\\n    positions = []\\n    orientations = []\\n    base_pos = sim.getObjectPosition(base, sim.handle_world)\\n    base_ori = sim.getObjectOrientation(base, sim.handle_world)\\n    for i in handlers:\\n        pos = sim.getObjectPosition(i,sim.handleflag_reljointbaseframe)\\n        positions.append(pos)\\n        ori = sim.getJointPosition(i)\\n        orientations.append(ori)\\n    return positions, orientations, base_pos, base_ori\\n'"
      ]
     },
     "execution_count": 13,
     "metadata": {},
     "output_type": "execute_result"
    }
   ],
   "source": [
    "\"\"\"\n",
    "def get_joints_preceptions(handlers, base):\n",
    "    positions = []\n",
    "    orientations = []\n",
    "    base_pos = sim.getObjectPosition(base, sim.handle_world)\n",
    "    base_ori = sim.getObjectOrientation(base, sim.handle_world)\n",
    "    for i in handlers:\n",
    "        pos = sim.getObjectPosition(i,sim.handleflag_reljointbaseframe)\n",
    "        positions.append(pos)\n",
    "        ori = sim.getJointPosition(i)\n",
    "        orientations.append(ori)\n",
    "    return positions, orientations, base_pos, base_ori\n",
    "\"\"\""
   ]
  },
  {
   "cell_type": "markdown",
   "metadata": {},
   "source": [
    "Obtiene las percepciones que en la realidad vendran de diferentes sensores"
   ]
  },
  {
   "cell_type": "code",
   "execution_count": 15,
   "metadata": {},
   "outputs": [],
   "source": [
    "def get_joints_preceptions_v1(handlers, base):\n",
    "    orientations = []\n",
    "    base_pos = sim.getObjectPosition(base, sim.handle_world)\n",
    "    base_ori = sim.getObjectOrientation(base, sim.handle_world)\n",
    "    for i in handlers:\n",
    "        ori = sim.getJointPosition(i)\n",
    "        orientations.append(ori)\n",
    "    return orientations, base_pos, base_ori"
   ]
  },
  {
   "cell_type": "markdown",
   "metadata": {},
   "source": [
    "Version nueva que incluye el torque y velocidades de las articulaciones"
   ]
  },
  {
   "cell_type": "code",
   "execution_count": null,
   "metadata": {},
   "outputs": [],
   "source": [
    "def get_joints_preceptions(handlers, base):\n",
    "    positions = []\n",
    "    forces = []\n",
    "    velocities = []\n",
    "    l_velocities = []\n",
    "    base_pos = sim.getObjectPosition(base, sim.handle_world)\n",
    "    base_ori = sim.getObjectOrientation(base, sim.handle_world)\n",
    "    for i in handlers:\n",
    "        #Angular/linealr position of the joint\n",
    "        pos = sim.getJointPosition(i)\n",
    "        positions.append(pos)\n",
    "        #Torque/force being aplied by the joint\n",
    "        force = sim.getJointForce(i)\n",
    "        forces.append(force)\n",
    "        #Angular/ linear velocity of the joint's movement\n",
    "        veloc = sim.getJointVelocity(i)\n",
    "        velocities.append(veloc)\n",
    "        #Linear velocity of the joint\n",
    "        l_veloc = sim.getJointVelocity(i)\n",
    "        l_velocities.append(l_veloc)\n",
    "    return positions, forces, velocities, l_velocities, base_pos, base_ori"
   ]
  },
  {
   "cell_type": "markdown",
   "metadata": {},
   "source": [
    "### Ejecucion"
   ]
  },
  {
   "cell_type": "markdown",
   "metadata": {},
   "source": [
    "Funcion para ejecutar las posiciones random generadas"
   ]
  },
  {
   "cell_type": "code",
   "execution_count": 44,
   "metadata": {},
   "outputs": [],
   "source": [
    "def main():\n",
    "    sim.startSimulation()\n",
    "    while (t := sim.getSimulationTime()) < 2:\n",
    "        joint_handlers, base = load_quad()\n",
    "        rand_pos = rand_gen()\n",
    "        for i in range(0,len(rand_pos)):\n",
    "            #print (joint_handlers[i], positions[i])\n",
    "            sim.setJointTargetPosition(joint_handlers[i], rand_pos[i])\n",
    "            client.step()\n",
    "        #s = f'Simulation time: {t:.2f} [s]'\n",
    "        #print(s)\n",
    "        client.step()\n",
    "    sim.stopSimulation()"
   ]
  },
  {
   "cell_type": "markdown",
   "metadata": {},
   "source": [
    "Funcion para obtener datos previos y posteriores, y ejecutar las posiciones random generadas"
   ]
  },
  {
   "cell_type": "code",
   "execution_count": 18,
   "metadata": {},
   "outputs": [
    {
     "data": {
      "text/plain": [
       "'\\ndef main():\\n    sim.startSimulation()\\n    joint_handlers, base = load_quad()\\n    rand_pos = rand_gen()\\n    prev_pos, prev_ori, prev_base_pos, prev_base_ori = get_joints_preceptions(joint_handlers, base)\\n    for i in range(0,len(rand_pos)):\\n        sim.setJointTargetPosition(joint_handlers[i], rand_pos[i])\\n        client.step()\\n    post_pos, post_ori, post_base_pos, post_base_ori = get_joints_preceptions(joint_handlers, base)\\n    print(prev_pos)\\n    print(post_pos)\\n    print(prev_ori)\\n    print(post_ori)\\n    print(prev_base_pos)\\n    print(post_base_pos)\\n    print(prev_base_ori)\\n    print(post_base_ori)\\n    sim.stopSimulation()\\n    '"
      ]
     },
     "execution_count": 18,
     "metadata": {},
     "output_type": "execute_result"
    }
   ],
   "source": [
    "\"\"\"\n",
    "def main():\n",
    "    sim.startSimulation()\n",
    "    joint_handlers, base = load_quad()\n",
    "    rand_pos = rand_gen()\n",
    "    prev_pos, prev_ori, prev_base_pos, prev_base_ori = get_joints_preceptions(joint_handlers, base)\n",
    "    for i in range(0,len(rand_pos)):\n",
    "        sim.setJointTargetPosition(joint_handlers[i], rand_pos[i])\n",
    "        client.step()\n",
    "    post_pos, post_ori, post_base_pos, post_base_ori = get_joints_preceptions(joint_handlers, base)\n",
    "    print(prev_pos)\n",
    "    print(post_pos)\n",
    "    print(prev_ori)\n",
    "    print(post_ori)\n",
    "    print(prev_base_pos)\n",
    "    print(post_base_pos)\n",
    "    print(prev_base_ori)\n",
    "    print(post_base_ori)\n",
    "    sim.stopSimulation()\n",
    "    \"\"\""
   ]
  },
  {
   "cell_type": "markdown",
   "metadata": {},
   "source": [
    "Se ejecuta una secuencia de posiciones y se obtienen las diferentes medidas"
   ]
  },
  {
   "cell_type": "code",
   "execution_count": 17,
   "metadata": {},
   "outputs": [],
   "source": [
    "def main():\n",
    "    sim.startSimulation()\n",
    "    joint_handlers, base = load_quad()\n",
    "    rand_pos = rand_gen()\n",
    "    prev_ori, prev_base_pos, prev_base_ori = get_joints_preceptions_v1(joint_handlers, base)\n",
    "    for i in range(0,len(rand_pos)):\n",
    "        sim.setJointTargetPosition(joint_handlers[i], rand_pos[i])\n",
    "        client.step()\n",
    "    post_ori, post_base_pos, post_base_ori = get_joints_preceptions_v1(joint_handlers, base)\n",
    "    print(\"Pos angular previa: \", prev_ori)\n",
    "    print(\"Pos angular por ejecutar: \", rand_pos)\n",
    "    print(\"Pros angular posterior: \", post_ori)\n",
    "    print(\"Posicion previa base (x,y,z): \", prev_base_pos)\n",
    "    print(\"Posicion posterior base (x,y,z): \",post_base_pos)\n",
    "    print(\"Orientacion previa base (alpha, beta, gamma): \",prev_base_ori)\n",
    "    print(\"Orientacion posterior base (alpha, beta, gamma): \",post_base_ori)\n",
    "    sim.pauseSimulation()"
   ]
  },
  {
   "cell_type": "code",
   "execution_count": 59,
   "metadata": {},
   "outputs": [
    {
     "name": "stdout",
     "output_type": "stream",
     "text": [
      "Pos angular previa:  [-0.00027751922607421875, 0.00066375732421875, 0.0002608299255371094, 0.0009446144104003906, 0.00044345855712890625, 9.870529174804688e-05, -0.00078582763671875, 0.0003376007080078125, 0.0001506805419921875, -0.0009438991546630859, 0.0005726814270019531, 0.0004949569702148438]\n",
      "Pos angular por ejecutar:  [-0.3839724354387525, 0.10471975511965977, 1.0821041362364843, 0.3490658503988659, 1.1344640137963142, 1.4660765716752369, 0.15707963267948966, -0.4886921905584123, -0.9773843811168246, 1.3788101090755203, -0.9948376736367678, -1.43116998663535]\n",
      "Pros angular posterior:  [-0.1879103183746338, 0.14304780960083008, 1.115992784500122, 0.0773930549621582, 0.37836599349975586, 1.50472092628479, 0.1588902473449707, -0.4954569339752197, -1.0048339366912842, 1.4134438037872314, -1.0140836238861084, -1.469933271408081]\n",
      "Posicion previa base (x,y,z):  [-4.62464186057332e-06, 1.1430309314164333e-05, 0.11770223081111908]\n",
      "Posicion posterior base (x,y,z):  [0.008931975811719894, -0.050608355551958084, 0.1224457174539566]\n",
      "Orientacion previa base (alpha, beta, gamma):  [-1.911482286232058e-05, 7.212839409476146e-05, -2.5123865270870738e-05]\n",
      "Orientacion posterior base (alpha, beta, gamma):  [0.007694359868764877, 0.0010322940070182085, -0.15251454710960388]\n"
     ]
    }
   ],
   "source": [
    "main()"
   ]
  },
  {
   "cell_type": "code",
   "execution_count": 55,
   "metadata": {},
   "outputs": [
    {
     "data": {
      "text/plain": [
       "1"
      ]
     },
     "execution_count": 55,
     "metadata": {},
     "output_type": "execute_result"
    }
   ],
   "source": [
    "sim.stopSimulation()"
   ]
  },
  {
   "cell_type": "markdown",
   "metadata": {},
   "source": [
    "Guardar las mediciones en una sola lista seguida con todas las iteraciones"
   ]
  },
  {
   "cell_type": "code",
   "execution_count": null,
   "metadata": {},
   "outputs": [],
   "source": []
  },
  {
   "cell_type": "markdown",
   "metadata": {},
   "source": [
    "### Exportar"
   ]
  },
  {
   "cell_type": "code",
   "execution_count": 5,
   "metadata": {},
   "outputs": [
    {
     "name": "stdout",
     "output_type": "stream",
     "text": [
      "c:\\Users\\carlo\\OneDrive - Estudiantes ITCR\\U\\TFG España\\Codigo\n"
     ]
    }
   ],
   "source": [
    "path = os.getcwd()\n",
    "print(path)"
   ]
  },
  {
   "cell_type": "code",
   "execution_count": 6,
   "metadata": {},
   "outputs": [],
   "source": [
    "#sim_obj.file = open(path + r'\\training.txt', 'wb')\n",
    "#pickle.dump(path, sim_obj.file)\n",
    "#sim_obj.file.close()"
   ]
  },
  {
   "cell_type": "code",
   "execution_count": 16,
   "metadata": {},
   "outputs": [
    {
     "name": "stdout",
     "output_type": "stream",
     "text": [
      "{'prev_j_positions': 1, 'prev_j_velocities': 2, 'prev_j_l_velocities': 3, 'prev_j_forces': 3, 'prev_base_pos': 6, 'prev_base_ori': 7, 'prev_base_accel': 23}\n",
      "dict_values([1, 2, 3, 3, 6, 7, 23])\n"
     ]
    }
   ],
   "source": [
    "#Dictionary tests\n",
    "\n",
    "class a ():\n",
    "    def __init__(self):\n",
    "        #Initial perceptions\n",
    "        self.prev_j_positions = 1\n",
    "        self.prev_j_velocities = 2\n",
    "        self.prev_j_l_velocities = 3\n",
    "        self.prev_j_forces = 3\n",
    "        self.prev_base_pos = 6\n",
    "        self.prev_base_ori = 7\n",
    "        self.prev_base_accel = 23\n",
    "\n",
    "ass = a()\n",
    "ass_dict = ass.__dict__\n",
    "print(ass_dict)\n",
    "print(ass.__dict__.values())"
   ]
  },
  {
   "cell_type": "markdown",
   "metadata": {},
   "source": [
    "## Cambios para que funcione con clases"
   ]
  },
  {
   "cell_type": "markdown",
   "metadata": {},
   "source": [
    "Para exportar se ve que crear una clase para almacenar todas las percepciones es muy util por lo que se procede a modificar todas las funciones anteriores que lo requieran para que funcionen con la clase de percepciones."
   ]
  },
  {
   "cell_type": "markdown",
   "metadata": {},
   "source": [
    "#### Librerias"
   ]
  },
  {
   "cell_type": "code",
   "execution_count": 35,
   "metadata": {},
   "outputs": [],
   "source": [
    "import os\n",
    "import math\n",
    "import pickle\n",
    "from zmqRemoteApi import RemoteAPIClient\n",
    "from random import randint as rn"
   ]
  },
  {
   "cell_type": "markdown",
   "metadata": {},
   "source": [
    "#### Creacion de clases"
   ]
  },
  {
   "cell_type": "code",
   "execution_count": 33,
   "metadata": {},
   "outputs": [],
   "source": [
    "#Class for simulation object\n",
    "class sim_objects ():\n",
    "    def __init__(self):\n",
    "        self.client = 0\n",
    "        self.sim = 0\n",
    "        self.file = 0\n",
    "        self.random_positions = []\n",
    "        self.executed = False\n",
    "\n",
    "sim_obj = sim_objects()\n",
    "\n",
    "# Class to store the different handlers the robot needs to operate in the simulator. \n",
    "class handlers_class ():\n",
    "    def __init__(self):\n",
    "        self.JRF0 = 0\n",
    "        self.JRF1 = 0\n",
    "        #self.JRF2 = 0\n",
    "        self.JRB0 = 0\n",
    "        self.JRB1 = 0\n",
    "        #self.JRB2 = 0\n",
    "        self.JLF0 = 0\n",
    "        self.JLF1 = 0\n",
    "        #self.JLF2 = 0\n",
    "        self.JLB0 = 0\n",
    "        self.JLB1 = 0\n",
    "        #self.JLB2 = 0\n",
    "        self.base = 0\n",
    "\n",
    "handler = handlers_class()\n",
    "handler_values = handler.__dict__.values()"
   ]
  },
  {
   "cell_type": "markdown",
   "metadata": {},
   "source": [
    "#### Funciones de carga del quad y generacion de acciones random"
   ]
  },
  {
   "cell_type": "code",
   "execution_count": null,
   "metadata": {},
   "outputs": [],
   "source": [
    "# Function that load the robot in the scene at the beggining of each evaluation.\n",
    "def load_quad_class():\n",
    "    # Opening the connection with CoppeliaSim simulator\n",
    "    sim_obj.client = RemoteAPIClient()\n",
    "    sim_obj.sim = sim_obj.client.getObject('sim')\n",
    "    \n",
    "    # Setting the simulation mode for working in sinchronous mode. The simulation timming is controlled by the Python program and not by the simulation itselfs.\n",
    "    sim_obj.client.setStepping(True)\n",
    "    \n",
    "    handler.base = sim_obj.sim.getObject(\"/Base\")\n",
    "    #Right-front\n",
    "    handler.JRF0 = sim_obj.sim.getObject(\"/JRF0\")\n",
    "    handler.JRF1 = sim_obj.sim.getObject(\"/JRF1\")\n",
    "    #handler.JRF2 = sim_obj.sim.getObject(\"/JRF2\")\n",
    "    #Right-back\n",
    "    handler.JRB0 = sim_obj.sim.getObject(\"/JRB0\")\n",
    "    handler.JRB1 = sim_obj.sim.getObject(\"/JRB1\")\n",
    "    #handler.JRB2 = sim_obj.sim.getObject(\"/JRB2\")\n",
    "    #Left-front\n",
    "    handler.JLF0 = sim_obj.sim.getObject(\"/JLF0\")\n",
    "    handler.JLF1 = sim_obj.sim.getObject(\"/JLF1\")\n",
    "    #handler.JLF2 = sim_obj.sim.getObject(\"/JLF2\")\n",
    "    #Left-back\n",
    "    handler.JLB0 = sim_obj.sim.getObject(\"/JLB0\")\n",
    "    handler.JLB1 = sim_obj.sim.getObject(\"/JLB1\")\n",
    "    #handler.JLB2 = sim_obj.sim.getObject(\"/JLB2\")"
   ]
  },
  {
   "cell_type": "code",
   "execution_count": 28,
   "metadata": {},
   "outputs": [],
   "source": [
    "#Generate list of random positions\n",
    "def rand_gen():\n",
    "    randomlist = []\n",
    "    for i in range(9):\n",
    "        n = rn(-10, 10) * math.pi / 180\n",
    "        randomlist.append(n)\n",
    "    sim_obj.random_positions.append(randomlist)"
   ]
  },
  {
   "cell_type": "markdown",
   "metadata": {},
   "source": [
    "#### Clase y funcion para percepciones"
   ]
  },
  {
   "cell_type": "code",
   "execution_count": 38,
   "metadata": {},
   "outputs": [],
   "source": [
    "\n",
    "#Class to store all the perceptions\n",
    "class perceptions ():\n",
    "    def __init__(self):\n",
    "        #Initial perceptions\n",
    "        self.prev_j_positions = []\n",
    "        self.prev_j_velocities = []\n",
    "        self.prev_j_l_velocities = []\n",
    "        self.prev_j_forces = []\n",
    "        self.prev_base_pos = []\n",
    "        self.prev_base_ori = []\n",
    "        self.prev_base_accel = []\n",
    "\n",
    "        #Resulting perceptions\n",
    "        self.post_j_positions = []\n",
    "        self.post_j_velocities = []\n",
    "        self.post_j_l_velocities = []\n",
    "        self.post_j_forces = []\n",
    "        self.post_base_pos = []\n",
    "        self.post_base_ori = []\n",
    "        self.post_base_accel = []\n",
    "\n",
    "perception = perceptions()\n",
    "\n",
    "\n",
    "def get_joints_preceptions():\n",
    "    positions = []\n",
    "    forces = []\n",
    "    velocities = []\n",
    "    l_velocities = []\n",
    "    base_pos = sim_obj.sim.getObjectPosition(handler.base, sim_obj.sim.handle_world)\n",
    "    base_ori = sim_obj.sim.getObjectOrientation(handler.base, sim_obj.sim.handle_world)\n",
    "    base_accel = [] #sim_obj.sim.getObjectOrientation(handler.base, sim_obj.sim.handle_world) --- MISSING\n",
    "    for i in handler.__dict__.values():\n",
    "        #Angular/linear position of the joint\n",
    "        pos = sim_obj.sim.getJointPosition(i)\n",
    "        positions.append(pos)\n",
    "        #Torque/force being aplied by the joint\n",
    "        force = sim_obj.sim.getJointForce(i)\n",
    "        forces.append(force)\n",
    "        #Angular/linear velocity of the joint's movement\n",
    "        veloc = sim_obj.sim.getJointVelocity(i)\n",
    "        velocities.append(veloc)\n",
    "        #Linear velocity of the joint\n",
    "        l_veloc = sim_obj.sim.getJointVelocity(i)\n",
    "        l_velocities.append(l_veloc)\n",
    "    if  not sim_obj.executed:\n",
    "        perception.prev_j_positions.append(positions)\n",
    "        perception.prev_j_velocities.append(velocities)\n",
    "        perception.prev_j_l_velocities.append(l_velocities)\n",
    "        perception.prev_j_forces.append(forces)\n",
    "        perception.prev_base_pos.append(base_pos)\n",
    "        perception.prev_base_ori.append(base_ori)\n",
    "        perception.prev_base_accel.append(base_accel)\n",
    "    else:\n",
    "        perception.post_j_positions.append(positions)\n",
    "        perception.post_j_velocities.append(velocities)\n",
    "        perception.post_j_l_velocities.append(l_velocities)\n",
    "        perception.post_j_forces.append(forces)\n",
    "        perception.post_base_pos.append(base_pos)\n",
    "        perception.post_base_ori.append(base_ori)\n",
    "        perception.post_base_accel.append(base_accel)"
   ]
  },
  {
   "cell_type": "markdown",
   "metadata": {},
   "source": [
    "#### Pruebas varias"
   ]
  },
  {
   "cell_type": "code",
   "execution_count": 34,
   "metadata": {},
   "outputs": [
    {
     "name": "stdout",
     "output_type": "stream",
     "text": [
      "not executed\n"
     ]
    }
   ],
   "source": [
    "#sim_obj.executed = False\n",
    "\n",
    "if  not sim_obj.executed:\n",
    "    print('not executed')\n",
    "else:\n",
    "    print('executed')"
   ]
  },
  {
   "cell_type": "code",
   "execution_count": 32,
   "metadata": {},
   "outputs": [
    {
     "name": "stdout",
     "output_type": "stream",
     "text": [
      "executed\n"
     ]
    }
   ],
   "source": [
    "#sim_obj.executed = True\n",
    "\n",
    "if  not sim_obj.executed:\n",
    "    print('not executed')\n",
    "else:\n",
    "    print('executed')"
   ]
  },
  {
   "cell_type": "code",
   "execution_count": 24,
   "metadata": {},
   "outputs": [
    {
     "name": "stdout",
     "output_type": "stream",
     "text": [
      "9 handlers: dict_values([0, 0, 0, 0, 0, 0, 0, 0, 0])\n"
     ]
    }
   ],
   "source": [
    "print(f'{len(handler.__dict__.values())} handlers: {handler.__dict__.values()}')"
   ]
  },
  {
   "cell_type": "code",
   "execution_count": 20,
   "metadata": {},
   "outputs": [
    {
     "data": {
      "text/plain": [
       "\"\\ndef get_joints_preceptions():\\n    if sim_obj.previous:\\n        perception.prev_base_pos.append(sim.getObjectPosition(handler.base, sim.handle_world))\\n        perception.prev_base_ori.append(sim.getObjectOrientation(handler.base, sim.handle_world))\\n        #perception.prev_base_accel = is missing\\n        #perception.prev_base_accel.append(sim.getObjectOrientation(handler.base, sim.handle_world))\\n\\n        for i in handler.__dict__.values():\\n            #Angular/linear position of the joint\\n            perception.prev_j_positions.append(sim.getJointPosition(i))\\n\\n            #Torque/force being aplied by the joint\\n            perception.prev_j_forces.append(sim.getJointForce(i))\\n\\n            #Angular/linear velocity of the joint's movement\\n            perception.prev_j_velocities.append(sim.getJointVelocity(i))\\n\\n            #Linear velocity of the joint (missing function)\\n            perception.prev_j_l_velocities.append(sim.getJointVelocity(i))\\n    else:\\n        perception.post_base_pos.append(sim.getObjectPosition(handler.base, sim.handle_world))\\n        perception.post_base_ori.append(sim.getObjectOrientation(handler.base, sim.handle_world))\\n        #perception.post_base_accel = is missing\\n        #perception.post_base_accel.append(sim.getObjectOrientation(handler.base, sim.handle_world))\\n        \\n        for i in handler.__dict__.values():\\n            #Angular/linear position of the joint\\n            perception.post_j_positions.append(sim.getJointPosition(i))\\n\\n            #Torque/force being aplied by the joint\\n            perception.post_j_forces.append(sim.getJointForce(i))\\n\\n            #Angular/linear velocity of the joint's movement\\n            perception.post_j_velocities.append(sim.getJointVelocity(i))\\n\\n            #Linear velocity of the joint (missing function)\\n            perception.post_j_l_velocities.append(sim.getJointVelocity(i))\\n\""
      ]
     },
     "execution_count": 20,
     "metadata": {},
     "output_type": "execute_result"
    }
   ],
   "source": [
    "#Stores every perception individually\n",
    "'''\n",
    "def get_joints_preceptions():\n",
    "    if sim_obj.previous:\n",
    "        perception.prev_base_pos.append(sim.getObjectPosition(handler.base, sim.handle_world))\n",
    "        perception.prev_base_ori.append(sim.getObjectOrientation(handler.base, sim.handle_world))\n",
    "        #perception.prev_base_accel = is missing\n",
    "        #perception.prev_base_accel.append(sim.getObjectOrientation(handler.base, sim.handle_world))\n",
    "\n",
    "        for i in handler.__dict__.values():\n",
    "            #Angular/linear position of the joint\n",
    "            perception.prev_j_positions.append(sim.getJointPosition(i))\n",
    "\n",
    "            #Torque/force being aplied by the joint\n",
    "            perception.prev_j_forces.append(sim.getJointForce(i))\n",
    "\n",
    "            #Angular/linear velocity of the joint's movement\n",
    "            perception.prev_j_velocities.append(sim.getJointVelocity(i))\n",
    "\n",
    "            #Linear velocity of the joint (missing function)\n",
    "            perception.prev_j_l_velocities.append(sim.getJointVelocity(i))\n",
    "    else:\n",
    "        perception.post_base_pos.append(sim.getObjectPosition(handler.base, sim.handle_world))\n",
    "        perception.post_base_ori.append(sim.getObjectOrientation(handler.base, sim.handle_world))\n",
    "        #perception.post_base_accel = is missing\n",
    "        #perception.post_base_accel.append(sim.getObjectOrientation(handler.base, sim.handle_world))\n",
    "        \n",
    "        for i in handler.__dict__.values():\n",
    "            #Angular/linear position of the joint\n",
    "            perception.post_j_positions.append(sim.getJointPosition(i))\n",
    "\n",
    "            #Torque/force being aplied by the joint\n",
    "            perception.post_j_forces.append(sim.getJointForce(i))\n",
    "\n",
    "            #Angular/linear velocity of the joint's movement\n",
    "            perception.post_j_velocities.append(sim.getJointVelocity(i))\n",
    "\n",
    "            #Linear velocity of the joint (missing function)\n",
    "            perception.post_j_l_velocities.append(sim.getJointVelocity(i))\n",
    "'''"
   ]
  },
  {
   "cell_type": "markdown",
   "metadata": {},
   "source": [
    "#### Ejecucion"
   ]
  },
  {
   "cell_type": "code",
   "execution_count": 37,
   "metadata": {},
   "outputs": [],
   "source": [
    "def main():\n",
    "    sim_obj.sim.startSimulation()\n",
    "    load_quad_class()\n",
    "    rand_gen()\n",
    "    get_joints_preceptions()\n",
    "    for i in range(len(sim_obj.random_positions)):\n",
    "        sim_obj.sim.setJointTargetPosition(handler.__dict__.values()[i], sim_obj.random_positions[i])\n",
    "        sim_obj.client.step()\n",
    "    sim_obj.executed = True\n",
    "    get_joints_preceptions()\n",
    "    sim_obj.executed = False\n",
    "    sim_obj.sim.pauseSimulation()"
   ]
  },
  {
   "cell_type": "code",
   "execution_count": 41,
   "metadata": {},
   "outputs": [],
   "source": [
    "#main()"
   ]
  },
  {
   "cell_type": "code",
   "execution_count": 42,
   "metadata": {},
   "outputs": [],
   "source": [
    "#sim_obj.sim.stopSimulation()"
   ]
  },
  {
   "cell_type": "code",
   "execution_count": 39,
   "metadata": {},
   "outputs": [
    {
     "name": "stdout",
     "output_type": "stream",
     "text": [
      "c:\\Users\\carlo\\OneDrive - Estudiantes ITCR\\U\\TFG España\\Codigo\n"
     ]
    }
   ],
   "source": [
    "path = os.getcwd()\n",
    "print(path)"
   ]
  },
  {
   "cell_type": "code",
   "execution_count": 46,
   "metadata": {},
   "outputs": [],
   "source": [
    "sim_obj.file = open(os.getcwd() + r'\\training.txt', 'wb')\n",
    "pickle.dump(path, sim_obj.file)\n",
    "sim_obj.file.close()"
   ]
  }
 ],
 "metadata": {
  "kernelspec": {
   "display_name": "EMERGE_Py311",
   "language": "python",
   "name": "python3"
  },
  "language_info": {
   "codemirror_mode": {
    "name": "ipython",
    "version": 3
   },
   "file_extension": ".py",
   "mimetype": "text/x-python",
   "name": "python",
   "nbconvert_exporter": "python",
   "pygments_lexer": "ipython3",
   "version": "3.11.5"
  },
  "orig_nbformat": 4
 },
 "nbformat": 4,
 "nbformat_minor": 2
}
