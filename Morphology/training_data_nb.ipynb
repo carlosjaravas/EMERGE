{
 "cells": [
  {
   "cell_type": "markdown",
   "metadata": {},
   "source": [
    "# Pruebas para la generacion de datos de entrenamiento"
   ]
  },
  {
   "cell_type": "markdown",
   "metadata": {},
   "source": [
    "## Cambios para que funcione con clases"
   ]
  },
  {
   "cell_type": "markdown",
   "metadata": {},
   "source": [
    "Para exportar se ve que crear una clase para almacenar todas las percepciones es muy util por lo que se procede a modificar todas las funciones anteriores que lo requieran para que funcionen con la clase de percepciones."
   ]
  },
  {
   "cell_type": "markdown",
   "metadata": {},
   "source": [
    "#### Librerias"
   ]
  },
  {
   "cell_type": "code",
   "execution_count": 36,
   "metadata": {},
   "outputs": [],
   "source": [
    "import os\n",
    "import math\n",
    "import pickle\n",
    "from zmqRemoteApi import RemoteAPIClient\n",
    "from random import randint as ri\n",
    "from random import uniform as ru"
   ]
  },
  {
   "cell_type": "markdown",
   "metadata": {},
   "source": [
    "#### Creacion de clases"
   ]
  },
  {
   "cell_type": "code",
   "execution_count": 66,
   "metadata": {},
   "outputs": [],
   "source": [
    "#Class for simulation object\n",
    "class sim_objects ():\n",
    "    def __init__(self):\n",
    "        self.client = RemoteAPIClient()\n",
    "        self.sim = self.client.getObject('sim')\n",
    "        self.file = 0\n",
    "        self.random_increments = []\n",
    "        self.executed = False\n",
    "        self.joint_handler_ids = []\n",
    "        self.num_joints = 0\n",
    "        self.obj_handler_ids = []\n",
    "        self.sequencies = 1\n",
    "        self.seq_steps = 2\n",
    "        self.training_data = []\n",
    "        \n",
    "sim_obj = sim_objects()\n",
    "\n",
    "# Class to store the different handlers the robot needs to operate in the simulator. \n",
    "class joint_handlers_class ():\n",
    "    def __init__(self):\n",
    "        self.JRF0 = 0\n",
    "        self.JRF1 = 0\n",
    "        self.JRB0 = 0\n",
    "        self.JRB1 = 0\n",
    "        self.JLF0 = 0\n",
    "        self.JLF1 = 0\n",
    "        self.JLB0 = 0\n",
    "        self.JLB1 = 0\n",
    "        \n",
    "handler = joint_handlers_class()\n",
    "\n",
    "class obj_handlers_class ():\n",
    "    def __init__(self):\n",
    "        self.JRF2 = 0\n",
    "        self.JRB2 = 0\n",
    "        self.JLF2 = 0\n",
    "        self.JLB2 = 0\n",
    "        self.base = 0\n",
    "\n",
    "obj_handler = obj_handlers_class()"
   ]
  },
  {
   "cell_type": "markdown",
   "metadata": {},
   "source": [
    "#### Funciones de carga del quad y generacion de acciones random"
   ]
  },
  {
   "cell_type": "code",
   "execution_count": 61,
   "metadata": {},
   "outputs": [],
   "source": [
    "def init_position():\n",
    "    start_pos = ri(0,1)\n",
    "    #Fixes the last joints position to 0 so they wont move\n",
    "    initial_obj_positions = [0,0,0,0]\n",
    "    for i in range(len(initial_obj_positions)):\n",
    "        sim_obj.sim.setJointTargetPosition((sim_obj.obj_handler_ids[i]), initial_obj_positions[i])\n",
    "    if start_pos == 0:\n",
    "        initial_joint_positions = [0,0,0,0,0,0,0,0]\n",
    "        #Set all the joints to their position\n",
    "        for i in range(len(initial_joint_positions)):\n",
    "            sim_obj.sim.setJointTargetPosition(sim_obj.joint_handler_ids[i], initial_joint_positions[i])\n",
    "        #After setting all the joints it moves    \n",
    "        for i in range(20):\n",
    "            sim_obj.client.step()\n",
    "    \n",
    "            "
   ]
  },
  {
   "cell_type": "code",
   "execution_count": 39,
   "metadata": {},
   "outputs": [],
   "source": [
    "# Function that load the robot in the scene at the beggining of each evaluation.\n",
    "def load_quad_class():\n",
    "    # Opening the connection with CoppeliaSim simulator\n",
    "    sim_obj.client = RemoteAPIClient()\n",
    "    sim_obj.sim = sim_obj.client.getObject('sim')\n",
    "    \n",
    "    # Setting the simulation mode for working in sinchronous mode. The simulation timming is controlled by the Python program and not by the simulation itselfs.\n",
    "    sim_obj.client.setStepping(True)\n",
    "    \n",
    "    #Right-front\n",
    "    handler.JRF0 = sim_obj.sim.getObject(\"/JRF0\")\n",
    "    handler.JRF1 = sim_obj.sim.getObject(\"/JRF1\")\n",
    "    #Right-back\n",
    "    handler.JRB0 = sim_obj.sim.getObject(\"/JRB0\")\n",
    "    handler.JRB1 = sim_obj.sim.getObject(\"/JRB1\")\n",
    "    #Left-front\n",
    "    handler.JLF0 = sim_obj.sim.getObject(\"/JLF0\")\n",
    "    handler.JLF1 = sim_obj.sim.getObject(\"/JLF1\")\n",
    "    #Left-back\n",
    "    handler.JLB0 = sim_obj.sim.getObject(\"/JLB0\")\n",
    "    handler.JLB1 = sim_obj.sim.getObject(\"/JLB1\")\n",
    "\n",
    "    #Setting obj handlers\n",
    "    obj_handler.base = sim_obj.sim.getObject(\"/Base\")\n",
    "    obj_handler.JRF2 = sim_obj.sim.getObject(\"/JRF2\")\n",
    "    obj_handler.JRB2 = sim_obj.sim.getObject(\"/JRB2\")\n",
    "    obj_handler.JLF2 = sim_obj.sim.getObject(\"/JLF2\")\n",
    "    obj_handler.JLB2 = sim_obj.sim.getObject(\"/JLB2\")\n",
    "\n",
    "    \n",
    "    #Stores the different id for every handler starting with the base\n",
    "    sim_obj.joint_handler_ids = list(handler.__dict__.values())\n",
    "    print(sim_obj.joint_handler_ids)\n",
    "    sim_obj.num_joints = len(sim_obj.joint_handler_ids)\n",
    "    print(sim_obj.num_joints)\n",
    "    sim_obj.obj_handler_ids = list(obj_handler.__dict__.values())\n",
    "    print(sim_obj.obj_handler_ids)\n",
    "\n",
    "    sim_obj.sim.startSimulation()"
   ]
  },
  {
   "cell_type": "code",
   "execution_count": 40,
   "metadata": {},
   "outputs": [],
   "source": [
    "#Generate list of random positions\n",
    "def rand_gen():\n",
    "    randomlist = []\n",
    "    for i in range(sim_obj.num_joints):\n",
    "        n = ru(-10, 10) * math.pi / 180\n",
    "        randomlist.append(n)\n",
    "    sim_obj.random_increments.append(randomlist)"
   ]
  },
  {
   "cell_type": "markdown",
   "metadata": {},
   "source": [
    "#### Clase y funcion para percepciones"
   ]
  },
  {
   "cell_type": "code",
   "execution_count": 67,
   "metadata": {},
   "outputs": [],
   "source": [
    "\n",
    "#Class to store all the perceptions\n",
    "class perceptions ():\n",
    "    def __init__(self):\n",
    "        #Sequence\n",
    "        self.sequence = 0\n",
    "\n",
    "        #Initial perceptions\n",
    "        self.prev_j_positions = []\n",
    "        self.prev_j_velocities = []\n",
    "        self.prev_j_forces = []\n",
    "        self.prev_base_pos_x = []\n",
    "        self.prev_base_pos_y = []\n",
    "        self.prev_base_pos_z = []\n",
    "        self.prev_base_ori_alpha = []\n",
    "        self.prev_base_ori_beta = []\n",
    "        self.prev_base_ori_gamma = []\n",
    "        self.prev_base_accel = []\n",
    "\n",
    "        #Resulting perceptions\n",
    "        self.post_j_positions = []\n",
    "        self.post_j_velocities = []\n",
    "        self.post_j_forces = []\n",
    "        self.post_base_pos_x = []\n",
    "        self.post_base_pos_y = []\n",
    "        self.post_base_pos_z = []\n",
    "        self.post_base_ori_alpha = []\n",
    "        self.post_base_ori_beta = []\n",
    "        self.post_base_ori_gamma = []\n",
    "        self.post_base_accel = []\n",
    "\n",
    "perception = perceptions()"
   ]
  },
  {
   "cell_type": "code",
   "execution_count": 52,
   "metadata": {},
   "outputs": [],
   "source": [
    "def move_joints():\n",
    "    for i in range(sim_obj.num_joints):\n",
    "        sim_obj.sim.setJointTargetPosition(sim_obj.joint_handler_ids[i], (sim_obj.random_increments[-1][i]+perception.prev_j_positions[-1][i]))\n",
    "    #After setting all the joints it moves\n",
    "    for i in range(4):\n",
    "        sim_obj.client.step()"
   ]
  },
  {
   "cell_type": "code",
   "execution_count": 68,
   "metadata": {},
   "outputs": [],
   "source": [
    "\n",
    "def get_joints_preceptions():\n",
    "    positions = []\n",
    "    forces = []\n",
    "    velocities = []\n",
    "    base_x, base_y,base_z = sim_obj.sim.getObjectPosition(obj_handler.base, sim_obj.sim.handle_world)\n",
    "    base_alpha, base_beta, base_gamma = sim_obj.sim.getObjectOrientation(obj_handler.base, sim_obj.sim.handle_world)\n",
    "    base_accel = [0,0,0] #sim_obj.sim.getObjectOrientation(obj_handler.base, sim_obj.sim.handle_world) --- MISSING\n",
    "    for i in sim_obj.joint_handler_ids:\n",
    "        #Angular/linear position of the joint\n",
    "        pos = sim_obj.sim.getJointPosition(i)\n",
    "        positions.append(pos)\n",
    "        #Torque/force being aplied by the joint\n",
    "        force = sim_obj.sim.getJointForce(i)\n",
    "        forces.append(force)\n",
    "        #Angular/linear velocity of the joint's movement\n",
    "        veloc = sim_obj.sim.getJointVelocity(i)\n",
    "        velocities.append(veloc)\n",
    "    if  not sim_obj.executed:\n",
    "        print(\"Getting prev perceptions\")\n",
    "        perception.prev_j_positions.append(positions)\n",
    "        perception.prev_j_velocities.append(velocities)\n",
    "        perception.prev_j_forces.append(forces)\n",
    "        perception.prev_base_pos_x.append(base_x)\n",
    "        perception.prev_base_pos_y.append(base_y)\n",
    "        perception.prev_base_pos_z.append(base_z)\n",
    "        perception.prev_base_ori_alpha.append(base_alpha)\n",
    "        perception.prev_base_ori_beta.append(base_beta)\n",
    "        perception.prev_base_ori_gamma.append(base_gamma)\n",
    "        perception.prev_base_accel.append(base_accel)\n",
    "    else:\n",
    "        print(\"Getting post perceptions\")\n",
    "        perception.post_j_positions.append(positions)\n",
    "        perception.post_j_velocities.append(velocities)\n",
    "        perception.post_j_forces.append(forces)\n",
    "        perception.post_base_pos_x.append(base_x)\n",
    "        perception.post_base_pos_y.append(base_y)\n",
    "        perception.post_base_pos_z.append(base_z)\n",
    "        perception.post_base_ori_alpha.append(base_alpha)\n",
    "        perception.post_base_ori_beta.append(base_beta)\n",
    "        perception.post_base_ori_gamma.append(base_gamma)\n",
    "        perception.post_base_accel.append(base_accel)"
   ]
  },
  {
   "cell_type": "markdown",
   "metadata": {},
   "source": [
    "#### Exportar"
   ]
  },
  {
   "cell_type": "code",
   "execution_count": 62,
   "metadata": {},
   "outputs": [],
   "source": [
    "def export_pickle():    \n",
    "    #Dump data in file\n",
    "    sim_obj.file = open(os.getcwd() + r'\\training_dataset.txt', 'wb')\n",
    "    pickle.dump(perception, sim_obj.file)\n",
    "    sim_obj.file.close()"
   ]
  },
  {
   "cell_type": "markdown",
   "metadata": {},
   "source": [
    "#### Ejecucion"
   ]
  },
  {
   "cell_type": "markdown",
   "metadata": {},
   "source": [
    "##### Una ejecucion y un paso (una accion por modulo)"
   ]
  },
  {
   "cell_type": "code",
   "execution_count": 64,
   "metadata": {},
   "outputs": [],
   "source": [
    "#Main function for one execution\n",
    "def main():\n",
    "    print(\"main function\")\n",
    "    sim_obj.sim.startSimulation()\n",
    "    load_quad_class()\n",
    "    rand_gen()\n",
    "    get_joints_preceptions()\n",
    "    #Execute every joint action\n",
    "    print(\"Executing actions\")\n",
    "    for i in range(len(sim_obj.random_increments[-1])):\n",
    "        sim_obj.sim.setJointTargetPosition(sim_obj.joint_handler_ids[i], (sim_obj.random_increments[-1][i]+perception.prev_j_positions[-1][i]))\n",
    "        sim_obj.client.step()\n",
    "        sim_obj.client.step()\n",
    "        sim_obj.client.step()\n",
    "        sim_obj.client.step()\n",
    "    sim_obj.executed = True\n",
    "    get_joints_preceptions()\n",
    "    sim_obj.executed = False\n",
    "    sim_obj.sim.stopSimulation()\n",
    "    #export()"
   ]
  },
  {
   "cell_type": "code",
   "execution_count": null,
   "metadata": {},
   "outputs": [],
   "source": [
    "#main()\n",
    "\n",
    "print(\"\")\n",
    "\n",
    "print(\"Handler ids: \")\n",
    "print(sim_obj.joint_handler_ids)\n",
    "print(\"Joints handler ids: \")\n",
    "print(sim_obj.joint_handler_ids)\n",
    "\n",
    "print(\"\")\n",
    "\n",
    "data = 0\n",
    "num_exec = []\n",
    "for i in perception.__dict__.keys():\n",
    "    #print(i)\n",
    "    for k in perception.__dict__[i]:\n",
    "        #print(k)\n",
    "        #print(\"\")\n",
    "        data = data + len(k)\n",
    "    num_exec.append(len(perception.__dict__[i]))\n",
    "print(f\"Cantidad total de datos para {max(num_exec)} ejecuciones con 1 paso por ejecucion: {data}\")\n",
    "print(f\"Datos por ejecucion: {data//max(num_exec)}\")"
   ]
  },
  {
   "cell_type": "markdown",
   "metadata": {},
   "source": [
    "##### Una secuencia de multiples pasos (una accion por modulo)"
   ]
  },
  {
   "cell_type": "code",
   "execution_count": null,
   "metadata": {},
   "outputs": [],
   "source": [
    "sim_obj.sequencies = 2\n",
    "print(\"Numero de secuencias: \",sim_obj.sequencies)\n",
    "sim_obj.seq_steps = 2\n",
    "print(\"Steps por secuencia: \",sim_obj.seq_steps)\n",
    "perception = perceptions()"
   ]
  },
  {
   "cell_type": "code",
   "execution_count": null,
   "metadata": {},
   "outputs": [],
   "source": [
    "#Main function for one execution and multiple steps\n",
    "def main():\n",
    "    k = 0\n",
    "    print(\"main function\")\n",
    "    sim_obj.sim.startSimulation()\n",
    "    load_quad_class()\n",
    "    for j in range(sim_obj.seq_steps):\n",
    "        print(\"----------- Secuencia: \", k)\n",
    "        print(\"----------- Paso: \", j)\n",
    "        rand_gen()\n",
    "        get_joints_preceptions()\n",
    "        #Execute every joint action\n",
    "        print(perception.prev_j_positions[-1])\n",
    "        print(\"Executing actions\")\n",
    "        for i in range(len(sim_obj.random_increments[-1])):\n",
    "            sim_obj.sim.setJointTargetPosition(sim_obj.joint_handler_ids[i], (sim_obj.random_increments[-1][i]+perception.prev_j_positions[-1][i]))\n",
    "            sim_obj.client.step()\n",
    "            sim_obj.client.step()\n",
    "            sim_obj.client.step()\n",
    "            sim_obj.client.step()\n",
    "        sim_obj.executed = True\n",
    "        get_joints_preceptions()\n",
    "        sim_obj.executed = False\n",
    "        print(\"\")\n",
    "    print(\"Simulation has finished\")\n",
    "    sim_obj.sim.stopSimulation()\n",
    "    #export()"
   ]
  },
  {
   "cell_type": "code",
   "execution_count": null,
   "metadata": {},
   "outputs": [],
   "source": [
    "#if __name__ == \"__main__\":\n",
    "#    main()"
   ]
  },
  {
   "cell_type": "code",
   "execution_count": null,
   "metadata": {},
   "outputs": [],
   "source": [
    "sim_obj.sim.stopSimulation()\n",
    "main()\n",
    "\n",
    "print(\"\")\n",
    "data = 0\n",
    "num_exec = []\n",
    "for i in perception.__dict__.keys():\n",
    "    #print(i)\n",
    "    for k in perception.__dict__[i]:\n",
    "        #print(k)\n",
    "        #print(\"\")\n",
    "        data = data + len(k)\n",
    "    num_exec.append(len(perception.__dict__[i]))\n",
    "print(f\"Cantidad total de datos: {data}\")"
   ]
  },
  {
   "cell_type": "markdown",
   "metadata": {},
   "source": [
    "##### Multiples secuencias y multiples pasos"
   ]
  },
  {
   "cell_type": "code",
   "execution_count": 32,
   "metadata": {},
   "outputs": [
    {
     "name": "stdout",
     "output_type": "stream",
     "text": [
      "Numero de secuencias:  2\n",
      "Steps por secuencia:  3\n"
     ]
    }
   ],
   "source": [
    "sim_obj.sequencies = 2\n",
    "print(\"Numero de secuencias: \",sim_obj.sequencies)\n",
    "sim_obj.seq_steps = 3\n",
    "print(\"Steps por secuencia: \",sim_obj.seq_steps)\n",
    "perception = perceptions()\n",
    "\n",
    "#Main function for multiple executions and multiple steps\n",
    "def main():\n",
    "    print(\"main function\")\n",
    "    for k in range(sim_obj.sequencies):\n",
    "        print(f\"{k} sequence has started\")\n",
    "        print(\"\")\n",
    "        load_quad_class()\n",
    "        init_position()\n",
    "        for j in range(sim_obj.seq_steps):\n",
    "            print(\"----------- Secuencia: \", k)\n",
    "            print(\"----------- Paso: \", j)\n",
    "            rand_gen()\n",
    "            get_joints_preceptions()\n",
    "            #Execute every joint action\n",
    "            print(\"Executing actions\")\n",
    "            for i in range(sim_obj.num_joints):\n",
    "                sim_obj.sim.setJointTargetPosition(sim_obj.joint_handler_ids[i], (sim_obj.random_increments[-1][i]+perception.prev_j_positions[-1][i]))\n",
    "                sim_obj.client.step()\n",
    "                sim_obj.client.step()\n",
    "                sim_obj.client.step()\n",
    "                sim_obj.client.step()\n",
    "            sim_obj.executed = True\n",
    "            get_joints_preceptions()\n",
    "            sim_obj.executed = False\n",
    "            print(\"\")\n",
    "        print(f\"{k} simulation has finished\")\n",
    "        print(\"\")\n",
    "        sim_obj.sim.stopSimulation()\n",
    "    #export()"
   ]
  },
  {
   "cell_type": "code",
   "execution_count": null,
   "metadata": {},
   "outputs": [],
   "source": [
    "main()"
   ]
  },
  {
   "cell_type": "code",
   "execution_count": null,
   "metadata": {},
   "outputs": [],
   "source": [
    "data = 0\n",
    "num_exec = []\n",
    "for i in perception.__dict__.keys():\n",
    "    #print(i)\n",
    "    for k in perception.__dict__[i]:\n",
    "        #print(k)\n",
    "        #print(\"\")\n",
    "        data = data + len(k)\n",
    "    num_exec.append(len(perception.__dict__[i]))\n",
    "print(f\"Cantidad total de datos para {max(num_exec)} secuencias con 1 paso por ejecucion: {data}\")\n",
    "print(f\"Datos por ejecucion: {data//max(num_exec)}\")"
   ]
  },
  {
   "cell_type": "code",
   "execution_count": null,
   "metadata": {},
   "outputs": [],
   "source": [
    "data = 0\n",
    "for i in perception.__dict__.keys():\n",
    "    #print(i)\n",
    "    for k in perception.__dict__[i]:\n",
    "        #print(k)\n",
    "        #print(\"\")\n",
    "        data = data + len(k)\n",
    "print(data)"
   ]
  },
  {
   "cell_type": "markdown",
   "metadata": {},
   "source": [
    "##### Pruebas con la funcion de exportar"
   ]
  },
  {
   "cell_type": "code",
   "execution_count": null,
   "metadata": {},
   "outputs": [],
   "source": [
    "sim_obj.file = open(os.getcwd() + r'\\test.txt', 'wb')\n",
    "pickle.dump(perception, sim_obj.file)\n",
    "sim_obj.file.close()\n",
    "for i in perception.__dict__.keys():\n",
    "    print(i)\n",
    "    for k in perception.__dict__[i]:\n",
    "        print(k)\n",
    "        print(\"\")"
   ]
  },
  {
   "cell_type": "markdown",
   "metadata": {},
   "source": [
    "##### Pruebas para la carga de datos"
   ]
  },
  {
   "cell_type": "code",
   "execution_count": null,
   "metadata": {},
   "outputs": [],
   "source": [
    "load_file = open(os.getcwd() + r'\\test.txt', 'rb')\n",
    "pickled_prception_class = pickle.load(load_file)\n",
    "load_file.close()\n",
    "for i in pickled_prception_class.__dict__.keys():\n",
    "    print(i)\n",
    "    for k in pickled_prception_class.__dict__[i]:\n",
    "        print(k)\n",
    "        print(\"\")"
   ]
  },
  {
   "cell_type": "code",
   "execution_count": null,
   "metadata": {},
   "outputs": [],
   "source": [
    "if perception.__dict__ == pickled_prception_class.__dict__:\n",
    "    print(\"Se conserva el mismo objeto\")\n",
    "else:\n",
    "    print(\"No se conserva el mismo objeto\")"
   ]
  },
  {
   "cell_type": "markdown",
   "metadata": {},
   "source": [
    "##### Pruebas finales con el main"
   ]
  },
  {
   "cell_type": "code",
   "execution_count": 56,
   "metadata": {},
   "outputs": [
    {
     "name": "stdout",
     "output_type": "stream",
     "text": [
      "Numero de secuencias:  2\n",
      "Steps por secuencia:  10\n"
     ]
    }
   ],
   "source": [
    "sim_obj.sequencies = 2\n",
    "print(\"Numero de secuencias: \",sim_obj.sequencies)\n",
    "sim_obj.seq_steps = 10\n",
    "print(\"Steps por secuencia: \",sim_obj.seq_steps)\n",
    "perception = perceptions()\n",
    "\n",
    "#Main function for multiple executions and multiple steps\n",
    "def main():\n",
    "    print(\"main function\")\n",
    "    for k in range(sim_obj.sequencies):\n",
    "        print(f\"{k} sequence has started\")\n",
    "        print(\"\")\n",
    "        load_quad_class()\n",
    "        init_position()\n",
    "        for j in range(sim_obj.seq_steps):\n",
    "            print(\"----------- Secuencia: \", k)\n",
    "            print(\"----------- Paso: \", j)\n",
    "            rand_gen()\n",
    "            get_joints_preceptions()\n",
    "            #Execute every joint action\n",
    "            print(\"Executing actions\")\n",
    "            move_joints()\n",
    "            sim_obj.executed = True\n",
    "            get_joints_preceptions()\n",
    "            sim_obj.executed = False\n",
    "            print(\"\")\n",
    "        print(f\"{k} simulation has finished\")\n",
    "        print(\"\")\n",
    "        sim_obj.sim.stopSimulation()\n",
    "    #export()"
   ]
  },
  {
   "cell_type": "code",
   "execution_count": 59,
   "metadata": {},
   "outputs": [
    {
     "name": "stdout",
     "output_type": "stream",
     "text": [
      "main function\n",
      "0 sequence has started\n",
      "\n",
      "[25, 29, 37, 41, 49, 53, 61, 65]\n",
      "8\n",
      "[33, 45, 57, 69, 22]\n",
      "----------- Secuencia:  0\n",
      "----------- Paso:  0\n",
      "Getting prev perceptions\n",
      "Executing actions\n",
      "Getting post perceptions\n",
      "\n",
      "----------- Secuencia:  0\n",
      "----------- Paso:  1\n",
      "Getting prev perceptions\n",
      "Executing actions\n",
      "Getting post perceptions\n",
      "\n",
      "----------- Secuencia:  0\n",
      "----------- Paso:  2\n",
      "Getting prev perceptions\n",
      "Executing actions\n",
      "Getting post perceptions\n",
      "\n",
      "----------- Secuencia:  0\n",
      "----------- Paso:  3\n",
      "Getting prev perceptions\n",
      "Executing actions\n",
      "Getting post perceptions\n",
      "\n",
      "----------- Secuencia:  0\n",
      "----------- Paso:  4\n",
      "Getting prev perceptions\n",
      "Executing actions\n",
      "Getting post perceptions\n",
      "\n",
      "----------- Secuencia:  0\n",
      "----------- Paso:  5\n",
      "Getting prev perceptions\n",
      "Executing actions\n",
      "Getting post perceptions\n",
      "\n",
      "----------- Secuencia:  0\n",
      "----------- Paso:  6\n",
      "Getting prev perceptions\n",
      "Executing actions\n",
      "Getting post perceptions\n",
      "\n",
      "----------- Secuencia:  0\n",
      "----------- Paso:  7\n",
      "Getting prev perceptions\n",
      "Executing actions\n",
      "Getting post perceptions\n",
      "\n",
      "----------- Secuencia:  0\n",
      "----------- Paso:  8\n",
      "Getting prev perceptions\n",
      "Executing actions\n",
      "Getting post perceptions\n",
      "\n",
      "----------- Secuencia:  0\n",
      "----------- Paso:  9\n",
      "Getting prev perceptions\n",
      "Executing actions\n",
      "Getting post perceptions\n",
      "\n",
      "0 simulation has finished\n",
      "\n",
      "1 sequence has started\n",
      "\n",
      "[25, 29, 37, 41, 49, 53, 61, 65]\n",
      "8\n",
      "[33, 45, 57, 69, 22]\n",
      "----------- Secuencia:  1\n",
      "----------- Paso:  0\n",
      "Getting prev perceptions\n",
      "Executing actions\n",
      "Getting post perceptions\n",
      "\n",
      "----------- Secuencia:  1\n",
      "----------- Paso:  1\n",
      "Getting prev perceptions\n",
      "Executing actions\n",
      "Getting post perceptions\n",
      "\n",
      "----------- Secuencia:  1\n",
      "----------- Paso:  2\n",
      "Getting prev perceptions\n",
      "Executing actions\n",
      "Getting post perceptions\n",
      "\n",
      "----------- Secuencia:  1\n",
      "----------- Paso:  3\n",
      "Getting prev perceptions\n",
      "Executing actions\n",
      "Getting post perceptions\n",
      "\n",
      "----------- Secuencia:  1\n",
      "----------- Paso:  4\n",
      "Getting prev perceptions\n",
      "Executing actions\n",
      "Getting post perceptions\n",
      "\n",
      "----------- Secuencia:  1\n",
      "----------- Paso:  5\n",
      "Getting prev perceptions\n",
      "Executing actions\n",
      "Getting post perceptions\n",
      "\n",
      "----------- Secuencia:  1\n",
      "----------- Paso:  6\n",
      "Getting prev perceptions\n",
      "Executing actions\n",
      "Getting post perceptions\n",
      "\n",
      "----------- Secuencia:  1\n",
      "----------- Paso:  7\n",
      "Getting prev perceptions\n",
      "Executing actions\n",
      "Getting post perceptions\n",
      "\n",
      "----------- Secuencia:  1\n",
      "----------- Paso:  8\n",
      "Getting prev perceptions\n",
      "Executing actions\n",
      "Getting post perceptions\n",
      "\n",
      "----------- Secuencia:  1\n",
      "----------- Paso:  9\n",
      "Getting prev perceptions\n",
      "Executing actions\n",
      "Getting post perceptions\n",
      "\n",
      "1 simulation has finished\n",
      "\n"
     ]
    }
   ],
   "source": [
    "main()"
   ]
  },
  {
   "cell_type": "markdown",
   "metadata": {},
   "source": [
    "##### Pruebas con pandas"
   ]
  },
  {
   "cell_type": "code",
   "execution_count": null,
   "metadata": {},
   "outputs": [],
   "source": []
  }
 ],
 "metadata": {
  "kernelspec": {
   "display_name": "EMERGE_Py311",
   "language": "python",
   "name": "python3"
  },
  "language_info": {
   "codemirror_mode": {
    "name": "ipython",
    "version": 3
   },
   "file_extension": ".py",
   "mimetype": "text/x-python",
   "name": "python",
   "nbconvert_exporter": "python",
   "pygments_lexer": "ipython3",
   "version": "3.11.5"
  },
  "orig_nbformat": 4
 },
 "nbformat": 4,
 "nbformat_minor": 2
}
