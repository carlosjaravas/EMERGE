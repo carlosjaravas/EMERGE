{
 "cells": [
  {
   "cell_type": "code",
   "execution_count": 1,
   "metadata": {},
   "outputs": [],
   "source": [
    "import os, sys, math, pickle, time\n",
    "from zmqRemoteApi import RemoteAPIClient\n",
    "import pandas as pd\n",
    "import numpy as np\n",
    "import matplotlib.pyplot as plt\n",
    "\n",
    "from random import randint as ri\n",
    "from random import uniform as ru\n",
    "\n",
    "from keras.models import Sequential\n",
    "from keras.layers import Dense\n",
    "from keras.losses import Huber\n",
    "from keras.optimizers import Adam\n",
    "\n",
    "from sklearn.model_selection import train_test_split\n",
    "from sklearn.preprocessing import StandardScaler, RobustScaler, MinMaxScaler\n",
    "from sklearn.metrics import mean_squared_error"
   ]
  },
  {
   "cell_type": "code",
   "execution_count": 2,
   "metadata": {},
   "outputs": [
    {
     "name": "stdout",
     "output_type": "stream",
     "text": [
      "['training_dataset_modular02c_23000_2023_2910.pkl', 'training_dataset_modular02c_50200_2023_2910.pkl', 'training_dataset_modular02c_50202_2023_2910.pkl', 'training_dataset_modular02c_50204_2023_2910.pkl', 'training_dataset_modular02c_50206_2023_2910.pkl', 'training_dataset_modular02c_50208_2023_2910.pkl', 'training_dataset_modular02c_50210_2023_2910.pkl', 'training_dataset_modular02c_50212_2023_2910.pkl', 'training_dataset_modular02c_50214_2023_2910.pkl', 'training_dataset_modular02c_50216_2023_2910.pkl', 'training_dataset_modular02c_50218_2023_2910.pkl', 'training_dataset_modular02c_50220_2023_2910.pkl', 'training_dataset_modular02c_50222_2023_2910.pkl', 'training_dataset_modular02c_50224_2023_2910.pkl', 'training_dataset_modular02c_50226_2023_2910.pkl', 'training_dataset_modular02c_50228_2023_2910.pkl', 'training_dataset_modular02c_50230_2023_2910.pkl', 'training_dataset_modular02c_50232_2023_2910.pkl', 'training_dataset_modular02c_50234_2023_2910.pkl', 'training_dataset_modular02c_50236_2023_2910.pkl', 'training_dataset_modular02c_50238_2023_2910.pkl', 'training_dataset_modular02c_50240_2023_2910.pkl']\n"
     ]
    }
   ],
   "source": [
    "path = \"C:\\\\Users\\\\carlo\\\\OneDrive - Estudiantes ITCR\\\\U\\\\TFG España\\\\Codigo\\\\Datos de entrenamiento\\\\2023_10_27_modular02c\"\n",
    "scene = \"modular02c\"\n",
    "file_list = os.listdir(path)\n",
    "scene_files_list = [item for item in file_list if scene in item and \"pkl\" in item]\n",
    "print(scene_files_list)"
   ]
  },
  {
   "cell_type": "code",
   "execution_count": 6,
   "metadata": {},
   "outputs": [
    {
     "data": {
      "text/plain": [
       "[{'sequence': 19,\n",
       "  'step': 98,\n",
       "  'increments': [0.12055921377812269, -0.1291649228905498],\n",
       "  'prev_j_positions': [-1.349076509475708, 0.9836752414703369],\n",
       "  'prev_pos_x': -0.03956593945622444,\n",
       "  'prev_pos_y': -0.06582070887088776,\n",
       "  'prev_pos_z': 0.03581279143691063,\n",
       "  'post_j_positions': [-1.231863260269165, 0.8550643920898438],\n",
       "  'post_pos_x': -0.039817992597818375,\n",
       "  'post_pos_y': -0.06764742732048035,\n",
       "  'post_pos_z': 0.036713551729917526,\n",
       "  'delta_pos_x': -0.0002520531415939331,\n",
       "  'delta_pos_y': -0.0018267184495925903,\n",
       "  'delta_pos_z': 0.000900760293006897},\n",
       " {'sequence': 19,\n",
       "  'step': 99,\n",
       "  'increments': [0.12738696227323082, -0.10686998838801419],\n",
       "  'prev_j_positions': [-1.231863260269165, 0.8550643920898438],\n",
       "  'prev_pos_x': -0.039817992597818375,\n",
       "  'prev_pos_y': -0.06764742732048035,\n",
       "  'prev_pos_z': 0.036713551729917526,\n",
       "  'post_j_positions': [-1.1071908473968506, 0.7479519844055176],\n",
       "  'post_pos_x': -0.03995484113693237,\n",
       "  'post_pos_y': -0.06971203535795212,\n",
       "  'post_pos_z': 0.037118058651685715,\n",
       "  'delta_pos_x': -0.0001368485391139984,\n",
       "  'delta_pos_y': -0.0020646080374717712,\n",
       "  'delta_pos_z': 0.0004045069217681885}]"
      ]
     },
     "execution_count": 6,
     "metadata": {},
     "output_type": "execute_result"
    }
   ],
   "source": [
    "file = open(path + \"\\\\\" + scene_files_list[0], \"rb\")\n",
    "training_data_0 = pickle.load(file)\n",
    "training_data_0[-2:]"
   ]
  },
  {
   "cell_type": "code",
   "execution_count": 7,
   "metadata": {},
   "outputs": [
    {
     "data": {
      "text/plain": [
       "{'sequence': 19,\n",
       " 'step': 99,\n",
       " 'increments': [-0.1220346227071889, -0.06882753423942556],\n",
       " 'prev_j_positions': [0.34439802169799805, -0.0666811466217041],\n",
       " 'prev_pos_x': -0.041784923523664474,\n",
       " 'prev_pos_y': -0.08916568756103516,\n",
       " 'prev_pos_z': 0.0343400314450264,\n",
       " 'post_j_positions': [0.22308826446533203, -0.13593530654907227],\n",
       " 'post_pos_x': -0.04006413370370865,\n",
       " 'post_pos_y': -0.08973820507526398,\n",
       " 'post_pos_z': 0.03370378538966179,\n",
       " 'delta_pos_x': 0.0017207898199558258,\n",
       " 'delta_pos_y': -0.0005725175142288208,\n",
       " 'delta_pos_z': -0.0006362460553646088}"
      ]
     },
     "execution_count": 7,
     "metadata": {},
     "output_type": "execute_result"
    }
   ],
   "source": [
    "file = open(path + \"\\\\\" + scene_files_list[1], \"rb\")\n",
    "training_data_1 = pickle.load(file)\n",
    "training_data_1[-1]"
   ]
  },
  {
   "cell_type": "code",
   "execution_count": 8,
   "metadata": {},
   "outputs": [
    {
     "data": {
      "text/plain": [
       "[{'sequence': 19,\n",
       "  'step': 99,\n",
       "  'increments': [0.12738696227323082, -0.10686998838801419],\n",
       "  'prev_j_positions': [-1.231863260269165, 0.8550643920898438],\n",
       "  'prev_pos_x': -0.039817992597818375,\n",
       "  'prev_pos_y': -0.06764742732048035,\n",
       "  'prev_pos_z': 0.036713551729917526,\n",
       "  'post_j_positions': [-1.1071908473968506, 0.7479519844055176],\n",
       "  'post_pos_x': -0.03995484113693237,\n",
       "  'post_pos_y': -0.06971203535795212,\n",
       "  'post_pos_z': 0.037118058651685715,\n",
       "  'delta_pos_x': -0.0001368485391139984,\n",
       "  'delta_pos_y': -0.0020646080374717712,\n",
       "  'delta_pos_z': 0.0004045069217681885},\n",
       " {'sequence': 0,\n",
       "  'step': 0,\n",
       "  'increments': [0.12271891327002458, 0.1003999357007355],\n",
       "  'prev_j_positions': [-8.106231689453125e-06, -2.384185791015625e-06],\n",
       "  'prev_pos_x': 0.02711544930934906,\n",
       "  'prev_pos_y': 0,\n",
       "  'prev_pos_z': 0,\n",
       "  'post_j_positions': [0.122467041015625, 0.10007858276367188],\n",
       "  'post_pos_x': -0.04537215456366539,\n",
       "  'post_pos_y': -0.09062261134386063,\n",
       "  'post_pos_z': 0.031211011111736298,\n",
       "  'delta_pos_x': -0.07248760387301445,\n",
       "  'delta_pos_y': -0.09062261134386063,\n",
       "  'delta_pos_z': 0.031211011111736298}]"
      ]
     },
     "execution_count": 8,
     "metadata": {},
     "output_type": "execute_result"
    }
   ],
   "source": [
    "training_data_0.append(training_data_1[0])\n",
    "training_data_0[-2:]"
   ]
  },
  {
   "cell_type": "code",
   "execution_count": 25,
   "metadata": {},
   "outputs": [
    {
     "name": "stdout",
     "output_type": "stream",
     "text": [
      "Dataset inicial:  training_dataset_modular02c_23000_2023_2910.pkl\n",
      "22 ['training_dataset_modular02c_23000_2023_2910.pkl', 'training_dataset_modular02c_50200_2023_2910.pkl', 'training_dataset_modular02c_50202_2023_2910.pkl', 'training_dataset_modular02c_50204_2023_2910.pkl', 'training_dataset_modular02c_50206_2023_2910.pkl', 'training_dataset_modular02c_50208_2023_2910.pkl', 'training_dataset_modular02c_50210_2023_2910.pkl', 'training_dataset_modular02c_50212_2023_2910.pkl', 'training_dataset_modular02c_50214_2023_2910.pkl', 'training_dataset_modular02c_50216_2023_2910.pkl', 'training_dataset_modular02c_50218_2023_2910.pkl', 'training_dataset_modular02c_50220_2023_2910.pkl', 'training_dataset_modular02c_50222_2023_2910.pkl', 'training_dataset_modular02c_50224_2023_2910.pkl', 'training_dataset_modular02c_50226_2023_2910.pkl', 'training_dataset_modular02c_50228_2023_2910.pkl', 'training_dataset_modular02c_50230_2023_2910.pkl', 'training_dataset_modular02c_50232_2023_2910.pkl', 'training_dataset_modular02c_50234_2023_2910.pkl', 'training_dataset_modular02c_50236_2023_2910.pkl', 'training_dataset_modular02c_50238_2023_2910.pkl', 'training_dataset_modular02c_50240_2023_2910.pkl']\n",
      "2000\n"
     ]
    }
   ],
   "source": [
    "path = \"C:\\\\Users\\\\carlo\\\\OneDrive - Estudiantes ITCR\\\\U\\\\TFG España\\\\Codigo\\\\Datos de entrenamiento\\\\2023_10_27_modular02c\"\n",
    "scene = \"modular02c\"\n",
    "file_list = os.listdir(path)\n",
    "scene_files_list = [item for item in file_list if scene in item and \"pkl\" in item]\n",
    "print(\"Dataset inicial: \", scene_files_list[0])\n",
    "print(len(scene_files_list), scene_files_list)\n",
    "file = open(path + \"\\\\\" + scene_files_list[0], \"rb\")\n",
    "training_data = pickle.load(file)\n",
    "print(len(training_data))\n",
    "#pd.DataFrame(training_data)"
   ]
  },
  {
   "cell_type": "code",
   "execution_count": 26,
   "metadata": {},
   "outputs": [
    {
     "name": "stdout",
     "output_type": "stream",
     "text": [
      "training_dataset_modular02c_50200_2023_2910.pkl\n",
      "4000\n",
      "training_dataset_modular02c_50202_2023_2910.pkl\n",
      "6000\n",
      "training_dataset_modular02c_50204_2023_2910.pkl\n",
      "8000\n",
      "training_dataset_modular02c_50206_2023_2910.pkl\n",
      "10000\n",
      "training_dataset_modular02c_50208_2023_2910.pkl\n",
      "12000\n",
      "training_dataset_modular02c_50210_2023_2910.pkl\n",
      "14000\n",
      "training_dataset_modular02c_50212_2023_2910.pkl\n",
      "16000\n",
      "training_dataset_modular02c_50214_2023_2910.pkl\n",
      "18000\n",
      "training_dataset_modular02c_50216_2023_2910.pkl\n",
      "20000\n",
      "training_dataset_modular02c_50218_2023_2910.pkl\n",
      "22000\n",
      "training_dataset_modular02c_50220_2023_2910.pkl\n",
      "24000\n",
      "training_dataset_modular02c_50222_2023_2910.pkl\n",
      "26000\n",
      "training_dataset_modular02c_50224_2023_2910.pkl\n",
      "28000\n",
      "training_dataset_modular02c_50226_2023_2910.pkl\n",
      "30000\n",
      "training_dataset_modular02c_50228_2023_2910.pkl\n",
      "32000\n",
      "training_dataset_modular02c_50230_2023_2910.pkl\n",
      "34000\n",
      "training_dataset_modular02c_50232_2023_2910.pkl\n",
      "36000\n",
      "training_dataset_modular02c_50234_2023_2910.pkl\n",
      "38000\n",
      "training_dataset_modular02c_50236_2023_2910.pkl\n",
      "40000\n",
      "training_dataset_modular02c_50238_2023_2910.pkl\n",
      "42000\n",
      "training_dataset_modular02c_50240_2023_2910.pkl\n",
      "44000\n"
     ]
    }
   ],
   "source": [
    "for dataset_file_name in scene_files_list[1:]:\n",
    "    print(dataset_file_name)\n",
    "    dataset_file = open(path + \"\\\\\" + dataset_file_name, \"rb\")\n",
    "    dataset = pickle.load(dataset_file)\n",
    "    for element in dataset:\n",
    "        training_data.append(element)\n",
    "    print(len(training_data))"
   ]
  },
  {
   "cell_type": "code",
   "execution_count": 18,
   "metadata": {},
   "outputs": [],
   "source": [
    "# Joins every data set file into one\n",
    "def join_datasets(scene = \"modular02c\"):\n",
    "    path = \"C:\\\\Users\\\\carlo\\\\OneDrive - Estudiantes ITCR\\\\U\\\\TFG España\\\\Codigo\\\\Datos de entrenamiento\\\\2023_10_27_\" + scene\n",
    "    file_list = os.listdir(path)\n",
    "    # List of training data files\n",
    "    scene_files_list = [item for item in file_list if scene in item and \"pkl\" in item]\n",
    "    print(\"---- Joining\", len(scene_files_list), scene, \"datasets ----\")\n",
    "\n",
    "    # Loads initial data\n",
    "    file = open(path + \"\\\\\" + scene_files_list[0], \"rb\")\n",
    "    training_data = pickle.load(file)\n",
    "\n",
    "    # Appends all data to the initial data\n",
    "    for dataset_file_name in scene_files_list[1:]:\n",
    "        dataset_file = open(path + \"\\\\\" + dataset_file_name, \"rb\")\n",
    "        dataset = pickle.load(dataset_file)\n",
    "        for element in dataset:\n",
    "            training_data.append(element)\n",
    "            \n",
    "    # Dumps the data in a new file\n",
    "    timestr = time.strftime(\"_%Y_%d%m_%H%M\")\n",
    "    new_file_path = \"training_data\\\\\" + timestr[1:-5]\n",
    "    if not os.path.exists(new_file_path):\n",
    "        os.mkdir(new_file_path)\n",
    "        print(f\"Directorio '{new_file_path}' ha sido creado.\")\n",
    "    else:\n",
    "        print(f\"El directorio '{new_file_path}' ya existe.\")\n",
    "    new_file_name = \"joined_training_dataset_\" + scene + timestr + '.pkl'\n",
    "    new_file = open(new_file_path + \"\\\\\" + new_file_name, 'wb')\n",
    "    pickle.dump(training_data, new_file)\n",
    "    new_file.close()"
   ]
  },
  {
   "cell_type": "code",
   "execution_count": 19,
   "metadata": {},
   "outputs": [
    {
     "name": "stdout",
     "output_type": "stream",
     "text": [
      "---- Combining  modular02a :  22  datasets ----\n",
      "Directorio 'training_data\\2023_3010' ha sido creado.\n"
     ]
    }
   ],
   "source": [
    "join_datasets(\"modular02a\")"
   ]
  },
  {
   "cell_type": "code",
   "execution_count": 5,
   "metadata": {},
   "outputs": [
    {
     "name": "stdout",
     "output_type": "stream",
     "text": [
      "---- Combining  modular02b :  22  datasets ----\n"
     ]
    }
   ],
   "source": [
    "join_datasets(\"modular02b\")"
   ]
  },
  {
   "cell_type": "code",
   "execution_count": 6,
   "metadata": {},
   "outputs": [
    {
     "name": "stdout",
     "output_type": "stream",
     "text": [
      "---- Combining  modular02c :  22  datasets ----\n"
     ]
    }
   ],
   "source": [
    "join_datasets(\"modular02c\")"
   ]
  },
  {
   "cell_type": "code",
   "execution_count": 7,
   "metadata": {},
   "outputs": [
    {
     "name": "stdout",
     "output_type": "stream",
     "text": [
      "---- Combining  modular03 :  22  datasets ----\n"
     ]
    }
   ],
   "source": [
    "join_datasets(\"modular03\")"
   ]
  }
 ],
 "metadata": {
  "kernelspec": {
   "display_name": "EMERGE_Py311",
   "language": "python",
   "name": "python3"
  },
  "language_info": {
   "codemirror_mode": {
    "name": "ipython",
    "version": 3
   },
   "file_extension": ".py",
   "mimetype": "text/x-python",
   "name": "python",
   "nbconvert_exporter": "python",
   "pygments_lexer": "ipython3",
   "version": "3.11.5"
  }
 },
 "nbformat": 4,
 "nbformat_minor": 2
}
