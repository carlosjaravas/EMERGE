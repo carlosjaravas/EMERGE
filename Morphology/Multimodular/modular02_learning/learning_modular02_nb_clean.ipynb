{
 "cells": [
  {
   "cell_type": "code",
   "execution_count": 2,
   "metadata": {},
   "outputs": [],
   "source": [
    "import os, sys, math, pickle, time\n",
    "import pandas as pd\n",
    "import numpy as np\n",
    "import matplotlib.pyplot as plt\n",
    "\n",
    "from random import randint as ri\n",
    "from random import uniform as ru\n",
    "\n",
    "from keras.models import Sequential, load_model\n",
    "from keras.layers import Dense\n",
    "from keras.losses import Huber\n",
    "from keras.optimizers import Adam\n",
    "\n",
    "from sklearn.model_selection import train_test_split\n",
    "from sklearn.preprocessing import StandardScaler, RobustScaler, MinMaxScaler\n",
    "from sklearn.metrics import mean_squared_error"
   ]
  },
  {
   "cell_type": "markdown",
   "metadata": {},
   "source": [
    "### Funciones"
   ]
  },
  {
   "cell_type": "code",
   "execution_count": 3,
   "metadata": {},
   "outputs": [],
   "source": [
    "#Function to split the training data into X,y datasets\n",
    "def load_dataset(scene_in = \"modular02a\"):\n",
    "    # Defining usefull variables\n",
    "    path = os.getcwd()\n",
    "    file_list = os.listdir(path)\n",
    "    scene_files_list = [item for item in file_list if scene_in in item and \"pkl\" in item]\n",
    "\n",
    "\n",
    "    file = open(path + \"\\\\\" + scene_files_list[0], \"rb\")\n",
    "    training_data = pickle.load(file)\n",
    "    training_df = pd.DataFrame(training_data)\n",
    "\n",
    "    #List to store the name for every joint data column\n",
    "    increments_columns = []\n",
    "    prev_j_positions_columns = []\n",
    "    post_j_positions_columns = []\n",
    "\n",
    "    #Creates the name for every column\n",
    "    num_joints = len(training_data[-1][\"increments\"])\n",
    "    for joint_n in range(num_joints):\n",
    "        #List to split inputs per joint\n",
    "        joint_inc_col_name = \"increments_\" + str(joint_n)\n",
    "        increments_columns.append(joint_inc_col_name)\n",
    "\n",
    "        prev_joint_pos_col_name = \"prev_j_positions_\" + str(joint_n)\n",
    "        prev_j_positions_columns.append(prev_joint_pos_col_name)\n",
    "\n",
    "        #List to split outputs per joint\n",
    "        post_joint_pos_col_name = \"post_j_positions_\" + str(joint_n)\n",
    "        post_j_positions_columns.append(post_joint_pos_col_name)\n",
    "\n",
    "\n",
    "    #Input columns per joint\n",
    "    increments_df = pd.DataFrame(training_df['increments'].to_list())\n",
    "    increments_df.columns = increments_columns\n",
    "\n",
    "\n",
    "    prev_j_positions_df = pd.DataFrame(training_df['prev_j_positions'].to_list())\n",
    "    prev_j_positions_df.columns = prev_j_positions_columns\n",
    "\n",
    "\n",
    "    #Builds the X dataframe\n",
    "    X_df = pd.concat([increments_df, prev_j_positions_df, \n",
    "                    training_df[\"prev_pos_x\"], training_df[\"prev_pos_y\"], training_df[\"prev_pos_z\"]], \n",
    "                    axis=\"columns\")\n",
    "\n",
    "\n",
    "    #Output columns per joint\n",
    "    post_j_positions_df = pd.DataFrame(training_df['post_j_positions'].to_list())\n",
    "    post_j_positions_df.columns = post_j_positions_columns\n",
    "\n",
    "\n",
    "    #Builds the y dataframe\n",
    "    y_df = pd.concat([post_j_positions_df, \n",
    "                    training_df[\"post_pos_x\"], training_df[\"post_pos_y\"], training_df[\"post_pos_z\"]], \n",
    "                    axis=\"columns\")\n",
    "\n",
    "    return(X_df,y_df)"
   ]
  },
  {
   "cell_type": "code",
   "execution_count": 4,
   "metadata": {},
   "outputs": [],
   "source": [
    "def adapt_X_y(X_a,y_a):\n",
    "    X_a_cols = ['current_state_x', 'current_state_y', 'current_state_z', 'joint0_current_state_rad', 'joint1_current_state_rad', 'joint0_actions_rad', 'joint1_actions_rad']\n",
    "\n",
    "    X_a = pd.concat([X_a[\"prev_pos_x\"], X_a[\"prev_pos_y\"] , X_a[\"prev_pos_z\"],\n",
    "                X_a[\"prev_j_positions_0\"], X_a[\"prev_j_positions_1\"],\n",
    "                X_a[\"increments_0\"], X_a[\"increments_1\"]], \n",
    "                        axis=\"columns\")\n",
    "\n",
    "    X_a.columns = X_a_cols\n",
    "\n",
    "    y_a_cols = ['future_state_x', 'future_state_y', 'future_state_z', 'joint0_future_state_rad', 'joint1_future_state_rad']\n",
    "\n",
    "    y_a = pd.concat([y_a[\"post_pos_x\"], y_a[\"post_pos_y\"] , y_a[\"post_pos_z\"],\n",
    "                y_a[\"post_j_positions_0\"], y_a[\"post_j_positions_1\"]], \n",
    "                        axis=\"columns\")\n",
    "    y_a.columns = y_a_cols\n",
    "    return X_a, y_a"
   ]
  },
  {
   "cell_type": "markdown",
   "metadata": {},
   "source": [
    "### Modular 02"
   ]
  },
  {
   "cell_type": "code",
   "execution_count": 6,
   "metadata": {},
   "outputs": [],
   "source": [
    "scene = \"modular02_\"\n",
    "X, y =load_dataset(scene)\n",
    "X, y = adapt_X_y(X,y)"
   ]
  },
  {
   "cell_type": "code",
   "execution_count": 7,
   "metadata": {},
   "outputs": [],
   "source": [
    "# Se separan los datos de entrenmiento (80%) y los de prueba (20%)\n",
    "X_train, X_test, y_train, y_test = train_test_split(\n",
    "    X, y,\n",
    "    test_size=0.2, random_state=42\n",
    ")"
   ]
  },
  {
   "cell_type": "code",
   "execution_count": 8,
   "metadata": {},
   "outputs": [],
   "source": [
    "# Scaling de los datos \n",
    "scaler = MinMaxScaler()\n",
    "X_train_scaled = scaler.fit_transform(X_train)\n",
    "X_test_scaled = scaler.transform(X_test)"
   ]
  },
  {
   "cell_type": "code",
   "execution_count": 9,
   "metadata": {},
   "outputs": [
    {
     "name": "stdout",
     "output_type": "stream",
     "text": [
      "Epoch 1/25\n",
      "700/700 [==============================] - 2s 2ms/step - loss: 0.0268 - val_loss: 0.0017\n",
      "Epoch 2/25\n",
      "700/700 [==============================] - 1s 1ms/step - loss: 8.9532e-04 - val_loss: 3.8412e-04\n",
      "Epoch 3/25\n",
      "700/700 [==============================] - 1s 1ms/step - loss: 2.5123e-04 - val_loss: 1.6989e-04\n",
      "Epoch 4/25\n",
      "700/700 [==============================] - 1s 1ms/step - loss: 1.4219e-04 - val_loss: 1.1901e-04\n",
      "Epoch 5/25\n",
      "700/700 [==============================] - 1s 1ms/step - loss: 1.0752e-04 - val_loss: 1.0169e-04\n",
      "Epoch 6/25\n",
      "700/700 [==============================] - 1s 1ms/step - loss: 8.9917e-05 - val_loss: 8.6052e-05\n",
      "Epoch 7/25\n",
      "700/700 [==============================] - 1s 1ms/step - loss: 7.7599e-05 - val_loss: 6.5175e-05\n",
      "Epoch 8/25\n",
      "700/700 [==============================] - 1s 1ms/step - loss: 6.7622e-05 - val_loss: 8.1524e-05\n",
      "Epoch 9/25\n",
      "700/700 [==============================] - 1s 1ms/step - loss: 6.2695e-05 - val_loss: 6.2157e-05\n",
      "Epoch 10/25\n",
      "700/700 [==============================] - 1s 1ms/step - loss: 5.7810e-05 - val_loss: 4.8159e-05\n",
      "Epoch 11/25\n",
      "700/700 [==============================] - 1s 1ms/step - loss: 5.2546e-05 - val_loss: 4.3731e-05\n",
      "Epoch 12/25\n",
      "700/700 [==============================] - 1s 1ms/step - loss: 4.9808e-05 - val_loss: 3.9487e-05\n",
      "Epoch 13/25\n",
      "700/700 [==============================] - 1s 1ms/step - loss: 4.5655e-05 - val_loss: 3.9123e-05\n",
      "Epoch 14/25\n",
      "700/700 [==============================] - 1s 1ms/step - loss: 4.3573e-05 - val_loss: 4.2714e-05\n",
      "Epoch 15/25\n",
      "700/700 [==============================] - 1s 1ms/step - loss: 4.1321e-05 - val_loss: 3.7106e-05\n",
      "Epoch 16/25\n",
      "700/700 [==============================] - 1s 1ms/step - loss: 3.9266e-05 - val_loss: 3.5392e-05\n",
      "Epoch 17/25\n",
      "700/700 [==============================] - 1s 1ms/step - loss: 3.7892e-05 - val_loss: 3.2181e-05\n",
      "Epoch 18/25\n",
      "700/700 [==============================] - 1s 1ms/step - loss: 3.6113e-05 - val_loss: 3.4557e-05\n",
      "Epoch 19/25\n",
      "700/700 [==============================] - 1s 1ms/step - loss: 3.4037e-05 - val_loss: 2.7921e-05\n",
      "Epoch 20/25\n",
      "700/700 [==============================] - 1s 1ms/step - loss: 3.3473e-05 - val_loss: 3.9431e-05\n",
      "Epoch 21/25\n",
      "700/700 [==============================] - 1s 1ms/step - loss: 3.2947e-05 - val_loss: 2.7420e-05\n",
      "Epoch 22/25\n",
      "700/700 [==============================] - 1s 1ms/step - loss: 3.1265e-05 - val_loss: 3.5710e-05\n",
      "Epoch 23/25\n",
      "700/700 [==============================] - 1s 1ms/step - loss: 2.9653e-05 - val_loss: 2.8720e-05\n",
      "Epoch 24/25\n",
      "700/700 [==============================] - 1s 1ms/step - loss: 3.0130e-05 - val_loss: 2.6705e-05\n",
      "Epoch 25/25\n",
      "700/700 [==============================] - 1s 1ms/step - loss: 2.9247e-05 - val_loss: 2.6954e-05\n"
     ]
    }
   ],
   "source": [
    "# Creacion y entrenamiento del modelo\n",
    "model = Sequential()\n",
    "\n",
    "# Capa de entrada con 22 unidades (correspondiente al número de entradas)\n",
    "model.add(Dense(units=7, input_dim=7, activation='relu'))\n",
    "\n",
    "# Capas ocultas con 64 unidades cada una\n",
    "model.add(Dense(units=24, activation='relu'))\n",
    "\n",
    "# Capa de salida con 14 unidades (correspondiente al número de salidas) y activación lineal\n",
    "model.add(Dense(units=5, activation='linear'))\n",
    "\n",
    "# Compilar el modelo con una función de pérdida adecuada para regresión\n",
    "model.compile(optimizer=Adam(learning_rate=0.001), loss=Huber(delta=1.0))\n",
    "\n",
    "# Supongamos que X_train y y_train son tus datos de entrenamiento\n",
    "history = model.fit(X_train_scaled, y_train, epochs=25, batch_size=32, validation_split=0.2)"
   ]
  },
  {
   "cell_type": "code",
   "execution_count": 11,
   "metadata": {},
   "outputs": [],
   "source": [
    "model.save(\"model_\" + scene + \".keras\")\n",
    "with open(\"scaler_\" + scene + '.pkl', 'wb') as file:\n",
    "    pickle.dump(scaler, file)\n",
    "with open(\"model_\" + scene + '.pkl', 'wb') as file:\n",
    "    pickle.dump(model, file)"
   ]
  }
 ],
 "metadata": {
  "kernelspec": {
   "display_name": "EMERGE_Py311",
   "language": "python",
   "name": "python3"
  },
  "language_info": {
   "codemirror_mode": {
    "name": "ipython",
    "version": 3
   },
   "file_extension": ".py",
   "mimetype": "text/x-python",
   "name": "python",
   "nbconvert_exporter": "python",
   "pygments_lexer": "ipython3",
   "version": "3.11.5"
  }
 },
 "nbformat": 4,
 "nbformat_minor": 2
}
