{
 "cells": [
  {
   "cell_type": "markdown",
   "metadata": {},
   "source": [
    "# Pruebas para la generacion de datos de entrenamiento"
   ]
  },
  {
   "cell_type": "markdown",
   "metadata": {},
   "source": [
    "## Cambios para que funcione con clases"
   ]
  },
  {
   "cell_type": "markdown",
   "metadata": {},
   "source": [
    "Para exportar se ve que crear una clase para almacenar todas las percepciones es muy util por lo que se procede a modificar todas las funciones anteriores que lo requieran para que funcionen con la clase de percepciones."
   ]
  },
  {
   "cell_type": "markdown",
   "metadata": {},
   "source": [
    "#### Librerias"
   ]
  },
  {
   "cell_type": "code",
   "execution_count": 9,
   "metadata": {},
   "outputs": [],
   "source": [
    "import os\n",
    "import math\n",
    "import pickle\n",
    "from zmqRemoteApi import RemoteAPIClient\n",
    "from random import randint as ri\n",
    "from random import uniform as ru"
   ]
  },
  {
   "cell_type": "markdown",
   "metadata": {},
   "source": [
    "#### Creacion de clases"
   ]
  },
  {
   "cell_type": "code",
   "execution_count": 10,
   "metadata": {},
   "outputs": [],
   "source": [
    "#Class for simulation object\n",
    "class sim_objects ():\n",
    "    def __init__(self):\n",
    "        self.client = RemoteAPIClient()\n",
    "        self.sim = self.client.getObject('sim')\n",
    "        self.file = 0\n",
    "        self.executed = False\n",
    "        self.joint_handler_ids = []\n",
    "        self.num_joints = 0\n",
    "        self.obj_handler_ids = []\n",
    "        self.sequencies = 1\n",
    "        self.seq_steps = 2\n",
    "        self.training_data = []\n",
    "        \n",
    "sim_obj = sim_objects()\n",
    "\n",
    "# Class to store the different handlers the robot needs to operate in the simulator. \n",
    "class joint_handlers_class ():\n",
    "    def __init__(self):\n",
    "        self.JRF0 = 0\n",
    "        self.JRF1 = 0\n",
    "        self.JRB0 = 0\n",
    "        self.JRB1 = 0\n",
    "        self.JLF0 = 0\n",
    "        self.JLF1 = 0\n",
    "        self.JLB0 = 0\n",
    "        self.JLB1 = 0\n",
    "        \n",
    "handler = joint_handlers_class()\n",
    "\n",
    "class obj_handlers_class ():\n",
    "    def __init__(self):\n",
    "        self.JRF2 = 0\n",
    "        self.JRB2 = 0\n",
    "        self.JLF2 = 0\n",
    "        self.JLB2 = 0\n",
    "        self.base = 0\n",
    "\n",
    "obj_handler = obj_handlers_class()"
   ]
  },
  {
   "cell_type": "markdown",
   "metadata": {},
   "source": [
    "#### Funciones de carga del quad y generacion de acciones random"
   ]
  },
  {
   "cell_type": "code",
   "execution_count": 11,
   "metadata": {},
   "outputs": [],
   "source": [
    "def init_position():\n",
    "    start_pos = ri(0,1)\n",
    "    #Fixes the last joints position to 0 so they wont move\n",
    "    for i in sim_obj.obj_handler_ids[:-1]:\n",
    "        sim_obj.sim.setJointTargetPosition(i, 0)\n",
    "    if start_pos == 0:\n",
    "        #Set all the joints to their position\n",
    "        for i in sim_obj.joint_handler_ids:\n",
    "            sim_obj.sim.setJointTargetPosition(i, 0)\n",
    "        #After setting all the joints it moves    \n",
    "        for i in range(20):\n",
    "            sim_obj.client.step()\n",
    "    \n",
    "            "
   ]
  },
  {
   "cell_type": "code",
   "execution_count": 12,
   "metadata": {},
   "outputs": [],
   "source": [
    "# Function that load the robot in the scene at the beggining of each evaluation.\n",
    "def load_quad_class():\n",
    "    # Opening the connection with CoppeliaSim simulator\n",
    "    sim_obj.client = RemoteAPIClient()\n",
    "    sim_obj.sim = sim_obj.client.getObject('sim')\n",
    "    \n",
    "    # Setting the simulation mode for working in sinchronous mode. The simulation timming is controlled by the Python program and not by the simulation itselfs.\n",
    "    sim_obj.client.setStepping(True)\n",
    "    \n",
    "    #Right-front\n",
    "    handler.JRF0 = sim_obj.sim.getObject(\"/JRF0\")\n",
    "    handler.JRF1 = sim_obj.sim.getObject(\"/JRF1\")\n",
    "    #Right-back\n",
    "    handler.JRB0 = sim_obj.sim.getObject(\"/JRB0\")\n",
    "    handler.JRB1 = sim_obj.sim.getObject(\"/JRB1\")\n",
    "    #Left-front\n",
    "    handler.JLF0 = sim_obj.sim.getObject(\"/JLF0\")\n",
    "    handler.JLF1 = sim_obj.sim.getObject(\"/JLF1\")\n",
    "    #Left-back\n",
    "    handler.JLB0 = sim_obj.sim.getObject(\"/JLB0\")\n",
    "    handler.JLB1 = sim_obj.sim.getObject(\"/JLB1\")\n",
    "\n",
    "    #Setting obj handlers\n",
    "    obj_handler.base = sim_obj.sim.getObject(\"/Base\")\n",
    "    obj_handler.JRF2 = sim_obj.sim.getObject(\"/JRF2\")\n",
    "    obj_handler.JRB2 = sim_obj.sim.getObject(\"/JRB2\")\n",
    "    obj_handler.JLF2 = sim_obj.sim.getObject(\"/JLF2\")\n",
    "    obj_handler.JLB2 = sim_obj.sim.getObject(\"/JLB2\")\n",
    "\n",
    "    \n",
    "    #Stores the different id for every handler starting with the base\n",
    "    sim_obj.joint_handler_ids = list(handler.__dict__.values())\n",
    "\n",
    "    sim_obj.num_joints = len(sim_obj.joint_handler_ids)\n",
    "\n",
    "    sim_obj.obj_handler_ids = list(obj_handler.__dict__.values())\n",
    "\n",
    "\n",
    "    sim_obj.sim.startSimulation()"
   ]
  },
  {
   "cell_type": "code",
   "execution_count": 13,
   "metadata": {},
   "outputs": [],
   "source": [
    "#Generate list of random positions\n",
    "def rand_gen():\n",
    "    randomlist = []\n",
    "    for i in range(sim_obj.num_joints):\n",
    "        n = ru(-10, 10) * math.pi / 180\n",
    "        randomlist.append(n)\n",
    "    #sim_obj.random_increments.append(randomlist)"
   ]
  },
  {
   "cell_type": "markdown",
   "metadata": {},
   "source": [
    "#### Clase y funcion para percepciones"
   ]
  },
  {
   "cell_type": "code",
   "execution_count": 14,
   "metadata": {},
   "outputs": [],
   "source": [
    "\n",
    "#Class to store all the perceptions\n",
    "class perceptions ():\n",
    "    def __init__(self):\n",
    "        #Execution data\n",
    "        self.sequence = 0\n",
    "        self.step = 0\n",
    "        self.increments = []\n",
    "\n",
    "        #Initial perceptions\n",
    "        self.prev_j_positions = []\n",
    "        self.prev_j_velocities = []\n",
    "        self.prev_j_forces = []\n",
    "        self.prev_base_pos_x = []\n",
    "        self.prev_base_pos_y = []\n",
    "        self.prev_base_pos_z = []\n",
    "        self.prev_base_ori_alpha = []\n",
    "        self.prev_base_ori_beta = []\n",
    "        self.prev_base_ori_gamma = []\n",
    "        #self.prev_base_accel = []\n",
    "\n",
    "        #Resulting perceptions\n",
    "        self.post_j_positions = []\n",
    "        self.post_j_velocities = []\n",
    "        self.post_j_forces = []\n",
    "        self.post_base_pos_x = []\n",
    "        self.post_base_pos_y = []\n",
    "        self.post_base_pos_z = []\n",
    "        self.post_base_ori_alpha = []\n",
    "        self.post_base_ori_beta = []\n",
    "        self.post_base_ori_gamma = []\n",
    "        #self.post_base_accel = []\n",
    "\n",
    "perception = perceptions()"
   ]
  },
  {
   "cell_type": "code",
   "execution_count": 8,
   "metadata": {},
   "outputs": [],
   "source": [
    "def move_joints():\n",
    "    for i in range(sim_obj.num_joints):\n",
    "        sim_obj.sim.setJointTargetPosition(sim_obj.joint_handler_ids[i], (sim_obj.random_increments[-1][i]+perception.prev_j_positions[-1][i]))\n",
    "    #After setting all the joints it moves\n",
    "    for i in range(4):\n",
    "        sim_obj.client.step()"
   ]
  },
  {
   "cell_type": "code",
   "execution_count": 9,
   "metadata": {},
   "outputs": [],
   "source": [
    "\n",
    "def get_joints_preceptions():\n",
    "    positions = []\n",
    "    forces = []\n",
    "    velocities = []\n",
    "    base_x, base_y,base_z = sim_obj.sim.getObjectPosition(obj_handler.base, sim_obj.sim.handle_world)\n",
    "    base_alpha, base_beta, base_gamma = sim_obj.sim.getObjectOrientation(obj_handler.base, sim_obj.sim.handle_world)\n",
    "    #base_accel = [0,0,0] #sim_obj.sim.getObjectOrientation(obj_handler.base, sim_obj.sim.handle_world) --- MISSING\n",
    "    for i in sim_obj.joint_handler_ids:\n",
    "        #Angular/linear position of the joint\n",
    "        pos = sim_obj.sim.getJointPosition(i)\n",
    "        positions.append(pos)\n",
    "        #Torque/force being aplied by the joint\n",
    "        force = sim_obj.sim.getJointForce(i)\n",
    "        forces.append(force)\n",
    "        #Angular/linear velocity of the joint's movement\n",
    "        veloc = sim_obj.sim.getJointVelocity(i)\n",
    "        velocities.append(veloc)\n",
    "    if  not sim_obj.executed:\n",
    "        print(\"Getting prev perceptions\")\n",
    "        perception.prev_j_positions.append(positions)\n",
    "        perception.prev_j_velocities.append(velocities)\n",
    "        perception.prev_j_forces.append(forces)\n",
    "        perception.prev_base_pos_x.append(base_x)\n",
    "        perception.prev_base_pos_y.append(base_y)\n",
    "        perception.prev_base_pos_z.append(base_z)\n",
    "        perception.prev_base_ori_alpha.append(base_alpha)\n",
    "        perception.prev_base_ori_beta.append(base_beta)\n",
    "        perception.prev_base_ori_gamma.append(base_gamma)\n",
    "        #perception.prev_base_accel.append(base_accel)\n",
    "    else:\n",
    "        print(\"Getting post perceptions\")\n",
    "        perception.post_j_positions.append(positions)\n",
    "        perception.post_j_velocities.append(velocities)\n",
    "        perception.post_j_forces.append(forces)\n",
    "        perception.post_base_pos_x.append(base_x)\n",
    "        perception.post_base_pos_y.append(base_y)\n",
    "        perception.post_base_pos_z.append(base_z)\n",
    "        perception.post_base_ori_alpha.append(base_alpha)\n",
    "        perception.post_base_ori_beta.append(base_beta)\n",
    "        perception.post_base_ori_gamma.append(base_gamma)\n",
    "        #perception.post_base_accel.append(base_accel)"
   ]
  },
  {
   "cell_type": "markdown",
   "metadata": {},
   "source": [
    "#### Pruebas para guardar las percepciones por paso"
   ]
  },
  {
   "cell_type": "code",
   "execution_count": 15,
   "metadata": {},
   "outputs": [],
   "source": [
    "#Needs fixing\n",
    "\n",
    "def get_joints_preceptions():\n",
    "\n",
    "    #Base perceptions\n",
    "    base_x, base_y, base_z = sim_obj.sim.getObjectPosition(obj_handler.base, sim_obj.sim.handle_world)\n",
    "    base_alpha, base_beta, base_gamma = sim_obj.sim.getObjectOrientation(obj_handler.base, sim_obj.sim.handle_world)\n",
    "    #base_accel = [0,0,0] #sim_obj.sim.getObjectOrientation(obj_handler.base, sim_obj.sim.handle_world) --- MISSING\n",
    "    if  not sim_obj.executed:\n",
    "        perception.prev_base_pos_x.append(base_x)\n",
    "        perception.prev_base_pos_y.append(base_y)\n",
    "        perception.prev_base_pos_z.append(base_z)\n",
    "        perception.prev_base_ori_alpha.append(base_alpha)\n",
    "        perception.prev_base_ori_beta.append(base_beta)\n",
    "        perception.prev_base_ori_gamma.append(base_gamma)\n",
    "        #perception.prev_base_accel.append(base_accel)\n",
    "    else:\n",
    "        perception.post_base_pos_x.append(base_x)\n",
    "        perception.post_base_pos_y.append(base_y)\n",
    "        perception.post_base_pos_z.append(base_z)\n",
    "        perception.post_base_ori_alpha.append(base_alpha)\n",
    "        perception.post_base_ori_beta.append(base_beta)\n",
    "        perception.post_base_ori_gamma.append(base_gamma)\n",
    "        #perception.post_base_accel.append(base_accel)\n",
    "        \n",
    "    #Joint perceptions\n",
    "    for i in sim_obj.joint_handler_ids:\n",
    "        #Angular/linear position of the joint\n",
    "        pos = sim_obj.sim.getJointPosition(i)\n",
    "        #Torque/force being aplied by the joint\n",
    "        force = sim_obj.sim.getJointForce(i)\n",
    "        #Angular/linear velocity of the joint's movement\n",
    "        veloc = sim_obj.sim.getJointVelocity(i)\n",
    "        if  not sim_obj.executed:\n",
    "            perception.prev_j_positions.append(pos)\n",
    "            perception.prev_j_velocities.append(veloc)\n",
    "            perception.prev_j_forces.append(force)\n",
    "        else:\n",
    "            perception.post_j_positions.append(pos)\n",
    "            perception.post_j_velocities.append(veloc)\n",
    "            perception.post_j_forces.append(force)\n",
    "    print(\"Prev pos:\")\n",
    "    print(perception.prev_j_positions)\n",
    "    print(\"Post pos:\")\n",
    "    print(perception.post_j_positions)"
   ]
  },
  {
   "cell_type": "code",
   "execution_count": 16,
   "metadata": {},
   "outputs": [],
   "source": [
    "def move_joints():\n",
    "    for i in range(sim_obj.num_joints):\n",
    "        sim_obj.sim.setJointTargetPosition(sim_obj.joint_handler_ids[i], (perception.increments[i]+perception.prev_j_positions[i]))\n",
    "    #After setting all the joints it moves\n",
    "    for i in range(5):\n",
    "        sim_obj.client.step()"
   ]
  },
  {
   "cell_type": "code",
   "execution_count": 17,
   "metadata": {},
   "outputs": [],
   "source": [
    "#Generate list of random positions\n",
    "def rand_gen():\n",
    "    for i in range(sim_obj.num_joints):\n",
    "        n = ru(-10, 10) * math.pi / 180\n",
    "        perception.increments.append(n)"
   ]
  },
  {
   "cell_type": "markdown",
   "metadata": {},
   "source": [
    "#### Exportar"
   ]
  },
  {
   "cell_type": "code",
   "execution_count": 10,
   "metadata": {},
   "outputs": [],
   "source": [
    "def export_pickle():    \n",
    "    #Dump data in file\n",
    "    sim_obj.file = open(os.getcwd() + r'\\training_dataset.txt', 'wb')\n",
    "    pickle.dump(perception, sim_obj.file)\n",
    "    sim_obj.file.close()"
   ]
  },
  {
   "cell_type": "markdown",
   "metadata": {},
   "source": [
    "#### Ejecucion"
   ]
  },
  {
   "cell_type": "markdown",
   "metadata": {},
   "source": [
    "##### Una ejecucion y un paso (una accion por modulo)"
   ]
  },
  {
   "cell_type": "code",
   "execution_count": 64,
   "metadata": {},
   "outputs": [],
   "source": [
    "#Main function for one execution\n",
    "def main():\n",
    "    print(\"main function\")\n",
    "    sim_obj.sim.startSimulation()\n",
    "    load_quad_class()\n",
    "    rand_gen()\n",
    "    get_joints_preceptions()\n",
    "    #Execute every joint action\n",
    "    print(\"Executing actions\")\n",
    "    for i in range(len(sim_obj.random_increments[-1])):\n",
    "        sim_obj.sim.setJointTargetPosition(sim_obj.joint_handler_ids[i], (sim_obj.random_increments[-1][i]+perception.prev_j_positions[-1][i]))\n",
    "        sim_obj.client.step()\n",
    "        sim_obj.client.step()\n",
    "        sim_obj.client.step()\n",
    "        sim_obj.client.step()\n",
    "    sim_obj.executed = True\n",
    "    get_joints_preceptions()\n",
    "    sim_obj.executed = False\n",
    "    sim_obj.sim.stopSimulation()\n",
    "    #export()"
   ]
  },
  {
   "cell_type": "code",
   "execution_count": null,
   "metadata": {},
   "outputs": [],
   "source": [
    "#main()\n",
    "\n",
    "print(\"\")\n",
    "\n",
    "print(\"Handler ids: \")\n",
    "print(sim_obj.joint_handler_ids)\n",
    "print(\"Joints handler ids: \")\n",
    "print(sim_obj.joint_handler_ids)\n",
    "\n",
    "print(\"\")\n",
    "\n",
    "data = 0\n",
    "num_exec = []\n",
    "for i in perception.__dict__.keys():\n",
    "    #print(i)\n",
    "    for k in perception.__dict__[i]:\n",
    "        #print(k)\n",
    "        #print(\"\")\n",
    "        data = data + len(k)\n",
    "    num_exec.append(len(perception.__dict__[i]))\n",
    "print(f\"Cantidad total de datos para {max(num_exec)} ejecuciones con 1 paso por ejecucion: {data}\")\n",
    "print(f\"Datos por ejecucion: {data//max(num_exec)}\")"
   ]
  },
  {
   "cell_type": "markdown",
   "metadata": {},
   "source": [
    "##### Una secuencia de multiples pasos (una accion por modulo)"
   ]
  },
  {
   "cell_type": "code",
   "execution_count": null,
   "metadata": {},
   "outputs": [],
   "source": [
    "sim_obj.sequencies = 2\n",
    "print(\"Numero de secuencias: \",sim_obj.sequencies)\n",
    "sim_obj.seq_steps = 2\n",
    "print(\"Steps por secuencia: \",sim_obj.seq_steps)\n",
    "perception = perceptions()"
   ]
  },
  {
   "cell_type": "code",
   "execution_count": null,
   "metadata": {},
   "outputs": [],
   "source": [
    "#Main function for one execution and multiple steps\n",
    "def main():\n",
    "    k = 0\n",
    "    print(\"main function\")\n",
    "    sim_obj.sim.startSimulation()\n",
    "    load_quad_class()\n",
    "    for j in range(sim_obj.seq_steps):\n",
    "        print(\"----------- Secuencia: \", k)\n",
    "        print(\"----------- Paso: \", j)\n",
    "        rand_gen()\n",
    "        get_joints_preceptions()\n",
    "        #Execute every joint action\n",
    "        print(perception.prev_j_positions[-1])\n",
    "        print(\"Executing actions\")\n",
    "        for i in range(len(sim_obj.random_increments[-1])):\n",
    "            sim_obj.sim.setJointTargetPosition(sim_obj.joint_handler_ids[i], (sim_obj.random_increments[-1][i]+perception.prev_j_positions[-1][i]))\n",
    "            sim_obj.client.step()\n",
    "            sim_obj.client.step()\n",
    "            sim_obj.client.step()\n",
    "            sim_obj.client.step()\n",
    "        sim_obj.executed = True\n",
    "        get_joints_preceptions()\n",
    "        sim_obj.executed = False\n",
    "        print(\"\")\n",
    "    print(\"Simulation has finished\")\n",
    "    sim_obj.sim.stopSimulation()\n",
    "    #export()"
   ]
  },
  {
   "cell_type": "code",
   "execution_count": null,
   "metadata": {},
   "outputs": [],
   "source": [
    "#if __name__ == \"__main__\":\n",
    "#    main()"
   ]
  },
  {
   "cell_type": "code",
   "execution_count": null,
   "metadata": {},
   "outputs": [],
   "source": [
    "sim_obj.sim.stopSimulation()\n",
    "main()\n",
    "\n",
    "print(\"\")\n",
    "data = 0\n",
    "num_exec = []\n",
    "for i in perception.__dict__.keys():\n",
    "    #print(i)\n",
    "    for k in perception.__dict__[i]:\n",
    "        #print(k)\n",
    "        #print(\"\")\n",
    "        data = data + len(k)\n",
    "    num_exec.append(len(perception.__dict__[i]))\n",
    "print(f\"Cantidad total de datos: {data}\")"
   ]
  },
  {
   "cell_type": "markdown",
   "metadata": {},
   "source": [
    "##### Multiples secuencias y multiples pasos"
   ]
  },
  {
   "cell_type": "code",
   "execution_count": 32,
   "metadata": {},
   "outputs": [
    {
     "name": "stdout",
     "output_type": "stream",
     "text": [
      "Numero de secuencias:  2\n",
      "Steps por secuencia:  3\n"
     ]
    }
   ],
   "source": [
    "sim_obj.sequencies = 2\n",
    "print(\"Numero de secuencias: \",sim_obj.sequencies)\n",
    "sim_obj.seq_steps = 3\n",
    "print(\"Steps por secuencia: \",sim_obj.seq_steps)\n",
    "perception = perceptions()\n",
    "\n",
    "#Main function for multiple executions and multiple steps\n",
    "def main():\n",
    "    print(\"main function\")\n",
    "    for k in range(sim_obj.sequencies):\n",
    "        print(f\"{k} sequence has started\")\n",
    "        print(\"\")\n",
    "        load_quad_class()\n",
    "        init_position()\n",
    "        for j in range(sim_obj.seq_steps):\n",
    "            print(\"----------- Secuencia: \", k)\n",
    "            print(\"----------- Paso: \", j)\n",
    "            rand_gen()\n",
    "            get_joints_preceptions()\n",
    "            #Execute every joint action\n",
    "            print(\"Executing actions\")\n",
    "            for i in range(sim_obj.num_joints):\n",
    "                sim_obj.sim.setJointTargetPosition(sim_obj.joint_handler_ids[i], (sim_obj.random_increments[-1][i]+perception.prev_j_positions[-1][i]))\n",
    "                sim_obj.client.step()\n",
    "                sim_obj.client.step()\n",
    "                sim_obj.client.step()\n",
    "                sim_obj.client.step()\n",
    "            sim_obj.executed = True\n",
    "            get_joints_preceptions()\n",
    "            sim_obj.executed = False\n",
    "            print(\"\")\n",
    "        print(f\"{k} simulation has finished\")\n",
    "        print(\"\")\n",
    "        sim_obj.sim.stopSimulation()\n",
    "    #export()"
   ]
  },
  {
   "cell_type": "code",
   "execution_count": null,
   "metadata": {},
   "outputs": [],
   "source": [
    "main()"
   ]
  },
  {
   "cell_type": "code",
   "execution_count": null,
   "metadata": {},
   "outputs": [],
   "source": [
    "data = 0\n",
    "num_exec = []\n",
    "for i in perception.__dict__.keys():\n",
    "    #print(i)\n",
    "    for k in perception.__dict__[i]:\n",
    "        #print(k)\n",
    "        #print(\"\")\n",
    "        data = data + len(k)\n",
    "    num_exec.append(len(perception.__dict__[i]))\n",
    "print(f\"Cantidad total de datos para {max(num_exec)} secuencias con 1 paso por ejecucion: {data}\")\n",
    "print(f\"Datos por ejecucion: {data//max(num_exec)}\")"
   ]
  },
  {
   "cell_type": "code",
   "execution_count": null,
   "metadata": {},
   "outputs": [],
   "source": [
    "data = 0\n",
    "for i in perception.__dict__.keys():\n",
    "    #print(i)\n",
    "    for k in perception.__dict__[i]:\n",
    "        #print(k)\n",
    "        #print(\"\")\n",
    "        data = data + len(k)\n",
    "print(data)"
   ]
  },
  {
   "cell_type": "markdown",
   "metadata": {},
   "source": [
    "##### Pruebas con la funcion de exportar"
   ]
  },
  {
   "cell_type": "code",
   "execution_count": null,
   "metadata": {},
   "outputs": [],
   "source": [
    "sim_obj.file = open(os.getcwd() + r'\\test.txt', 'wb')\n",
    "pickle.dump(perception, sim_obj.file)\n",
    "sim_obj.file.close()\n",
    "for i in perception.__dict__.keys():\n",
    "    print(i)\n",
    "    for k in perception.__dict__[i]:\n",
    "        print(k)\n",
    "        print(\"\")"
   ]
  },
  {
   "cell_type": "markdown",
   "metadata": {},
   "source": [
    "##### Pruebas para la carga de datos"
   ]
  },
  {
   "cell_type": "code",
   "execution_count": null,
   "metadata": {},
   "outputs": [],
   "source": [
    "load_file = open(os.getcwd() + r'\\test.txt', 'rb')\n",
    "pickled_prception_class = pickle.load(load_file)\n",
    "load_file.close()\n",
    "for i in pickled_prception_class.__dict__.keys():\n",
    "    print(i)\n",
    "    for k in pickled_prception_class.__dict__[i]:\n",
    "        print(k)\n",
    "        print(\"\")"
   ]
  },
  {
   "cell_type": "code",
   "execution_count": null,
   "metadata": {},
   "outputs": [],
   "source": [
    "if perception.__dict__ == pickled_prception_class.__dict__:\n",
    "    print(\"Se conserva el mismo objeto\")\n",
    "else:\n",
    "    print(\"No se conserva el mismo objeto\")"
   ]
  },
  {
   "cell_type": "markdown",
   "metadata": {},
   "source": [
    "##### Pruebas finales con el main"
   ]
  },
  {
   "cell_type": "code",
   "execution_count": 18,
   "metadata": {},
   "outputs": [
    {
     "name": "stdout",
     "output_type": "stream",
     "text": [
      "Numero de secuencias:  1\n",
      "Steps por secuencia:  2\n"
     ]
    }
   ],
   "source": [
    "sim_obj.sequencies = 1\n",
    "print(\"Numero de secuencias: \",sim_obj.sequencies)\n",
    "sim_obj.seq_steps = 2\n",
    "print(\"Steps por secuencia: \",sim_obj.seq_steps)\n",
    "sim_obj.training_data = []"
   ]
  },
  {
   "cell_type": "code",
   "execution_count": 19,
   "metadata": {},
   "outputs": [],
   "source": [
    "#Main function for multiple executions and multiple steps\n",
    "def main():\n",
    "    print(\"main function\")\n",
    "    for k in range(sim_obj.sequencies):\n",
    "        print(f\"{k} sequence has started\")\n",
    "        print(\"\")\n",
    "        load_quad_class()\n",
    "        init_position()\n",
    "        for j in range(sim_obj.seq_steps):\n",
    "            perception = perceptions()\n",
    "            perception.sequence = k\n",
    "            perception.step = j         \n",
    "            print(\"----------- Secuencia: \", perception.sequence)\n",
    "            print(\"----------- Paso: \", perception.step)\n",
    "\n",
    "            print(\"Prev pos:\")\n",
    "            print(perception.prev_j_positions)\n",
    "            print(\"Post pos:\")\n",
    "            print(perception.post_j_positions)\n",
    "\n",
    "            rand_gen()\n",
    "            get_joints_preceptions()\n",
    "\n",
    "            print(\"Prev pos:\")\n",
    "            print(perception.prev_j_positions)\n",
    "            print(\"Post pos:\")\n",
    "            print(perception.post_j_positions)\n",
    "\n",
    "            #Execute every joint action\n",
    "            print(\"Executing actions\")\n",
    "            move_joints()\n",
    "            sim_obj.executed = True\n",
    "            get_joints_preceptions()\n",
    "\n",
    "            print(\"Prev pos:\")\n",
    "            print(perception.prev_j_positions)\n",
    "            print(\"Post pos:\")\n",
    "            print(perception.post_j_positions)\n",
    "\n",
    "            sim_obj.executed = False\n",
    "            print(\"\")\n",
    "            sim_obj.training_data.append(vars(perception))\n",
    "        print(f\"{k} simulation has finished\")\n",
    "        print(\"\")\n",
    "        sim_obj.sim.stopSimulation()\n",
    "    #export()"
   ]
  },
  {
   "cell_type": "code",
   "execution_count": 20,
   "metadata": {},
   "outputs": [],
   "source": [
    "#Main function for multiple executions and multiple steps\n",
    "def main():\n",
    "    print(\"main function\")\n",
    "    for k in range(sim_obj.sequencies):\n",
    "        print(f\"{k} sequence has started\")\n",
    "        print(\"\")\n",
    "        load_quad_class()\n",
    "        init_position()\n",
    "        for j in range(sim_obj.seq_steps):\n",
    "            perception = perceptions()\n",
    "            perception.sequence = k\n",
    "            perception.step = j         \n",
    "            print(\"----------- Secuencia: \", perception.sequence)\n",
    "            print(\"----------- Paso: \", perception.step)\n",
    "\n",
    "            rand_gen()\n",
    "            print(perception.increments)\n",
    "            \n",
    "            get_joints_preceptions()\n",
    "\n",
    "            #Execute every joint action\n",
    "            print(\"Executing actions\")\n",
    "            move_joints()\n",
    "            sim_obj.executed = True\n",
    "            get_joints_preceptions()\n",
    "\n",
    "            sim_obj.executed = False\n",
    "            print(\"\")\n",
    "            sim_obj.training_data.append(vars(perception))\n",
    "        print(f\"{k} simulation has finished\")\n",
    "        print(\"\")\n",
    "        sim_obj.sim.stopSimulation()\n",
    "    #export()"
   ]
  },
  {
   "cell_type": "code",
   "execution_count": 21,
   "metadata": {},
   "outputs": [
    {
     "name": "stdout",
     "output_type": "stream",
     "text": [
      "main function\n",
      "0 sequence has started\n",
      "\n",
      "----------- Secuencia:  0\n",
      "----------- Paso:  0\n",
      "[]\n",
      "Prev pos:\n",
      "[0.0, 1.5707963705062866, 0.0, 1.5707963705062866, 0.0, 1.5707963705062866, 0.0, 1.5707963705062866]\n",
      "Post pos:\n",
      "[]\n",
      "Executing actions\n",
      "Prev pos:\n",
      "[0.0, 1.5707963705062866, 0.0, 1.5707963705062866, 0.0, 1.5707963705062866, 0.0, 1.5707963705062866]\n",
      "Post pos:\n",
      "[0.10565853118896484, 1.5190327167510986, 0.10278606414794922, 1.5068953037261963, 0.11846399307250977, 1.5712177753448486, 0.17083263397216797, 1.470790147781372]\n",
      "\n",
      "----------- Secuencia:  0\n",
      "----------- Paso:  1\n",
      "[]\n",
      "Prev pos:\n",
      "[0.0, 1.5707963705062866, 0.0, 1.5707963705062866, 0.0, 1.5707963705062866, 0.0, 1.5707963705062866, 0.10565853118896484, 1.5190327167510986, 0.10278606414794922, 1.5068953037261963, 0.11846399307250977, 1.5712177753448486, 0.17083263397216797, 1.470790147781372]\n",
      "Post pos:\n",
      "[0.10565853118896484, 1.5190327167510986, 0.10278606414794922, 1.5068953037261963, 0.11846399307250977, 1.5712177753448486, 0.17083263397216797, 1.470790147781372]\n",
      "Executing actions\n",
      "Prev pos:\n",
      "[0.0, 1.5707963705062866, 0.0, 1.5707963705062866, 0.0, 1.5707963705062866, 0.0, 1.5707963705062866, 0.10565853118896484, 1.5190327167510986, 0.10278606414794922, 1.5068953037261963, 0.11846399307250977, 1.5712177753448486, 0.17083263397216797, 1.470790147781372]\n",
      "Post pos:\n",
      "[0.10565853118896484, 1.5190327167510986, 0.10278606414794922, 1.5068953037261963, 0.11846399307250977, 1.5712177753448486, 0.17083263397216797, 1.470790147781372, 0.10354185104370117, 1.5152103900909424, 0.10222864151000977, 1.500586748123169, 0.11873722076416016, 1.5718967914581299, 0.1717815399169922, 1.4855730533599854]\n",
      "\n",
      "0 simulation has finished\n",
      "\n"
     ]
    }
   ],
   "source": [
    "main()"
   ]
  },
  {
   "cell_type": "code",
   "execution_count": 47,
   "metadata": {},
   "outputs": [
    {
     "name": "stdout",
     "output_type": "stream",
     "text": [
      "{'sequence': 0, 'step': 3, 'prev_j_positions': [[0.0, 1.5707963705062866, 0.0, 1.5707963705062866, 0.0, 1.5707963705062866, 0.0, 1.5707963705062866], [0.052616119384765625, 1.5710804462432861, -0.04914212226867676, 1.5458719730377197, 0.01596546173095703, 1.571061372756958, -0.1575155258178711, 1.4558956623077393], [0.2106032371520996, 1.575495958328247, 0.03318452835083008, 1.5728065967559814, 0.1497354507446289, 1.570695161819458, -0.022651195526123047, 1.3736040592193604], [0.2549872398376465, 1.582979440689087, -0.02968311309814453, 1.5711500644683838, 0.1573786735534668, 1.5549852848052979, -0.05574798583984375, 1.4688255786895752]], 'prev_j_velocities': [[0.0, 0.0, 0.0, 0.0, 0.0, 0.0, 0.0, 0.0], [-0.02536776103079319, -0.05722051486372948, 0.009250649251043797, 0.07877357304096222, 0.05531316250562668, -0.23212455213069916, -0.0966549813747406, 0.46062514185905457], [0.08029945194721222, 0.16021743416786194, -0.0638008713722229, 0.3374103009700775, 0.031089812517166138, -0.20446796715259552, 0.0263691209256649, 0.139808788895607], [0.268173485994339, 2.6256587505340576, -0.04191402718424797, 0.23937247693538666, -0.013732923194766045, -0.02956393174827099, 0.286484032869339, 0.40321388840675354]], 'prev_j_forces': [[None, None, None, None, None, None, None, None], [-0.23198144137859344, 1.3798407316207886, 0.13373026251792908, 0.322653591632843, -0.005040005315095186, 1.3521662950515747, -0.0023219839204102755, 0.6327728629112244], [-0.03976958245038986, 1.5047262907028198, 0.08612123131752014, 1.3022035360336304, 0.006742576602846384, 1.342475175857544, -0.17242009937763214, 0.4452124238014221], [-0.3026624619960785, 0.8721084594726562, 0.248787522315979, 0.8534151315689087, 0.0001659594418015331, 0.004653088748455048, 0.1578044444322586, -0.14920391142368317]], 'prev_base_pos_x': [-2.9802322387695312e-08, -0.007459671702235937, -0.010813804343342781, -0.01278482936322689], 'prev_base_pos_y': [2.2351741790771484e-07, -0.004782442934811115, -0.015523597598075867, -0.008174833841621876], 'prev_base_pos_z': [0.1183999702334404, 0.11888892948627472, 0.11904638260602951, 0.11842763423919678], 'prev_base_ori_alpha': [-0.0, 0.0027300941292196512, 0.004448581021279097, 0.0033460769336670637], 'prev_base_ori_beta': [0.0, 0.00598700437694788, 0.004504922311753035, 0.0028391703963279724], 'prev_base_ori_gamma': [-0.0, 0.01579570770263672, -0.04305875301361084, -0.04593206197023392], 'prev_base_accel': [[0, 0, 0], [0, 0, 0], [0, 0, 0], [0, 0, 0]], 'post_j_positions': [[0.052616119384765625, 1.5710804462432861, -0.04914212226867676, 1.5458719730377197, 0.01596546173095703, 1.571061372756958, -0.1575155258178711, 1.4558956623077393], [0.2106032371520996, 1.575495958328247, 0.03318452835083008, 1.5728065967559814, 0.1497354507446289, 1.570695161819458, -0.022651195526123047, 1.3736040592193604], [0.2549872398376465, 1.582979440689087, -0.02968311309814453, 1.5711500644683838, 0.1573786735534668, 1.5549852848052979, -0.05574798583984375, 1.4688255786895752], [0.1874232292175293, 1.495398759841919, -0.09390473365783691, 1.48744797706604, 0.043018341064453125, 1.480506181716919, 0.11045455932617188, 1.407883882522583]], 'post_j_velocities': [[-0.02536776103079319, -0.05722051486372948, 0.009250649251043797, 0.07877357304096222, 0.05531316250562668, -0.23212455213069916, -0.0966549813747406, 0.46062514185905457], [0.08029945194721222, 0.16021743416786194, -0.0638008713722229, 0.3374103009700775, 0.031089812517166138, -0.20446796715259552, 0.0263691209256649, 0.139808788895607], [0.268173485994339, 2.6256587505340576, -0.04191402718424797, 0.23937247693538666, -0.013732923194766045, -0.02956393174827099, 0.286484032869339, 0.40321388840675354], [0.04348758980631828, 1.0997782945632935, -0.06489759683609009, -0.12168896198272705, -0.14791502058506012, -0.2899172604084015, 0.24547600746154785, 0.28133419156074524]], 'post_j_forces': [[-0.23198144137859344, 1.3798407316207886, 0.13373026251792908, 0.322653591632843, -0.005040005315095186, 1.3521662950515747, -0.0023219839204102755, 0.6327728629112244], [-0.03976958245038986, 1.5047262907028198, 0.08612123131752014, 1.3022035360336304, 0.006742576602846384, 1.342475175857544, -0.17242009937763214, 0.4452124238014221], [-0.3026624619960785, 0.8721084594726562, 0.248787522315979, 0.8534151315689087, 0.0001659594418015331, 0.004653088748455048, 0.1578044444322586, -0.14920391142368317], [0.02984865941107273, 0.7537205815315247, 0.07495509833097458, 0.22450308501720428, 0.11190269887447357, 0.29846352338790894, -0.16578663885593414, 0.6363098621368408]], 'post_base_pos_x': [-0.007459671702235937, -0.010813804343342781, -0.01278482936322689, -0.006323065143078566], 'post_base_pos_y': [-0.004782442934811115, -0.015523597598075867, -0.008174833841621876, -0.006130558904260397], 'post_base_pos_z': [0.11888892948627472, 0.11904638260602951, 0.11842763423919678, 0.12009700387716293], 'post_base_ori_alpha': [0.0027300941292196512, 0.004448581021279097, 0.0033460769336670637, 0.0021870213095098734], 'post_base_ori_beta': [0.00598700437694788, 0.004504922311753035, 0.0028391703963279724, 0.002863310044631362], 'post_base_ori_gamma': [0.01579570770263672, -0.04305875301361084, -0.04593206197023392, -0.0633603110909462], 'post_base_accel': [[0, 0, 0], [0, 0, 0], [0, 0, 0], [0, 0, 0]]}\n"
     ]
    }
   ],
   "source": [
    "print(vars(perception))"
   ]
  },
  {
   "cell_type": "markdown",
   "metadata": {},
   "source": [
    "##### Pruebas con pandas"
   ]
  }
 ],
 "metadata": {
  "kernelspec": {
   "display_name": "EMERGE_Py311",
   "language": "python",
   "name": "python3"
  },
  "language_info": {
   "codemirror_mode": {
    "name": "ipython",
    "version": 3
   },
   "file_extension": ".py",
   "mimetype": "text/x-python",
   "name": "python",
   "nbconvert_exporter": "python",
   "pygments_lexer": "ipython3",
   "version": "3.11.5"
  },
  "orig_nbformat": 4
 },
 "nbformat": 4,
 "nbformat_minor": 2
}
