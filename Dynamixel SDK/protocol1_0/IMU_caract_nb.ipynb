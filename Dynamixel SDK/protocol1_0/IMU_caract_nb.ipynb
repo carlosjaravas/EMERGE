{
 "cells": [
  {
   "cell_type": "code",
   "execution_count": 1,
   "metadata": {},
   "outputs": [],
   "source": [
    "import os, math, serial, time, emerge_classes, csv\n",
    "from dynamixel_sdk import *                    # Uses Dynamixel SDK library\n",
    "from joint_handler import *\n",
    "from zmqRemoteApi import RemoteAPIClient\n",
    "\n",
    "from random import randint as ri\n",
    "from random import uniform as ru\n",
    "\n",
    "first = True"
   ]
  },
  {
   "cell_type": "code",
   "execution_count": 2,
   "metadata": {},
   "outputs": [],
   "source": [
    "isSim = False\n",
    "if isSim:\n",
    "    cluster = False\n",
    "    setup = Sim_setup(cluster)\n",
    "    client = RemoteAPIClient('localhost', setup.port_conection)\n",
    "    sim = client.getObject('sim')\n",
    "    jointHandler = JointHandler(isSim, client, sim)\n",
    "else:\n",
    "    setup = EMERGE_setup()\n",
    "    portHandler = PortHandler(setup.DEVICENAME)\n",
    "    packetHandler = PacketHandler(setup.PROTOCOL_VERSION)\n",
    "    jointHandler = JointHandler(isSim, portHandler, packetHandler)"
   ]
  },
  {
   "cell_type": "code",
   "execution_count": 27,
   "metadata": {},
   "outputs": [],
   "source": [
    "class SensorHandler:\n",
    "    def __init__(self, arduino_baud = 250000, arduino_port = 'COM6'):\n",
    "        self.port = arduino_port\n",
    "        self.baudrate = arduino_baud\n",
    "        self.arduino = 0\n",
    "        self.IR_command = 'IR'\n",
    "        self.IMUg_command = 'Gyro'\n",
    "\n",
    "    def connectArduino(self):\n",
    "        self.arduino = serial.Serial(self.port, self.baudrate, timeout=1)\n",
    "    \n",
    "    def disconnectArduino(self):\n",
    "        self.arduino.close()\n",
    "    \n",
    "    def getDistance_test(self):\n",
    "        self.arduino.write(self.IR_command.encode())\n",
    "        rdistance = self.arduino.readline().decode().strip()\n",
    "        if rdistance == '':\n",
    "            print(rdistance)\n",
    "            rdistance = self.arduino.readline().decode().strip()\n",
    "            if rdistance == '':\n",
    "                print(\"Distancia invalida\")\n",
    "                return 0\n",
    "        if rdistance != '':\n",
    "            rdistance = float(rdistance)\n",
    "            print(rdistance)\n",
    "            if rdistance > 20.00 and rdistance < 160.00:\n",
    "                return rdistance\n",
    "            else:\n",
    "                print(\"Distancia invalida\")\n",
    "                return 0\n",
    "            \n",
    "    def getDistance(self):\n",
    "        self.arduino.write(self.IR_command.encode())\n",
    "        rdistance = self.arduino.readline().decode().strip()\n",
    "        if rdistance == '':\n",
    "            rdistance = self.arduino.readline().decode().strip()\n",
    "            if rdistance == '':\n",
    "                print(\"Distancia invalida\")\n",
    "                return 0\n",
    "        if rdistance != '':\n",
    "            rdistance = float(rdistance)\n",
    "            if rdistance > 15.00 and rdistance < 155.00:\n",
    "                return rdistance\n",
    "            else:\n",
    "                print(\"Distancia invalida\")\n",
    "                return 0\n",
    "    \n",
    "    def getDPS(self):\n",
    "        self.arduino.write(self.IMUg_command.encode())\n",
    "        rDPS = self.arduino.readline().decode().strip()\n",
    "        if rDPS == '':\n",
    "            rDPS = self.arduino.readline().decode().strip()\n",
    "        dps = rDPS.split(\",\")\n",
    "        xdps = float(dps[0])\n",
    "        ydps = float(dps[1])\n",
    "        zdps = float(dps[2])\n",
    "        return xdps,ydps,zdps\n",
    "        #return rDPS\n",
    "\n",
    "def dps2AX(dps):\n",
    "    AX_speed = dps/0.666\n",
    "    return round(AX_speed)\n",
    "\n",
    "def AX2dps(AX_speed):\n",
    "    dps = AX_speed*0.666\n",
    "    return dps\n",
    "\n",
    "def dps2secs(dps, dist = 180): # Usign 180 as the defeault distance for the caracterization to be able to capture the velocity at the right moment\n",
    "    time_secs = dist/dps\n",
    "    return time_secs"
   ]
  },
  {
   "cell_type": "code",
   "execution_count": 40,
   "metadata": {},
   "outputs": [
    {
     "name": "stdout",
     "output_type": "stream",
     "text": [
      "Succeeded to open the port\n",
      "Succeeded to change the baudrate\n",
      "[ID:012] ping Succeeded.\n"
     ]
    }
   ],
   "source": [
    "jointHandler.loadEMERGE()"
   ]
  },
  {
   "cell_type": "code",
   "execution_count": 50,
   "metadata": {},
   "outputs": [],
   "source": [
    "jointHandler.unloadEMERGE()"
   ]
  },
  {
   "cell_type": "code",
   "execution_count": 67,
   "metadata": {},
   "outputs": [],
   "source": [
    "sensorHandler = SensorHandler(250000)\n",
    "sensorHandler.connectArduino()"
   ]
  },
  {
   "cell_type": "code",
   "execution_count": 71,
   "metadata": {},
   "outputs": [],
   "source": [
    "sensorHandler.disconnectArduino()"
   ]
  },
  {
   "cell_type": "code",
   "execution_count": 13,
   "metadata": {},
   "outputs": [],
   "source": [
    "def dps2AX(dps):\n",
    "    AX_speed = dps/0.666\n",
    "    return round(AX_speed)\n",
    "\n",
    "def AX2dps(AX_speed):\n",
    "    dps = AX_speed*0.666\n",
    "    return dps\n",
    "\n",
    "def dps2secs(dps, dist = 180): # Usign 180 as the defeault distance for the caracterization to be able to capture the velocity at the right moment\n",
    "    time_secs = dist/dps\n",
    "    return time_secs"
   ]
  },
  {
   "cell_type": "code",
   "execution_count": 68,
   "metadata": {},
   "outputs": [
    {
     "name": "stdout",
     "output_type": "stream",
     "text": [
      "Distancia invalida\n"
     ]
    },
    {
     "data": {
      "text/plain": [
       "0"
      ]
     },
     "execution_count": 68,
     "metadata": {},
     "output_type": "execute_result"
    }
   ],
   "source": [
    "sensorHandler.getDistance()"
   ]
  },
  {
   "cell_type": "code",
   "execution_count": 70,
   "metadata": {},
   "outputs": [
    {
     "data": {
      "text/plain": [
       "(0.82, 1.02, -0.2)"
      ]
     },
     "execution_count": 70,
     "metadata": {},
     "output_type": "execute_result"
    }
   ],
   "source": [
    "sensorHandler.getDPS()"
   ]
  },
  {
   "cell_type": "markdown",
   "metadata": {},
   "source": [
    "### Pruebas"
   ]
  },
  {
   "cell_type": "code",
   "execution_count": 8,
   "metadata": {},
   "outputs": [
    {
     "data": {
      "text/plain": [
       "75"
      ]
     },
     "execution_count": 8,
     "metadata": {},
     "output_type": "execute_result"
    }
   ],
   "source": [
    "i = 1\n",
    "dps2AX(50)"
   ]
  },
  {
   "cell_type": "code",
   "execution_count": 9,
   "metadata": {},
   "outputs": [
    {
     "data": {
      "text/plain": [
       "0.017453292519943295"
      ]
     },
     "execution_count": 9,
     "metadata": {},
     "output_type": "execute_result"
    }
   ],
   "source": [
    "jointHandler.exact_rad"
   ]
  },
  {
   "cell_type": "code",
   "execution_count": 10,
   "metadata": {},
   "outputs": [
    {
     "data": {
      "text/plain": [
       "-0.010226538585904166"
      ]
     },
     "execution_count": 10,
     "metadata": {},
     "output_type": "execute_result"
    }
   ],
   "source": [
    "jointHandler.getJointPosition(12)"
   ]
  },
  {
   "cell_type": "markdown",
   "metadata": {},
   "source": [
    "En esta linea se define la funcion que se va a utilizar para caracterizar la IMU, la velocidad se puede escribir y luego se usa la funcion de moverse sin perfil de velocidad, por lo que se hace con velocidad constante entonces se mueve de -pi/2 a pi/2 en un tiempo t a velocidad constante. Se va a comparar la velocidad leida por la IMU con la leida del servo. \n",
    "El probema es que el movimiento se realiza muy rapido por lo que la medicion de velocidad no se hace siempre en el mismo momento, entre el 30 y el 70% del movimiento. Se va a buscar hacerlo por tiempo"
   ]
  },
  {
   "cell_type": "code",
   "execution_count": 15,
   "metadata": {},
   "outputs": [
    {
     "name": "stdout",
     "output_type": "stream",
     "text": [
      "-1.5707963267948966\n",
      "105\n",
      "Diff: 3.1405699997312033\n",
      "Target: 70dps - 105AX, Present: 0AX - -68.46dps\n",
      "Diff: 2.0207640245746847\n",
      "Target: 70dps - 105AX, Present: -104AX - -66.16dps\n",
      "Diff: 0.8702784336604539\n",
      "Target: 70dps - 105AX, Present: -104AX - 2.5dps\n"
     ]
    }
   ],
   "source": [
    "i = -i\n",
    "target_position = i*math.pi/2\n",
    "print(target_position)\n",
    "velocity = 70 # dps\n",
    "target_vel = dps2AX(velocity)\n",
    "print(target_vel)\n",
    "jointHandler.setJointTargetVelocity(12,target_vel)\n",
    "jointHandler.setJointAngularPosition(12,target_position)\n",
    "#time.sleep(0.7)\n",
    "pos = jointHandler.getJointPosition(12)\n",
    "dist = abs(target_position - pos)\n",
    "diff = dist\n",
    "while diff > 2*jointHandler.exact_rad:\n",
    "    print(\"Diff:\", diff)\n",
    "    AX_speed = jointHandler.getJointVelocity(12)\n",
    "    dps = AX2dps(jointHandler.getJointVelocity(12))\n",
    "    gyro = sensorHandler.getDPS()\n",
    "    print(f\"Target: {velocity}dps - {target_vel}AX, Present: {AX_speed}AX - {gyro[0]}dps\")\n",
    "    act_pos = jointHandler.getJointPosition(12)\n",
    "    diff = abs(target_position - act_pos)"
   ]
  },
  {
   "cell_type": "markdown",
   "metadata": {},
   "source": [
    "Necesito definir un lapso para medir la velocidad, deberia hacerlo en medio movimiento"
   ]
  },
  {
   "cell_type": "markdown",
   "metadata": {},
   "source": [
    "Para un movimiento de 180 grados se debe calcular el tiempo que toma el motor en realizarlo dependiendo de la velocidad que se defina en dps"
   ]
  },
  {
   "cell_type": "markdown",
   "metadata": {},
   "source": [
    "Se calcula la velocidad en revoluciones por segundo"
   ]
  },
  {
   "cell_type": "code",
   "execution_count": 7,
   "metadata": {},
   "outputs": [],
   "source": [
    "def dps2secs(dps, dist = 180): # Usign 180 as the defeault distance for the caracterization to be able to capture the velocity at the right moment\n",
    "    time_secs = dist/dps\n",
    "    return time_secs"
   ]
  },
  {
   "cell_type": "code",
   "execution_count": 28,
   "metadata": {},
   "outputs": [
    {
     "data": {
      "text/plain": [
       "2.5714285714285716"
      ]
     },
     "execution_count": 28,
     "metadata": {},
     "output_type": "execute_result"
    }
   ],
   "source": [
    "dps2secs(70)"
   ]
  },
  {
   "cell_type": "markdown",
   "metadata": {},
   "source": [
    "Se define nuevamente la funcion para realizar las mediciones"
   ]
  },
  {
   "cell_type": "code",
   "execution_count": 30,
   "metadata": {},
   "outputs": [],
   "source": [
    "i = 1"
   ]
  },
  {
   "cell_type": "markdown",
   "metadata": {},
   "source": [
    "Baudrate 250 000 // i2C Arduino 400 000"
   ]
  },
  {
   "cell_type": "code",
   "execution_count": null,
   "metadata": {},
   "outputs": [],
   "source": [
    "#sensorHandler = SensorHandler(250000)\n",
    "#sensorHandler.connectArduino()"
   ]
  },
  {
   "cell_type": "code",
   "execution_count": 17,
   "metadata": {},
   "outputs": [
    {
     "data": {
      "text/plain": [
       "(0.56, 0.83, -0.21)"
      ]
     },
     "execution_count": 17,
     "metadata": {},
     "output_type": "execute_result"
    }
   ],
   "source": [
    "sensorHandler.getDPS()"
   ]
  },
  {
   "cell_type": "code",
   "execution_count": 44,
   "metadata": {},
   "outputs": [
    {
     "name": "stdout",
     "output_type": "stream",
     "text": [
      "100\n",
      "Target vel: 100dps = 150AX\n",
      "Present vel: -152AX = -97.56dps\n",
      "Target: -90.0, captured @ -50.09765625000001 deg, started @ 89.94140625000004\n"
     ]
    }
   ],
   "source": [
    "i = -i\n",
    "target_position = i*math.pi/2\n",
    "pres_pos = jointHandler.getJointPosition(12)\n",
    "velocity = 100 # dps\n",
    "target_vel = dps2AX(velocity)\n",
    "print(velocity)\n",
    "jointHandler.setJointTargetVelocity(12,target_vel)\n",
    "jointHandler.setJointAngularPosition(12,target_position)\n",
    "mov_time = dps2secs(velocity)\n",
    "capt_time = 0.3 * mov_time # To capture the velocity after 30% of the movement\n",
    "time.sleep(capt_time)\n",
    "gyro = sensorHandler.getDPS()\n",
    "AX_speed = jointHandler.getJointVelocity(12)\n",
    "dps = AX2dps(AX_speed)\n",
    "pos = jointHandler.getJointPosition(12)\n",
    "print(f\"Target vel: {velocity}dps = {target_vel}AX\") \n",
    "print(f\"Present vel: {AX_speed}AX = {gyro[2]}dps\")\n",
    "print(f\"Target: {target_position*180/math.pi}, captured @ {pos*180/math.pi} deg, started @ {pres_pos*180/math.pi}\")\n"
   ]
  },
  {
   "cell_type": "markdown",
   "metadata": {},
   "source": [
    "Baudrate 100 000\n",
    "//\n",
    "i2C Arduino 100 000"
   ]
  },
  {
   "cell_type": "code",
   "execution_count": null,
   "metadata": {},
   "outputs": [],
   "source": [
    "#sensorHandler = SensorHandler(100000)\n",
    "#sensorHandler.connectArduino()"
   ]
  },
  {
   "cell_type": "code",
   "execution_count": 337,
   "metadata": {},
   "outputs": [
    {
     "name": "stdout",
     "output_type": "stream",
     "text": [
      "250\n",
      "Target vel: 250dps = 375AX\n",
      "Present vel: 136AX = 0.34dps\n",
      "Target: 90.0, captured @ 89.35546874999999 deg, started @ -90.234375\n"
     ]
    }
   ],
   "source": [
    "i = -i\n",
    "target_position = i*math.pi/2\n",
    "pres_pos = jointHandler.getJointPosition(12)\n",
    "velocity = 250 # dps\n",
    "target_vel = dps2AX(velocity)\n",
    "print(velocity)\n",
    "jointHandler.setJointTargetVelocity(12,target_vel)\n",
    "jointHandler.setJointAngularPosition(12,target_position)\n",
    "mov_time = dps2secs(velocity)\n",
    "capt_time = 0.1 * mov_time # To capture the velocity after 30% of the movement\n",
    "#time.sleep(capt_time)\n",
    "gyro = sensorHandler.getDPS()\n",
    "AX_speed = jointHandler.getJointVelocity(12)\n",
    "dps = AX2dps(AX_speed)\n",
    "pos = jointHandler.getJointPosition(12)\n",
    "print(f\"Target vel: {velocity}dps = {target_vel}AX\") \n",
    "print(f\"Present vel: {AX_speed}AX = {gyro[0]}dps\")\n",
    "print(f\"Target: {target_position*180/math.pi}, captured @ {pos*180/math.pi} deg, started @ {pres_pos*180/math.pi}\")"
   ]
  },
  {
   "cell_type": "markdown",
   "metadata": {},
   "source": [
    "Baudrate 100 000\n",
    "//\n",
    "i2C Arduino 400 000"
   ]
  },
  {
   "cell_type": "code",
   "execution_count": 83,
   "metadata": {},
   "outputs": [],
   "source": [
    "#sensorHandler = SensorHandler(100000)\n",
    "#sensorHandler.connectArduino()"
   ]
  },
  {
   "cell_type": "code",
   "execution_count": 84,
   "metadata": {},
   "outputs": [
    {
     "name": "stdout",
     "output_type": "stream",
     "text": [
      "250\n",
      "Target vel: 250dps = 375AX\n",
      "Present vel: 8AX = -6.37dps\n",
      "Target: 90.0, captured @ 89.35546874999999 deg, started @ -90.234375\n"
     ]
    }
   ],
   "source": [
    "i = -i\n",
    "target_position = i*math.pi/2\n",
    "pres_pos = jointHandler.getJointPosition(12)\n",
    "velocity = 250 # dps\n",
    "target_vel = dps2AX(velocity)\n",
    "print(velocity)\n",
    "jointHandler.setJointTargetVelocity(12,target_vel)\n",
    "jointHandler.setJointAngularPosition(12,target_position)\n",
    "mov_time = dps2secs(velocity)\n",
    "capt_time = 0.1 * mov_time # To capture the velocity after 30% of the movement\n",
    "#time.sleep(capt_time)\n",
    "gyro = sensorHandler.getDPS()\n",
    "AX_speed = jointHandler.getJointVelocity(12)\n",
    "dps = AX2dps(AX_speed)\n",
    "pos = jointHandler.getJointPosition(12)\n",
    "print(f\"Target vel: {velocity}dps = {target_vel}AX\") \n",
    "print(f\"Present vel: {AX_speed}AX = {gyro[0]}dps\")\n",
    "print(f\"Target: {target_position*180/math.pi}, captured @ {pos*180/math.pi} deg, started @ {pres_pos*180/math.pi}\")"
   ]
  },
  {
   "cell_type": "markdown",
   "metadata": {},
   "source": [
    "Parece que no es cuestion de la velocidad de comunicacion sino mas del procesamiento de datos del Ardunio (?) De igual forma se utilizara todo a la mayor velocidad serial a 100 000 e i2c a 400 000"
   ]
  },
  {
   "cell_type": "code",
   "execution_count": 88,
   "metadata": {},
   "outputs": [
    {
     "name": "stdout",
     "output_type": "stream",
     "text": [
      "250\n",
      "Target vel: 250dps = 375AX\n",
      "Present vel: -8AX = -0.82dps\n",
      "Target: -90.0, captured @ -90.234375 deg, started @ 89.35546874999999\n"
     ]
    }
   ],
   "source": [
    "i = -i\n",
    "target_position = i*math.pi/2\n",
    "pres_pos = jointHandler.getJointPosition(12)\n",
    "velocity = 250 # dps\n",
    "target_vel = dps2AX(velocity)\n",
    "print(velocity)\n",
    "jointHandler.setJointTargetVelocity(12,target_vel)\n",
    "jointHandler.setJointAngularPosition(12,target_position)\n",
    "mov_time = dps2secs(velocity)\n",
    "capt_time = 0.1 * mov_time # To capture the velocity after 30% of the movement\n",
    "#time.sleep(capt_time)\n",
    "gyro = sensorHandler.getDPS()\n",
    "AX_speed = jointHandler.getJointVelocity(12)\n",
    "dps = AX2dps(AX_speed)\n",
    "pos = jointHandler.getJointPosition(12)\n",
    "print(f\"Target vel: {velocity}dps = {target_vel}AX\") \n",
    "print(f\"Present vel: {AX_speed}AX = {gyro[0]}dps\")\n",
    "print(f\"Target: {target_position*180/math.pi}, captured @ {pos*180/math.pi} deg, started @ {pres_pos*180/math.pi}\")"
   ]
  },
  {
   "cell_type": "markdown",
   "metadata": {},
   "source": [
    "Se va a probar con el maximo rango de movimiento permitido por el motor (300 grados)"
   ]
  },
  {
   "cell_type": "markdown",
   "metadata": {},
   "source": [
    "Se cambian las posiciones máximas nuevamente a 0 y 300 grados del motor (0-1023), en terminos del modelo seria 150 a -150, pero por el conector que se usa para la IMU solo se puede de -110 a 110"
   ]
  },
  {
   "cell_type": "code",
   "execution_count": 16,
   "metadata": {},
   "outputs": [
    {
     "name": "stdout",
     "output_type": "stream",
     "text": [
      "0 1023\n"
     ]
    }
   ],
   "source": [
    "print(jointHandler.joint_min_position, jointHandler.joint_max_position)\n",
    "jointHandler.joint_min_position = 0\n",
    "jointHandler.joint_max_position = 1023\n",
    "jointHandler.setJointMaxTargetPosition(12)\n",
    "jointHandler.setJointMinTargetPosition(12)"
   ]
  },
  {
   "cell_type": "code",
   "execution_count": 342,
   "metadata": {},
   "outputs": [],
   "source": [
    "deg_targ = 10\n",
    "target_position = deg_targ*math.pi/180\n",
    "jointHandler.setJointAngularPosition(12,-math.pi/2)"
   ]
  },
  {
   "cell_type": "code",
   "execution_count": 42,
   "metadata": {},
   "outputs": [
    {
     "name": "stdout",
     "output_type": "stream",
     "text": [
      "Succeeded to open the port\n",
      "Succeeded to change the baudrate\n",
      "[ID:012] ping Succeeded.\n"
     ]
    }
   ],
   "source": [
    "jointHandler.loadEMERGE()"
   ]
  },
  {
   "cell_type": "code",
   "execution_count": 50,
   "metadata": {},
   "outputs": [],
   "source": [
    "sensorHandler = SensorHandler(250000)\n",
    "sensorHandler.connectArduino()"
   ]
  },
  {
   "cell_type": "code",
   "execution_count": 17,
   "metadata": {},
   "outputs": [],
   "source": [
    "i = 1"
   ]
  },
  {
   "cell_type": "markdown",
   "metadata": {},
   "source": [
    "gyro a 250 dps"
   ]
  },
  {
   "cell_type": "code",
   "execution_count": 52,
   "metadata": {},
   "outputs": [
    {
     "name": "stdout",
     "output_type": "stream",
     "text": [
      "50\n",
      "Target vel: 50dps = 75AX\n",
      "Present vel: 76AX = 50.616AX dps = 44.98dps\n",
      "Target: 100.0, captured @ 0.8789062500000161 deg, started @ -100.48828125\n"
     ]
    }
   ],
   "source": [
    "i = -i\n",
    "deg_targ = 100\n",
    "target_position = i*deg_targ*math.pi/180\n",
    "pres_pos = jointHandler.getJointPosition(12)\n",
    "velocity = 50 # dps\n",
    "target_vel = dps2AX(velocity)\n",
    "print(velocity)\n",
    "jointHandler.setJointTargetVelocity(12,target_vel)\n",
    "jointHandler.setJointAngularPosition(12,target_position)\n",
    "mov_time = dps2secs(velocity, 200)\n",
    "capt_time = 0.3 * mov_time # To capture the velocity after 30% of the movement\n",
    "time.sleep(capt_time)\n",
    "gyro = sensorHandler.getDPS()\n",
    "AX_speed = jointHandler.getJointVelocity(12)\n",
    "AX_dps = AX2dps(AX_speed)\n",
    "pos = jointHandler.getJointPosition(12)\n",
    "print(f\"Target vel: {velocity}dps = {target_vel}AX\")\n",
    "print(f\"Present vel: {AX_speed}AX = {AX_dps}AX dps = {gyro[0]}dps\")\n",
    "print(f\"Target: {target_position*180/math.pi}, captured @ {pos*180/math.pi} deg, started @ {pres_pos*180/math.pi}\")"
   ]
  },
  {
   "cell_type": "code",
   "execution_count": 38,
   "metadata": {},
   "outputs": [],
   "source": [
    "sensorHandler.disconnectArduino()"
   ]
  },
  {
   "cell_type": "markdown",
   "metadata": {},
   "source": [
    "Se habilito un filtro pasabajas de la libreria"
   ]
  },
  {
   "cell_type": "code",
   "execution_count": 54,
   "metadata": {},
   "outputs": [],
   "source": [
    "sensorHandler = SensorHandler(250000)\n",
    "sensorHandler.connectArduino()\n",
    "i = 1"
   ]
  },
  {
   "cell_type": "code",
   "execution_count": 57,
   "metadata": {},
   "outputs": [
    {
     "name": "stdout",
     "output_type": "stream",
     "text": [
      "250\n",
      "Target vel: 250dps = 375AX\n",
      "Present vel: -96AX = -63.93600000000001AX dps = 44.08dps\n",
      "Target: -100.0, captured @ -100.48828125 deg, started @ 99.90234375000004\n"
     ]
    }
   ],
   "source": [
    "i = -i\n",
    "deg_targ = 100\n",
    "target_position = i*deg_targ*math.pi/180\n",
    "pres_pos = jointHandler.getJointPosition(12)\n",
    "velocity = 250 # dps\n",
    "target_vel = dps2AX(velocity)\n",
    "print(velocity)\n",
    "jointHandler.setJointTargetVelocity(12,target_vel)\n",
    "jointHandler.setJointAngularPosition(12,target_position)\n",
    "mov_time = dps2secs(velocity, 200)\n",
    "capt_time = 0.3 * mov_time # To capture the velocity after 30% of the movement\n",
    "#time.sleep(capt_time)\n",
    "gyro = sensorHandler.getDPS()\n",
    "AX_speed = jointHandler.getJointVelocity(12)\n",
    "AX_dps = AX2dps(AX_speed)\n",
    "pos = jointHandler.getJointPosition(12)\n",
    "print(f\"Target vel: {velocity}dps = {target_vel}AX\")\n",
    "print(f\"Present vel: {AX_speed}AX = {AX_dps}AX dps = {gyro[0]}dps\")\n",
    "print(f\"Target: {target_position*180/math.pi}, captured @ {pos*180/math.pi} deg, started @ {pres_pos*180/math.pi}\")"
   ]
  },
  {
   "cell_type": "code",
   "execution_count": null,
   "metadata": {},
   "outputs": [],
   "source": [
    "\"\"\"\n",
    "void loop()\n",
    "{ \n",
    "  if (myICM.dataReady()) \n",
    "  {\n",
    "    myICM.getAGMT();                   // The values are only updated when you call 'getAGMT'\n",
    "  }            \n",
    "  if (SERIAL_PORT.available() > 0) \n",
    "  {\n",
    "    String comando = SERIAL_PORT.readString();\n",
    "    if (comando == 'Gyro') \n",
    "    {\n",
    "      printScaledGyro(&myICM);      // This function takes into account the scale settings from when the measurement was made to calculate the values with units\n",
    "    }\n",
    "  }\n",
    "}\n",
    "\"\"\""
   ]
  },
  {
   "cell_type": "code",
   "execution_count": 93,
   "metadata": {},
   "outputs": [
    {
     "data": {
      "text/plain": [
       "170.496"
      ]
     },
     "execution_count": 93,
     "metadata": {},
     "output_type": "execute_result"
    }
   ],
   "source": [
    "AX2dps(256)"
   ]
  },
  {
   "cell_type": "markdown",
   "metadata": {},
   "source": [
    "### Recoleccion de datos del gyro"
   ]
  },
  {
   "cell_type": "code",
   "execution_count": 97,
   "metadata": {},
   "outputs": [
    {
     "name": "stdout",
     "output_type": "stream",
     "text": [
      "Succeeded to open the port\n",
      "Succeeded to change the baudrate\n",
      "[ID:012] ping Succeeded.\n"
     ]
    }
   ],
   "source": [
    "jointHandler.loadEMERGE()"
   ]
  },
  {
   "cell_type": "code",
   "execution_count": 169,
   "metadata": {},
   "outputs": [],
   "source": [
    "sensorHandler = SensorHandler(250000)\n",
    "sensorHandler.connectArduino()\n",
    "i = 1"
   ]
  },
  {
   "cell_type": "code",
   "execution_count": 170,
   "metadata": {},
   "outputs": [],
   "source": [
    "unfiltered = []\n",
    "unfiltered_err = []"
   ]
  },
  {
   "cell_type": "code",
   "execution_count": 152,
   "metadata": {},
   "outputs": [
    {
     "name": "stdout",
     "output_type": "stream",
     "text": [
      "175\n",
      "Target vel: 175dps = 263AX\n",
      "Present vel: -260AX = -173.16AX dps = -123.18dps\n",
      "Target: -90.0, captured @ -68.84765625 deg, started @ 89.6484375\n"
     ]
    }
   ],
   "source": [
    "i = -i\n",
    "deg_targ = 90\n",
    "target_position = i*deg_targ*math.pi/180\n",
    "pres_pos = jointHandler.getJointPosition(12)\n",
    "velocity = 175 # dps\n",
    "target_vel = dps2AX(velocity)\n",
    "print(velocity)\n",
    "jointHandler.setJointTargetVelocity(12,target_vel)\n",
    "jointHandler.setJointAngularPosition(12,target_position)\n",
    "mov_time = dps2secs(velocity)\n",
    "capt_time = 0.1 * mov_time # To capture the velocity after 30% of the movement\n",
    "#time.sleep(capt_time)\n",
    "gyro = sensorHandler.getDPS()\n",
    "AX_speed = jointHandler.getJointVelocity(12)\n",
    "AX_dps = AX2dps(AX_speed)\n",
    "pos = jointHandler.getJointPosition(12)\n",
    "print(f\"Target vel: {velocity}dps = {target_vel}AX\")\n",
    "print(f\"Present vel: {AX_speed}AX = {AX_dps}AX dps = {gyro[0]}dps\")\n",
    "print(f\"Target: {target_position*180/math.pi}, captured @ {pos*180/math.pi} deg, started @ {pres_pos*180/math.pi}\")\n",
    "unfiltered.append((AX_dps,gyro[0]))\n",
    "unfiltered_err.append(abs(AX_dps-gyro[0]))"
   ]
  },
  {
   "cell_type": "code",
   "execution_count": null,
   "metadata": {},
   "outputs": [],
   "source": [
    "unfiltered_err"
   ]
  },
  {
   "cell_type": "code",
   "execution_count": 171,
   "metadata": {},
   "outputs": [
    {
     "name": "stdout",
     "output_type": "stream",
     "text": [
      "17.82713333333334\n"
     ]
    }
   ],
   "source": [
    "for k in range(30):\n",
    "    i = -i\n",
    "    deg_targ = 90\n",
    "    target_position = i*deg_targ*math.pi/180\n",
    "    pres_pos = jointHandler.getJointPosition(12)\n",
    "    velocity = 175 # dps\n",
    "    target_vel = dps2AX(velocity)\n",
    "    #print(velocity)\n",
    "    jointHandler.setJointTargetVelocity(12,target_vel)\n",
    "    jointHandler.setJointAngularPosition(12,target_position)\n",
    "    mov_time = dps2secs(velocity)\n",
    "    capt_time = 0.1 * mov_time # To capture the velocity after 30% of the movement\n",
    "    #time.sleep(capt_time)\n",
    "    gyro = sensorHandler.getDPS()\n",
    "    AX_speed = jointHandler.getJointVelocity(12)\n",
    "    AX_dps = AX2dps(AX_speed)\n",
    "    pos = jointHandler.getJointPosition(12)\n",
    "    #print(f\"Target vel: {velocity}dps = {target_vel}AX\")\n",
    "    #print(f\"Present vel: {AX_speed}AX = {AX_dps}AX dps = {gyro[0]}dps\")\n",
    "    #print(f\"Target: {target_position*180/math.pi}, captured @ {pos*180/math.pi} deg, started @ {pres_pos*180/math.pi}\")\n",
    "    unfiltered.append((AX_dps,gyro[0]))\n",
    "    unfiltered_err.append(abs(AX_dps-gyro[0]))\n",
    "    time.sleep(0.5)\n",
    "un_mean = 0\n",
    "for err in unfiltered_err:\n",
    "    un_mean = un_mean + err\n",
    "un_mean = un_mean/len(unfiltered_err)\n",
    "print(un_mean)"
   ]
  },
  {
   "cell_type": "markdown",
   "metadata": {},
   "source": [
    "Con filtro"
   ]
  },
  {
   "cell_type": "code",
   "execution_count": 166,
   "metadata": {},
   "outputs": [],
   "source": [
    "filtered = []\n",
    "filtered_err = []"
   ]
  },
  {
   "cell_type": "code",
   "execution_count": 163,
   "metadata": {},
   "outputs": [
    {
     "name": "stdout",
     "output_type": "stream",
     "text": [
      "175\n",
      "Target vel: 175dps = 263AX\n",
      "Present vel: 260AX = 173.16AX dps = 165.98dps\n",
      "Target: 90.0, captured @ 69.43359375 deg, started @ -90.234375\n"
     ]
    }
   ],
   "source": [
    "i = -i\n",
    "deg_targ = 90\n",
    "target_position = i*deg_targ*math.pi/180\n",
    "pres_pos = jointHandler.getJointPosition(12)\n",
    "velocity = 175 # dps\n",
    "target_vel = dps2AX(velocity)\n",
    "print(velocity)\n",
    "jointHandler.setJointTargetVelocity(12,target_vel)\n",
    "jointHandler.setJointAngularPosition(12,target_position)\n",
    "mov_time = dps2secs(velocity)\n",
    "capt_time = 0.1 * mov_time # To capture the velocity after 30% of the movement\n",
    "#time.sleep(capt_time)\n",
    "gyro = sensorHandler.getDPS()\n",
    "AX_speed = jointHandler.getJointVelocity(12)\n",
    "AX_dps = AX2dps(AX_speed)\n",
    "pos = jointHandler.getJointPosition(12)\n",
    "print(f\"Target vel: {velocity}dps = {target_vel}AX\")\n",
    "print(f\"Present vel: {AX_speed}AX = {AX_dps}AX dps = {gyro[0]}dps\")\n",
    "print(f\"Target: {target_position*180/math.pi}, captured @ {pos*180/math.pi} deg, started @ {pres_pos*180/math.pi}\")\n",
    "filtered.append((AX_dps,gyro[0]))\n",
    "filtered_err.append(abs(AX_dps-gyro[0]))"
   ]
  },
  {
   "cell_type": "code",
   "execution_count": 164,
   "metadata": {},
   "outputs": [
    {
     "data": {
      "text/plain": [
       "[17.76400000000001,\n",
       " 13.147999999999996,\n",
       " 8.644000000000005,\n",
       " 0.2540000000000191,\n",
       " 7.180000000000007]"
      ]
     },
     "execution_count": 164,
     "metadata": {},
     "output_type": "execute_result"
    }
   ],
   "source": [
    "filtered_err"
   ]
  },
  {
   "cell_type": "code",
   "execution_count": 167,
   "metadata": {},
   "outputs": [
    {
     "name": "stdout",
     "output_type": "stream",
     "text": [
      "9.697600000000003\n"
     ]
    }
   ],
   "source": [
    "for k in range(30):\n",
    "    i = -i\n",
    "    deg_targ = 90\n",
    "    target_position = i*deg_targ*math.pi/180\n",
    "    pres_pos = jointHandler.getJointPosition(12)\n",
    "    velocity = 175 # dps\n",
    "    target_vel = dps2AX(velocity)\n",
    "    #print(velocity)\n",
    "    jointHandler.setJointTargetVelocity(12,target_vel)\n",
    "    jointHandler.setJointAngularPosition(12,target_position)\n",
    "    mov_time = dps2secs(velocity)\n",
    "    capt_time = 0.1 * mov_time # To capture the velocity after 30% of the movement\n",
    "    #time.sleep(capt_time)\n",
    "    gyro = sensorHandler.getDPS()\n",
    "    AX_speed = jointHandler.getJointVelocity(12)\n",
    "    AX_dps = AX2dps(AX_speed)\n",
    "    pos = jointHandler.getJointPosition(12)\n",
    "    #print(f\"Target vel: {velocity}dps = {target_vel}AX\")\n",
    "    #print(f\"Present vel: {AX_speed}AX = {AX_dps}AX dps = {gyro[0]}dps\")\n",
    "    #print(f\"Target: {target_position*180/math.pi}, captured @ {pos*180/math.pi} deg, started @ {pres_pos*180/math.pi}\")\n",
    "    filtered.append((AX_dps,gyro[0]))\n",
    "    filtered_err.append(abs(AX_dps-gyro[0]))\n",
    "    time.sleep(0.5)\n",
    "mean = 0\n",
    "for err in filtered_err:\n",
    "    mean = mean + err\n",
    "mean = mean/len(filtered_err)\n",
    "print(mean) "
   ]
  },
  {
   "cell_type": "markdown",
   "metadata": {},
   "source": [
    "### Determinar el tiempo para la medicion"
   ]
  },
  {
   "cell_type": "code",
   "execution_count": 8,
   "metadata": {},
   "outputs": [],
   "source": [
    "i=1\n",
    "velocity = 185\n",
    "jointHandler.setJointAngularPosition(12,math.pi/2)\n",
    "vels = []\n",
    "dists = []"
   ]
  },
  {
   "cell_type": "code",
   "execution_count": 248,
   "metadata": {},
   "outputs": [
    {
     "name": "stdout",
     "output_type": "stream",
     "text": [
      "Target vel: 75dps = 113AX\n",
      "Present vel: -116AX = -77.256AX dps = -67.76dps\n",
      "@ 75 with 111.6796875 deg remaining\n"
     ]
    }
   ],
   "source": [
    "if velocity >= 15:\n",
    "    i = -i\n",
    "    deg_targ = 90\n",
    "    target_position = i*deg_targ*math.pi/180\n",
    "    pres_pos = jointHandler.getJointPosition(12)\n",
    "    #velocity = 115 # dps\n",
    "    velocity = velocity-10\n",
    "    target_vel = dps2AX(velocity)\n",
    "    #print(velocity)\n",
    "    jointHandler.setJointTargetVelocity(12,target_vel)\n",
    "    jointHandler.setJointAngularPosition(12,target_position)\n",
    "    mov_time = dps2secs(velocity)\n",
    "    #capt_time = 0.1 * mov_time # To capture the velocity after 30% of the movement\n",
    "    #time.sleep(capt_time)\n",
    "    gyro = sensorHandler.getDPS()\n",
    "    AX_speed = jointHandler.getJointVelocity(12)\n",
    "    AX_dps = AX2dps(AX_speed)\n",
    "    pos = jointHandler.getJointPosition(12)\n",
    "    print(f\"Target vel: {velocity}dps = {target_vel}AX\")\n",
    "    print(f\"Present vel: {AX_speed}AX = {AX_dps}AX dps = {gyro[0]}dps\")\n",
    "    #print(f\"Target: {target_position*180/math.pi}, captured @ {pos*180/math.pi} deg, started @ {pres_pos*180/math.pi}\")\n",
    "    remain = abs(target_position-pos)*180/math.pi\n",
    "    print(f\"@ {velocity} with {remain} deg remaining\")\n",
    "    vels.append(velocity)\n",
    "    dists.append(remain)\n",
    "else: \n",
    "    print(\"Velocidad minima\")"
   ]
  },
  {
   "cell_type": "markdown",
   "metadata": {},
   "source": [
    "Para velocidades mayores a 95dps se debe realizar la captura sin ningun tiempo de espera"
   ]
  },
  {
   "cell_type": "code",
   "execution_count": 255,
   "metadata": {},
   "outputs": [],
   "source": [
    "i=1\n",
    "velocity = 95\n",
    "jointHandler.setJointAngularPosition(12,math.pi/2)\n",
    "vels = []\n",
    "dists = []"
   ]
  },
  {
   "cell_type": "code",
   "execution_count": 274,
   "metadata": {},
   "outputs": [
    {
     "name": "stdout",
     "output_type": "stream",
     "text": [
      "Target vel: 15dps = 23AX\n",
      "Present vel: -24AX = -15.984000000000002AX dps = -15.66dps\n",
      "@ 15 with 98.20312500000003 deg remaining\n"
     ]
    }
   ],
   "source": [
    "i = -i\n",
    "deg_targ = 90\n",
    "target_position = i*deg_targ*math.pi/180\n",
    "pres_pos = jointHandler.getJointPosition(12)\n",
    "velocity = 15 # dps\n",
    "target_vel = dps2AX(velocity)\n",
    "#print(velocity)\n",
    "jointHandler.setJointTargetVelocity(12,target_vel)\n",
    "jointHandler.setJointAngularPosition(12,target_position)\n",
    "mov_time = dps2secs(velocity)\n",
    "capt_time = 0.4 * mov_time # To capture the velocity after 30% of the movement\n",
    "time.sleep(capt_time)\n",
    "gyro = sensorHandler.getDPS()\n",
    "AX_speed = jointHandler.getJointVelocity(12)\n",
    "AX_dps = AX2dps(AX_speed)\n",
    "pos = jointHandler.getJointPosition(12)\n",
    "print(f\"Target vel: {velocity}dps = {target_vel}AX\")\n",
    "print(f\"Present vel: {AX_speed}AX = {AX_dps}AX dps = {gyro[0]}dps\")\n",
    "#print(f\"Target: {target_position*180/math.pi}, captured @ {pos*180/math.pi} deg, started @ {pres_pos*180/math.pi}\")\n",
    "remain = abs(target_position-pos)*180/math.pi\n",
    "print(f\"@ {velocity} with {remain} deg remaining\")"
   ]
  },
  {
   "cell_type": "code",
   "execution_count": 284,
   "metadata": {},
   "outputs": [],
   "source": [
    "gyro_velocities = []\n",
    "AX_velocities = []\n",
    "input_velocities = []\n",
    "jointHandler.setJointAngularPosition(12,-math.pi/2)"
   ]
  },
  {
   "cell_type": "markdown",
   "metadata": {},
   "source": [
    "##### Velocidad de 175 a 95"
   ]
  },
  {
   "cell_type": "code",
   "execution_count": 285,
   "metadata": {},
   "outputs": [
    {
     "name": "stdout",
     "output_type": "stream",
     "text": [
      "Running @:  175\n",
      "175 30\n",
      "Running @:  165\n",
      "165 60\n",
      "Running @:  155\n",
      "155 90\n",
      "Running @:  145\n",
      "145 120\n",
      "Running @:  135\n",
      "135 150\n",
      "Running @:  125\n",
      "125 180\n",
      "Running @:  115\n",
      "115 210\n",
      "Running @:  105\n",
      "105 240\n",
      "Running @:  95\n",
      "95 270\n"
     ]
    }
   ],
   "source": [
    "i = 1\n",
    "velocity = 175\n",
    "while velocity >= 95:\n",
    "    print(\"Running @: \",velocity)\n",
    "    target_vel = dps2AX(velocity)\n",
    "    mov_time = dps2secs(velocity)\n",
    "    #capt_time = 0.1 * mov_time # To capture the velocity after 30% of the movement\n",
    "    for k in range(30):\n",
    "        deg_targ = 90\n",
    "        target_position = i*deg_targ*math.pi/180\n",
    "        jointHandler.setJointTargetVelocity(12,target_vel)\n",
    "        jointHandler.setJointAngularPosition(12,target_position)   \n",
    "        #time.sleep(capt_time)\n",
    "        gyro = sensorHandler.getDPS()\n",
    "        AX_speed = jointHandler.getJointVelocity(12)\n",
    "        AX_dps = AX2dps(AX_speed)\n",
    "        # Store in lists\n",
    "        AX_velocities.append(abs(AX_dps))\n",
    "        input_velocities.append(abs(velocity))\n",
    "        gyro_velocities.append(abs(gyro[0]))\n",
    "        i = -i\n",
    "        time.sleep(0.5*mov_time) # Waits half of the movement time before starting again\n",
    "    velocity = velocity - 10\n",
    "    time.sleep(5)\n",
    "    print(input_velocities[-1],len(input_velocities))\n"
   ]
  },
  {
   "cell_type": "code",
   "execution_count": 292,
   "metadata": {},
   "outputs": [
    {
     "data": {
      "text/plain": [
       "270"
      ]
     },
     "execution_count": 292,
     "metadata": {},
     "output_type": "execute_result"
    }
   ],
   "source": [
    "temp_gyro_velocities = gyro_velocities[:270]\n",
    "temp_AX_velocities = AX_velocities[:270]\n",
    "temp_input_velocities = input_velocities[:270]"
   ]
  },
  {
   "cell_type": "markdown",
   "metadata": {},
   "source": [
    "##### Resto de los datos"
   ]
  },
  {
   "cell_type": "code",
   "execution_count": 316,
   "metadata": {},
   "outputs": [],
   "source": [
    "jointHandler.setJointAngularPosition(12,-math.pi/2)"
   ]
  },
  {
   "cell_type": "code",
   "execution_count": 317,
   "metadata": {},
   "outputs": [
    {
     "name": "stdout",
     "output_type": "stream",
     "text": [
      "35 480\n"
     ]
    }
   ],
   "source": [
    "print(input_velocities[-1],len(input_velocities))"
   ]
  },
  {
   "cell_type": "code",
   "execution_count": 324,
   "metadata": {},
   "outputs": [
    {
     "name": "stdout",
     "output_type": "stream",
     "text": [
      "25 510\n",
      "Running @:  15\n",
      "15 540\n"
     ]
    }
   ],
   "source": [
    "print(input_velocities[-1],len(input_velocities))\n",
    "i = 1\n",
    "velocity = 15\n",
    "print(\"Running @: \",velocity)\n",
    "target_vel = dps2AX(velocity)\n",
    "mov_time = dps2secs(velocity)\n",
    "capt_time = 0.5 * mov_time # To capture the velocity after 30% of the movement\n",
    "for k in range(30):\n",
    "    deg_targ = 90\n",
    "    target_position = i*deg_targ*math.pi/180\n",
    "    jointHandler.setJointTargetVelocity(12,target_vel)\n",
    "    jointHandler.setJointAngularPosition(12,target_position)   \n",
    "    time.sleep(capt_time)\n",
    "    gyro = sensorHandler.getDPS()\n",
    "    AX_speed = jointHandler.getJointVelocity(12)\n",
    "    AX_dps = AX2dps(AX_speed)\n",
    "    # Store in lists\n",
    "    AX_velocities.append(abs(AX_dps))\n",
    "    input_velocities.append(abs(velocity))\n",
    "    gyro_velocities.append(abs(gyro[0]))\n",
    "    i = -i\n",
    "    time.sleep(0.8*mov_time) # Waits half of the movement time before starting again\n",
    "print(input_velocities[-1],len(input_velocities))"
   ]
  },
  {
   "cell_type": "code",
   "execution_count": 313,
   "metadata": {},
   "outputs": [],
   "source": [
    "AX_velocities = AX_velocities[:480]\n",
    "input_velocities = input_velocities[:480]\n",
    "gyro_velocities = gyro_velocities[:480]"
   ]
  },
  {
   "cell_type": "markdown",
   "metadata": {},
   "source": [
    "### Usar para los demas ejes"
   ]
  },
  {
   "cell_type": "code",
   "execution_count": 323,
   "metadata": {},
   "outputs": [
    {
     "name": "stdout",
     "output_type": "stream",
     "text": [
      "Running @  175 dps, time perc:  0\n",
      "Running @  165 dps, time perc:  0\n",
      "Running @  155 dps, time perc:  0\n",
      "Running @  145 dps, time perc:  0\n",
      "Running @  135 dps, time perc:  0\n",
      "Running @  125 dps, time perc:  0\n",
      "Running @  115 dps, time perc:  0\n",
      "Running @  105 dps, time perc:  0\n",
      "Running @  95 dps, time perc:  0\n",
      "Running @  85 dps, time perc:  0.1\n",
      "Running @  75 dps, time perc:  0.1\n",
      "Running @  65 dps, time perc:  0.2\n",
      "Running @  55 dps, time perc:  0.2\n",
      "Running @  45 dps, time perc:  0.3\n",
      "Running @  35 dps, time perc:  0.4\n",
      "Running @  25 dps, time perc:  0.4\n",
      "Running @  15 dps, time perc:  0.5\n"
     ]
    }
   ],
   "source": [
    "vels01 = [85,75]\n",
    "vels02 = [65,55]\n",
    "vels04 = [35,25]\n",
    "\n",
    "i = 1\n",
    "velocity = 175\n",
    "while velocity>=15:\n",
    "    if velocity >= 95:\n",
    "        time_perc = 0\n",
    "    elif velocity == 45:\n",
    "        time_perc = 0.3\n",
    "    elif velocity == 15:\n",
    "        time_perc = 0.5\n",
    "    elif velocity in vels01:\n",
    "        time_perc = 0.1\n",
    "    elif velocity in vels02:\n",
    "        time_perc = 0.2\n",
    "    elif velocity in vels04:\n",
    "        time_perc = 0.4\n",
    "    else:\n",
    "        time_perc = 0\n",
    "    \n",
    "    print(\"Running @ \",velocity, \"dps, time perc: \", time_perc)\n",
    "    velocity = velocity -10"
   ]
  },
  {
   "cell_type": "code",
   "execution_count": 45,
   "metadata": {},
   "outputs": [],
   "source": [
    "gyro_velocities = []\n",
    "AX_velocities = []\n",
    "input_velocities = []\n",
    "jointHandler.setJointAngularPosition(12,-math.pi/2)"
   ]
  },
  {
   "cell_type": "code",
   "execution_count": 47,
   "metadata": {},
   "outputs": [
    {
     "name": "stdout",
     "output_type": "stream",
     "text": [
      "Running @  175 dps, time perc:  0\n",
      "175 30\n",
      "Running @  165 dps, time perc:  0\n",
      "165 60\n",
      "Running @  155 dps, time perc:  0\n",
      "155 90\n",
      "Running @  145 dps, time perc:  0\n",
      "145 120\n",
      "Running @  135 dps, time perc:  0\n",
      "135 150\n",
      "Running @  125 dps, time perc:  0\n",
      "125 180\n",
      "Running @  115 dps, time perc:  0\n",
      "115 210\n",
      "Running @  105 dps, time perc:  0\n",
      "105 240\n",
      "Running @  95 dps, time perc:  0\n",
      "95 270\n",
      "Running @  85 dps, time perc:  0.1\n",
      "85 300\n",
      "Running @  75 dps, time perc:  0.1\n",
      "75 330\n",
      "Running @  65 dps, time perc:  0.2\n",
      "65 360\n",
      "Running @  55 dps, time perc:  0.2\n",
      "55 390\n",
      "Running @  45 dps, time perc:  0.3\n",
      "45 420\n",
      "Running @  35 dps, time perc:  0.4\n",
      "35 450\n",
      "Running @  25 dps, time perc:  0.4\n",
      "25 480\n",
      "Running @  15 dps, time perc:  0.5\n",
      "15 510\n"
     ]
    }
   ],
   "source": [
    "vels01 = [85,75]\n",
    "vels02 = [65,55]\n",
    "vels04 = [35,25]\n",
    "\n",
    "i = 1\n",
    "velocity = 175\n",
    "while velocity>=15:\n",
    "\tif velocity >= 95:\n",
    "\t\ttime_perc = 0\n",
    "\telif velocity == 45:\n",
    "\t\ttime_perc = 0.3\n",
    "\telif velocity == 15:\n",
    "\t\ttime_perc = 0.5\n",
    "\telif velocity in vels01:\n",
    "\t\ttime_perc = 0.1\n",
    "\telif velocity in vels02:\n",
    "\t\ttime_perc = 0.2\n",
    "\telif velocity in vels04:\n",
    "\t\ttime_perc = 0.4\n",
    "\telse:\n",
    "\t\ttime_perc = 0\n",
    "\tprint(\"Running @ \",velocity, \"dps, time perc: \", time_perc)\n",
    "\ttarget_vel = dps2AX(velocity)\n",
    "\tmov_time = dps2secs(velocity)\n",
    "\tcapt_time = time_perc * mov_time # To capture the velocity after 30% of the movement\n",
    "\tfor k in range(30):\n",
    "\t\tdeg_targ = 90\n",
    "\t\ttarget_position = i*deg_targ*math.pi/180\n",
    "\t\tjointHandler.setJointTargetVelocity(12,target_vel)\n",
    "\t\tjointHandler.setJointAngularPosition(12,target_position)   \n",
    "\t\t#time.sleep(capt_time)\n",
    "\t\tgyro = sensorHandler.getDPS()\n",
    "\t\tAX_speed = jointHandler.getJointVelocity(12)\n",
    "\t\tAX_dps = AX2dps(AX_speed)\n",
    "\t\t# Store in lists\n",
    "\t\tAX_velocities.append(abs(AX_dps))\n",
    "\t\tinput_velocities.append(abs(velocity))\n",
    "\t\tgyro_velocities.append(abs(gyro[2]))\n",
    "\t\ti = -i\n",
    "\t\ttime.sleep(mov_time) # Waits half of the movement time before starting again\n",
    "\tvelocity = velocity - 10\n",
    "\ttime.sleep(5)\n",
    "\tprint(input_velocities[-1],len(input_velocities))"
   ]
  },
  {
   "cell_type": "markdown",
   "metadata": {},
   "source": [
    "### Exportar datos"
   ]
  },
  {
   "cell_type": "code",
   "execution_count": 35,
   "metadata": {},
   "outputs": [],
   "source": [
    "temp_gyro_velocities = gyro_velocities[306:]\n",
    "temp_AX_velocities = AX_velocities[305:]\n",
    "temp_input_velocities = input_velocities[305:]"
   ]
  },
  {
   "cell_type": "code",
   "execution_count": 48,
   "metadata": {},
   "outputs": [
    {
     "data": {
      "text/plain": [
       "510"
      ]
     },
     "execution_count": 48,
     "metadata": {},
     "output_type": "execute_result"
    }
   ],
   "source": [
    "len(gyro_velocities)"
   ]
  },
  {
   "cell_type": "code",
   "execution_count": 49,
   "metadata": {},
   "outputs": [
    {
     "name": "stdout",
     "output_type": "stream",
     "text": [
      "Datos exportados a caractIMU_gyroz.csv\n"
     ]
    }
   ],
   "source": [
    "import csv\n",
    "# Combina las dos listas en una lista de tuplas\n",
    "datos_combinados = list(zip(input_velocities, AX_velocities, gyro_velocities, ))\n",
    "\n",
    "# Especifica el nombre del archivo CSV\n",
    "nombre_archivo = 'caractIMU_gyroz.csv'\n",
    "\n",
    "# Abre el archivo CSV en modo de escritura\n",
    "with open(nombre_archivo, 'w', newline='') as archivo_csv:\n",
    "    # Crea un objeto escritor CSV\n",
    "    escritor_csv = csv.writer(archivo_csv)\n",
    "\n",
    "    # Escribe los encabezados si es necesario\n",
    "    escritor_csv.writerow(['Velocidad de entrada', 'Velocidad medida por el motor','Velocidad giroscopio'])\n",
    "\n",
    "    # Escribe los datos\n",
    "    escritor_csv.writerows(datos_combinados)\n",
    "\n",
    "print(f'Datos exportados a {nombre_archivo}')"
   ]
  }
 ],
 "metadata": {
  "kernelspec": {
   "display_name": "EMERGE_Py311",
   "language": "python",
   "name": "python3"
  },
  "language_info": {
   "codemirror_mode": {
    "name": "ipython",
    "version": 3
   },
   "file_extension": ".py",
   "mimetype": "text/x-python",
   "name": "python",
   "nbconvert_exporter": "python",
   "pygments_lexer": "ipython3",
   "version": "3.11.5"
  }
 },
 "nbformat": 4,
 "nbformat_minor": 2
}
