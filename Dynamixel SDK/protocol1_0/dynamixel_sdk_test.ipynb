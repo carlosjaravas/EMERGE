{
 "cells": [
  {
   "cell_type": "code",
   "execution_count": 1,
   "metadata": {},
   "outputs": [],
   "source": [
    "import os\n",
    "from dynamixel_sdk import *                    # Uses Dynamixel SDK library\n",
    "import math\n",
    "#from ax_classes import AX_setup"
   ]
  },
  {
   "cell_type": "code",
   "execution_count": 12,
   "metadata": {},
   "outputs": [
    {
     "name": "stdout",
     "output_type": "stream",
     "text": [
      "-1.5707963267948966\n"
     ]
    },
    {
     "data": {
      "text/plain": [
       "205"
      ]
     },
     "execution_count": 12,
     "metadata": {},
     "output_type": "execute_result"
    }
   ],
   "source": [
    "rad = -math.pi/2\n",
    "print(rad)\n",
    "offset = 15/18*math.pi\n",
    "rel = 512/offset\n",
    "AX_pos = (rad + offset)*rel\n",
    "round(AX_pos)"
   ]
  },
  {
   "cell_type": "code",
   "execution_count": 11,
   "metadata": {},
   "outputs": [
    {
     "name": "stdout",
     "output_type": "stream",
     "text": [
      "-1.5707963267948966\n"
     ]
    }
   ],
   "source": [
    "rad = AX_pos/rel - offset\n",
    "print (rad)"
   ]
  },
  {
   "cell_type": "code",
   "execution_count": 9,
   "metadata": {},
   "outputs": [
    {
     "data": {
      "text/plain": [
       "205"
      ]
     },
     "execution_count": 9,
     "metadata": {},
     "output_type": "execute_result"
    }
   ],
   "source": []
  },
  {
   "cell_type": "code",
   "execution_count": 2,
   "metadata": {},
   "outputs": [],
   "source": [
    "if os.name == 'nt':\n",
    "    import msvcrt\n",
    "    def getch():\n",
    "        return msvcrt.getch().decode()"
   ]
  },
  {
   "cell_type": "markdown",
   "metadata": {},
   "source": [
    "Clases que estan almacenadas en ax_classes.py"
   ]
  },
  {
   "cell_type": "code",
   "execution_count": 3,
   "metadata": {},
   "outputs": [],
   "source": [
    "class AX_setup():\n",
    "    def __init__(self):\n",
    "        self.PROTOCOL_VERSION = 1.0    #Protocol version is used in the Dynamixel AX12\n",
    "        self.BAUDRATE = 1000000        #Dynamixel default baudrate\n",
    "        self.DEVICENAME = 'COM5'       #Check in device manager\n",
    "        #self.portHandler = PortHandler(self.DEVICENAME)\n",
    "        #self.packetHandler = PacketHandler(self.PROTOCOL_VERSION)\n",
    "\n",
    "    # Control table addresses\n",
    "    class EEPROM_ADDR():\n",
    "        def __init__(self):\n",
    "            self.MODEL_NUMBER = \t\t0   #2 byte\n",
    "            self.FIRMWARE_VER = \t\t2   #1 byte\n",
    "            self.ID = \t\t\t\t\t3   #1 byte\n",
    "            self.BAUD_RATE = \t\t\t4   #1 byte\n",
    "            self.RETURN_DELAY_T = \t\t5   #1 byte\n",
    "            self.CW_ANGLE_LIMIT = \t\t6   #2 byte\n",
    "            self.CCW_ANGLE_LIMIT = \t\t8   #2 byte\n",
    "            self.TEMPERATURE_LIMIT = \t11  #1 byte\n",
    "            self.MIN_VOLTAGE_LIMIT = \t12  #1 byte\n",
    "            self.MAX_VOLTAGE_LIMIT = \t13  #1 byte\n",
    "            self.MAX_TORQUE = \t\t\t14  #2 byte\n",
    "            self.STATUS_RETURN_LVL = \t16  #1 byte\n",
    "            self.ALARM_LED = \t\t\t17  #1 byte\n",
    "            self.SHUTDOWN = \t\t\t18  #1 byte\n",
    "\t\t\t\t\t\t\t\t\t\t    #1 byte\n",
    "    class RAM_ADDR():\n",
    "        def __init__(self):\n",
    "            self.TORQUE_ENABLE = \t\t24  #1 byte\n",
    "            self.LED = \t\t\t\t\t25  #1 byte\n",
    "            self.CW_COMP_MARGIN = \t\t26  #1 byte\n",
    "            self.CCW_COMP_MARGIN = \t\t27  #1 byte\n",
    "            self.CW_COMP_SLOPE = \t\t28  #1 byte\n",
    "            self.CCW_COMP_SLOPE = \t\t29  #1 byte\n",
    "            self.GOAL_POSITION = \t\t30  #1 byte\n",
    "            self.MOVING_SPEED = \t\t32  #2 byte\n",
    "            self.TORQUE_LIMIT = \t\t34  #2 byte\n",
    "            self.PRESENT_POSITION = \t36  #2 byte\n",
    "            self.PRESENT_SPEED = \t\t38  #2 byte\n",
    "            self.PRESENT_LOAD = \t\t40  #2 byte\n",
    "            self.PRESENT_VOLTAGE = \t\t42  #1 byte\n",
    "            self.PRESENT_TEMPERATURE =  43  #1 byte\n",
    "            self.REGISTERED = \t\t\t44  #1 byte\n",
    "            self.MOVING = \t\t\t\t46  #1 byte\n",
    "            self.LOCK_EEPOM = \t\t\t47  #1 byte\n",
    "            self.PUNCH = \t\t\t\t48  #2 byte\n",
    "\n",
    "    # Control table bytes\n",
    "    class EEPROM_BYTES():\n",
    "        def __init__(self):\n",
    "            self.MODEL_NUMBER =         2   #byte\n",
    "            self.FIRMWARE_VER =         1   #byte\n",
    "            self.ID =                   1   #byte\n",
    "            self.BAUD_RATE =            1   #byte\n",
    "            self.RETURN_DELAY_T =       1   #byte\n",
    "            self.CW_ANGLE_LIMIT =       2   #byte\n",
    "            self.CCW_ANGLE_LIMIT =      2   #byte\n",
    "            self.TEMPERATURE_LIMIT =    1   #byte\n",
    "            self.MIN_VOLTAGE_LIMIT =    1   #byte\n",
    "            self.MAX_VOLTAGE_LIMIT =    1   #byte\n",
    "            self.MAX_TORQUE =           2   #byte\n",
    "            self.STATUS_RETURN_LVL =    1   #byte\n",
    "            self.ALARM_LED =            1   #byte\n",
    "            self.SHUTDOWN =             1   #byte\n",
    "\t\t\t\t\t\t\t\t\t\t  \n",
    "    class RAM_BYTES():\n",
    "        def __init__(self):\n",
    "            self.TORQUE_ENABLE =    \t1   #byte\n",
    "            self.LED =              \t1   #byte\n",
    "            self.CW_COMP_MARGIN =   \t1   #byte\n",
    "            self.CCW_COMP_MARGIN =      1   #byte\n",
    "            self.CW_COMP_SLOPE =        1   #byte\n",
    "            self.CCW_COMP_SLOPE =       1   #byte\n",
    "            self.GOAL_POSITION =        2   #byte\n",
    "            self.MOVING_SPEED =         2   #byte\n",
    "            self.TORQUE_LIMIT =         2   #byte\n",
    "            self.PRESENT_POSITION =     2   #byte\n",
    "            self.PRESENT_SPEED =        2   #byte\n",
    "            self.PRESENT_LOAD =         2   #byte\n",
    "            self.PRESENT_VOLTAGE =      1   #byte\n",
    "            self.PRESENT_TEMPERATURE =  1   #byte\n",
    "            self.REGISTERED =           1   #byte\n",
    "            self.MOVING =               1   #byte\n",
    "            self.LOCK_EEPOM =           1   #byte\n",
    "            self.PUNCH =                2   #byte"
   ]
  },
  {
   "cell_type": "code",
   "execution_count": 2,
   "metadata": {},
   "outputs": [],
   "source": [
    "from ax_classes import AX_setup\n",
    "\n",
    "MODULE = AX_setup()\n",
    "RAM_ADDR = MODULE.RAM_ADDR()\n",
    "EEPROM_ADDR = MODULE.EEPROM_ADDR()\n",
    "RAM_BYTES = MODULE.RAM_BYTES()\n",
    "EEPROM_BYTES = MODULE.EEPROM_BYTES()"
   ]
  },
  {
   "cell_type": "code",
   "execution_count": 3,
   "metadata": {},
   "outputs": [],
   "source": [
    "# Protocol version\n",
    "PROTOCOL_VERSION            = 1.0               # See which protocol version is used in the Dynamixel\n",
    "\n",
    "# Default setting\n",
    "BAUDRATE                    = MODULE.BAUDRATE             # Dynamixel default baudrate : 57600\n",
    "\n",
    "# Initialize PortHandler instance\n",
    "# Set the port path\n",
    "# Get methods and members of PortHandlerLinux or PortHandlerWindows\n",
    "portHandler = PortHandler(MODULE.DEVICENAME)\n",
    "\n",
    "# Initialize PacketHandler instance\n",
    "# Set the protocol version\n",
    "# Get methods and members of Protocol1PacketHandler or Protocol2PacketHandler\n",
    "packetHandler = PacketHandler(MODULE.PROTOCOL_VERSION)"
   ]
  },
  {
   "cell_type": "markdown",
   "metadata": {},
   "source": [
    "Posible cambio a las clases para que la seleccion de la funcion para comunicacion sea automatica dependiendo del tamaño en bytes de lo que se quiere modificar, en la clase los datos se guardan en tuplas tal que (direccion, tamaño), en lugar de tenerlos aparte, asi se puede generalizar todo en una funcion"
   ]
  },
  {
   "cell_type": "markdown",
   "metadata": {},
   "source": [
    "#### Classes v2"
   ]
  },
  {
   "cell_type": "code",
   "execution_count": 6,
   "metadata": {},
   "outputs": [],
   "source": [
    "class AX_setup():\n",
    "    def __init__(self):\n",
    "        self.PROTOCOL_VERSION = 1.0    #Protocol version is used in the Dynamixel AX12\n",
    "        self.BAUDRATE = 1000000        #Dynamixel default baudrate\n",
    "        self.DEVICENAME = 'COM5'       #Check in device manager\n",
    "\n",
    "    # Control table addresses\n",
    "    class EEPROM_ADDR():\n",
    "        def __init__(self):\n",
    "            self.MODEL_NUMBER = \t\t0   #2 byte\n",
    "            self.FIRMWARE_VER = \t\t2   #1 byte\n",
    "            self.ID = \t\t\t\t\t3   #1 byte\n",
    "            self.BAUD_RATE = \t\t\t4   #1 byte\n",
    "            self.RETURN_DELAY_T = \t\t5   #1 byte\n",
    "            self.CW_ANGLE_LIMIT = \t\t6   #2 byte\n",
    "            self.CCW_ANGLE_LIMIT = \t\t8   #2 byte\n",
    "            self.TEMPERATURE_LIMIT = \t11  #1 byte\n",
    "            self.MIN_VOLTAGE_LIMIT = \t12  #1 byte\n",
    "            self.MAX_VOLTAGE_LIMIT = \t13  #1 byte\n",
    "            self.MAX_TORQUE = \t\t\t14  #2 byte\n",
    "            self.STATUS_RETURN_LVL = \t16  #1 byte\n",
    "            self.ALARM_LED = \t\t\t17  #1 byte\n",
    "            self.SHUTDOWN = \t\t\t18  #1 byte\n",
    "\t\t\t\t\t\t\t\t\t\t    #1 byte\n",
    "    class RAM_ADDR():\n",
    "        def __init__(self):\n",
    "            self.TORQUE_ENABLE = \t\t24  #1 byte\n",
    "            self.LED = \t\t\t\t\t25  #1 byte\n",
    "            self.CW_COMP_MARGIN = \t\t26  #1 byte\n",
    "            self.CCW_COMP_MARGIN = \t\t27  #1 byte\n",
    "            self.CW_COMP_SLOPE = \t\t28  #1 byte\n",
    "            self.CCW_COMP_SLOPE = \t\t29  #1 byte\n",
    "            self.GOAL_POSITION = \t\t30  #1 byte\n",
    "            self.MOVING_SPEED = \t\t32  #2 byte\n",
    "            self.TORQUE_LIMIT = \t\t34  #2 byte\n",
    "            self.PRESENT_POSITION = \t36  #2 byte\n",
    "            self.PRESENT_SPEED = \t\t38  #2 byte\n",
    "            self.PRESENT_LOAD = \t\t40  #2 byte\n",
    "            self.PRESENT_VOLTAGE = \t\t42  #1 byte\n",
    "            self.PRESENT_TEMPERATURE =  43  #1 byte\n",
    "            self.REGISTERED = \t\t\t44  #1 byte\n",
    "            self.MOVING = \t\t\t\t46  #1 byte\n",
    "            self.LOCK_EEPOM = \t\t\t47  #1 byte\n",
    "            self.PUNCH = \t\t\t\t48  #2 byte\n",
    "\n",
    "    # Control table bytes\n",
    "    class EEPROM_BYTES():\n",
    "        def __init__(self):\n",
    "            self.MODEL_NUMBER =         2   #byte\n",
    "            self.FIRMWARE_VER =         1   #byte\n",
    "            self.ID =                   1   #byte\n",
    "            self.BAUD_RATE =            1   #byte\n",
    "            self.RETURN_DELAY_T =       1   #byte\n",
    "            self.CW_ANGLE_LIMIT =       2   #byte\n",
    "            self.CCW_ANGLE_LIMIT =      2   #byte\n",
    "            self.TEMPERATURE_LIMIT =    1   #byte\n",
    "            self.MIN_VOLTAGE_LIMIT =    1   #byte\n",
    "            self.MAX_VOLTAGE_LIMIT =    1   #byte\n",
    "            self.MAX_TORQUE =           2   #byte\n",
    "            self.STATUS_RETURN_LVL =    1   #byte\n",
    "            self.ALARM_LED =            1   #byte\n",
    "            self.SHUTDOWN =             1   #byte\n",
    "\t\t\t\t\t\t\t\t\t\t  \n",
    "    class RAM_BYTES():\n",
    "        def __init__(self):\n",
    "            self.TORQUE_ENABLE =    \t1   #byte\n",
    "            self.LED =              \t1   #byte\n",
    "            self.CW_COMP_MARGIN =   \t1   #byte\n",
    "            self.CCW_COMP_MARGIN =      1   #byte\n",
    "            self.CW_COMP_SLOPE =        1   #byte\n",
    "            self.CCW_COMP_SLOPE =       1   #byte\n",
    "            self.GOAL_POSITION =        2   #byte\n",
    "            self.MOVING_SPEED =         2   #byte\n",
    "            self.TORQUE_LIMIT =         2   #byte\n",
    "            self.PRESENT_POSITION =     2   #byte\n",
    "            self.PRESENT_SPEED =        2   #byte\n",
    "            self.PRESENT_LOAD =         2   #byte\n",
    "            self.PRESENT_VOLTAGE =      1   #byte\n",
    "            self.PRESENT_TEMPERATURE =  1   #byte\n",
    "            self.REGISTERED =           1   #byte\n",
    "            self.MOVING =               1   #byte\n",
    "            self.LOCK_EEPOM =           1   #byte\n",
    "            self.PUNCH =                2   #byte\n",
    "\n",
    "# Control table (addresses,size (bytes))\n",
    "    class EEPROM():\n",
    "        def __init__(self):\n",
    "            self.MODEL_NUMBER = \t\t(0,2)\n",
    "            self.FIRMWARE_VER = \t\t(2,1)\n",
    "            self.ID = \t\t\t\t\t(3,1)\n",
    "            self.BAUD_RATE = \t\t\t(4,1)\n",
    "            self.RETURN_DELAY_T = \t\t(5,1)\n",
    "            self.CW_ANGLE_LIMIT = \t\t(6,2)\n",
    "            self.CCW_ANGLE_LIMIT = \t\t(8,2)\n",
    "            self.TEMPERATURE_LIMIT = \t(11,1)\n",
    "            self.MIN_VOLTAGE_LIMIT = \t(12,1)\n",
    "            self.MAX_VOLTAGE_LIMIT = \t(13,1)\n",
    "            self.MAX_TORQUE = \t\t\t(14,2)\n",
    "            self.STATUS_RETURN_LVL = \t(16,1)\n",
    "            self.ALARM_LED = \t\t\t(17,1)\n",
    "            self.SHUTDOWN = \t\t\t(18,1)\n",
    "\n",
    "    class RAM():\n",
    "        def __init__(self):\n",
    "            self.TORQUE_ENABLE = \t\t(24,1)\n",
    "            self.LED = \t\t\t\t\t(25,1)\n",
    "            self.CW_COMP_MARGIN = \t\t(26,1)\n",
    "            self.CCW_COMP_MARGIN = \t\t(27,1)\n",
    "            self.CW_COMP_SLOPE = \t\t(28,1)\n",
    "            self.CCW_COMP_SLOPE = \t\t(29,1)\n",
    "            self.GOAL_POSITION = \t\t(30,1)\n",
    "            self.MOVING_SPEED = \t\t(32,2)\n",
    "            self.TORQUE_LIMIT = \t\t(34,2)\n",
    "            self.PRESENT_POSITION = \t(36,2)\n",
    "            self.PRESENT_SPEED = \t\t(38,2)\n",
    "            self.PRESENT_LOAD = \t\t(40,2)\n",
    "            self.PRESENT_VOLTAGE = \t\t(42,1)\n",
    "            self.PRESENT_TEMPERATURE =  (43,1)\n",
    "            self.REGISTERED = \t\t\t(44,1)\n",
    "            self.MOVING = \t\t\t\t(46,1)\n",
    "            self.LOCK_EEPOM = \t\t\t(47,1)\n",
    "            self.PUNCH = \t\t\t\t(48,2)"
   ]
  },
  {
   "cell_type": "markdown",
   "metadata": {},
   "source": [
    "#### Para ocultar classes v2"
   ]
  },
  {
   "cell_type": "code",
   "execution_count": 4,
   "metadata": {},
   "outputs": [],
   "source": [
    "# Control table address\n",
    "ADDR_MX_TORQUE_ENABLE      = RAM_ADDR.TORQUE_ENABLE               # Control table address is different in Dynamixel model\n",
    "ADDR_MX_GOAL_POSITION      = RAM_ADDR.GOAL_POSITION\n",
    "ADDR_MX_PRESENT_POSITION   = RAM_ADDR.PRESENT_POSITION\n",
    "\n",
    "DXL_ID                      = 2                 # Dynamixel ID\n",
    "\n",
    "TORQUE_ENABLE               = 1                 # Value for enabling the torque\n",
    "TORQUE_DISABLE              = 0                 # Value for disabling the torque\n",
    "DXL_MINIMUM_POSITION_VALUE  = 400           # Dynamixel will rotate between this value\n",
    "DXL_MAXIMUM_POSITION_VALUE  = 600            # and this value (note that the Dynamixel would not move when the position value is out of movable range. Check e-manual about the range of the Dynamixel you use.)\n",
    "DXL_MOVING_STATUS_THRESHOLD = 10                # Dynamixel moving status threshold\n",
    "\n",
    "index = 0\n",
    "dxl_goal_position = [DXL_MINIMUM_POSITION_VALUE, DXL_MAXIMUM_POSITION_VALUE]         # Goal position\n",
    "\n"
   ]
  },
  {
   "cell_type": "code",
   "execution_count": 5,
   "metadata": {},
   "outputs": [
    {
     "name": "stdout",
     "output_type": "stream",
     "text": [
      "Succeeded to open the port\n",
      "Succeeded to change the baudrate\n"
     ]
    }
   ],
   "source": [
    "# Open port\n",
    "if portHandler.openPort():\n",
    "    print(\"Succeeded to open the port\")\n",
    "else:\n",
    "    print(\"Failed to open the port\")\n",
    "    print(\"Press any key to terminate...\")\n",
    "    getch()\n",
    "    quit()\n",
    "\n",
    "\n",
    "# Set port baudrate\n",
    "if portHandler.setBaudRate(MODULE.BAUDRATE):\n",
    "    print(\"Succeeded to change the baudrate\")\n",
    "else:\n",
    "    print(\"Failed to change the baudrate\")\n",
    "    print(\"Press any key to terminate...\")\n",
    "    getch()\n",
    "    quit()"
   ]
  },
  {
   "cell_type": "markdown",
   "metadata": {},
   "source": [
    "### Read write test"
   ]
  },
  {
   "cell_type": "code",
   "execution_count": 6,
   "metadata": {},
   "outputs": [
    {
     "name": "stdout",
     "output_type": "stream",
     "text": [
      "Dynamixel has been successfully connected\n"
     ]
    }
   ],
   "source": [
    "# Enable Dynamixel Torque\n",
    "dxl_comm_result, dxl_error = packetHandler.write1ByteTxRx(portHandler, DXL_ID, ADDR_MX_TORQUE_ENABLE, TORQUE_ENABLE)\n",
    "if dxl_comm_result != COMM_SUCCESS:\n",
    "    print(\"%s\" % packetHandler.getTxRxResult(dxl_comm_result))\n",
    "elif dxl_error != 0:\n",
    "    print(\"%s\" % packetHandler.getRxPacketError(dxl_error))\n",
    "else:\n",
    "    print(\"Dynamixel has been successfully connected\")"
   ]
  },
  {
   "cell_type": "code",
   "execution_count": 52,
   "metadata": {},
   "outputs": [],
   "source": [
    "def enableJointMovement(joint):\n",
    "    dxl_comm_result, dxl_error = packetHandler.write1ByteTxRx(portHandler, joint, RAM_ADDR.TORQUE_ENABLE, 1)\n",
    "    if dxl_comm_result != COMM_SUCCESS:\n",
    "        print(\"%s\" % packetHandler.getTxRxResult(dxl_comm_result))\n",
    "    elif dxl_error != 0:\n",
    "        print(\"%s\" % packetHandler.getRxPacketError(dxl_error))\n",
    "    else:\n",
    "        print(\"Dynamixel has been successfully connected\")\n",
    "\n",
    "\n",
    "def disbleJointMovement(joint):\n",
    "    dxl_comm_result, dxl_error = packetHandler.write1ByteTxRx(portHandler, joint, RAM_ADDR.TORQUE_ENABLE, 0)\n",
    "    if dxl_comm_result != COMM_SUCCESS:\n",
    "        print(\"%s\" % packetHandler.getTxRxResult(dxl_comm_result))\n",
    "    elif dxl_error != 0:\n",
    "        print(\"%s\" % packetHandler.getRxPacketError(dxl_error))"
   ]
  },
  {
   "cell_type": "code",
   "execution_count": 53,
   "metadata": {},
   "outputs": [
    {
     "name": "stdout",
     "output_type": "stream",
     "text": [
      "Dynamixel has been successfully connected\n"
     ]
    }
   ],
   "source": [
    "enableJointMovement(2)"
   ]
  },
  {
   "cell_type": "markdown",
   "metadata": {},
   "source": [
    "Cambio de posicion"
   ]
  },
  {
   "cell_type": "code",
   "execution_count": 22,
   "metadata": {},
   "outputs": [
    {
     "name": "stdout",
     "output_type": "stream",
     "text": [
      "[ID:002] GoalPos:512  PresPos:598\n"
     ]
    }
   ],
   "source": [
    "dxl_goal_position = 512\n",
    "\n",
    "# Write goal position\n",
    "dxl_comm_result, dxl_error = packetHandler.write2ByteTxRx(portHandler, DXL_ID, ADDR_MX_GOAL_POSITION, dxl_goal_position)\n",
    "if dxl_comm_result != COMM_SUCCESS:\n",
    "    print(\"%s\" % packetHandler.getTxRxResult(dxl_comm_result))\n",
    "elif dxl_error != 0:\n",
    "    print(\"%s\" % packetHandler.getRxPacketError(dxl_error))\n",
    "\n",
    "# Read present position\n",
    "dxl_present_position, dxl_comm_result, dxl_error = packetHandler.read2ByteTxRx(portHandler, DXL_ID, ADDR_MX_PRESENT_POSITION)\n",
    "if dxl_comm_result != COMM_SUCCESS:\n",
    "    print(\"%s\" % packetHandler.getTxRxResult(dxl_comm_result))\n",
    "elif dxl_error != 0:\n",
    "    print(\"%s\" % packetHandler.getRxPacketError(dxl_error))\n",
    "\n",
    "print(\"[ID:%03d] GoalPos:%03d  PresPos:%03d\" % (DXL_ID, dxl_goal_position, dxl_present_position))"
   ]
  },
  {
   "cell_type": "code",
   "execution_count": 11,
   "metadata": {},
   "outputs": [
    {
     "name": "stdout",
     "output_type": "stream",
     "text": [
      "[ID:002] GoalPos:400  PresPos:512\n"
     ]
    }
   ],
   "source": [
    "dxl_goal_position = 400\n",
    "\n",
    "# Write goal position\n",
    "dxl_comm_result, dxl_error = packetHandler.write2ByteTxRx(portHandler, DXL_ID, ADDR_MX_GOAL_POSITION, dxl_goal_position)\n",
    "if dxl_comm_result != COMM_SUCCESS:\n",
    "    print(\"%s\" % packetHandler.getTxRxResult(dxl_comm_result))\n",
    "elif dxl_error != 0:\n",
    "    print(\"%s\" % packetHandler.getRxPacketError(dxl_error))\n",
    "\n",
    "# Read present position\n",
    "dxl_present_position, dxl_comm_result, dxl_error = packetHandler.read2ByteTxRx(portHandler, DXL_ID, ADDR_MX_PRESENT_POSITION)\n",
    "if dxl_comm_result != COMM_SUCCESS:\n",
    "    print(\"%s\" % packetHandler.getTxRxResult(dxl_comm_result))\n",
    "elif dxl_error != 0:\n",
    "    print(\"%s\" % packetHandler.getRxPacketError(dxl_error))\n",
    "\n",
    "print(\"[ID:%03d] GoalPos:%03d  PresPos:%03d\" % (DXL_ID, dxl_goal_position, dxl_present_position))"
   ]
  },
  {
   "cell_type": "code",
   "execution_count": 12,
   "metadata": {},
   "outputs": [
    {
     "name": "stdout",
     "output_type": "stream",
     "text": [
      "[ID:002] GoalPos:600  PresPos:598\n"
     ]
    }
   ],
   "source": [
    "dxl_goal_position = 600\n",
    "\n",
    "# Write goal position\n",
    "dxl_comm_result, dxl_error = packetHandler.write2ByteTxRx(portHandler, DXL_ID, ADDR_MX_GOAL_POSITION, dxl_goal_position)\n",
    "if dxl_comm_result != COMM_SUCCESS:\n",
    "    print(\"%s\" % packetHandler.getTxRxResult(dxl_comm_result))\n",
    "elif dxl_error != 0:\n",
    "    print(\"%s\" % packetHandler.getRxPacketError(dxl_error))\n",
    "\n",
    "while 1:\n",
    "        # Read present position\n",
    "        dxl_present_position, dxl_comm_result, dxl_error = packetHandler.read4ByteTxRx(portHandler, DXL_ID, ADDR_MX_PRESENT_POSITION)\n",
    "        if dxl_comm_result != COMM_SUCCESS:\n",
    "            print(\"%s\" % packetHandler.getTxRxResult(dxl_comm_result))\n",
    "        elif dxl_error != 0:\n",
    "            print(\"%s\" % packetHandler.getRxPacketError(dxl_error))\n",
    "\n",
    "        if not abs(dxl_goal_position - dxl_present_position) > DXL_MOVING_STATUS_THRESHOLD:\n",
    "            break\n",
    "\n",
    "print(\"[ID:%03d] GoalPos:%03d  PresPos:%03d\" % (DXL_ID, dxl_goal_position, dxl_present_position))"
   ]
  },
  {
   "cell_type": "code",
   "execution_count": 25,
   "metadata": {},
   "outputs": [],
   "source": [
    "MODULE = AX_setup()\n",
    "RAM_ADDR = MODULE.RAM_ADDR()\n",
    "EEPROM_ADDR = MODULE.EEPROM_ADDR()\n",
    "RAM_BYTES = MODULE.RAM_BYTES()\n",
    "EEPROM_BYTES = MODULE.EEPROM_BYTES()\n",
    "RAM = MODULE.RAM()"
   ]
  },
  {
   "cell_type": "code",
   "execution_count": 30,
   "metadata": {},
   "outputs": [],
   "source": [
    "def setJointTargetPosition(joint, target_position):\n",
    "    dxl_comm_result, dxl_error = packetHandler.write2ByteTxRx(portHandler, joint, RAM_ADDR.GOAL_POSITION, target_position)\n",
    "    if dxl_comm_result != COMM_SUCCESS:\n",
    "        print(\"%s\" % packetHandler.getTxRxResult(dxl_comm_result))\n",
    "    elif dxl_error != 0:\n",
    "        print(\"%s\" % packetHandler.getRxPacketError(dxl_error))"
   ]
  },
  {
   "cell_type": "code",
   "execution_count": 46,
   "metadata": {},
   "outputs": [],
   "source": [
    "setJointTargetPosition(2, 512)"
   ]
  },
  {
   "cell_type": "code",
   "execution_count": 35,
   "metadata": {},
   "outputs": [],
   "source": [
    "def getJointPosition(joint):\n",
    "    dxl_present_position, dxl_comm_result, dxl_error = packetHandler.read2ByteTxRx(portHandler, joint, RAM_ADDR.PRESENT_POSITION)\n",
    "    if dxl_comm_result != COMM_SUCCESS:\n",
    "        print(\"%s\" % packetHandler.getTxRxResult(dxl_comm_result))\n",
    "    elif dxl_error != 0:\n",
    "        print(\"%s\" % packetHandler.getRxPacketError(dxl_error))\n",
    "    return dxl_present_position"
   ]
  },
  {
   "cell_type": "code",
   "execution_count": 47,
   "metadata": {},
   "outputs": [
    {
     "data": {
      "text/plain": [
       "512"
      ]
     },
     "execution_count": 47,
     "metadata": {},
     "output_type": "execute_result"
    }
   ],
   "source": [
    "getJointPosition(2)"
   ]
  },
  {
   "cell_type": "markdown",
   "metadata": {},
   "source": [
    "Lectura de la posicion"
   ]
  },
  {
   "cell_type": "code",
   "execution_count": 13,
   "metadata": {},
   "outputs": [
    {
     "name": "stdout",
     "output_type": "stream",
     "text": [
      "[ID:002] GoalPos:600  PresPos:598\n"
     ]
    }
   ],
   "source": [
    "# Read present position\n",
    "dxl_present_position, dxl_comm_result, dxl_error = packetHandler.read2ByteTxRx(portHandler, DXL_ID, ADDR_MX_PRESENT_POSITION)\n",
    "if dxl_comm_result != COMM_SUCCESS:\n",
    "    print(\"%s\" % packetHandler.getTxRxResult(dxl_comm_result))\n",
    "elif dxl_error != 0:\n",
    "    print(\"%s\" % packetHandler.getRxPacketError(dxl_error))\n",
    "\n",
    "print(\"[ID:%03d] GoalPos:%03d  PresPos:%03d\" % (DXL_ID, dxl_goal_position, dxl_present_position))"
   ]
  },
  {
   "cell_type": "code",
   "execution_count": 18,
   "metadata": {},
   "outputs": [],
   "source": [
    "# Disable Dynamixel Torque\n",
    "dxl_comm_result, dxl_error = packetHandler.write1ByteTxRx(portHandler, DXL_ID, ADDR_MX_TORQUE_ENABLE, TORQUE_DISABLE)\n",
    "if dxl_comm_result != COMM_SUCCESS:\n",
    "    print(\"%s\" % packetHandler.getTxRxResult(dxl_comm_result))\n",
    "elif dxl_error != 0:\n",
    "    print(\"%s\" % packetHandler.getRxPacketError(dxl_error))"
   ]
  },
  {
   "cell_type": "code",
   "execution_count": 54,
   "metadata": {},
   "outputs": [],
   "source": [
    "# Close port\n",
    "portHandler.closePort()"
   ]
  },
  {
   "cell_type": "markdown",
   "metadata": {},
   "source": [
    "Leer de la eeprom"
   ]
  },
  {
   "cell_type": "code",
   "execution_count": 18,
   "metadata": {},
   "outputs": [
    {
     "name": "stdout",
     "output_type": "stream",
     "text": [
      "6\n",
      "2\n"
     ]
    }
   ],
   "source": [
    "print(EEPROM_ADDR.CW_ANGLE_LIMIT)\n",
    "print(EEPROM_BYTES.CW_ANGLE_LIMIT)"
   ]
  },
  {
   "cell_type": "code",
   "execution_count": 17,
   "metadata": {},
   "outputs": [
    {
     "name": "stdout",
     "output_type": "stream",
     "text": [
      "1023\n"
     ]
    }
   ],
   "source": [
    "dxl_present_cw_limit, dxl_comm_result, dxl_error = packetHandler.read2ByteTxRx(portHandler, DXL_ID, EEPROM_ADDR.CCW_ANGLE_LIMIT)\n",
    "print(dxl_present_cw_limit)"
   ]
  },
  {
   "cell_type": "markdown",
   "metadata": {},
   "source": [
    "### Ping test"
   ]
  },
  {
   "cell_type": "code",
   "execution_count": 69,
   "metadata": {},
   "outputs": [
    {
     "data": {
      "text/plain": [
       "<dynamixel_sdk.port_handler.PortHandler at 0x257ea184b90>"
      ]
     },
     "execution_count": 69,
     "metadata": {},
     "output_type": "execute_result"
    }
   ],
   "source": [
    "MODULE = AX_setup()\n",
    "MODULE.portHandler"
   ]
  },
  {
   "cell_type": "code",
   "execution_count": 7,
   "metadata": {},
   "outputs": [
    {
     "name": "stdout",
     "output_type": "stream",
     "text": [
      "[ID:002] ping Succeeded. Dynamixel model number : 12\n"
     ]
    }
   ],
   "source": [
    "# Try to ping the Dynamixel\n",
    "# Get Dynamixel model number, for AX-12A should be 12\n",
    "dxl_model_number, dxl_comm_result, dxl_error = packetHandler.ping(portHandler, DXL_ID)\n",
    "if dxl_comm_result != COMM_SUCCESS:\n",
    "    print(\"%s\" % packetHandler.getTxRxResult(dxl_comm_result))\n",
    "elif dxl_error != 0:\n",
    "    print(\"%s\" % packetHandler.getRxPacketError(dxl_error))\n",
    "else:\n",
    "    print(\"[ID:%03d] ping Succeeded. Dynamixel model number : %d\" % (DXL_ID, dxl_model_number))"
   ]
  },
  {
   "cell_type": "code",
   "execution_count": 28,
   "metadata": {},
   "outputs": [],
   "source": [
    "def getJointStatus_dxl(joint, portHandler, packetHandler):\n",
    "    # Try to ping the Dynamixel\n",
    "    # Get Dynamixel model number, for AX-12A should be 12\n",
    "    dxl_model_number, dxl_comm_result, dxl_error = packetHandler.ping(portHandler, joint)\n",
    "    if dxl_comm_result != COMM_SUCCESS:\n",
    "        print(\"%s\" % packetHandler.getTxRxResult(dxl_comm_result))\n",
    "    elif dxl_error != 0:\n",
    "        print(\"%s\" % packetHandler.getRxPacketError(dxl_error))\n",
    "    else:\n",
    "        print(\"[ID:%03d] ping Succeeded. Dynamixel model number : %d\" % (joint, dxl_model_number))\n",
    "    if dxl_model_number == 12:\n",
    "        return True\n",
    "    else:\n",
    "        return False"
   ]
  },
  {
   "cell_type": "code",
   "execution_count": 29,
   "metadata": {},
   "outputs": [
    {
     "name": "stdout",
     "output_type": "stream",
     "text": [
      "[TxRxResult] Port is in use!\n"
     ]
    },
    {
     "data": {
      "text/plain": [
       "False"
      ]
     },
     "execution_count": 29,
     "metadata": {},
     "output_type": "execute_result"
    }
   ],
   "source": [
    "getJointStatus_dxl(2, portHandler, packetHandler)"
   ]
  },
  {
   "cell_type": "code",
   "execution_count": 9,
   "metadata": {},
   "outputs": [
    {
     "name": "stdout",
     "output_type": "stream",
     "text": [
      "[ID:002] ping Succeeded. Dynamixel model number : 12\n"
     ]
    },
    {
     "data": {
      "text/plain": [
       "True"
      ]
     },
     "execution_count": 9,
     "metadata": {},
     "output_type": "execute_result"
    }
   ],
   "source": [
    "from dxl_emerge import *\n",
    "\n",
    "getJointStatus(2, portHandler, packetHandler)"
   ]
  },
  {
   "cell_type": "code",
   "execution_count": 8,
   "metadata": {},
   "outputs": [],
   "source": [
    "from dxl_emerge import JointHandler\n",
    "\n",
    "jointHandler = JointHandler(portHandler,packetHandler)"
   ]
  },
  {
   "cell_type": "code",
   "execution_count": 9,
   "metadata": {},
   "outputs": [
    {
     "data": {
      "text/plain": [
       "512"
      ]
     },
     "execution_count": 9,
     "metadata": {},
     "output_type": "execute_result"
    }
   ],
   "source": [
    "jointHandler.getJointPosition(2)"
   ]
  },
  {
   "cell_type": "code",
   "execution_count": 10,
   "metadata": {},
   "outputs": [],
   "source": [
    "jointHandler.setJointTargetPosition(2,600)"
   ]
  },
  {
   "cell_type": "code",
   "execution_count": 11,
   "metadata": {},
   "outputs": [
    {
     "data": {
      "text/plain": [
       "598"
      ]
     },
     "execution_count": 11,
     "metadata": {},
     "output_type": "execute_result"
    }
   ],
   "source": [
    "jointHandler.getJointPosition(2)"
   ]
  },
  {
   "cell_type": "code",
   "execution_count": 12,
   "metadata": {},
   "outputs": [],
   "source": [
    "jointHandler.setJointTargetPosition(2,512)"
   ]
  },
  {
   "cell_type": "code",
   "execution_count": 13,
   "metadata": {},
   "outputs": [
    {
     "name": "stdout",
     "output_type": "stream",
     "text": [
      "[ID:002] ping Succeeded. Dynamixel model number : 12\n"
     ]
    },
    {
     "data": {
      "text/plain": [
       "True"
      ]
     },
     "execution_count": 13,
     "metadata": {},
     "output_type": "execute_result"
    }
   ],
   "source": [
    "jointHandler.getJointStatus(2)"
   ]
  },
  {
   "cell_type": "code",
   "execution_count": 14,
   "metadata": {},
   "outputs": [],
   "source": [
    "# Close port\n",
    "portHandler.closePort()"
   ]
  }
 ],
 "metadata": {
  "kernelspec": {
   "display_name": "EMERGE_Py311",
   "language": "python",
   "name": "python3"
  },
  "language_info": {
   "codemirror_mode": {
    "name": "ipython",
    "version": 3
   },
   "file_extension": ".py",
   "mimetype": "text/x-python",
   "name": "python",
   "nbconvert_exporter": "python",
   "pygments_lexer": "ipython3",
   "version": "3.11.5"
  }
 },
 "nbformat": 4,
 "nbformat_minor": 2
}
