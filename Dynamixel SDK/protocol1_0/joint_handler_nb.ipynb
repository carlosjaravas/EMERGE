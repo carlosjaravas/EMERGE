{
 "cells": [
  {
   "cell_type": "markdown",
   "metadata": {},
   "source": [
    "### Pruebas de las librerias"
   ]
  },
  {
   "cell_type": "code",
   "execution_count": 42,
   "metadata": {},
   "outputs": [],
   "source": [
    "import os, math, emerge_classes\n",
    "from dynamixel_sdk import *                    # Uses Dynamixel SDK library\n",
    "from joint_handler import *\n",
    "from zmqRemoteApi import RemoteAPIClient\n",
    "\n",
    "from random import randint as ri\n",
    "from random import uniform as ru"
   ]
  },
  {
   "cell_type": "markdown",
   "metadata": {},
   "source": [
    "### Pruebas para robot"
   ]
  },
  {
   "cell_type": "code",
   "execution_count": 43,
   "metadata": {},
   "outputs": [],
   "source": [
    "isSim = False"
   ]
  },
  {
   "cell_type": "code",
   "execution_count": 44,
   "metadata": {},
   "outputs": [],
   "source": [
    "if isSim:\n",
    "    cluster = False\n",
    "    setup = Sim_setup(cluster)\n",
    "    client = RemoteAPIClient('localhost', setup.port_conection)\n",
    "    sim = client.getObject('sim')\n",
    "    jointHandler = JointHandler(isSim, client, sim)\n",
    "else:\n",
    "    setup = EMERGE_setup()\n",
    "    portHandler = PortHandler(setup.DEVICENAME)\n",
    "    packetHandler = PacketHandler(setup.PROTOCOL_VERSION)\n",
    "    jointHandler = JointHandler(isSim, portHandler, packetHandler)"
   ]
  },
  {
   "cell_type": "code",
   "execution_count": 45,
   "metadata": {},
   "outputs": [
    {
     "name": "stdout",
     "output_type": "stream",
     "text": [
      "Succeeded to open the port\n",
      "Succeeded to change the baudrate\n"
     ]
    }
   ],
   "source": [
    "jointHandler.connectEMERGE()"
   ]
  },
  {
   "cell_type": "code",
   "execution_count": 6,
   "metadata": {},
   "outputs": [],
   "source": [
    "jointHandler.enableJointMovement(1)"
   ]
  },
  {
   "cell_type": "code",
   "execution_count": 7,
   "metadata": {},
   "outputs": [
    {
     "name": "stdout",
     "output_type": "stream",
     "text": [
      "[ID:001] ping Succeeded.\n"
     ]
    },
    {
     "data": {
      "text/plain": [
       "False"
      ]
     },
     "execution_count": 7,
     "metadata": {},
     "output_type": "execute_result"
    }
   ],
   "source": [
    "jointHandler.getJointStatus(1)\n",
    "jointHandler.getJointStatus(2)"
   ]
  },
  {
   "cell_type": "code",
   "execution_count": null,
   "metadata": {},
   "outputs": [],
   "source": [
    "jointHandler.num_joints,jointHandler.max_num_joint"
   ]
  },
  {
   "cell_type": "code",
   "execution_count": null,
   "metadata": {},
   "outputs": [],
   "source": [
    "jointHandler.joint_ids = []\n",
    "jointHandler.num_joints = 0"
   ]
  },
  {
   "cell_type": "code",
   "execution_count": null,
   "metadata": {},
   "outputs": [],
   "source": [
    "jointHandler.getJointList()"
   ]
  },
  {
   "cell_type": "code",
   "execution_count": null,
   "metadata": {},
   "outputs": [],
   "source": [
    "print(f\"Hay {jointHandler.num_joints} y son {jointHandler.joint_ids}\")"
   ]
  },
  {
   "cell_type": "code",
   "execution_count": 9,
   "metadata": {},
   "outputs": [],
   "source": [
    "jointHandler.disconnectEMERGE()"
   ]
  },
  {
   "cell_type": "code",
   "execution_count": null,
   "metadata": {},
   "outputs": [],
   "source": [
    "jointHandler.loadEMERGE()"
   ]
  },
  {
   "cell_type": "code",
   "execution_count": null,
   "metadata": {},
   "outputs": [],
   "source": [
    "jointHandler.num_joints,jointHandler.joint_ids"
   ]
  },
  {
   "cell_type": "code",
   "execution_count": null,
   "metadata": {},
   "outputs": [],
   "source": [
    "jointHandler.exact_rad"
   ]
  },
  {
   "cell_type": "code",
   "execution_count": null,
   "metadata": {},
   "outputs": [],
   "source": [
    "test_pos = [-math.pi/4,0,math.pi/4,0]\n",
    "for pos in test_pos:\n",
    "    jointHandler.setJointTargetPosition(1,pos)\n",
    "    error = abs(pos - jointHandler.getJointPosition(1))\n",
    "    print(f\"Error: {error*189/math.pi}\")"
   ]
  },
  {
   "cell_type": "code",
   "execution_count": null,
   "metadata": {},
   "outputs": [],
   "source": [
    "jointHandler.joint_ids = []\n",
    "jointHandler.getJointList()"
   ]
  },
  {
   "cell_type": "code",
   "execution_count": null,
   "metadata": {},
   "outputs": [],
   "source": [
    "jointHandler.joint_ids"
   ]
  },
  {
   "cell_type": "code",
   "execution_count": null,
   "metadata": {},
   "outputs": [],
   "source": [
    "jointHandler.unloadEMERGE()"
   ]
  },
  {
   "cell_type": "markdown",
   "metadata": {},
   "source": [
    "#### Prueba de casi todas las funciones para robot"
   ]
  },
  {
   "cell_type": "code",
   "execution_count": 46,
   "metadata": {},
   "outputs": [
    {
     "name": "stdout",
     "output_type": "stream",
     "text": [
      "Succeeded to open the port\n",
      "Succeeded to change the baudrate\n",
      "[ID:001] ping Succeeded.\n",
      "[ID:012] ping Succeeded.\n"
     ]
    }
   ],
   "source": [
    "jointHandler.loadEMERGE()"
   ]
  },
  {
   "cell_type": "code",
   "execution_count": 47,
   "metadata": {},
   "outputs": [
    {
     "data": {
      "text/plain": [
       "[1, 12]"
      ]
     },
     "execution_count": 47,
     "metadata": {},
     "output_type": "execute_result"
    }
   ],
   "source": [
    "jointHandler.joint_ids"
   ]
  },
  {
   "cell_type": "code",
   "execution_count": 48,
   "metadata": {},
   "outputs": [
    {
     "name": "stdout",
     "output_type": "stream",
     "text": [
      "Error: 1.0458984374999942\n",
      "Error: 0.9228515625000169\n",
      "Error: 0.12304687500000404\n",
      "Error: 0.9228515624999902\n"
     ]
    }
   ],
   "source": [
    "test_pos = [-math.pi/4,0,math.pi/4,0]\n",
    "for pos in test_pos:\n",
    "    jointHandler.setJointTargetPosition(1,pos)\n",
    "    error = abs(pos - jointHandler.getJointPosition(1))\n",
    "    print(f\"Error: {error*189/math.pi}\")"
   ]
  },
  {
   "cell_type": "code",
   "execution_count": null,
   "metadata": {},
   "outputs": [],
   "source": [
    "jointHandler.unloadEMERGE()"
   ]
  },
  {
   "cell_type": "markdown",
   "metadata": {},
   "source": [
    "### Pruebas para simulacion"
   ]
  },
  {
   "cell_type": "code",
   "execution_count": 3,
   "metadata": {},
   "outputs": [],
   "source": [
    "isSim = True\n",
    "if isSim:\n",
    "    cluster = False\n",
    "    setup = Sim_setup(cluster)\n",
    "    client = RemoteAPIClient('localhost', setup.port_conection)\n",
    "    sim = client.getObject('sim')\n",
    "    jointHandler = JointHandler(isSim, client, sim)\n",
    "else:\n",
    "    setup = EMERGE_setup()\n",
    "    portHandler = PortHandler(setup.DEVICENAME)\n",
    "    packetHandler = PacketHandler(setup.PROTOCOL_VERSION)\n",
    "    jointHandler = JointHandler(isSim, portHandler, packetHandler)"
   ]
  },
  {
   "cell_type": "code",
   "execution_count": 4,
   "metadata": {},
   "outputs": [],
   "source": [
    "jointHandler.loadEMERGE()"
   ]
  },
  {
   "cell_type": "code",
   "execution_count": 6,
   "metadata": {},
   "outputs": [
    {
     "name": "stdout",
     "output_type": "stream",
     "text": [
      "{'client': <zmqRemoteApi.RemoteAPIClient object at 0x000001144FF6B6D0>, 'sim': <class 'zmqRemoteApi.sim'>, 'exact_rad': 0.017453292519943295, 'joint_ids': [18, 22, 26], 'num_joints': 3, 'obj_ids': [28]}\n"
     ]
    }
   ],
   "source": [
    "print(jointHandler.__dict__)"
   ]
  },
  {
   "cell_type": "code",
   "execution_count": 10,
   "metadata": {},
   "outputs": [
    {
     "name": "stdout",
     "output_type": "stream",
     "text": [
      "-0.7853981852531433\n",
      "0.7853981852531433\n",
      "-0.7853981852531433\n"
     ]
    }
   ],
   "source": [
    "initial_pos = [-math.pi/4, math.pi/4, -math.pi/4]\n",
    "#Set all the joints to their initial position\n",
    "for joint_n in range(jointHandler.num_joints):\n",
    "    init_pos = initial_pos[joint_n]\n",
    "    joint = jointHandler.joint_ids[joint_n]\n",
    "\n",
    "    jointHandler.setJointInitialPosition(joint,init_pos)\n",
    "    print(jointHandler.getJointPosition(joint))\n"
   ]
  },
  {
   "cell_type": "code",
   "execution_count": null,
   "metadata": {},
   "outputs": [],
   "source": [
    "for joint_n in range(jointHandler.num_joints):\n",
    "    init_pos = initial_pos[joint_n]\n",
    "    joint = jointHandler.joint_ids[joint_n]\n",
    "\n",
    "    jointHandler.setJointInitialPosition(joint,init_pos)\n",
    "    print(jointHandler.getJointPosition(joint))"
   ]
  },
  {
   "cell_type": "code",
   "execution_count": 12,
   "metadata": {},
   "outputs": [],
   "source": [
    "#Generate a list for random starting positions\n",
    "def set_starting_position ():\n",
    "    starting_pos = []\n",
    "    starting_angles = [0, 45, 75]\n",
    "    angle = ri(0, len(starting_angles)-1)\n",
    "    sentido = math.pow(-1,ri(0, 1))\n",
    "    for _ in jointHandler.joint_ids:\n",
    "        starting_pos.append(sentido*starting_angles[angle]*math.pi/180)\n",
    "    return starting_pos\n",
    "\n",
    "\n",
    "def init_position():\n",
    "    initial_pos = set_starting_position()\n",
    "    #Set all the joints to their initial position\n",
    "    for joint_n in range(jointHandler.num_joints):\n",
    "        init_pos = initial_pos[joint_n]\n",
    "        joint = jointHandler.joint_ids[joint_n]\n",
    "\n",
    "        jointHandler.setJointInitialPosition(joint,init_pos)\n",
    "        print(jointHandler.getJointPosition(joint))"
   ]
  },
  {
   "cell_type": "code",
   "execution_count": 15,
   "metadata": {},
   "outputs": [
    {
     "name": "stdout",
     "output_type": "stream",
     "text": [
      "-0.7853981852531433\n",
      "-0.7853981852531433\n",
      "-0.7853981852531433\n"
     ]
    }
   ],
   "source": [
    "init_position()"
   ]
  },
  {
   "cell_type": "code",
   "execution_count": 18,
   "metadata": {},
   "outputs": [],
   "source": [
    "#Class to store all the perceptions\n",
    "class perceptions ():\n",
    "    def __init__(self):\n",
    "        #Execution data\n",
    "        self.sequence = 0\n",
    "        self.step = 0\n",
    "        self.increments = []\n",
    "        #Initial perceptions\n",
    "        self.prev_j_positions = []\n",
    "        self.prev_pos_x = 0\n",
    "        self.prev_pos_y = 0\n",
    "        self.prev_pos_z = 0\n",
    "        #Resulting perceptions\n",
    "        self.post_j_positions = []\n",
    "        self.post_pos_x = 0\n",
    "        self.post_pos_y = 0\n",
    "        self.post_pos_z = 0\n",
    "\n",
    "perception = perceptions()"
   ]
  },
  {
   "cell_type": "code",
   "execution_count": 35,
   "metadata": {},
   "outputs": [],
   "source": [
    "def rand_gen():\n",
    "    for num in range(jointHandler.num_joints):\n",
    "        n = ru(-80, 85) * math.pi / 180\n",
    "        perception.increments.append(n)"
   ]
  },
  {
   "cell_type": "code",
   "execution_count": 16,
   "metadata": {},
   "outputs": [],
   "source": [
    "jointHandler.connectEMERGE()"
   ]
  },
  {
   "cell_type": "code",
   "execution_count": 38,
   "metadata": {},
   "outputs": [],
   "source": [
    "perception = perceptions()\n",
    "rand_gen()"
   ]
  },
  {
   "cell_type": "code",
   "execution_count": 39,
   "metadata": {},
   "outputs": [
    {
     "data": {
      "text/plain": [
       "[0.45237746982119986, -0.8993947895509815, 0.012890266707569173]"
      ]
     },
     "execution_count": 39,
     "metadata": {},
     "output_type": "execute_result"
    }
   ],
   "source": [
    "perception.increments"
   ]
  },
  {
   "cell_type": "code",
   "execution_count": 33,
   "metadata": {},
   "outputs": [
    {
     "name": "stdout",
     "output_type": "stream",
     "text": [
      "1.3089969158172607\n",
      "1.3089969158172607\n",
      "1.3089969158172607\n"
     ]
    }
   ],
   "source": [
    "init_position()"
   ]
  },
  {
   "cell_type": "code",
   "execution_count": 40,
   "metadata": {},
   "outputs": [
    {
     "name": "stdout",
     "output_type": "stream",
     "text": [
      "0.4470522403717041\n",
      "-0.9167826175689697\n",
      "0.004396915435791016\n"
     ]
    }
   ],
   "source": [
    "for joint_n in range(jointHandler.num_joints):\n",
    "    next_pos = perception.increments[joint_n]\n",
    "    joint = jointHandler.joint_ids[joint_n]\n",
    "\n",
    "    jointHandler.setJointTargetPosition(joint,next_pos)\n",
    "    print(jointHandler.getJointPosition(joint))"
   ]
  },
  {
   "cell_type": "code",
   "execution_count": 41,
   "metadata": {},
   "outputs": [],
   "source": [
    "jointHandler.disconnectEMERGE()"
   ]
  }
 ],
 "metadata": {
  "kernelspec": {
   "display_name": "EMERGE_Py311",
   "language": "python",
   "name": "python3"
  },
  "language_info": {
   "codemirror_mode": {
    "name": "ipython",
    "version": 3
   },
   "file_extension": ".py",
   "mimetype": "text/x-python",
   "name": "python",
   "nbconvert_exporter": "python",
   "pygments_lexer": "ipython3",
   "version": "3.11.5"
  }
 },
 "nbformat": 4,
 "nbformat_minor": 2
}
