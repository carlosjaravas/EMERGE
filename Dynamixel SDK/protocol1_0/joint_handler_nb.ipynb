{
 "cells": [
  {
   "cell_type": "markdown",
   "metadata": {},
   "source": [
    "### Pruebas de las librerias"
   ]
  },
  {
   "cell_type": "code",
   "execution_count": 1,
   "metadata": {},
   "outputs": [],
   "source": [
    "import os, math, emerge_classes\n",
    "from dynamixel_sdk import *                    # Uses Dynamixel SDK library\n",
    "from joint_handler import *\n",
    "from zmqRemoteApi import RemoteAPIClient\n",
    "\n",
    "from random import randint as ri\n",
    "from random import uniform as ru"
   ]
  },
  {
   "cell_type": "code",
   "execution_count": 2,
   "metadata": {},
   "outputs": [],
   "source": [
    "isSim = False\n",
    "if isSim:\n",
    "    cluster = False\n",
    "    setup = Sim_setup(cluster)\n",
    "    client = RemoteAPIClient('localhost', setup.port_conection)\n",
    "    sim = client.getObject('sim')\n",
    "    jointHandler = JointHandler(isSim, client, sim)\n",
    "else:\n",
    "    setup = EMERGE_setup()\n",
    "    portHandler = PortHandler(setup.DEVICENAME)\n",
    "    packetHandler = PacketHandler(setup.PROTOCOL_VERSION)\n",
    "    jointHandler = JointHandler(isSim, portHandler, packetHandler)"
   ]
  },
  {
   "cell_type": "markdown",
   "metadata": {},
   "source": [
    "### Pruebas para robot"
   ]
  },
  {
   "cell_type": "code",
   "execution_count": 2,
   "metadata": {},
   "outputs": [],
   "source": [
    "isSim = False"
   ]
  },
  {
   "cell_type": "code",
   "execution_count": 3,
   "metadata": {},
   "outputs": [],
   "source": [
    "if isSim:\n",
    "    cluster = False\n",
    "    setup = Sim_setup(cluster)\n",
    "    client = RemoteAPIClient('localhost', setup.port_conection)\n",
    "    sim = client.getObject('sim')\n",
    "    jointHandler = JointHandler(isSim, client, sim)\n",
    "else:\n",
    "    setup = EMERGE_setup()\n",
    "    portHandler = PortHandler(setup.DEVICENAME)\n",
    "    packetHandler = PacketHandler(setup.PROTOCOL_VERSION)\n",
    "    jointHandler = JointHandler(isSim, portHandler, packetHandler)"
   ]
  },
  {
   "cell_type": "code",
   "execution_count": 4,
   "metadata": {},
   "outputs": [
    {
     "name": "stdout",
     "output_type": "stream",
     "text": [
      "Succeeded to open the port\n",
      "Succeeded to change the baudrate\n"
     ]
    }
   ],
   "source": [
    "jointHandler.connectEMERGE()"
   ]
  },
  {
   "cell_type": "code",
   "execution_count": 6,
   "metadata": {},
   "outputs": [],
   "source": [
    "jointHandler.enableJointMovement(1)"
   ]
  },
  {
   "cell_type": "code",
   "execution_count": 7,
   "metadata": {},
   "outputs": [
    {
     "name": "stdout",
     "output_type": "stream",
     "text": [
      "[ID:001] ping Succeeded.\n"
     ]
    },
    {
     "data": {
      "text/plain": [
       "False"
      ]
     },
     "execution_count": 7,
     "metadata": {},
     "output_type": "execute_result"
    }
   ],
   "source": [
    "jointHandler.getJointStatus(1)\n",
    "jointHandler.getJointStatus(2)"
   ]
  },
  {
   "cell_type": "code",
   "execution_count": null,
   "metadata": {},
   "outputs": [],
   "source": [
    "jointHandler.num_joints,jointHandler.max_num_joint"
   ]
  },
  {
   "cell_type": "code",
   "execution_count": null,
   "metadata": {},
   "outputs": [],
   "source": [
    "jointHandler.joint_ids = []\n",
    "jointHandler.num_joints = 0"
   ]
  },
  {
   "cell_type": "code",
   "execution_count": 6,
   "metadata": {},
   "outputs": [
    {
     "name": "stdout",
     "output_type": "stream",
     "text": [
      "[ID:001] ping Succeeded.\n",
      "[ID:012] ping Succeeded.\n"
     ]
    }
   ],
   "source": [
    "jointHandler.getJointList()"
   ]
  },
  {
   "cell_type": "code",
   "execution_count": 7,
   "metadata": {},
   "outputs": [
    {
     "name": "stdout",
     "output_type": "stream",
     "text": [
      "Hay 2 y son [1, 12]\n"
     ]
    }
   ],
   "source": [
    "print(f\"Hay {jointHandler.num_joints} y son {jointHandler.joint_ids}\")"
   ]
  },
  {
   "cell_type": "code",
   "execution_count": 13,
   "metadata": {},
   "outputs": [],
   "source": [
    "jointHandler.disconnectEMERGE()"
   ]
  },
  {
   "cell_type": "code",
   "execution_count": 6,
   "metadata": {},
   "outputs": [
    {
     "name": "stdout",
     "output_type": "stream",
     "text": [
      "Succeeded to open the port\n",
      "Succeeded to change the baudrate\n",
      "Succeeded to open the port\n",
      "Succeeded to change the baudrate\n",
      "[ID:001] ping Succeeded.\n",
      "[ID:012] ping Succeeded.\n"
     ]
    }
   ],
   "source": [
    "jointHandler.connectEMERGE()\n",
    "jointHandler.loadEMERGE()"
   ]
  },
  {
   "cell_type": "code",
   "execution_count": 17,
   "metadata": {},
   "outputs": [
    {
     "data": {
      "text/plain": [
       "(2, [1, 12])"
      ]
     },
     "execution_count": 17,
     "metadata": {},
     "output_type": "execute_result"
    }
   ],
   "source": [
    "jointHandler.num_joints,jointHandler.joint_ids"
   ]
  },
  {
   "cell_type": "code",
   "execution_count": 10,
   "metadata": {},
   "outputs": [
    {
     "data": {
      "text/plain": [
       "0.017453292519943295"
      ]
     },
     "execution_count": 10,
     "metadata": {},
     "output_type": "execute_result"
    }
   ],
   "source": [
    "jointHandler.exact_rad"
   ]
  },
  {
   "cell_type": "code",
   "execution_count": 7,
   "metadata": {},
   "outputs": [],
   "source": [
    "jointHandler.setJointTargetVelocity(1,100)"
   ]
  },
  {
   "cell_type": "code",
   "execution_count": 9,
   "metadata": {},
   "outputs": [
    {
     "name": "stdout",
     "output_type": "stream",
     "text": [
      "Error: 0.7998046874999996\n",
      "Error: 0.9228515624999902\n",
      "Error: 0.7998046874999861\n",
      "Error: 0.9228515625000169\n"
     ]
    }
   ],
   "source": [
    "test_pos = [-math.pi/4,0,math.pi/4,0]\n",
    "for pos in test_pos:\n",
    "    jointHandler.setJointTargetPosition(1,pos)\n",
    "    error = abs(pos - jointHandler.getJointPosition(1))\n",
    "    print(f\"Error: {error*189/math.pi}\")"
   ]
  },
  {
   "cell_type": "code",
   "execution_count": null,
   "metadata": {},
   "outputs": [],
   "source": [
    "jointHandler.joint_ids = []\n",
    "jointHandler.getJointList()"
   ]
  },
  {
   "cell_type": "code",
   "execution_count": null,
   "metadata": {},
   "outputs": [],
   "source": [
    "jointHandler.joint_ids"
   ]
  },
  {
   "cell_type": "code",
   "execution_count": 7,
   "metadata": {},
   "outputs": [],
   "source": [
    "jointHandler.unloadEMERGE()"
   ]
  },
  {
   "cell_type": "markdown",
   "metadata": {},
   "source": [
    "### Prueba de casi todas las funciones para robot"
   ]
  },
  {
   "cell_type": "code",
   "execution_count": 3,
   "metadata": {},
   "outputs": [
    {
     "name": "stdout",
     "output_type": "stream",
     "text": [
      "Succeeded to open the port\n",
      "Succeeded to change the baudrate\n",
      "[ID:012] ping Succeeded.\n"
     ]
    }
   ],
   "source": [
    "jointHandler.loadEMERGE()"
   ]
  },
  {
   "cell_type": "code",
   "execution_count": 4,
   "metadata": {},
   "outputs": [
    {
     "ename": "AttributeError",
     "evalue": "'NoneType' object has no attribute 'close'",
     "output_type": "error",
     "traceback": [
      "\u001b[1;31m---------------------------------------------------------------------------\u001b[0m",
      "\u001b[1;31mAttributeError\u001b[0m                            Traceback (most recent call last)",
      "Cell \u001b[1;32mIn[4], line 1\u001b[0m\n\u001b[1;32m----> 1\u001b[0m \u001b[43mjointHandler\u001b[49m\u001b[38;5;241;43m.\u001b[39;49m\u001b[43munloadEMERGE\u001b[49m\u001b[43m(\u001b[49m\u001b[43m)\u001b[49m\n",
      "File \u001b[1;32mc:\\Users\\carlo\\OneDrive\\Imágenes\\Documentos\\GitHub\\EMERGE\\Dynamixel SDK\\protocol1_0\\emerge_joint_handler.py:280\u001b[0m, in \u001b[0;36mJointHandlerEMERGE.unloadEMERGE\u001b[1;34m(self)\u001b[0m\n\u001b[0;32m    278\u001b[0m \u001b[38;5;28;01mfor\u001b[39;00m joint \u001b[38;5;129;01min\u001b[39;00m \u001b[38;5;28mself\u001b[39m\u001b[38;5;241m.\u001b[39mjoint_ids:\n\u001b[0;32m    279\u001b[0m     \u001b[38;5;28mself\u001b[39m\u001b[38;5;241m.\u001b[39mdisbleJointMovement(joint)\n\u001b[1;32m--> 280\u001b[0m \u001b[38;5;28;43mself\u001b[39;49m\u001b[38;5;241;43m.\u001b[39;49m\u001b[43mportHandler\u001b[49m\u001b[38;5;241;43m.\u001b[39;49m\u001b[43mclosePort\u001b[49m\u001b[43m(\u001b[49m\u001b[43m)\u001b[49m\n",
      "File \u001b[1;32mc:\\Users\\carlo\\OneDrive\\Imágenes\\Documentos\\GitHub\\EMERGE\\Dynamixel SDK\\protocol1_0\\dynamixel_sdk\\port_handler.py:47\u001b[0m, in \u001b[0;36mPortHandler.closePort\u001b[1;34m(self)\u001b[0m\n\u001b[0;32m     46\u001b[0m \u001b[38;5;28;01mdef\u001b[39;00m \u001b[38;5;21mclosePort\u001b[39m(\u001b[38;5;28mself\u001b[39m):\n\u001b[1;32m---> 47\u001b[0m     \u001b[38;5;28;43mself\u001b[39;49m\u001b[38;5;241;43m.\u001b[39;49m\u001b[43mser\u001b[49m\u001b[38;5;241;43m.\u001b[39;49m\u001b[43mclose\u001b[49m()\n\u001b[0;32m     48\u001b[0m     \u001b[38;5;28mself\u001b[39m\u001b[38;5;241m.\u001b[39mis_open \u001b[38;5;241m=\u001b[39m \u001b[38;5;28;01mFalse\u001b[39;00m\n",
      "\u001b[1;31mAttributeError\u001b[0m: 'NoneType' object has no attribute 'close'"
     ]
    }
   ],
   "source": [
    "jointHandler.unloadEMERGE()"
   ]
  },
  {
   "cell_type": "code",
   "execution_count": 55,
   "metadata": {},
   "outputs": [
    {
     "data": {
      "text/plain": [
       "[1, 12]"
      ]
     },
     "execution_count": 55,
     "metadata": {},
     "output_type": "execute_result"
    }
   ],
   "source": [
    "jointHandler.joint_ids"
   ]
  },
  {
   "cell_type": "code",
   "execution_count": 4,
   "metadata": {},
   "outputs": [
    {
     "name": "stdout",
     "output_type": "stream",
     "text": [
      "Velocidad 123, Progress: 0.0%\n",
      "Velocidad 123, Progress: 0.0%\n",
      "Velocidad 123, Progress: 0.0%\n",
      "Velocidad 123, Progress: 0.0%\n",
      "Velocidad 123, Progress: 0.0%\n",
      "Velocidad 123, Progress: 0.0%\n",
      "Velocidad 123, Progress: 0.0%\n",
      "Velocidad 123, Progress: 0.0%\n",
      "Velocidad 129, Progress: 0.0128534704370179%\n",
      "Velocidad 129, Progress: 0.0128534704370179%\n",
      "Velocidad 134, Progress: 0.02570694087403569%\n",
      "Velocidad 134, Progress: 0.02570694087403569%\n",
      "Velocidad 140, Progress: 0.03856041131105359%\n",
      "Velocidad 146, Progress: 0.0514138817480726%\n",
      "Velocidad 146, Progress: 0.0514138817480726%\n",
      "Velocidad 151, Progress: 0.06426735218509039%\n",
      "Velocidad 163, Progress: 0.08997429305912619%\n",
      "Velocidad 169, Progress: 0.10282776349614398%\n",
      "Velocidad 174, Progress: 0.11568123393316188%\n",
      "Velocidad 180, Progress: 0.12853470437017966%\n",
      "Velocidad 186, Progress: 0.14138817480719756%\n",
      "Velocidad 197, Progress: 0.16709511568123436%\n",
      "Velocidad 208, Progress: 0.19280205655527016%\n",
      "Velocidad 214, Progress: 0.20565552699228795%\n",
      "Velocidad 226, Progress: 0.23136246786632375%\n",
      "Velocidad 231, Progress: 0.24421593830334154%\n",
      "Velocidad 243, Progress: 0.26992287917737845%\n",
      "Velocidad 254, Progress: 0.29562982005141414%\n",
      "Velocidad 256, Progress: 0.30848329048843204%\n",
      "Velocidad 256, Progress: 0.3341902313624677%\n",
      "Velocidad 256, Progress: 0.3598971722365045%\n",
      "Velocidad 256, Progress: 0.3856041131105402%\n",
      "Velocidad 256, Progress: 0.411311053984576%\n",
      "Velocidad 256, Progress: 0.4370179948586117%\n",
      "Velocidad 256, Progress: 0.4755784061696664%\n",
      "Velocidad 256, Progress: 0.5012853470437022%\n",
      "Velocidad 256, Progress: 0.5398457583547557%\n",
      "Velocidad 256, Progress: 0.5526992287917736%\n",
      "Velocidad 256, Progress: 0.5912596401028283%\n",
      "Velocidad 256, Progress: 0.6041131105398461%\n",
      "Velocidad 256, Progress: 0.6426735218508997%\n",
      "Velocidad 256, Progress: 0.6683804627249366%\n",
      "Velocidad 256, Progress: 0.6940874035989723%\n",
      "Velocidad 247, Progress: 0.7197943444730079%\n",
      "Velocidad 236, Progress: 0.7455012853470437%\n",
      "Velocidad 207, Progress: 0.8097686375321341%\n",
      "Velocidad 196, Progress: 0.8354755784061698%\n",
      "Velocidad 185, Progress: 0.8611825192802056%\n",
      "Velocidad 173, Progress: 0.8868894601542424%\n",
      "Velocidad 162, Progress: 0.9125964010282781%\n",
      "Velocidad 150, Progress: 0.9383033419023138%\n"
     ]
    }
   ],
   "source": [
    "j = 1\n",
    "position = math.pi/8\n",
    "jointHandler.setJointTargetPosition(1,position)"
   ]
  },
  {
   "cell_type": "code",
   "execution_count": 65,
   "metadata": {},
   "outputs": [],
   "source": [
    "def setJointTargetPosition1(joint, target_position_rad):\n",
    "    joint_max_velocity = 300\n",
    "    joint_min_velocity = 100\n",
    "\n",
    "    jointHandler.setJointTargetVelocity(joint,jointHandler.joint_min_velocity)\n",
    "    jointHandler.setJointAngularPosition(joint, target_position_rad)\n",
    "\n",
    "    act_pos = jointHandler.getJointPosition(joint)\n",
    "    counter = 0\n",
    "    diff = act_pos - target_position_rad\n",
    "    error = abs(diff)\n",
    "\n",
    "    while abs(error) > jointHandler.exact_rad or counter < 5:\n",
    "\n",
    "        dist_percent = abs(error/diff)\n",
    "        k = math.log(joint_max_velocity/joint_min_velocity)\n",
    "        offset = joint_min_velocity\n",
    "        velocity = round(offset * math.exp(k * dist_percent))\n",
    "        \n",
    "        print(f\"Velocidad {velocity}, Dist: {dist_percent}%\")\n",
    "        \n",
    "        jointHandler.setJointTargetVelocity(joint,velocity)\n",
    "        jointHandler.setJointAngularPosition(joint, target_position_rad)\n",
    "        \n",
    "        new_pos = jointHandler.getJointPosition(joint)\n",
    "\n",
    "        if round(act_pos, 3) == round(new_pos, 3):\n",
    "            counter += 1\n",
    "        else:\n",
    "            counter = counter\n",
    "    \n",
    "        act_pos = new_pos\n",
    "        error = new_pos - target_position_rad"
   ]
  },
  {
   "cell_type": "code",
   "execution_count": 4,
   "metadata": {},
   "outputs": [
    {
     "data": {
      "text/plain": [
       "[1, 12]"
      ]
     },
     "execution_count": 4,
     "metadata": {},
     "output_type": "execute_result"
    }
   ],
   "source": [
    "jointHandler.joint_ids"
   ]
  },
  {
   "cell_type": "code",
   "execution_count": 17,
   "metadata": {},
   "outputs": [],
   "source": [
    "jointHandler.setJointInitialPosition(12)"
   ]
  },
  {
   "cell_type": "code",
   "execution_count": 21,
   "metadata": {},
   "outputs": [],
   "source": [
    "jointHandler.setJointTargetPosition(12,math.pi/2)"
   ]
  },
  {
   "cell_type": "code",
   "execution_count": 5,
   "metadata": {},
   "outputs": [
    {
     "name": "stdout",
     "output_type": "stream",
     "text": [
      "256 123\n"
     ]
    }
   ],
   "source": [
    "print(jointHandler.joint_max_velocity,jointHandler.joint_min_velocity)\n"
   ]
  },
  {
   "cell_type": "code",
   "execution_count": 8,
   "metadata": {},
   "outputs": [],
   "source": [
    "jointHandler.setJointTargetPosition(12,-3*math.pi/32)"
   ]
  },
  {
   "cell_type": "code",
   "execution_count": 15,
   "metadata": {},
   "outputs": [],
   "source": [
    "jointHandler.setJointAngularPosition(12,-math.pi/2)"
   ]
  },
  {
   "cell_type": "code",
   "execution_count": null,
   "metadata": {},
   "outputs": [],
   "source": [
    "test_pos = [-math.pi/4,0,math.pi/4,0]\n",
    "pos = 0\n",
    "incr = 7.5*math.pi/180\n",
    "i = 0\n",
    "for i in range(5):\n",
    "    post = post + incr\n",
    "    jointHandler.setJointTargetPosition(12,post)"
   ]
  },
  {
   "cell_type": "code",
   "execution_count": null,
   "metadata": {},
   "outputs": [],
   "source": [
    "for joint in jointHandler.joint_ids:\n",
    "    jointHandler.setJointTargetPosition(joint,0)"
   ]
  },
  {
   "cell_type": "code",
   "execution_count": 9,
   "metadata": {},
   "outputs": [
    {
     "name": "stdout",
     "output_type": "stream",
     "text": [
      "Velocidad 200, Dist: 1.0%\n",
      "Velocidad 200, Dist: 1.0%\n",
      "Velocidad 200, Dist: 1.0%\n",
      "Velocidad 200, Dist: 1.0%\n",
      "Velocidad 200, Dist: 1.0%\n",
      "Velocidad 200, Dist: 1.0%\n",
      "Velocidad 200, Dist: 1.0%\n",
      "Velocidad 199, Dist: 0.9956634865568084%\n",
      "Velocidad 199, Dist: 0.9913269731136164%\n",
      "Velocidad 199, Dist: 0.9913269731136164%\n",
      "Velocidad 198, Dist: 0.9869904596704248%\n",
      "Velocidad 197, Dist: 0.9783174327840415%\n",
      "Velocidad 196, Dist: 0.9739809193408498%\n",
      "Velocidad 196, Dist: 0.9696444058976582%\n",
      "Velocidad 195, Dist: 0.9653078924544666%\n",
      "Velocidad 195, Dist: 0.9609713790112749%\n",
      "Velocidad 193, Dist: 0.9522983521248913%\n",
      "Velocidad 192, Dist: 0.9436253252385081%\n",
      "Velocidad 191, Dist: 0.9349522983521248%\n",
      "Velocidad 191, Dist: 0.9306157849089333%\n",
      "Velocidad 188, Dist: 0.9132697311361664%\n",
      "Velocidad 187, Dist: 0.9045967042497831%\n",
      "Velocidad 187, Dist: 0.9002601908065915%\n",
      "Velocidad 186, Dist: 0.8915871639202082%\n",
      "Velocidad 184, Dist: 0.8829141370338246%\n",
      "Velocidad 183, Dist: 0.8742411101474413%\n",
      "Velocidad 182, Dist: 0.865568083261058%\n",
      "Velocidad 181, Dist: 0.8568950563746748%\n",
      "Velocidad 180, Dist: 0.8482220294882912%\n",
      "Velocidad 179, Dist: 0.8395490026019079%\n",
      "Velocidad 178, Dist: 0.8308759757155246%\n",
      "Velocidad 177, Dist: 0.8222029488291415%\n",
      "Velocidad 175, Dist: 0.8091934084995661%\n",
      "Velocidad 174, Dist: 0.800520381613183%\n",
      "Velocidad 174, Dist: 0.7961838681699913%\n",
      "Velocidad 173, Dist: 0.787510841283608%\n",
      "Velocidad 172, Dist: 0.7831743278404164%\n",
      "Velocidad 171, Dist: 0.7701647875108412%\n",
      "Velocidad 170, Dist: 0.7658282740676495%\n",
      "Velocidad 170, Dist: 0.7614917606244579%\n",
      "Velocidad 169, Dist: 0.7528187337380746%\n",
      "Velocidad 167, Dist: 0.744145706851691%\n",
      "Velocidad 167, Dist: 0.7398091934084994%\n",
      "Velocidad 166, Dist: 0.7311361665221161%\n",
      "Velocidad 165, Dist: 0.7267996530789245%\n",
      "Velocidad 165, Dist: 0.7181266261925412%\n",
      "Velocidad 164, Dist: 0.7094535993061576%\n",
      "Velocidad 163, Dist: 0.7007805724197743%\n",
      "Velocidad 162, Dist: 0.6964440589765827%\n",
      "Velocidad 161, Dist: 0.6877710320901995%\n",
      "Velocidad 160, Dist: 0.6790980052038162%\n",
      "Velocidad 160, Dist: 0.6747614917606242%\n",
      "Velocidad 159, Dist: 0.6704249783174326%\n",
      "Velocidad 158, Dist: 0.6617519514310494%\n",
      "Velocidad 157, Dist: 0.6530789245446661%\n",
      "Velocidad 157, Dist: 0.6530789245446661%\n",
      "Velocidad 156, Dist: 0.6444058976582828%\n",
      "Velocidad 155, Dist: 0.6313963573287076%\n",
      "Velocidad 154, Dist: 0.6270598438855159%\n",
      "Velocidad 154, Dist: 0.6227233304423243%\n",
      "Velocidad 153, Dist: 0.614050303555941%\n",
      "Velocidad 153, Dist: 0.6097137901127494%\n",
      "Velocidad 152, Dist: 0.6010407632263658%\n",
      "Velocidad 151, Dist: 0.5967042497831742%\n",
      "Velocidad 151, Dist: 0.5967042497831742%\n",
      "Velocidad 150, Dist: 0.5836947094535992%\n",
      "Velocidad 149, Dist: 0.5793581960104077%\n",
      "Velocidad 149, Dist: 0.5750216825672161%\n",
      "Velocidad 148, Dist: 0.5663486556808324%\n",
      "Velocidad 148, Dist: 0.5663486556808324%\n",
      "Velocidad 148, Dist: 0.5620121422376408%\n",
      "Velocidad 147, Dist: 0.5533391153512576%\n",
      "Velocidad 147, Dist: 0.5533391153512576%\n",
      "Velocidad 146, Dist: 0.5490026019080659%\n",
      "Velocidad 146, Dist: 0.5446660884648743%\n",
      "Velocidad 145, Dist: 0.535993061578491%\n",
      "Velocidad 145, Dist: 0.5316565481352991%\n",
      "Velocidad 145, Dist: 0.5316565481352991%\n",
      "Velocidad 144, Dist: 0.5273200346921074%\n",
      "Velocidad 143, Dist: 0.5186470078057241%\n",
      "Velocidad 143, Dist: 0.5143104943625325%\n",
      "Velocidad 143, Dist: 0.5143104943625325%\n",
      "Velocidad 142, Dist: 0.5056374674761492%\n",
      "Velocidad 142, Dist: 0.5013009540329576%\n",
      "Velocidad 142, Dist: 0.5013009540329576%\n",
      "Velocidad 141, Dist: 0.49696444058976563%\n",
      "Velocidad 140, Dist: 0.48829141370338236%\n",
      "Velocidad 140, Dist: 0.4839549002601908%\n",
      "Velocidad 139, Dist: 0.4752818733738075%\n",
      "Velocidad 139, Dist: 0.4752818733738075%\n",
      "Velocidad 138, Dist: 0.46660884648742423%\n",
      "Velocidad 138, Dist: 0.46227233304423226%\n",
      "Velocidad 137, Dist: 0.45793581960104063%\n",
      "Velocidad 137, Dist: 0.453599306157849%\n",
      "Velocidad 137, Dist: 0.44926279271465736%\n",
      "Velocidad 136, Dist: 0.4405897658282741%\n",
      "Velocidad 135, Dist: 0.4362532523850825%\n",
      "Velocidad 135, Dist: 0.43191673894189087%\n",
      "Velocidad 134, Dist: 0.42758022549869884%\n",
      "Velocidad 134, Dist: 0.4232437120555072%\n",
      "Velocidad 134, Dist: 0.4189071986123156%\n",
      "Velocidad 133, Dist: 0.41023417172593235%\n",
      "Velocidad 133, Dist: 0.41023417172593235%\n",
      "Velocidad 132, Dist: 0.4015611448395491%\n",
      "Velocidad 132, Dist: 0.4015611448395491%\n",
      "Velocidad 131, Dist: 0.38855160450997384%\n",
      "Velocidad 131, Dist: 0.3842150910667822%\n",
      "Velocidad 131, Dist: 0.3842150910667822%\n",
      "Velocidad 130, Dist: 0.37987857762359056%\n",
      "Velocidad 130, Dist: 0.3755420641803989%\n",
      "Velocidad 129, Dist: 0.3668690372940157%\n",
      "Velocidad 129, Dist: 0.3625325238508241%\n",
      "Velocidad 128, Dist: 0.35819601040763205%\n",
      "Velocidad 128, Dist: 0.35385949696444047%\n",
      "Velocidad 127, Dist: 0.3451864700780572%\n",
      "Velocidad 127, Dist: 0.34084995663486556%\n",
      "Velocidad 126, Dist: 0.3365134431916739%\n",
      "Velocidad 126, Dist: 0.3321769297484823%\n",
      "Velocidad 125, Dist: 0.3235039028620987%\n",
      "Velocidad 125, Dist: 0.3235039028620987%\n",
      "Velocidad 124, Dist: 0.3148308759757154%\n",
      "Velocidad 124, Dist: 0.31049436253252377%\n",
      "Velocidad 124, Dist: 0.3061578490893322%\n",
      "Velocidad 123, Dist: 0.2974848222029489%\n",
      "Velocidad 123, Dist: 0.2931483087597573%\n",
      "Velocidad 122, Dist: 0.2888117953165653%\n",
      "Velocidad 122, Dist: 0.2844752818733737%\n",
      "Velocidad 121, Dist: 0.28013876843018204%\n",
      "Velocidad 121, Dist: 0.27146574154379877%\n",
      "Velocidad 120, Dist: 0.26712922810060713%\n",
      "Velocidad 120, Dist: 0.26279271465741555%\n",
      "Velocidad 120, Dist: 0.2584562012142239%\n",
      "Velocidad 119, Dist: 0.24978317432784028%\n",
      "Velocidad 119, Dist: 0.24544666088464864%\n",
      "Velocidad 118, Dist: 0.241110147441457%\n",
      "Velocidad 118, Dist: 0.2367736339982654%\n",
      "Velocidad 117, Dist: 0.23243712055507376%\n",
      "Velocidad 117, Dist: 0.22810060711188213%\n",
      "Velocidad 117, Dist: 0.22376409366869052%\n",
      "Velocidad 116, Dist: 0.2194275802254985%\n",
      "Velocidad 115, Dist: 0.2064180398959236%\n",
      "Velocidad 115, Dist: 0.2064180398959236%\n",
      "Velocidad 115, Dist: 0.202081526452732%\n",
      "Velocidad 115, Dist: 0.19774501300954037%\n",
      "Velocidad 115, Dist: 0.19774501300954037%\n",
      "Velocidad 114, Dist: 0.18907198612315712%\n",
      "Velocidad 114, Dist: 0.18907198612315712%\n",
      "Velocidad 113, Dist: 0.1803989592367735%\n",
      "Velocidad 113, Dist: 0.17172593235039024%\n",
      "Velocidad 112, Dist: 0.1673894189071986%\n",
      "Velocidad 112, Dist: 0.16305290546400697%\n",
      "Velocidad 112, Dist: 0.15871639202081536%\n",
      "Velocidad 111, Dist: 0.15437987857762372%\n",
      "Velocidad 111, Dist: 0.1457068516912401%\n",
      "Velocidad 110, Dist: 0.14137033824804865%\n",
      "Velocidad 110, Dist: 0.1326973113616652%\n",
      "Velocidad 109, Dist: 0.12836079791847357%\n",
      "Velocidad 109, Dist: 0.12402428447528197%\n",
      "Velocidad 109, Dist: 0.12402428447528197%\n",
      "Velocidad 108, Dist: 0.11535125758889851%\n",
      "Velocidad 108, Dist: 0.11101474414570689%\n",
      "Velocidad 108, Dist: 0.10667823070251527%\n",
      "Velocidad 107, Dist: 0.09800520381613183%\n",
      "Velocidad 107, Dist: 0.09366869037294019%\n",
      "Velocidad 106, Dist: 0.08933217692974857%\n",
      "Velocidad 106, Dist: 0.08499566348655675%\n",
      "Velocidad 106, Dist: 0.08933217692974857%\n",
      "Velocidad 105, Dist: 0.0763226366001735%\n",
      "Velocidad 105, Dist: 0.07198612315698187%\n",
      "Velocidad 104, Dist: 0.06331309627059843%\n",
      "Velocidad 104, Dist: 0.0589765828274068%\n",
      "Velocidad 104, Dist: 0.05030355594102336%\n",
      "Velocidad 104, Dist: 0.05030355594102336%\n",
      "Velocidad 103, Dist: 0.045967042497831734%\n",
      "Velocidad 103, Dist: 0.041630529054640104%\n",
      "Velocidad 103, Dist: 0.03729401561144848%\n",
      "Velocidad 102, Dist: 0.032957502168256665%\n",
      "Velocidad 102, Dist: 0.024284475281873413%\n",
      "Velocidad 101, Dist: 0.019947961838681784%\n",
      "Velocidad 200, Dist: 1.0%\n",
      "Velocidad 199, Dist: 0.993421052631579%\n",
      "Velocidad 201, Dist: 1.006578947368421%\n",
      "Velocidad 201, Dist: 1.006578947368421%\n",
      "Velocidad 202, Dist: 1.0131578947368423%\n",
      "Velocidad 202, Dist: 1.0131578947368423%\n",
      "Velocidad 202, Dist: 1.0131578947368423%\n",
      "Velocidad 204, Dist: 1.0263157894736843%\n",
      "Velocidad 204, Dist: 1.0263157894736843%\n",
      "Velocidad 202, Dist: 1.0131578947368423%\n",
      "Velocidad 202, Dist: 1.0131578947368423%\n",
      "Velocidad 201, Dist: 1.006578947368421%\n",
      "Velocidad 200, Dist: 1.0%\n",
      "Velocidad 199, Dist: 0.993421052631579%\n",
      "Velocidad 198, Dist: 0.9868421052631581%\n",
      "Velocidad 196, Dist: 0.9736842105263158%\n",
      "Velocidad 195, Dist: 0.9605263157894738%\n",
      "Velocidad 193, Dist: 0.9473684210526315%\n",
      "Velocidad 191, Dist: 0.9342105263157896%\n",
      "Velocidad 189, Dist: 0.9210526315789473%\n",
      "Velocidad 187, Dist: 0.9013157894736841%\n",
      "Velocidad 185, Dist: 0.8881578947368421%\n",
      "Velocidad 184, Dist: 0.8815789473684211%\n",
      "Velocidad 182, Dist: 0.861842105263158%\n",
      "Velocidad 180, Dist: 0.8486842105263157%\n",
      "Velocidad 178, Dist: 0.8289473684210528%\n",
      "Velocidad 176, Dist: 0.8157894736842105%\n",
      "Velocidad 175, Dist: 0.8092105263157895%\n",
      "Velocidad 172, Dist: 0.782894736842105%\n",
      "Velocidad 170, Dist: 0.769736842105263%\n",
      "Velocidad 169, Dist: 0.756578947368421%\n",
      "Velocidad 167, Dist: 0.7368421052631581%\n",
      "Velocidad 165, Dist: 0.7236842105263156%\n",
      "Velocidad 164, Dist: 0.7105263157894736%\n",
      "Velocidad 162, Dist: 0.6973684210526316%\n",
      "Velocidad 160, Dist: 0.6776315789473687%\n",
      "Velocidad 159, Dist: 0.6710526315789471%\n",
      "Velocidad 158, Dist: 0.6578947368421052%\n",
      "Velocidad 156, Dist: 0.6447368421052632%\n",
      "Velocidad 156, Dist: 0.6381578947368423%\n",
      "Velocidad 154, Dist: 0.6184210526315786%\n",
      "Velocidad 152, Dist: 0.6052631578947367%\n",
      "Velocidad 151, Dist: 0.5986842105263157%\n",
      "Velocidad 151, Dist: 0.5921052631578948%\n",
      "Velocidad 149, Dist: 0.5789473684210528%\n",
      "Velocidad 149, Dist: 0.5723684210526319%\n",
      "Velocidad 148, Dist: 0.5657894736842103%\n",
      "Velocidad 147, Dist: 0.5592105263157893%\n",
      "Velocidad 146, Dist: 0.5460526315789473%\n",
      "Velocidad 145, Dist: 0.5328947368421053%\n",
      "Velocidad 145, Dist: 0.5328947368421053%\n",
      "Velocidad 144, Dist: 0.5263157894736844%\n",
      "Velocidad 143, Dist: 0.5197368421052634%\n",
      "Velocidad 143, Dist: 0.5131578947368418%\n",
      "Velocidad 142, Dist: 0.5065789473684208%\n",
      "Velocidad 141, Dist: 0.49999999999999983%\n",
      "Velocidad 141, Dist: 0.49999999999999983%\n",
      "Velocidad 140, Dist: 0.4868421052631579%\n",
      "Velocidad 139, Dist: 0.47368421052631593%\n",
      "Velocidad 139, Dist: 0.47368421052631593%\n",
      "Velocidad 138, Dist: 0.46710526315789497%\n",
      "Velocidad 138, Dist: 0.4605263157894734%\n",
      "Velocidad 138, Dist: 0.4605263157894734%\n",
      "Velocidad 136, Dist: 0.4473684210526314%\n",
      "Velocidad 136, Dist: 0.4473684210526314%\n",
      "Velocidad 136, Dist: 0.44078947368421045%\n",
      "Velocidad 135, Dist: 0.43421052631578944%\n",
      "Velocidad 135, Dist: 0.4276315789473685%\n",
      "Velocidad 134, Dist: 0.4210526315789475%\n",
      "Velocidad 133, Dist: 0.4144736842105265%\n",
      "Velocidad 132, Dist: 0.40131578947368396%\n",
      "Velocidad 131, Dist: 0.394736842105263%\n",
      "Velocidad 131, Dist: 0.388157894736842%\n",
      "Velocidad 130, Dist: 0.381578947368421%\n",
      "Velocidad 130, Dist: 0.37500000000000006%\n",
      "Velocidad 129, Dist: 0.36842105263157904%\n",
      "Velocidad 128, Dist: 0.3552631578947365%\n",
      "Velocidad 127, Dist: 0.34868421052631554%\n",
      "Velocidad 127, Dist: 0.3421052631578945%\n",
      "Velocidad 127, Dist: 0.3421052631578945%\n",
      "Velocidad 125, Dist: 0.3223684210526316%\n",
      "Velocidad 124, Dist: 0.3157894736842106%\n",
      "Velocidad 124, Dist: 0.30921052631578966%\n",
      "Velocidad 123, Dist: 0.3026315789473681%\n",
      "Velocidad 122, Dist: 0.2894736842105261%\n",
      "Velocidad 122, Dist: 0.2894736842105261%\n",
      "Velocidad 122, Dist: 0.28289473684210514%\n",
      "Velocidad 121, Dist: 0.26973684210526316%\n",
      "Velocidad 119, Dist: 0.2565789473684212%\n",
      "Velocidad 119, Dist: 0.24999999999999964%\n",
      "Velocidad 118, Dist: 0.24342105263157865%\n",
      "Velocidad 118, Dist: 0.2368421052631577%\n",
      "Velocidad 117, Dist: 0.2302631578947367%\n",
      "Velocidad 117, Dist: 0.2236842105263157%\n",
      "Velocidad 116, Dist: 0.21052631578947376%\n",
      "Velocidad 115, Dist: 0.20394736842105277%\n",
      "Velocidad 115, Dist: 0.20394736842105277%\n",
      "Velocidad 115, Dist: 0.1973684210526312%\n",
      "Velocidad 114, Dist: 0.18421052631578924%\n",
      "Velocidad 113, Dist: 0.17105263157894726%\n",
      "Velocidad 112, Dist: 0.1644736842105263%\n",
      "Velocidad 112, Dist: 0.1578947368421053%\n",
      "Velocidad 111, Dist: 0.15131578947368432%\n",
      "Velocidad 111, Dist: 0.15131578947368432%\n",
      "Velocidad 110, Dist: 0.13815789473684179%\n",
      "Velocidad 110, Dist: 0.1315789473684208%\n",
      "Velocidad 109, Dist: 0.12499999999999982%\n",
      "Velocidad 108, Dist: 0.11184210526315785%\n",
      "Velocidad 108, Dist: 0.10526315789473688%\n",
      "Velocidad 107, Dist: 0.09868421052631589%\n",
      "Velocidad 107, Dist: 0.09210526315789491%\n",
      "Velocidad 106, Dist: 0.07894736842105236%\n",
      "Velocidad 106, Dist: 0.07894736842105236%\n",
      "Velocidad 105, Dist: 0.07236842105263139%\n",
      "Velocidad 105, Dist: 0.0657894736842104%\n",
      "Velocidad 104, Dist: 0.05921052631578942%\n",
      "Velocidad 104, Dist: 0.05263157894736844%\n",
      "Velocidad 102, Dist: 0.032894736842104914%\n",
      "Velocidad 102, Dist: 0.032894736842104914%\n",
      "Velocidad 200, Dist: 1.0%\n",
      "Velocidad 200, Dist: 1.0%\n",
      "Velocidad 199, Dist: 0.9936143039591316%\n",
      "Velocidad 199, Dist: 0.9936143039591316%\n",
      "Velocidad 197, Dist: 0.9808429118773948%\n",
      "Velocidad 196, Dist: 0.9744572158365264%\n",
      "Velocidad 196, Dist: 0.9744572158365264%\n",
      "Velocidad 196, Dist: 0.9680715197956581%\n",
      "Velocidad 195, Dist: 0.9616858237547892%\n",
      "Velocidad 195, Dist: 0.9616858237547892%\n",
      "Velocidad 194, Dist: 0.9553001277139207%\n",
      "Velocidad 192, Dist: 0.942528735632184%\n",
      "Velocidad 191, Dist: 0.9361430395913156%\n",
      "Velocidad 190, Dist: 0.9297573435504471%\n",
      "Velocidad 190, Dist: 0.9233716475095788%\n",
      "Velocidad 189, Dist: 0.9169859514687104%\n",
      "Velocidad 187, Dist: 0.904214559386973%\n",
      "Velocidad 186, Dist: 0.8914431673052363%\n",
      "Velocidad 184, Dist: 0.8786717752234995%\n",
      "Velocidad 183, Dist: 0.8722860791826311%\n",
      "Velocidad 181, Dist: 0.8595146871008938%\n",
      "Velocidad 181, Dist: 0.8531289910600254%\n",
      "Velocidad 179, Dist: 0.8403575989782887%\n",
      "Velocidad 178, Dist: 0.8339719029374203%\n",
      "Velocidad 176, Dist: 0.8148148148148151%\n",
      "Velocidad 175, Dist: 0.8084291187739462%\n",
      "Velocidad 174, Dist: 0.7956577266922094%\n",
      "Velocidad 172, Dist: 0.7828863346104726%\n",
      "Velocidad 171, Dist: 0.7765006385696042%\n",
      "Velocidad 168, Dist: 0.75095785440613%\n",
      "Velocidad 168, Dist: 0.7445721583652617%\n",
      "Velocidad 166, Dist: 0.731800766283525%\n",
      "Velocidad 165, Dist: 0.7190293742017881%\n",
      "Velocidad 164, Dist: 0.7126436781609198%\n",
      "Velocidad 162, Dist: 0.6998722860791824%\n",
      "Velocidad 161, Dist: 0.6871008939974457%\n",
      "Velocidad 160, Dist: 0.6807151979565773%\n",
      "Velocidad 160, Dist: 0.6743295019157088%\n",
      "Velocidad 157, Dist: 0.6551724137931032%\n",
      "Velocidad 157, Dist: 0.6487867177522347%\n",
      "Velocidad 156, Dist: 0.6424010217113664%\n",
      "Velocidad 155, Dist: 0.6296296296296297%\n",
      "Velocidad 153, Dist: 0.6168582375478928%\n",
      "Velocidad 152, Dist: 0.6040868454661555%\n",
      "Velocidad 151, Dist: 0.5913154533844187%\n",
      "Velocidad 150, Dist: 0.5849297573435503%\n",
      "Velocidad 149, Dist: 0.578544061302682%\n",
      "Velocidad 148, Dist: 0.5657726692209452%\n",
      "Velocidad 147, Dist: 0.5593869731800768%\n",
      "Velocidad 146, Dist: 0.5466155810983394%\n",
      "Velocidad 146, Dist: 0.5466155810983394%\n",
      "Velocidad 145, Dist: 0.5338441890166027%\n",
      "Velocidad 145, Dist: 0.5338441890166027%\n",
      "Velocidad 144, Dist: 0.5274584929757343%\n",
      "Velocidad 144, Dist: 0.5210727969348659%\n",
      "Velocidad 142, Dist: 0.5083014048531291%\n",
      "Velocidad 142, Dist: 0.5083014048531291%\n",
      "Velocidad 142, Dist: 0.5019157088122608%\n",
      "Velocidad 141, Dist: 0.4955300127713918%\n",
      "Velocidad 140, Dist: 0.4891443167305234%\n",
      "Velocidad 140, Dist: 0.482758620689655%\n",
      "Velocidad 139, Dist: 0.46998722860791825%\n",
      "Velocidad 139, Dist: 0.46998722860791825%\n",
      "Velocidad 138, Dist: 0.46360153256704983%\n",
      "Velocidad 137, Dist: 0.45083014048531306%\n",
      "Velocidad 136, Dist: 0.44444444444444414%\n",
      "Velocidad 136, Dist: 0.44444444444444414%\n",
      "Velocidad 135, Dist: 0.43167305236270737%\n",
      "Velocidad 134, Dist: 0.42528735632183895%\n",
      "Velocidad 134, Dist: 0.4189016602809706%\n",
      "Velocidad 133, Dist: 0.4125159642401022%\n",
      "Velocidad 133, Dist: 0.4061302681992338%\n",
      "Velocidad 133, Dist: 0.4061302681992338%\n",
      "Velocidad 132, Dist: 0.3997445721583654%\n",
      "Velocidad 131, Dist: 0.38697318007662806%\n",
      "Velocidad 131, Dist: 0.38697318007662806%\n",
      "Velocidad 130, Dist: 0.3805874840357597%\n",
      "Velocidad 130, Dist: 0.3742017879948913%\n",
      "Velocidad 129, Dist: 0.36781609195402293%\n",
      "Velocidad 128, Dist: 0.35504469987228615%\n",
      "Velocidad 127, Dist: 0.34865900383141774%\n",
      "Velocidad 127, Dist: 0.34865900383141774%\n",
      "Velocidad 126, Dist: 0.3358876117496804%\n",
      "Velocidad 126, Dist: 0.3358876117496804%\n",
      "Velocidad 126, Dist: 0.32950191570881204%\n",
      "Velocidad 124, Dist: 0.31034482758620685%\n",
      "Velocidad 123, Dist: 0.3039591315453385%\n",
      "Velocidad 123, Dist: 0.2975734355044701%\n",
      "Velocidad 122, Dist: 0.29118773946360116%\n",
      "Velocidad 122, Dist: 0.2848020434227328%\n",
      "Velocidad 121, Dist: 0.2784163473818644%\n",
      "Velocidad 120, Dist: 0.2656449553001276%\n",
      "Velocidad 120, Dist: 0.25925925925925924%\n",
      "Velocidad 119, Dist: 0.25287356321839083%\n",
      "Velocidad 119, Dist: 0.24648786717752244%\n",
      "Velocidad 118, Dist: 0.2337164750957851%\n",
      "Velocidad 118, Dist: 0.2337164750957851%\n",
      "Velocidad 116, Dist: 0.21455938697317994%\n",
      "Velocidad 116, Dist: 0.21455938697317994%\n",
      "Velocidad 115, Dist: 0.20178799489144317%\n",
      "Velocidad 115, Dist: 0.19540229885057478%\n",
      "Velocidad 114, Dist: 0.18901660280970584%\n",
      "Velocidad 114, Dist: 0.18901660280970584%\n",
      "Velocidad 112, Dist: 0.16985951468710067%\n",
      "Velocidad 112, Dist: 0.16347381864623228%\n",
      "Velocidad 112, Dist: 0.1570881226053639%\n",
      "Velocidad 111, Dist: 0.1507024265644955%\n",
      "Velocidad 111, Dist: 0.14431673052362712%\n",
      "Velocidad 110, Dist: 0.13793103448275817%\n",
      "Velocidad 110, Dist: 0.1315453384418898%\n",
      "Velocidad 109, Dist: 0.11877394636015301%\n",
      "Velocidad 108, Dist: 0.10600255427841625%\n",
      "Velocidad 107, Dist: 0.09961685823754786%\n",
      "Velocidad 107, Dist: 0.09323116219667947%\n",
      "Velocidad 107, Dist: 0.09323116219667947%\n",
      "Velocidad 106, Dist: 0.08684546615581053%\n",
      "Velocidad 105, Dist: 0.06768837803320536%\n",
      "Velocidad 104, Dist: 0.06130268199233697%\n",
      "Velocidad 104, Dist: 0.06130268199233697%\n",
      "Velocidad 104, Dist: 0.05491698595146858%\n",
      "Velocidad 103, Dist: 0.0421455938697318%\n",
      "Velocidad 103, Dist: 0.0421455938697318%\n",
      "Velocidad 102, Dist: 0.022988505747126086%\n",
      "Velocidad 102, Dist: 0.022988505747126086%\n",
      "Velocidad 200, Dist: 1.0%\n",
      "Velocidad 201, Dist: 1.006578947368421%\n",
      "Velocidad 201, Dist: 1.006578947368421%\n",
      "Velocidad 202, Dist: 1.013157894736842%\n",
      "Velocidad 202, Dist: 1.013157894736842%\n",
      "Velocidad 202, Dist: 1.013157894736842%\n",
      "Velocidad 202, Dist: 1.013157894736842%\n",
      "Velocidad 202, Dist: 1.013157894736842%\n",
      "Velocidad 202, Dist: 1.013157894736842%\n",
      "Velocidad 201, Dist: 1.006578947368421%\n",
      "Velocidad 200, Dist: 1.0%\n",
      "Velocidad 200, Dist: 1.0%\n",
      "Velocidad 198, Dist: 0.9868421052631581%\n",
      "Velocidad 196, Dist: 0.9736842105263155%\n",
      "Velocidad 195, Dist: 0.9605263157894736%\n",
      "Velocidad 194, Dist: 0.9539473684210525%\n",
      "Velocidad 192, Dist: 0.9407894736842106%\n",
      "Velocidad 189, Dist: 0.9210526315789477%\n",
      "Velocidad 188, Dist: 0.9078947368421051%\n",
      "Velocidad 187, Dist: 0.9013157894736842%\n",
      "Velocidad 185, Dist: 0.8881578947368421%\n",
      "Velocidad 182, Dist: 0.8618421052631576%\n",
      "Velocidad 180, Dist: 0.8486842105263157%\n",
      "Velocidad 179, Dist: 0.8421052631578947%\n",
      "Velocidad 176, Dist: 0.8157894736842108%\n",
      "Velocidad 174, Dist: 0.8026315789473683%\n",
      "Velocidad 173, Dist: 0.7894736842105263%\n",
      "Velocidad 170, Dist: 0.7697368421052634%\n",
      "Velocidad 168, Dist: 0.7499999999999999%\n",
      "Velocidad 167, Dist: 0.7434210526315789%\n",
      "Velocidad 165, Dist: 0.7236842105263159%\n",
      "Velocidad 164, Dist: 0.710526315789474%\n",
      "Velocidad 162, Dist: 0.6973684210526314%\n",
      "Velocidad 161, Dist: 0.6842105263157895%\n",
      "Velocidad 159, Dist: 0.6710526315789475%\n",
      "Velocidad 158, Dist: 0.6644736842105265%\n",
      "Velocidad 157, Dist: 0.651315789473684%\n",
      "Velocidad 156, Dist: 0.638157894736842%\n",
      "Velocidad 154, Dist: 0.6250000000000001%\n",
      "Velocidad 153, Dist: 0.6118421052631581%\n",
      "Velocidad 152, Dist: 0.6052631578947372%\n",
      "Velocidad 151, Dist: 0.5986842105263156%\n",
      "Velocidad 150, Dist: 0.5855263157894736%\n",
      "Velocidad 149, Dist: 0.5789473684210527%\n",
      "Velocidad 149, Dist: 0.5723684210526316%\n",
      "Velocidad 149, Dist: 0.5723684210526316%\n",
      "Velocidad 147, Dist: 0.5526315789473687%\n",
      "Velocidad 146, Dist: 0.5460526315789471%\n",
      "Velocidad 144, Dist: 0.5263157894736842%\n",
      "Velocidad 144, Dist: 0.5263157894736842%\n",
      "Velocidad 143, Dist: 0.5197368421052633%\n",
      "Velocidad 142, Dist: 0.5065789473684212%\n",
      "Velocidad 141, Dist: 0.5000000000000003%\n",
      "Velocidad 141, Dist: 0.49342105263157876%\n",
      "Velocidad 140, Dist: 0.48684210526315774%\n",
      "Velocidad 140, Dist: 0.48684210526315774%\n",
      "Velocidad 139, Dist: 0.4802631578947368%\n",
      "Velocidad 139, Dist: 0.47368421052631576%\n",
      "Velocidad 138, Dist: 0.4671052631578948%\n",
      "Velocidad 138, Dist: 0.46052631578947384%\n",
      "Velocidad 138, Dist: 0.46052631578947384%\n",
      "Velocidad 137, Dist: 0.4539473684210528%\n",
      "Velocidad 136, Dist: 0.44736842105263186%\n",
      "Velocidad 136, Dist: 0.4407894736842103%\n",
      "Velocidad 135, Dist: 0.4342105263157893%\n",
      "Velocidad 135, Dist: 0.42763157894736836%\n",
      "Velocidad 134, Dist: 0.42105263157894735%\n",
      "Velocidad 133, Dist: 0.4144736842105264%\n",
      "Velocidad 133, Dist: 0.4078947368421054%\n",
      "Velocidad 133, Dist: 0.4078947368421054%\n",
      "Velocidad 132, Dist: 0.4013157894736844%\n",
      "Velocidad 131, Dist: 0.3881578947368425%\n",
      "Velocidad 130, Dist: 0.37499999999999994%\n",
      "Velocidad 129, Dist: 0.3684210526315789%\n",
      "Velocidad 129, Dist: 0.36184210526315796%\n",
      "Velocidad 128, Dist: 0.355263157894737%\n",
      "Velocidad 127, Dist: 0.348684210526316%\n",
      "Velocidad 127, Dist: 0.342105263157895%\n",
      "Velocidad 126, Dist: 0.33552631578947406%\n",
      "Velocidad 126, Dist: 0.3289473684210525%\n",
      "Velocidad 124, Dist: 0.3157894736842105%\n",
      "Velocidad 124, Dist: 0.30921052631578955%\n",
      "Velocidad 123, Dist: 0.3026315789473686%\n",
      "Velocidad 123, Dist: 0.29605263157894757%\n",
      "Velocidad 122, Dist: 0.2894736842105266%\n",
      "Velocidad 121, Dist: 0.27631578947368407%\n",
      "Velocidad 121, Dist: 0.27631578947368407%\n",
      "Velocidad 121, Dist: 0.2697368421052631%\n",
      "Velocidad 120, Dist: 0.2631578947368421%\n",
      "Velocidad 119, Dist: 0.25000000000000017%\n",
      "Velocidad 118, Dist: 0.24342105263157915%\n",
      "Velocidad 118, Dist: 0.2368421052631582%\n",
      "Velocidad 118, Dist: 0.2368421052631582%\n",
      "Velocidad 116, Dist: 0.21710526315789466%\n",
      "Velocidad 116, Dist: 0.21052631578947367%\n",
      "Velocidad 115, Dist: 0.2039473684210527%\n",
      "Velocidad 115, Dist: 0.19736842105263172%\n",
      "Velocidad 114, Dist: 0.19078947368421073%\n",
      "Velocidad 113, Dist: 0.17763157894736878%\n",
      "Velocidad 113, Dist: 0.17763157894736878%\n",
      "Velocidad 113, Dist: 0.17105263157894723%\n",
      "Velocidad 112, Dist: 0.16447368421052624%\n",
      "Velocidad 112, Dist: 0.15789473684210525%\n",
      "Velocidad 111, Dist: 0.1513157894736843%\n",
      "Velocidad 111, Dist: 0.1447368421052633%\n",
      "Velocidad 110, Dist: 0.1381578947368423%\n",
      "Velocidad 110, Dist: 0.13157894736842135%\n",
      "Velocidad 109, Dist: 0.1184210526315788%\n",
      "Velocidad 109, Dist: 0.1184210526315788%\n",
      "Velocidad 108, Dist: 0.11184210526315783%\n",
      "Velocidad 108, Dist: 0.10526315789473684%\n",
      "Velocidad 107, Dist: 0.09210526315789488%\n",
      "Velocidad 106, Dist: 0.0855263157894739%\n",
      "Velocidad 106, Dist: 0.07894736842105292%\n",
      "Velocidad 105, Dist: 0.06578947368421038%\n",
      "Velocidad 104, Dist: 0.0592105263157894%\n",
      "Velocidad 104, Dist: 0.05263157894736842%\n",
      "Velocidad 103, Dist: 0.04605263157894744%\n",
      "Velocidad 103, Dist: 0.03947368421052646%\n",
      "Velocidad 102, Dist: 0.032894736842105476%\n",
      "Velocidad 200, Dist: 1.0%\n",
      "Velocidad 200, Dist: 1.0%\n",
      "Velocidad 200, Dist: 1.0%\n",
      "Velocidad 200, Dist: 1.0%\n",
      "Velocidad 200, Dist: 1.0%\n",
      "Velocidad 200, Dist: 1.0%\n",
      "Velocidad 200, Dist: 1.0%\n",
      "Velocidad 199, Dist: 0.9934469200524247%\n",
      "Velocidad 199, Dist: 0.9934469200524247%\n",
      "Velocidad 198, Dist: 0.9868938401048494%\n",
      "Velocidad 198, Dist: 0.9868938401048494%\n",
      "Velocidad 197, Dist: 0.9803407601572741%\n",
      "Velocidad 196, Dist: 0.9737876802096989%\n",
      "Velocidad 196, Dist: 0.9672346002621229%\n",
      "Velocidad 194, Dist: 0.9541284403669724%\n",
      "Velocidad 193, Dist: 0.9475753604193972%\n",
      "Velocidad 191, Dist: 0.9344692005242465%\n",
      "Velocidad 190, Dist: 0.9279161205766713%\n",
      "Velocidad 188, Dist: 0.9082568807339448%\n",
      "Velocidad 186, Dist: 0.8951507208387942%\n",
      "Velocidad 184, Dist: 0.8820445609436436%\n",
      "Velocidad 183, Dist: 0.8689384010484931%\n",
      "Velocidad 181, Dist: 0.8558322411533419%\n",
      "Velocidad 179, Dist: 0.8427260812581914%\n",
      "Velocidad 178, Dist: 0.8296199213630407%\n",
      "Velocidad 176, Dist: 0.8165137614678901%\n",
      "Velocidad 175, Dist: 0.803407601572739%\n",
      "Velocidad 173, Dist: 0.7903014416775884%\n",
      "Velocidad 171, Dist: 0.7771952817824379%\n",
      "Velocidad 168, Dist: 0.7509829619921361%\n",
      "Velocidad 167, Dist: 0.7378768020969856%\n",
      "Velocidad 165, Dist: 0.724770642201835%\n",
      "Velocidad 165, Dist: 0.7182175622542597%\n",
      "Velocidad 162, Dist: 0.6985583224115333%\n",
      "Velocidad 162, Dist: 0.6920052424639579%\n",
      "Velocidad 160, Dist: 0.6788990825688074%\n",
      "Velocidad 158, Dist: 0.6592398427260815%\n",
      "Velocidad 157, Dist: 0.6526867627785062%\n",
      "Velocidad 156, Dist: 0.6461336828309303%\n",
      "Velocidad 156, Dist: 0.639580602883355%\n",
      "Velocidad 154, Dist: 0.6264744429882044%\n",
      "Velocidad 154, Dist: 0.6199213630406292%\n",
      "Velocidad 152, Dist: 0.6068152031454785%\n",
      "Velocidad 151, Dist: 0.5937090432503275%\n",
      "Velocidad 150, Dist: 0.5871559633027521%\n",
      "Velocidad 150, Dist: 0.5806028833551768%\n",
      "Velocidad 149, Dist: 0.5740498034076016%\n",
      "Velocidad 148, Dist: 0.5674967234600263%\n",
      "Velocidad 148, Dist: 0.560943643512451%\n",
      "Velocidad 147, Dist: 0.5543905635648757%\n",
      "Velocidad 146, Dist: 0.5478374836173004%\n",
      "Velocidad 146, Dist: 0.5412844036697245%\n",
      "Velocidad 145, Dist: 0.5347313237221493%\n",
      "Velocidad 144, Dist: 0.528178243774574%\n",
      "Velocidad 144, Dist: 0.5216251638269986%\n",
      "Velocidad 144, Dist: 0.5216251638269986%\n",
      "Velocidad 143, Dist: 0.5150720838794234%\n",
      "Velocidad 142, Dist: 0.5019659239842729%\n",
      "Velocidad 142, Dist: 0.5019659239842729%\n",
      "Velocidad 142, Dist: 0.5019659239842729%\n",
      "Velocidad 141, Dist: 0.4954128440366975%\n",
      "Velocidad 141, Dist: 0.4954128440366975%\n",
      "Velocidad 140, Dist: 0.4888597640891217%\n",
      "Velocidad 140, Dist: 0.48230668414154637%\n",
      "Velocidad 139, Dist: 0.47575360419397106%\n",
      "Velocidad 138, Dist: 0.4626474442988205%\n",
      "Velocidad 137, Dist: 0.4495412844036699%\n",
      "Velocidad 136, Dist: 0.44298820445609466%\n",
      "Velocidad 135, Dist: 0.4364351245085188%\n",
      "Velocidad 135, Dist: 0.4298820445609435%\n",
      "Velocidad 134, Dist: 0.4233289646133682%\n",
      "Velocidad 133, Dist: 0.4102228047182176%\n",
      "Velocidad 132, Dist: 0.40366972477064234%\n",
      "Velocidad 132, Dist: 0.397116644823067%\n",
      "Velocidad 131, Dist: 0.39056356487549176%\n",
      "Velocidad 130, Dist: 0.3840104849279159%\n",
      "Velocidad 129, Dist: 0.3709043250327653%\n",
      "Velocidad 129, Dist: 0.36435124508519%\n",
      "Velocidad 128, Dist: 0.3577981651376147%\n",
      "Velocidad 128, Dist: 0.35124508519003944%\n",
      "Velocidad 127, Dist: 0.34469200524246413%\n",
      "Velocidad 126, Dist: 0.33813892529488887%\n",
      "Velocidad 126, Dist: 0.331585845347313%\n",
      "Velocidad 125, Dist: 0.3250327653997377%\n",
      "Velocidad 124, Dist: 0.3119266055045871%\n",
      "Velocidad 124, Dist: 0.3119266055045871%\n",
      "Velocidad 123, Dist: 0.29882044560943655%\n",
      "Velocidad 122, Dist: 0.29226736566186123%\n",
      "Velocidad 122, Dist: 0.285714285714286%\n",
      "Velocidad 121, Dist: 0.27916120576671066%\n",
      "Velocidad 121, Dist: 0.2726081258191348%\n",
      "Velocidad 120, Dist: 0.26605504587155954%\n",
      "Velocidad 120, Dist: 0.2595019659239842%\n",
      "Velocidad 119, Dist: 0.24639580602883365%\n",
      "Velocidad 118, Dist: 0.23984272608125837%\n",
      "Velocidad 118, Dist: 0.23328964613368305%\n",
      "Velocidad 116, Dist: 0.22018348623853193%\n",
      "Velocidad 116, Dist: 0.21363040629095692%\n",
      "Velocidad 115, Dist: 0.20707732634338133%\n",
      "Velocidad 115, Dist: 0.20052424639580604%\n",
      "Velocidad 114, Dist: 0.19397116644823076%\n",
      "Velocidad 114, Dist: 0.19397116644823076%\n",
      "Velocidad 113, Dist: 0.1743119266055046%\n",
      "Velocidad 112, Dist: 0.1677588466579293%\n",
      "Velocidad 112, Dist: 0.16120576671035403%\n",
      "Velocidad 111, Dist: 0.15465268676277844%\n",
      "Velocidad 111, Dist: 0.14809960681520315%\n",
      "Velocidad 110, Dist: 0.14154652686762786%\n",
      "Velocidad 110, Dist: 0.13499344692005258%\n",
      "Velocidad 110, Dist: 0.13499344692005258%\n",
      "Velocidad 108, Dist: 0.11533420707732642%\n",
      "Velocidad 108, Dist: 0.10878112712975113%\n",
      "Velocidad 107, Dist: 0.10222804718217555%\n",
      "Velocidad 107, Dist: 0.09567496723460027%\n",
      "Velocidad 106, Dist: 0.08912188728702497%\n",
      "Velocidad 105, Dist: 0.07601572739187411%\n",
      "Velocidad 105, Dist: 0.06946264744429882%\n",
      "Velocidad 104, Dist: 0.06290956749672352%\n",
      "Velocidad 104, Dist: 0.06290956749672352%\n",
      "Velocidad 103, Dist: 0.04325032765399737%\n",
      "Velocidad 103, Dist: 0.03669724770642208%\n",
      "Velocidad 102, Dist: 0.03014416775884679%\n",
      "Velocidad 102, Dist: 0.023591087811271217%\n",
      "Velocidad 200, Dist: 1.0%\n",
      "Velocidad 202, Dist: 1.0132450331125826%\n",
      "Velocidad 205, Dist: 1.033112582781457%\n",
      "Velocidad 205, Dist: 1.033112582781457%\n",
      "Velocidad 206, Dist: 1.039735099337748%\n",
      "Velocidad 206, Dist: 1.039735099337748%\n",
      "Velocidad 206, Dist: 1.039735099337748%\n",
      "Velocidad 207, Dist: 1.0463576158940397%\n",
      "Velocidad 207, Dist: 1.0463576158940397%\n",
      "Velocidad 207, Dist: 1.0463576158940397%\n",
      "Velocidad 207, Dist: 1.0463576158940397%\n",
      "Velocidad 206, Dist: 1.039735099337748%\n",
      "Velocidad 206, Dist: 1.039735099337748%\n",
      "Velocidad 205, Dist: 1.033112582781457%\n",
      "Velocidad 205, Dist: 1.033112582781457%\n",
      "Velocidad 200, Dist: 1.0%\n",
      "Velocidad 199, Dist: 0.9933774834437087%\n",
      "Velocidad 198, Dist: 0.986754966887417%\n",
      "Velocidad 197, Dist: 0.9801324503311257%\n",
      "Velocidad 194, Dist: 0.9536423841059601%\n",
      "Velocidad 192, Dist: 0.9403973509933775%\n",
      "Velocidad 190, Dist: 0.9271523178807947%\n",
      "Velocidad 188, Dist: 0.9139072847682119%\n",
      "Velocidad 187, Dist: 0.9006622516556291%\n",
      "Velocidad 184, Dist: 0.8807947019867548%\n",
      "Velocidad 182, Dist: 0.8609271523178809%\n",
      "Velocidad 181, Dist: 0.8543046357615892%\n",
      "Velocidad 178, Dist: 0.8344370860927153%\n",
      "Velocidad 176, Dist: 0.814569536423841%\n",
      "Velocidad 174, Dist: 0.801324503311258%\n",
      "Velocidad 173, Dist: 0.7880794701986752%\n",
      "Velocidad 171, Dist: 0.7748344370860926%\n",
      "Velocidad 169, Dist: 0.7549668874172185%\n",
      "Velocidad 167, Dist: 0.7417218543046359%\n",
      "Velocidad 166, Dist: 0.735099337748344%\n",
      "Velocidad 164, Dist: 0.7152317880794701%\n",
      "Velocidad 163, Dist: 0.7019867549668874%\n",
      "Velocidad 161, Dist: 0.6887417218543048%\n",
      "Velocidad 160, Dist: 0.6821192052980135%\n",
      "Velocidad 158, Dist: 0.6622516556291389%\n",
      "Velocidad 157, Dist: 0.6490066225165563%\n",
      "Velocidad 156, Dist: 0.642384105960265%\n",
      "Velocidad 155, Dist: 0.6291390728476823%\n",
      "Velocidad 153, Dist: 0.6158940397350992%\n",
      "Velocidad 153, Dist: 0.6092715231788078%\n",
      "Velocidad 152, Dist: 0.6026490066225165%\n",
      "Velocidad 150, Dist: 0.5894039735099338%\n",
      "Velocidad 150, Dist: 0.5827814569536425%\n",
      "Velocidad 148, Dist: 0.5695364238410593%\n",
      "Velocidad 148, Dist: 0.5695364238410593%\n",
      "Velocidad 148, Dist: 0.562913907284768%\n",
      "Velocidad 146, Dist: 0.543046357615894%\n",
      "Velocidad 145, Dist: 0.5364238410596027%\n",
      "Velocidad 144, Dist: 0.5298013245033114%\n",
      "Velocidad 144, Dist: 0.5231788079470201%\n",
      "Velocidad 143, Dist: 0.5165562913907281%\n",
      "Velocidad 142, Dist: 0.5099337748344368%\n",
      "Velocidad 142, Dist: 0.5099337748344368%\n",
      "Velocidad 142, Dist: 0.5033112582781455%\n",
      "Velocidad 141, Dist: 0.4966887417218542%\n",
      "Velocidad 140, Dist: 0.49006622516556286%\n",
      "Velocidad 140, Dist: 0.49006622516556286%\n",
      "Velocidad 140, Dist: 0.48344370860927155%\n",
      "Velocidad 139, Dist: 0.47682119205298024%\n",
      "Velocidad 139, Dist: 0.4701986754966889%\n",
      "Velocidad 138, Dist: 0.463576158940397%\n",
      "Velocidad 137, Dist: 0.4569536423841057%\n",
      "Velocidad 137, Dist: 0.45033112582781437%\n",
      "Velocidad 136, Dist: 0.44370860927152306%\n",
      "Velocidad 136, Dist: 0.44370860927152306%\n",
      "Velocidad 135, Dist: 0.43046357615894043%\n",
      "Velocidad 134, Dist: 0.4238410596026491%\n",
      "Velocidad 134, Dist: 0.4172185430463578%\n",
      "Velocidad 133, Dist: 0.4105960264900659%\n",
      "Velocidad 132, Dist: 0.40397350993377457%\n",
      "Velocidad 131, Dist: 0.39072847682119194%\n",
      "Velocidad 131, Dist: 0.3841059602649006%\n",
      "Velocidad 130, Dist: 0.37748344370860926%\n",
      "Velocidad 129, Dist: 0.37086092715231794%\n",
      "Velocidad 129, Dist: 0.36423841059602663%\n",
      "Velocidad 128, Dist: 0.35761589403973476%\n",
      "Velocidad 128, Dist: 0.35099337748344345%\n",
      "Velocidad 127, Dist: 0.3443708609271521%\n",
      "Velocidad 126, Dist: 0.33112582781456945%\n",
      "Velocidad 125, Dist: 0.32450331125827814%\n",
      "Velocidad 125, Dist: 0.3178807947019868%\n",
      "Velocidad 124, Dist: 0.3112582781456955%\n",
      "Velocidad 123, Dist: 0.2980132450331123%\n",
      "Velocidad 122, Dist: 0.29139072847682096%\n",
      "Velocidad 122, Dist: 0.28476821192052965%\n",
      "Velocidad 121, Dist: 0.27814569536423833%\n",
      "Velocidad 121, Dist: 0.27814569536423833%\n",
      "Velocidad 120, Dist: 0.2649006622516557%\n",
      "Velocidad 120, Dist: 0.2582781456953644%\n",
      "Velocidad 119, Dist: 0.25165562913907247%\n",
      "Velocidad 118, Dist: 0.23841059602648984%\n",
      "Velocidad 117, Dist: 0.2317880794701985%\n",
      "Velocidad 117, Dist: 0.22516556291390719%\n",
      "Velocidad 116, Dist: 0.21192052980132456%\n",
      "Velocidad 115, Dist: 0.20529801324503322%\n",
      "Velocidad 115, Dist: 0.20529801324503322%\n",
      "Velocidad 114, Dist: 0.19205298013245%\n",
      "Velocidad 114, Dist: 0.19205298013245%\n",
      "Velocidad 114, Dist: 0.1854304635761587%\n",
      "Velocidad 113, Dist: 0.17880794701986738%\n",
      "Velocidad 113, Dist: 0.17218543046357604%\n",
      "Velocidad 112, Dist: 0.16556291390728473%\n",
      "Velocidad 112, Dist: 0.1589403973509934%\n",
      "Velocidad 111, Dist: 0.1523178807947021%\n",
      "Velocidad 111, Dist: 0.1456953642384102%\n",
      "Velocidad 110, Dist: 0.1390728476821189%\n",
      "Velocidad 110, Dist: 0.13245033112582755%\n",
      "Velocidad 109, Dist: 0.12582781456953623%\n",
      "Velocidad 108, Dist: 0.11258278145695359%\n",
      "Velocidad 108, Dist: 0.11258278145695359%\n",
      "Velocidad 108, Dist: 0.10596026490066228%\n",
      "Velocidad 107, Dist: 0.09271523178807964%\n",
      "Velocidad 107, Dist: 0.09271523178807964%\n",
      "Velocidad 105, Dist: 0.0728476821192051%\n",
      "Velocidad 104, Dist: 0.05960264900662246%\n",
      "Velocidad 104, Dist: 0.05960264900662246%\n",
      "Velocidad 104, Dist: 0.05298013245033114%\n",
      "Velocidad 103, Dist: 0.04635761589403982%\n",
      "Velocidad 103, Dist: 0.0397350993377485%\n",
      "Velocidad 102, Dist: 0.0331125827814566%\n",
      "Velocidad 102, Dist: 0.026490066225165282%\n",
      "Velocidad 200, Dist: 1.0%\n",
      "Velocidad 199, Dist: 0.9935732647814911%\n",
      "Velocidad 198, Dist: 0.9871465295629821%\n",
      "Velocidad 198, Dist: 0.9871465295629821%\n",
      "Velocidad 197, Dist: 0.9807197943444732%\n",
      "Velocidad 197, Dist: 0.9807197943444732%\n",
      "Velocidad 196, Dist: 0.9742930591259643%\n",
      "Velocidad 196, Dist: 0.9678663239074548%\n",
      "Velocidad 196, Dist: 0.9678663239074548%\n",
      "Velocidad 196, Dist: 0.9678663239074548%\n",
      "Velocidad 196, Dist: 0.9742930591259643%\n",
      "Velocidad 194, Dist: 0.955012853470437%\n",
      "Velocidad 194, Dist: 0.955012853470437%\n",
      "Velocidad 193, Dist: 0.948586118251928%\n",
      "Velocidad 191, Dist: 0.9357326478149102%\n",
      "Velocidad 190, Dist: 0.9293059125964012%\n",
      "Velocidad 190, Dist: 0.9228791773778923%\n",
      "Velocidad 189, Dist: 0.9164524421593828%\n",
      "Velocidad 187, Dist: 0.9035989717223649%\n",
      "Velocidad 186, Dist: 0.897172236503856%\n",
      "Velocidad 185, Dist: 0.8843187660668381%\n",
      "Velocidad 184, Dist: 0.8778920308483292%\n",
      "Velocidad 182, Dist: 0.8650385604113108%\n",
      "Velocidad 181, Dist: 0.852185089974293%\n",
      "Velocidad 178, Dist: 0.8329048843187662%\n",
      "Velocidad 177, Dist: 0.8200514138817483%\n",
      "Velocidad 175, Dist: 0.8071979434447298%\n",
      "Velocidad 173, Dist: 0.794344473007712%\n",
      "Velocidad 172, Dist: 0.7814910025706941%\n",
      "Velocidad 171, Dist: 0.7750642673521853%\n",
      "Velocidad 170, Dist: 0.7622107969151668%\n",
      "Velocidad 168, Dist: 0.7493573264781489%\n",
      "Velocidad 167, Dist: 0.7365038560411311%\n",
      "Velocidad 164, Dist: 0.7172236503856043%\n",
      "Velocidad 163, Dist: 0.7043701799485859%\n",
      "Velocidad 162, Dist: 0.697943444730077%\n",
      "Velocidad 161, Dist: 0.6850899742930591%\n",
      "Velocidad 159, Dist: 0.6722365038560412%\n",
      "Velocidad 159, Dist: 0.6658097686375323%\n",
      "Velocidad 157, Dist: 0.6529562982005138%\n",
      "Velocidad 156, Dist: 0.640102827763496%\n",
      "Velocidad 154, Dist: 0.6208226221079692%\n",
      "Velocidad 152, Dist: 0.6079691516709508%\n",
      "Velocidad 152, Dist: 0.6079691516709508%\n",
      "Velocidad 151, Dist: 0.595115681233933%\n",
      "Velocidad 150, Dist: 0.5822622107969151%\n",
      "Velocidad 149, Dist: 0.5758354755784062%\n",
      "Velocidad 148, Dist: 0.5694087403598972%\n",
      "Velocidad 147, Dist: 0.5565552699228794%\n",
      "Velocidad 146, Dist: 0.5501285347043698%\n",
      "Velocidad 146, Dist: 0.543701799485861%\n",
      "Velocidad 145, Dist: 0.537275064267352%\n",
      "Velocidad 144, Dist: 0.530848329048843%\n",
      "Velocidad 143, Dist: 0.5179948586118253%\n",
      "Velocidad 143, Dist: 0.5115681233933163%\n",
      "Velocidad 142, Dist: 0.5051413881748074%\n",
      "Velocidad 141, Dist: 0.49871465295629785%\n",
      "Velocidad 141, Dist: 0.49228791773778896%\n",
      "Velocidad 140, Dist: 0.48586118251928%\n",
      "Velocidad 140, Dist: 0.48586118251928%\n",
      "Velocidad 139, Dist: 0.4794344473007711%\n",
      "Velocidad 139, Dist: 0.47300771208226217%\n",
      "Velocidad 139, Dist: 0.47300771208226217%\n",
      "Velocidad 138, Dist: 0.4601542416452443%\n",
      "Velocidad 138, Dist: 0.4601542416452443%\n",
      "Velocidad 137, Dist: 0.45372750642673537%\n",
      "Velocidad 136, Dist: 0.44730077120822587%\n",
      "Velocidad 136, Dist: 0.44730077120822587%\n",
      "Velocidad 136, Dist: 0.440874035989717%\n",
      "Velocidad 135, Dist: 0.434447300771208%\n",
      "Velocidad 133, Dist: 0.41516709511568123%\n",
      "Velocidad 133, Dist: 0.41516709511568123%\n",
      "Velocidad 132, Dist: 0.4023136246786634%\n",
      "Velocidad 132, Dist: 0.3958868894601539%\n",
      "Velocidad 131, Dist: 0.38946015424164493%\n",
      "Velocidad 130, Dist: 0.38303341902313603%\n",
      "Velocidad 130, Dist: 0.3766066838046271%\n",
      "Velocidad 129, Dist: 0.36375321336760924%\n",
      "Velocidad 128, Dist: 0.3573264781491003%\n",
      "Velocidad 128, Dist: 0.3508997429305914%\n",
      "Velocidad 127, Dist: 0.3444730077120819%\n",
      "Velocidad 126, Dist: 0.33804627249357294%\n",
      "Velocidad 126, Dist: 0.33161953727506405%\n",
      "Velocidad 125, Dist: 0.31876606683804615%\n",
      "Velocidad 124, Dist: 0.3059125964010283%\n",
      "Velocidad 123, Dist: 0.29948586118251935%\n",
      "Velocidad 123, Dist: 0.2930591259640099%\n",
      "Velocidad 122, Dist: 0.28663239074550095%\n",
      "Velocidad 121, Dist: 0.280205655526992%\n",
      "Velocidad 121, Dist: 0.2737789203084831%\n",
      "Velocidad 120, Dist: 0.2609254498714652%\n",
      "Velocidad 119, Dist: 0.2544987146529563%\n",
      "Velocidad 119, Dist: 0.24807197943444736%\n",
      "Velocidad 118, Dist: 0.2416452442159379%\n",
      "Velocidad 118, Dist: 0.23521850899742897%\n",
      "Velocidad 117, Dist: 0.22879177377892002%\n",
      "Velocidad 117, Dist: 0.2223650385604111%\n",
      "Velocidad 116, Dist: 0.21593830334190217%\n",
      "Velocidad 115, Dist: 0.2030848329048843%\n",
      "Velocidad 115, Dist: 0.19665809768637538%\n",
      "Velocidad 114, Dist: 0.1902313624678659%\n",
      "Velocidad 114, Dist: 0.18380462724935695%\n",
      "Velocidad 113, Dist: 0.17737789203084803%\n",
      "Velocidad 113, Dist: 0.1709511568123391%\n",
      "Velocidad 112, Dist: 0.16452442159383018%\n",
      "Velocidad 111, Dist: 0.1452442159383034%\n",
      "Velocidad 111, Dist: 0.1452442159383034%\n",
      "Velocidad 110, Dist: 0.13239074550128496%\n",
      "Velocidad 109, Dist: 0.12596401028277604%\n",
      "Velocidad 109, Dist: 0.1195372750642671%\n",
      "Velocidad 109, Dist: 0.1195372750642671%\n",
      "Velocidad 108, Dist: 0.11311053984575817%\n",
      "Velocidad 107, Dist: 0.10025706940874031%\n",
      "Velocidad 106, Dist: 0.0874035989717219%\n",
      "Velocidad 106, Dist: 0.08097686375321296%\n",
      "Velocidad 106, Dist: 0.08097686375321296%\n",
      "Velocidad 105, Dist: 0.07455012853470404%\n",
      "Velocidad 105, Dist: 0.0681233933161951%\n",
      "Velocidad 104, Dist: 0.06169665809768617%\n",
      "Velocidad 103, Dist: 0.048843187660668315%\n",
      "Velocidad 103, Dist: 0.048843187660668315%\n",
      "Velocidad 103, Dist: 0.042416452442159386%\n",
      "Velocidad 102, Dist: 0.029562982005140966%\n",
      "Velocidad 102, Dist: 0.023136246786632036%\n",
      "Velocidad 200, Dist: 1.0%\n",
      "Velocidad 201, Dist: 1.006578947368421%\n",
      "Velocidad 201, Dist: 1.006578947368421%\n",
      "Velocidad 202, Dist: 1.013157894736842%\n",
      "Velocidad 203, Dist: 1.019736842105263%\n",
      "Velocidad 203, Dist: 1.019736842105263%\n",
      "Velocidad 204, Dist: 1.0263157894736838%\n",
      "Velocidad 204, Dist: 1.0263157894736838%\n",
      "Velocidad 203, Dist: 1.019736842105263%\n",
      "Velocidad 203, Dist: 1.019736842105263%\n",
      "Velocidad 202, Dist: 1.013157894736842%\n",
      "Velocidad 201, Dist: 1.006578947368421%\n",
      "Velocidad 200, Dist: 1.0%\n",
      "Velocidad 199, Dist: 0.993421052631579%\n",
      "Velocidad 198, Dist: 0.9868421052631581%\n",
      "Velocidad 195, Dist: 0.9671052631578945%\n",
      "Velocidad 195, Dist: 0.9605263157894736%\n",
      "Velocidad 192, Dist: 0.9407894736842106%\n",
      "Velocidad 191, Dist: 0.9342105263157896%\n",
      "Velocidad 189, Dist: 0.9210526315789477%\n",
      "Velocidad 187, Dist: 0.9013157894736842%\n",
      "Velocidad 185, Dist: 0.8881578947368421%\n",
      "Velocidad 183, Dist: 0.8750000000000002%\n",
      "Velocidad 182, Dist: 0.8618421052631576%\n",
      "Velocidad 179, Dist: 0.8421052631578947%\n",
      "Velocidad 178, Dist: 0.8289473684210528%\n",
      "Velocidad 176, Dist: 0.8157894736842108%\n",
      "Velocidad 173, Dist: 0.7894736842105263%\n",
      "Velocidad 171, Dist: 0.7763157894736844%\n",
      "Velocidad 170, Dist: 0.7631578947368424%\n",
      "Velocidad 168, Dist: 0.7499999999999999%\n",
      "Velocidad 166, Dist: 0.730263157894737%\n",
      "Velocidad 164, Dist: 0.7171052631578949%\n",
      "Velocidad 163, Dist: 0.7039473684210524%\n",
      "Velocidad 162, Dist: 0.6973684210526314%\n",
      "Velocidad 161, Dist: 0.6842105263157895%\n",
      "Velocidad 158, Dist: 0.6644736842105265%\n",
      "Velocidad 157, Dist: 0.651315789473684%\n",
      "Velocidad 156, Dist: 0.638157894736842%\n",
      "Velocidad 154, Dist: 0.6250000000000001%\n",
      "Velocidad 153, Dist: 0.6118421052631581%\n",
      "Velocidad 152, Dist: 0.6052631578947372%\n",
      "Velocidad 151, Dist: 0.5986842105263156%\n",
      "Velocidad 150, Dist: 0.5855263157894736%\n",
      "Velocidad 149, Dist: 0.5723684210526316%\n",
      "Velocidad 147, Dist: 0.5592105263157897%\n",
      "Velocidad 147, Dist: 0.5526315789473687%\n",
      "Velocidad 145, Dist: 0.5394736842105262%\n",
      "Velocidad 145, Dist: 0.5328947368421052%\n",
      "Velocidad 145, Dist: 0.5328947368421052%\n",
      "Velocidad 143, Dist: 0.5197368421052633%\n",
      "Velocidad 143, Dist: 0.5131578947368423%\n",
      "Velocidad 143, Dist: 0.5197368421052633%\n",
      "Velocidad 142, Dist: 0.5065789473684212%\n",
      "Velocidad 141, Dist: 0.5000000000000003%\n",
      "Velocidad 141, Dist: 0.49342105263157876%\n",
      "Velocidad 140, Dist: 0.48684210526315774%\n",
      "Velocidad 139, Dist: 0.4802631578947368%\n",
      "Velocidad 139, Dist: 0.4802631578947368%\n",
      "Velocidad 138, Dist: 0.4671052631578948%\n",
      "Velocidad 138, Dist: 0.46052631578947384%\n",
      "Velocidad 137, Dist: 0.4539473684210528%\n",
      "Velocidad 136, Dist: 0.44736842105263186%\n",
      "Velocidad 136, Dist: 0.4407894736842103%\n",
      "Velocidad 135, Dist: 0.4342105263157893%\n",
      "Velocidad 135, Dist: 0.4342105263157893%\n",
      "Velocidad 135, Dist: 0.42763157894736836%\n",
      "Velocidad 133, Dist: 0.4144736842105264%\n",
      "Velocidad 133, Dist: 0.4144736842105264%\n",
      "Velocidad 133, Dist: 0.4078947368421054%\n",
      "Velocidad 132, Dist: 0.4013157894736844%\n",
      "Velocidad 131, Dist: 0.3881578947368425%\n",
      "Velocidad 130, Dist: 0.3815789473684209%\n",
      "Velocidad 130, Dist: 0.37499999999999994%\n",
      "Velocidad 129, Dist: 0.36184210526315796%\n",
      "Velocidad 128, Dist: 0.355263157894737%\n",
      "Velocidad 127, Dist: 0.348684210526316%\n",
      "Velocidad 126, Dist: 0.33552631578947406%\n",
      "Velocidad 126, Dist: 0.3289473684210525%\n",
      "Velocidad 125, Dist: 0.3223684210526315%\n",
      "Velocidad 124, Dist: 0.3157894736842105%\n",
      "Velocidad 124, Dist: 0.30921052631578955%\n",
      "Velocidad 123, Dist: 0.3026315789473686%\n",
      "Velocidad 123, Dist: 0.29605263157894757%\n",
      "Velocidad 122, Dist: 0.2894736842105266%\n",
      "Velocidad 122, Dist: 0.28289473684210564%\n",
      "Velocidad 121, Dist: 0.27631578947368407%\n",
      "Velocidad 121, Dist: 0.2697368421052631%\n",
      "Velocidad 119, Dist: 0.25000000000000017%\n",
      "Velocidad 118, Dist: 0.24342105263157915%\n",
      "Velocidad 118, Dist: 0.24342105263157915%\n",
      "Velocidad 118, Dist: 0.2368421052631582%\n",
      "Velocidad 117, Dist: 0.2302631578947372%\n",
      "Velocidad 116, Dist: 0.21710526315789466%\n",
      "Velocidad 116, Dist: 0.21710526315789466%\n",
      "Velocidad 115, Dist: 0.2039473684210527%\n",
      "Velocidad 115, Dist: 0.19736842105263172%\n",
      "Velocidad 114, Dist: 0.19078947368421073%\n",
      "Velocidad 114, Dist: 0.18421052631578977%\n",
      "Velocidad 113, Dist: 0.17763157894736878%\n",
      "Velocidad 113, Dist: 0.17105263157894723%\n",
      "Velocidad 112, Dist: 0.16447368421052624%\n",
      "Velocidad 112, Dist: 0.15789473684210525%\n",
      "Velocidad 111, Dist: 0.1447368421052633%\n",
      "Velocidad 110, Dist: 0.13157894736842135%\n",
      "Velocidad 110, Dist: 0.13157894736842135%\n",
      "Velocidad 109, Dist: 0.1184210526315788%\n",
      "Velocidad 108, Dist: 0.11184210526315783%\n",
      "Velocidad 108, Dist: 0.10526315789473684%\n",
      "Velocidad 107, Dist: 0.09868421052631586%\n",
      "Velocidad 107, Dist: 0.09210526315789488%\n",
      "Velocidad 106, Dist: 0.0855263157894739%\n",
      "Velocidad 106, Dist: 0.07894736842105292%\n",
      "Velocidad 105, Dist: 0.07236842105263194%\n",
      "Velocidad 105, Dist: 0.06578947368421038%\n",
      "Velocidad 104, Dist: 0.0592105263157894%\n",
      "Velocidad 103, Dist: 0.03947368421052646%\n",
      "Velocidad 102, Dist: 0.032894736842105476%\n",
      "Velocidad 102, Dist: 0.026315789473684497%\n"
     ]
    }
   ],
   "source": [
    "test_pos = [-math.pi/4,0,math.pi/4,0]\n",
    "for joint in jointHandler.joint_ids:\n",
    "    for pos in test_pos:\n",
    "        jointHandler.setJointTargetPosition(joint,pos)"
   ]
  },
  {
   "cell_type": "code",
   "execution_count": 4,
   "metadata": {},
   "outputs": [],
   "source": [
    "jointHandler.unloadEMERGE()"
   ]
  },
  {
   "cell_type": "markdown",
   "metadata": {},
   "source": [
    "#### Funcion para regular le velocidad en funcion de la distancia con el objetivo "
   ]
  },
  {
   "cell_type": "code",
   "execution_count": 32,
   "metadata": {},
   "outputs": [
    {
     "name": "stdout",
     "output_type": "stream",
     "text": [
      "f(0) = 200.0\n",
      "f(1) = 600.0000000000001\n"
     ]
    }
   ],
   "source": [
    "def funcion_exponencial(x, valor_minimo, valor_maximo):\n",
    "    k = math.log(valor_maximo / valor_minimo)\n",
    "    # k = math.log(3)\n",
    "    return valor_minimo* math.exp(k * x)\n",
    "\n",
    "# Ejemplo de uso:\n",
    "x_0 = 0\n",
    "x_1 = 1\n",
    "valor_minimo = 200\n",
    "valor_maximo = 600\n",
    "\n",
    "resultado_0 = funcion_exponencial(x_0, valor_minimo, valor_maximo)\n",
    "resultado_1 = funcion_exponencial(x_1, valor_minimo, valor_maximo)\n",
    "\n",
    "print(f\"f({x_0}) = {resultado_0}\")\n",
    "print(f\"f({x_1}) = {resultado_1}\")"
   ]
  },
  {
   "cell_type": "code",
   "execution_count": 37,
   "metadata": {},
   "outputs": [],
   "source": [
    "import numpy as np\n",
    "import matplotlib.pyplot as plt\n",
    "valor_minimo = 200\n",
    "valor_maximo = 600\n",
    "\n",
    "x = np.arange(0, 11, 0.1).tolist()\n",
    "y = [funcion_exponencial(i, valor_minimo, valor_maximo) for i in x]"
   ]
  },
  {
   "cell_type": "code",
   "execution_count": 38,
   "metadata": {},
   "outputs": [
    {
     "data": {
      "image/png": "[encoded data removed]",
      "text/plain": [
       "<Figure size 640x480 with 1 Axes>"
      ]
     },
     "metadata": {},
     "output_type": "display_data"
    }
   ],
   "source": [
    "plt.figure()\n",
    "plt.plot(x,y, label='Función Exponencial')\n",
    "plt.xlabel('Distancia % al target')\n",
    "plt.ylabel('Velocidad')\n",
    "plt.legend()\n",
    "plt.show()"
   ]
  },
  {
   "cell_type": "markdown",
   "metadata": {},
   "source": [
    "#### Funcion trapezoidal"
   ]
  },
  {
   "cell_type": "code",
   "execution_count": 18,
   "metadata": {},
   "outputs": [
    {
     "name": "stdout",
     "output_type": "stream",
     "text": [
      "f(0) = 200\n",
      "f(0.3) = 600\n",
      "f(0.7) = 600\n",
      "f(1) = 200\n"
     ]
    },
    {
     "data": {
      "image/png": "[encoded data removed]",
      "text/plain": [
       "<Figure size 640x480 with 1 Axes>"
      ]
     },
     "metadata": {},
     "output_type": "display_data"
    }
   ],
   "source": [
    "def funcion_trapezoidal(progress, valor_minimo, valor_maximo):\n",
    "    p1 = 0.3\n",
    "    p2 = 0.7\n",
    "    p3 = 1\n",
    "    # Remaining percentage to goal\n",
    "    if progress <= p1:\n",
    "        x = progress\n",
    "        m = (valor_maximo-valor_minimo)/p1\n",
    "        b = valor_minimo\n",
    "        velocity = x * m + b\n",
    "    elif p1 < progress and progress < p2:\n",
    "        velocity = valor_maximo\n",
    "    else:\n",
    "        x = progress\n",
    "        m = (valor_minimo-valor_maximo)/(p3-p2)\n",
    "        b = valor_minimo - p3* m\n",
    "        velocity = x * m + b\n",
    "    return round(velocity)\n",
    "\n",
    "# Ejemplo de uso:\n",
    "x_0 = 0\n",
    "x_1 = 0.3\n",
    "x_2 = 0.7\n",
    "x_3 = 1\n",
    "valor_minimo = 200\n",
    "valor_maximo = 600\n",
    "\n",
    "resultado_0 = funcion_trapezoidal(x_0, valor_minimo, valor_maximo)\n",
    "resultado_1 = funcion_trapezoidal(x_1, valor_minimo, valor_maximo)\n",
    "resultado_2 = funcion_trapezoidal(x_2, valor_minimo, valor_maximo)\n",
    "resultado_3 = funcion_trapezoidal(x_3, valor_minimo, valor_maximo)\n",
    "\n",
    "print(f\"f({x_0}) = {resultado_0}\")\n",
    "print(f\"f({x_1}) = {resultado_1}\")\n",
    "print(f\"f({x_2}) = {resultado_2}\")\n",
    "print(f\"f({x_3}) = {resultado_3}\")\n",
    "\n",
    "import numpy as np\n",
    "import matplotlib.pyplot as plt\n",
    "valor_minimo = 200\n",
    "valor_maximo = 600\n",
    "\n",
    "x = np.arange(0, 1.1, 0.1).tolist()\n",
    "y = [funcion_trapezoidal(i, valor_minimo, valor_maximo) for i in x]\n",
    "\n",
    "plt.figure()\n",
    "plt.plot(x,y, label='Función Trapezoidal')\n",
    "plt.xlabel('Progreso % al target')\n",
    "plt.ylabel('Velocidad')\n",
    "plt.legend()\n",
    "plt.show()"
   ]
  },
  {
   "cell_type": "code",
   "execution_count": 30,
   "metadata": {},
   "outputs": [
    {
     "data": {
      "text/plain": [
       "0.0"
      ]
     },
     "execution_count": 30,
     "metadata": {},
     "output_type": "execute_result"
    }
   ],
   "source": [
    "jointHandler.getJointPosition(joint)"
   ]
  },
  {
   "cell_type": "code",
   "execution_count": 71,
   "metadata": {},
   "outputs": [],
   "source": [
    "def funcion_trapezoidal2(progress, valor_minimo, valor_maximo):\n",
    "    p1 = 0.3\n",
    "    p2 = 0.7\n",
    "    p3 = 1\n",
    "    # Remaining percentage to goal\n",
    "    if progress <= p1:\n",
    "        x = progress\n",
    "        m = (valor_maximo-valor_minimo)/p1\n",
    "        b = valor_minimo\n",
    "        velocity = x * m + b\n",
    "    elif p1 < progress and progress < p2:\n",
    "        x = progress\n",
    "        m = ((4/5*valor_maximo)-valor_maximo)/(p2-p1)\n",
    "        b = valor_maximo - p1* m\n",
    "        velocity = x * m + b\n",
    "    else:\n",
    "        x = progress\n",
    "        m = (valor_minimo-(4/5*valor_maximo))/(p3-p2)\n",
    "        b = valor_minimo - p3* m\n",
    "        velocity = x * m + b\n",
    "    return round(velocity)"
   ]
  },
  {
   "cell_type": "code",
   "execution_count": 36,
   "metadata": {},
   "outputs": [
    {
     "data": {
      "text/plain": [
       "-3.141592653589793"
      ]
     },
     "execution_count": 36,
     "metadata": {},
     "output_type": "execute_result"
    }
   ],
   "source": [
    "pi = math.pi\n",
    "-pi"
   ]
  },
  {
   "cell_type": "code",
   "execution_count": 4,
   "metadata": {},
   "outputs": [],
   "source": [
    "mov = []"
   ]
  },
  {
   "cell_type": "code",
   "execution_count": 5,
   "metadata": {},
   "outputs": [
    {
     "name": "stdout",
     "output_type": "stream",
     "text": [
      "-0.005113269292952083\n",
      "-1.5707963267948966\n"
     ]
    }
   ],
   "source": [
    "joint = 12\n",
    "pos = jointHandler.getJointPosition(joint)\n",
    "print(pos)\n",
    "if round(pos) > 0:\n",
    "    target_position_rad = 0\n",
    "elif pos == 0:\n",
    "    target_position_rad = math.pi/2\n",
    "elif pos < 0:\n",
    "    target_position_rad = -math.pi/2\n",
    "print(target_position_rad)"
   ]
  },
  {
   "cell_type": "code",
   "execution_count": 74,
   "metadata": {},
   "outputs": [],
   "source": [
    "jointHandler.joint_min_velocity = 100\n",
    "jointHandler.joint_max_velocity = 200"
   ]
  },
  {
   "cell_type": "code",
   "execution_count": 34,
   "metadata": {},
   "outputs": [],
   "source": [
    "increment = 7.5*math.pi/180\n",
    "target_position_rad = jointHandler.getJointPosition(joint) + 0.8*increment"
   ]
  },
  {
   "cell_type": "code",
   "execution_count": 26,
   "metadata": {},
   "outputs": [],
   "source": [
    "target_position_rad = 0"
   ]
  },
  {
   "cell_type": "code",
   "execution_count": 35,
   "metadata": {},
   "outputs": [
    {
     "name": "stdout",
     "output_type": "stream",
     "text": [
      "Velocidad 123, Diff: 0.10983302441261189%\n",
      "Velocidad 123, Diff: 0.10983302441261189%\n",
      "Velocidad 123, Diff: 0.10983302441261189%\n",
      "Velocidad 123, Diff: 0.10983302441261189%\n",
      "Velocidad 123, Diff: 0.10983302441261189%\n",
      "Velocidad 123, Diff: 0.10983302441261189%\n",
      "Velocidad 123, Diff: 0.10983302441261189%\n",
      "Velocidad 123, Diff: 0.10983302441261189%\n",
      "Velocidad 123, Diff: 0.10983302441261189%\n",
      "Velocidad 123, Diff: 0.10983302441261189%\n",
      "Velocidad 123, Diff: 0.10983302441261189%\n",
      "Velocidad 123, Diff: 0.10983302441261189%\n",
      "Velocidad 123, Diff: 0.10983302441261189%\n",
      "Velocidad 123, Diff: 0.10983302441261189%\n",
      "Velocidad 123, Diff: 0.10983302441261189%\n",
      "Velocidad 123, Diff: 0.10983302441261189%\n",
      "Velocidad 123, Diff: 0.10983302441261189%\n",
      "Velocidad 123, Diff: 0.10983302441261189%\n",
      "Velocidad 123, Diff: 0.10983302441261189%\n",
      "Velocidad 123, Diff: 0.10983302441261189%\n",
      "Velocidad 123, Diff: 0.10983302441261189%\n",
      "Velocidad 123, Diff: 0.10983302441261189%\n",
      "Velocidad 123, Diff: 0.10983302441261189%\n",
      "Velocidad 123, Diff: 0.10983302441261189%\n",
      "Velocidad 123, Diff: 0.10983302441261189%\n"
     ]
    }
   ],
   "source": [
    "vel = []\n",
    "prog = []\n",
    "exe = {}\n",
    "\n",
    "\n",
    "jointHandler.setJointTargetVelocity(joint,jointHandler.joint_min_velocity)\n",
    "jointHandler.setJointAngularPosition(joint, target_position_rad)\n",
    "\n",
    "act_pos = jointHandler.getJointPosition(joint)\n",
    "counter = 0\n",
    "diff = act_pos - target_position_rad\n",
    "exe[\"distancia\"] = diff\n",
    "error = abs(diff)\n",
    "\n",
    "while abs(error) > jointHandler.exact_rad or counter < 5:\n",
    "\n",
    "    # Adjusts velocity of the motion proportionally to the distance to the target position\n",
    "    if abs(diff) > increment:\n",
    "        dist_percent = abs(error/diff)\n",
    "        progress = 1 - dist_percent\n",
    "        prog.append(progress)\n",
    "        velocity = funcion_trapezoidal(progress, jointHandler.joint_min_velocity, jointHandler.joint_max_velocity)\n",
    "    else:\n",
    "        velocity = jointHandler.joint_min_velocity\n",
    "    vel.append(velocity)\n",
    "    print(f\"Velocidad {velocity}, Diff: {abs(diff)}%\")\n",
    "\n",
    "    jointHandler.setJointTargetVelocity(joint,velocity)\n",
    "    jointHandler.setJointAngularPosition(joint, target_position_rad)\n",
    "    \n",
    "    new_pos = jointHandler.getJointPosition(joint)\n",
    "\n",
    "    if round(act_pos, 3) == round(new_pos, 3):\n",
    "        counter += 1\n",
    "    else:\n",
    "        counter = counter\n",
    "\n",
    "    act_pos = new_pos\n",
    "    error = new_pos - target_position_rad\n",
    "exe[\"velocidad\"] = vel\n",
    "exe[\"progreso\"] = prog\n",
    "mov.append(exe)"
   ]
  },
  {
   "cell_type": "code",
   "execution_count": null,
   "metadata": {},
   "outputs": [],
   "source": [
    "plt.figure()\n",
    "plt.plot(prog,vel, label='Función Trapezoidal')\n",
    "plt.xlabel('Progreso % al target')\n",
    "plt.ylabel('Velocidad')\n",
    "plt.legend()\n",
    "plt.show()"
   ]
  },
  {
   "cell_type": "code",
   "execution_count": null,
   "metadata": {},
   "outputs": [],
   "source": [
    "for run in mov[6:]:\n",
    "    plt.figure()\n",
    "    plt.title(run[\"distancia\"]*180/math.pi)\n",
    "    plt.plot(run[\"progreso\"],run[\"velocidad\"], label='Función Trapezoidal')\n",
    "    plt.xlabel('Progreso % al target')\n",
    "    plt.ylabel('Velocidad')\n",
    "    plt.legend()\n",
    "    plt.show()"
   ]
  },
  {
   "cell_type": "code",
   "execution_count": 36,
   "metadata": {},
   "outputs": [
    {
     "ename": "ValueError",
     "evalue": "x and y must have same first dimension, but have shapes (0,) and (25,)",
     "output_type": "error",
     "traceback": [
      "\u001b[1;31m---------------------------------------------------------------------------\u001b[0m",
      "\u001b[1;31mValueError\u001b[0m                                Traceback (most recent call last)",
      "\u001b[1;32mc:\\Users\\carlo\\OneDrive\\Imágenes\\Documentos\\GitHub\\EMERGE\\Dynamixel SDK\\protocol1_0\\joint_handler_nb.ipynb Cell 54\u001b[0m line \u001b[0;36m4\n\u001b[0;32m      <a href='vscode-notebook-cell:/c%3A/Users/carlo/OneDrive/Im%C3%A1genes/Documentos/GitHub/EMERGE/Dynamixel%20SDK/protocol1_0/joint_handler_nb.ipynb#Y132sZmlsZQ%3D%3D?line=1'>2</a>\u001b[0m plt\u001b[39m.\u001b[39mfigure()\n\u001b[0;32m      <a href='vscode-notebook-cell:/c%3A/Users/carlo/OneDrive/Im%C3%A1genes/Documentos/GitHub/EMERGE/Dynamixel%20SDK/protocol1_0/joint_handler_nb.ipynb#Y132sZmlsZQ%3D%3D?line=2'>3</a>\u001b[0m plt\u001b[39m.\u001b[39mtitle(run[\u001b[39m\"\u001b[39m\u001b[39mdistancia\u001b[39m\u001b[39m\"\u001b[39m]\u001b[39m*\u001b[39m\u001b[39m180\u001b[39m\u001b[39m/\u001b[39mmath\u001b[39m.\u001b[39mpi)\n\u001b[1;32m----> <a href='vscode-notebook-cell:/c%3A/Users/carlo/OneDrive/Im%C3%A1genes/Documentos/GitHub/EMERGE/Dynamixel%20SDK/protocol1_0/joint_handler_nb.ipynb#Y132sZmlsZQ%3D%3D?line=3'>4</a>\u001b[0m plt\u001b[39m.\u001b[39;49mplot(run[\u001b[39m\"\u001b[39;49m\u001b[39mprogreso\u001b[39;49m\u001b[39m\"\u001b[39;49m],run[\u001b[39m\"\u001b[39;49m\u001b[39mvelocidad\u001b[39;49m\u001b[39m\"\u001b[39;49m], label\u001b[39m=\u001b[39;49m\u001b[39m'\u001b[39;49m\u001b[39mFunción Trapezoidal\u001b[39;49m\u001b[39m'\u001b[39;49m)\n\u001b[0;32m      <a href='vscode-notebook-cell:/c%3A/Users/carlo/OneDrive/Im%C3%A1genes/Documentos/GitHub/EMERGE/Dynamixel%20SDK/protocol1_0/joint_handler_nb.ipynb#Y132sZmlsZQ%3D%3D?line=4'>5</a>\u001b[0m plt\u001b[39m.\u001b[39mxlabel(\u001b[39m'\u001b[39m\u001b[39mProgreso \u001b[39m\u001b[39m% a\u001b[39;00m\u001b[39ml target\u001b[39m\u001b[39m'\u001b[39m)\n\u001b[0;32m      <a href='vscode-notebook-cell:/c%3A/Users/carlo/OneDrive/Im%C3%A1genes/Documentos/GitHub/EMERGE/Dynamixel%20SDK/protocol1_0/joint_handler_nb.ipynb#Y132sZmlsZQ%3D%3D?line=5'>6</a>\u001b[0m plt\u001b[39m.\u001b[39mylabel(\u001b[39m'\u001b[39m\u001b[39mVelocidad\u001b[39m\u001b[39m'\u001b[39m)\n",
      "File \u001b[1;32mc:\\Users\\carlo\\anaconda3\\envs\\EMERGE_Py311\\Lib\\site-packages\\matplotlib\\pyplot.py:3578\u001b[0m, in \u001b[0;36mplot\u001b[1;34m(scalex, scaley, data, *args, **kwargs)\u001b[0m\n\u001b[0;32m   3570\u001b[0m \u001b[39m@_copy_docstring_and_deprecators\u001b[39m(Axes\u001b[39m.\u001b[39mplot)\n\u001b[0;32m   3571\u001b[0m \u001b[39mdef\u001b[39;00m \u001b[39mplot\u001b[39m(\n\u001b[0;32m   3572\u001b[0m     \u001b[39m*\u001b[39margs: \u001b[39mfloat\u001b[39m \u001b[39m|\u001b[39m ArrayLike \u001b[39m|\u001b[39m \u001b[39mstr\u001b[39m,\n\u001b[1;32m   (...)\u001b[0m\n\u001b[0;32m   3576\u001b[0m     \u001b[39m*\u001b[39m\u001b[39m*\u001b[39mkwargs,\n\u001b[0;32m   3577\u001b[0m ) \u001b[39m-\u001b[39m\u001b[39m>\u001b[39m \u001b[39mlist\u001b[39m[Line2D]:\n\u001b[1;32m-> 3578\u001b[0m     \u001b[39mreturn\u001b[39;00m gca()\u001b[39m.\u001b[39;49mplot(\n\u001b[0;32m   3579\u001b[0m         \u001b[39m*\u001b[39;49margs,\n\u001b[0;32m   3580\u001b[0m         scalex\u001b[39m=\u001b[39;49mscalex,\n\u001b[0;32m   3581\u001b[0m         scaley\u001b[39m=\u001b[39;49mscaley,\n\u001b[0;32m   3582\u001b[0m         \u001b[39m*\u001b[39;49m\u001b[39m*\u001b[39;49m({\u001b[39m\"\u001b[39;49m\u001b[39mdata\u001b[39;49m\u001b[39m\"\u001b[39;49m: data} \u001b[39mif\u001b[39;49;00m data \u001b[39mis\u001b[39;49;00m \u001b[39mnot\u001b[39;49;00m \u001b[39mNone\u001b[39;49;00m \u001b[39melse\u001b[39;49;00m {}),\n\u001b[0;32m   3583\u001b[0m         \u001b[39m*\u001b[39;49m\u001b[39m*\u001b[39;49mkwargs,\n\u001b[0;32m   3584\u001b[0m     )\n",
      "File \u001b[1;32mc:\\Users\\carlo\\anaconda3\\envs\\EMERGE_Py311\\Lib\\site-packages\\matplotlib\\axes\\_axes.py:1721\u001b[0m, in \u001b[0;36mAxes.plot\u001b[1;34m(self, scalex, scaley, data, *args, **kwargs)\u001b[0m\n\u001b[0;32m   1478\u001b[0m \u001b[39m\u001b[39m\u001b[39m\"\"\"\u001b[39;00m\n\u001b[0;32m   1479\u001b[0m \u001b[39mPlot y versus x as lines and/or markers.\u001b[39;00m\n\u001b[0;32m   1480\u001b[0m \n\u001b[1;32m   (...)\u001b[0m\n\u001b[0;32m   1718\u001b[0m \u001b[39m(``'green'``) or hex strings (``'#008000'``).\u001b[39;00m\n\u001b[0;32m   1719\u001b[0m \u001b[39m\"\"\"\u001b[39;00m\n\u001b[0;32m   1720\u001b[0m kwargs \u001b[39m=\u001b[39m cbook\u001b[39m.\u001b[39mnormalize_kwargs(kwargs, mlines\u001b[39m.\u001b[39mLine2D)\n\u001b[1;32m-> 1721\u001b[0m lines \u001b[39m=\u001b[39m [\u001b[39m*\u001b[39m\u001b[39mself\u001b[39m\u001b[39m.\u001b[39m_get_lines(\u001b[39mself\u001b[39m, \u001b[39m*\u001b[39margs, data\u001b[39m=\u001b[39mdata, \u001b[39m*\u001b[39m\u001b[39m*\u001b[39mkwargs)]\n\u001b[0;32m   1722\u001b[0m \u001b[39mfor\u001b[39;00m line \u001b[39min\u001b[39;00m lines:\n\u001b[0;32m   1723\u001b[0m     \u001b[39mself\u001b[39m\u001b[39m.\u001b[39madd_line(line)\n",
      "File \u001b[1;32mc:\\Users\\carlo\\anaconda3\\envs\\EMERGE_Py311\\Lib\\site-packages\\matplotlib\\axes\\_base.py:303\u001b[0m, in \u001b[0;36m_process_plot_var_args.__call__\u001b[1;34m(self, axes, data, *args, **kwargs)\u001b[0m\n\u001b[0;32m    301\u001b[0m     this \u001b[39m+\u001b[39m\u001b[39m=\u001b[39m args[\u001b[39m0\u001b[39m],\n\u001b[0;32m    302\u001b[0m     args \u001b[39m=\u001b[39m args[\u001b[39m1\u001b[39m:]\n\u001b[1;32m--> 303\u001b[0m \u001b[39myield from\u001b[39;00m \u001b[39mself\u001b[39;49m\u001b[39m.\u001b[39;49m_plot_args(\n\u001b[0;32m    304\u001b[0m     axes, this, kwargs, ambiguous_fmt_datakey\u001b[39m=\u001b[39;49mambiguous_fmt_datakey)\n",
      "File \u001b[1;32mc:\\Users\\carlo\\anaconda3\\envs\\EMERGE_Py311\\Lib\\site-packages\\matplotlib\\axes\\_base.py:499\u001b[0m, in \u001b[0;36m_process_plot_var_args._plot_args\u001b[1;34m(self, axes, tup, kwargs, return_kwargs, ambiguous_fmt_datakey)\u001b[0m\n\u001b[0;32m    496\u001b[0m     axes\u001b[39m.\u001b[39myaxis\u001b[39m.\u001b[39mupdate_units(y)\n\u001b[0;32m    498\u001b[0m \u001b[39mif\u001b[39;00m x\u001b[39m.\u001b[39mshape[\u001b[39m0\u001b[39m] \u001b[39m!=\u001b[39m y\u001b[39m.\u001b[39mshape[\u001b[39m0\u001b[39m]:\n\u001b[1;32m--> 499\u001b[0m     \u001b[39mraise\u001b[39;00m \u001b[39mValueError\u001b[39;00m(\u001b[39mf\u001b[39m\u001b[39m\"\u001b[39m\u001b[39mx and y must have same first dimension, but \u001b[39m\u001b[39m\"\u001b[39m\n\u001b[0;32m    500\u001b[0m                      \u001b[39mf\u001b[39m\u001b[39m\"\u001b[39m\u001b[39mhave shapes \u001b[39m\u001b[39m{\u001b[39;00mx\u001b[39m.\u001b[39mshape\u001b[39m}\u001b[39;00m\u001b[39m and \u001b[39m\u001b[39m{\u001b[39;00my\u001b[39m.\u001b[39mshape\u001b[39m}\u001b[39;00m\u001b[39m\"\u001b[39m)\n\u001b[0;32m    501\u001b[0m \u001b[39mif\u001b[39;00m x\u001b[39m.\u001b[39mndim \u001b[39m>\u001b[39m \u001b[39m2\u001b[39m \u001b[39mor\u001b[39;00m y\u001b[39m.\u001b[39mndim \u001b[39m>\u001b[39m \u001b[39m2\u001b[39m:\n\u001b[0;32m    502\u001b[0m     \u001b[39mraise\u001b[39;00m \u001b[39mValueError\u001b[39;00m(\u001b[39mf\u001b[39m\u001b[39m\"\u001b[39m\u001b[39mx and y can be no greater than 2D, but have \u001b[39m\u001b[39m\"\u001b[39m\n\u001b[0;32m    503\u001b[0m                      \u001b[39mf\u001b[39m\u001b[39m\"\u001b[39m\u001b[39mshapes \u001b[39m\u001b[39m{\u001b[39;00mx\u001b[39m.\u001b[39mshape\u001b[39m}\u001b[39;00m\u001b[39m and \u001b[39m\u001b[39m{\u001b[39;00my\u001b[39m.\u001b[39mshape\u001b[39m}\u001b[39;00m\u001b[39m\"\u001b[39m)\n",
      "\u001b[1;31mValueError\u001b[0m: x and y must have same first dimension, but have shapes (0,) and (25,)"
     ]
    },
    {
     "data": {
      "image/png": "[encoded data removed]",
      "text/plain": [
       "<Figure size 640x480 with 1 Axes>"
      ]
     },
     "metadata": {},
     "output_type": "display_data"
    }
   ],
   "source": [
    "run = mov[-1]\n",
    "plt.figure()\n",
    "plt.title(run[\"distancia\"]*180/math.pi)\n",
    "plt.plot(run[\"progreso\"],run[\"velocidad\"], label='Función Trapezoidal')\n",
    "plt.xlabel('Progreso % al target')\n",
    "plt.ylabel('Velocidad')\n",
    "plt.legend()\n",
    "plt.show()"
   ]
  },
  {
   "cell_type": "markdown",
   "metadata": {},
   "source": [
    "### Pruebas para simulacion"
   ]
  },
  {
   "cell_type": "code",
   "execution_count": 3,
   "metadata": {},
   "outputs": [],
   "source": [
    "isSim = True\n",
    "if isSim:\n",
    "    cluster = False\n",
    "    setup = Sim_setup(cluster)\n",
    "    client = RemoteAPIClient('localhost', setup.port_conection)\n",
    "    sim = client.getObject('sim')\n",
    "    jointHandler = JointHandler(isSim, client, sim)\n",
    "else:\n",
    "    setup = EMERGE_setup()\n",
    "    portHandler = PortHandler(setup.DEVICENAME)\n",
    "    packetHandler = PacketHandler(setup.PROTOCOL_VERSION)\n",
    "    jointHandler = JointHandler(isSim, portHandler, packetHandler)"
   ]
  },
  {
   "cell_type": "code",
   "execution_count": 4,
   "metadata": {},
   "outputs": [],
   "source": [
    "jointHandler.loadEMERGE()"
   ]
  },
  {
   "cell_type": "code",
   "execution_count": 6,
   "metadata": {},
   "outputs": [
    {
     "name": "stdout",
     "output_type": "stream",
     "text": [
      "{'client': <zmqRemoteApi.RemoteAPIClient object at 0x000001144FF6B6D0>, 'sim': <class 'zmqRemoteApi.sim'>, 'exact_rad': 0.017453292519943295, 'joint_ids': [18, 22, 26], 'num_joints': 3, 'obj_ids': [28]}\n"
     ]
    }
   ],
   "source": [
    "print(jointHandler.__dict__)"
   ]
  },
  {
   "cell_type": "code",
   "execution_count": 10,
   "metadata": {},
   "outputs": [
    {
     "ename": "TypeError",
     "evalue": "JointHandlerEMERGE.setJointTargetPosition() takes 3 positional arguments but 4 were given",
     "output_type": "error",
     "traceback": [
      "\u001b[1;31m---------------------------------------------------------------------------\u001b[0m",
      "\u001b[1;31mTypeError\u001b[0m                                 Traceback (most recent call last)",
      "\u001b[1;32mc:\\Users\\carlo\\OneDrive\\Imágenes\\Documentos\\GitHub\\EMERGE\\Dynamixel SDK\\protocol1_0\\joint_handler_nb.ipynb Cell 32\u001b[0m line \u001b[0;36m7\n\u001b[0;32m      <a href='vscode-notebook-cell:/c%3A/Users/carlo/OneDrive/Im%C3%A1genes/Documentos/GitHub/EMERGE/Dynamixel%20SDK/protocol1_0/joint_handler_nb.ipynb#X42sZmlsZQ%3D%3D?line=3'>4</a>\u001b[0m init_pos \u001b[39m=\u001b[39m initial_pos[joint_n]\n\u001b[0;32m      <a href='vscode-notebook-cell:/c%3A/Users/carlo/OneDrive/Im%C3%A1genes/Documentos/GitHub/EMERGE/Dynamixel%20SDK/protocol1_0/joint_handler_nb.ipynb#X42sZmlsZQ%3D%3D?line=4'>5</a>\u001b[0m joint \u001b[39m=\u001b[39m jointHandler\u001b[39m.\u001b[39mjoint_ids[joint_n]\n\u001b[1;32m----> <a href='vscode-notebook-cell:/c%3A/Users/carlo/OneDrive/Im%C3%A1genes/Documentos/GitHub/EMERGE/Dynamixel%20SDK/protocol1_0/joint_handler_nb.ipynb#X42sZmlsZQ%3D%3D?line=6'>7</a>\u001b[0m jointHandler\u001b[39m.\u001b[39;49msetJointInitialPosition(joint,init_pos)\n\u001b[0;32m      <a href='vscode-notebook-cell:/c%3A/Users/carlo/OneDrive/Im%C3%A1genes/Documentos/GitHub/EMERGE/Dynamixel%20SDK/protocol1_0/joint_handler_nb.ipynb#X42sZmlsZQ%3D%3D?line=7'>8</a>\u001b[0m \u001b[39mprint\u001b[39m(jointHandler\u001b[39m.\u001b[39mgetJointPosition(joint))\n",
      "File \u001b[1;32mc:\\Users\\carlo\\OneDrive\\Imágenes\\Documentos\\GitHub\\EMERGE\\Dynamixel SDK\\protocol1_0\\emerge_joint_handler.py:131\u001b[0m, in \u001b[0;36mJointHandlerEMERGE.setJointInitialPosition\u001b[1;34m(self, joint, initial_position_rad)\u001b[0m\n\u001b[0;32m    130\u001b[0m \u001b[39mdef\u001b[39;00m \u001b[39msetJointInitialPosition\u001b[39m(\u001b[39mself\u001b[39m, joint, initial_position_rad):\n\u001b[1;32m--> 131\u001b[0m     \u001b[39mself\u001b[39;49m\u001b[39m.\u001b[39;49msetJointTargetPosition(\u001b[39mself\u001b[39;49m, joint, initial_position_rad)\n",
      "\u001b[1;31mTypeError\u001b[0m: JointHandlerEMERGE.setJointTargetPosition() takes 3 positional arguments but 4 were given"
     ]
    }
   ],
   "source": [
    "initial_pos = [-math.pi/4, math.pi/4, -math.pi/4]\n",
    "#Set all the joints to their initial position\n",
    "for joint_n in range(jointHandler.num_joints):\n",
    "    init_pos = initial_pos[joint_n]\n",
    "    joint = jointHandler.joint_ids[joint_n]\n",
    "\n",
    "    jointHandler.setJointInitialPosition(joint,init_pos)\n",
    "    print(jointHandler.getJointPosition(joint))\n"
   ]
  },
  {
   "cell_type": "code",
   "execution_count": null,
   "metadata": {},
   "outputs": [],
   "source": [
    "for joint_n in range(jointHandler.num_joints):\n",
    "    init_pos = initial_pos[joint_n]\n",
    "    joint = jointHandler.joint_ids[joint_n]\n",
    "\n",
    "    jointHandler.setJointInitialPosition(joint,init_pos)\n",
    "    print(jointHandler.getJointPosition(joint))"
   ]
  },
  {
   "cell_type": "code",
   "execution_count": 12,
   "metadata": {},
   "outputs": [],
   "source": [
    "#Generate a list for random starting positions\n",
    "def set_starting_position ():\n",
    "    starting_pos = []\n",
    "    starting_angles = [0, 45, 75]\n",
    "    angle = ri(0, len(starting_angles)-1)\n",
    "    sentido = math.pow(-1,ri(0, 1))\n",
    "    for _ in jointHandler.joint_ids:\n",
    "        starting_pos.append(sentido*starting_angles[angle]*math.pi/180)\n",
    "    return starting_pos\n",
    "\n",
    "\n",
    "def init_position():\n",
    "    initial_pos = set_starting_position()\n",
    "    #Set all the joints to their initial position\n",
    "    for joint_n in range(jointHandler.num_joints):\n",
    "        init_pos = initial_pos[joint_n]\n",
    "        joint = jointHandler.joint_ids[joint_n]\n",
    "\n",
    "        jointHandler.setJointInitialPosition(joint,init_pos)\n",
    "        print(jointHandler.getJointPosition(joint))"
   ]
  },
  {
   "cell_type": "code",
   "execution_count": 15,
   "metadata": {},
   "outputs": [
    {
     "name": "stdout",
     "output_type": "stream",
     "text": [
      "-0.7853981852531433\n",
      "-0.7853981852531433\n",
      "-0.7853981852531433\n"
     ]
    }
   ],
   "source": [
    "init_position()"
   ]
  },
  {
   "cell_type": "code",
   "execution_count": 18,
   "metadata": {},
   "outputs": [],
   "source": [
    "#Class to store all the perceptions\n",
    "class perceptions ():\n",
    "    def __init__(self):\n",
    "        #Execution data\n",
    "        self.sequence = 0\n",
    "        self.step = 0\n",
    "        self.increments = []\n",
    "        #Initial perceptions\n",
    "        self.prev_j_positions = []\n",
    "        self.prev_pos_x = 0\n",
    "        self.prev_pos_y = 0\n",
    "        self.prev_pos_z = 0\n",
    "        #Resulting perceptions\n",
    "        self.post_j_positions = []\n",
    "        self.post_pos_x = 0\n",
    "        self.post_pos_y = 0\n",
    "        self.post_pos_z = 0\n",
    "\n",
    "perception = perceptions()"
   ]
  },
  {
   "cell_type": "code",
   "execution_count": 35,
   "metadata": {},
   "outputs": [],
   "source": [
    "def rand_gen():\n",
    "    for num in range(jointHandler.num_joints):\n",
    "        n = ru(-80, 85) * math.pi / 180\n",
    "        perception.increments.append(n)"
   ]
  },
  {
   "cell_type": "code",
   "execution_count": 16,
   "metadata": {},
   "outputs": [],
   "source": [
    "jointHandler.connectEMERGE()"
   ]
  },
  {
   "cell_type": "code",
   "execution_count": 38,
   "metadata": {},
   "outputs": [],
   "source": [
    "perception = perceptions()\n",
    "rand_gen()"
   ]
  },
  {
   "cell_type": "code",
   "execution_count": 39,
   "metadata": {},
   "outputs": [
    {
     "data": {
      "text/plain": [
       "[0.45237746982119986, -0.8993947895509815, 0.012890266707569173]"
      ]
     },
     "execution_count": 39,
     "metadata": {},
     "output_type": "execute_result"
    }
   ],
   "source": [
    "perception.increments"
   ]
  },
  {
   "cell_type": "code",
   "execution_count": 33,
   "metadata": {},
   "outputs": [
    {
     "name": "stdout",
     "output_type": "stream",
     "text": [
      "1.3089969158172607\n",
      "1.3089969158172607\n",
      "1.3089969158172607\n"
     ]
    }
   ],
   "source": [
    "init_position()"
   ]
  },
  {
   "cell_type": "code",
   "execution_count": 40,
   "metadata": {},
   "outputs": [
    {
     "name": "stdout",
     "output_type": "stream",
     "text": [
      "0.4470522403717041\n",
      "-0.9167826175689697\n",
      "0.004396915435791016\n"
     ]
    }
   ],
   "source": [
    "for joint_n in range(jointHandler.num_joints):\n",
    "    next_pos = perception.increments[joint_n]\n",
    "    joint = jointHandler.joint_ids[joint_n]\n",
    "\n",
    "    jointHandler.setJointTargetPosition(joint,next_pos)\n",
    "    print(jointHandler.getJointPosition(joint))"
   ]
  },
  {
   "cell_type": "code",
   "execution_count": 41,
   "metadata": {},
   "outputs": [],
   "source": [
    "jointHandler.disconnectEMERGE()"
   ]
  }
 ],
 "metadata": {
  "kernelspec": {
   "display_name": "EMERGE_Py311",
   "language": "python",
   "name": "python3"
  },
  "language_info": {
   "codemirror_mode": {
    "name": "ipython",
    "version": 3
   },
   "file_extension": ".py",
   "mimetype": "text/x-python",
   "name": "python",
   "nbconvert_exporter": "python",
   "pygments_lexer": "ipython3",
   "version": "3.11.5"
  }
 },
 "nbformat": 4,
 "nbformat_minor": 2
}
