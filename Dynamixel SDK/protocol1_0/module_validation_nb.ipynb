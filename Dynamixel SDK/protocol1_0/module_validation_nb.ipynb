{
 "cells": [
  {
   "cell_type": "code",
   "execution_count": 1,
   "metadata": {},
   "outputs": [],
   "source": [
    "import os, math, serial, time, emerge_classes, csv, msvcrt\n",
    "from dynamixel_sdk import *                    # Uses Dynamixel SDK library\n",
    "from joint_handler import *\n",
    "from emerge_sensor_handler import *\n",
    "from zmqRemoteApi import RemoteAPIClient\n",
    "\n",
    "from random import randint as ri\n",
    "from random import uniform as ru"
   ]
  },
  {
   "cell_type": "code",
   "execution_count": 2,
   "metadata": {},
   "outputs": [],
   "source": [
    "isSim = False\n",
    "if isSim:\n",
    "    cluster = False\n",
    "    setup = Sim_setup(cluster)\n",
    "    client = RemoteAPIClient('localhost', setup.port_conection)\n",
    "    sim = client.getObject('sim')\n",
    "    jointHandler = JointHandler(isSim, client, sim)\n",
    "else:\n",
    "    setup = EMERGE_setup()\n",
    "    portHandler = PortHandler(setup.DEVICENAME)\n",
    "    packetHandler = PacketHandler(setup.PROTOCOL_VERSION)\n",
    "    sensorHandler = SensorHandler(setup.SENSOR_BAUD, setup.SENSOR_PORT)\n",
    "    jointHandler = JointHandler(isSim, portHandler, packetHandler, sensorHandler)"
   ]
  },
  {
   "cell_type": "code",
   "execution_count": 38,
   "metadata": {},
   "outputs": [
    {
     "name": "stdout",
     "output_type": "stream",
     "text": [
      "Succeeded to open the port\n",
      "Succeeded to change the baudrate\n",
      "[ID:001] ping Succeeded.\n",
      "[ID:002] ping Succeeded.\n",
      "[ID:003] ping Succeeded.\n"
     ]
    }
   ],
   "source": [
    "jointHandler.loadEMERGE()"
   ]
  },
  {
   "cell_type": "code",
   "execution_count": 5,
   "metadata": {},
   "outputs": [
    {
     "name": "stdout",
     "output_type": "stream",
     "text": [
      "[ID:002] ping Succeeded.\n"
     ]
    },
    {
     "data": {
      "text/plain": [
       "True"
      ]
     },
     "execution_count": 5,
     "metadata": {},
     "output_type": "execute_result"
    }
   ],
   "source": [
    "jointHandler.getJointStatus(2)"
   ]
  },
  {
   "cell_type": "code",
   "execution_count": 26,
   "metadata": {},
   "outputs": [],
   "source": [
    "jointHandler.getJointList()"
   ]
  },
  {
   "cell_type": "code",
   "execution_count": 5,
   "metadata": {},
   "outputs": [],
   "source": [
    "i = 1"
   ]
  },
  {
   "cell_type": "code",
   "execution_count": 40,
   "metadata": {},
   "outputs": [],
   "source": [
    "for joint in jointHandler.joint_ids:\n",
    "    jointHandler.setJointTargetPosition(joint,-i*math.pi/4)\n",
    "i = -i"
   ]
  },
  {
   "cell_type": "code",
   "execution_count": 41,
   "metadata": {},
   "outputs": [],
   "source": [
    "for joint in jointHandler.joint_ids:\n",
    "    jointHandler.setJointInitialPosition(joint)"
   ]
  },
  {
   "cell_type": "code",
   "execution_count": 43,
   "metadata": {},
   "outputs": [
    {
     "ename": "SerialException",
     "evalue": "ClearCommError failed (OSError(9, 'Controlador no válido.', None, 6))",
     "output_type": "error",
     "traceback": [
      "\u001b[1;31m---------------------------------------------------------------------------\u001b[0m",
      "\u001b[1;31mSerialException\u001b[0m                           Traceback (most recent call last)",
      "Cell \u001b[1;32mIn[43], line 1\u001b[0m\n\u001b[1;32m----> 1\u001b[0m \u001b[43mjointHandler\u001b[49m\u001b[38;5;241;43m.\u001b[39;49m\u001b[43munloadEMERGE\u001b[49m\u001b[43m(\u001b[49m\u001b[43m)\u001b[49m\n",
      "File \u001b[1;32mc:\\Users\\carlo\\OneDrive\\Imágenes\\Documentos\\GitHub\\EMERGE\\Dynamixel SDK\\protocol1_0\\emerge_joint_handler.py:298\u001b[0m, in \u001b[0;36mJointHandlerEMERGE.unloadEMERGE\u001b[1;34m(self)\u001b[0m\n\u001b[0;32m    296\u001b[0m \u001b[38;5;28;01mdef\u001b[39;00m \u001b[38;5;21munloadEMERGE\u001b[39m(\u001b[38;5;28mself\u001b[39m):\n\u001b[0;32m    297\u001b[0m     \u001b[38;5;28;01mfor\u001b[39;00m joint \u001b[38;5;129;01min\u001b[39;00m \u001b[38;5;28mself\u001b[39m\u001b[38;5;241m.\u001b[39mjoint_ids:\n\u001b[1;32m--> 298\u001b[0m         \u001b[38;5;28;43mself\u001b[39;49m\u001b[38;5;241;43m.\u001b[39;49m\u001b[43mdisbleJointMovement\u001b[49m\u001b[43m(\u001b[49m\u001b[43mjoint\u001b[49m\u001b[43m)\u001b[49m\n\u001b[0;32m    299\u001b[0m     \u001b[38;5;28mself\u001b[39m\u001b[38;5;241m.\u001b[39mportHandler\u001b[38;5;241m.\u001b[39mclosePort()\n",
      "File \u001b[1;32mc:\\Users\\carlo\\OneDrive\\Imágenes\\Documentos\\GitHub\\EMERGE\\Dynamixel SDK\\protocol1_0\\emerge_joint_handler.py:69\u001b[0m, in \u001b[0;36mJointHandlerEMERGE.disbleJointMovement\u001b[1;34m(self, joint)\u001b[0m\n\u001b[0;32m     68\u001b[0m \u001b[38;5;28;01mdef\u001b[39;00m \u001b[38;5;21mdisbleJointMovement\u001b[39m(\u001b[38;5;28mself\u001b[39m, joint):\n\u001b[1;32m---> 69\u001b[0m     dxl_comm_result, dxl_error \u001b[38;5;241m=\u001b[39m \u001b[38;5;28;43mself\u001b[39;49m\u001b[38;5;241;43m.\u001b[39;49m\u001b[43mpacketHandler\u001b[49m\u001b[38;5;241;43m.\u001b[39;49m\u001b[43mwrite1ByteTxRx\u001b[49m\u001b[43m(\u001b[49m\u001b[38;5;28;43mself\u001b[39;49m\u001b[38;5;241;43m.\u001b[39;49m\u001b[43mportHandler\u001b[49m\u001b[43m,\u001b[49m\u001b[43m \u001b[49m\u001b[43mjoint\u001b[49m\u001b[43m,\u001b[49m\u001b[43m \u001b[49m\u001b[43mRAM_ADDR\u001b[49m\u001b[38;5;241;43m.\u001b[39;49m\u001b[43mTORQUE_ENABLE\u001b[49m\u001b[43m,\u001b[49m\u001b[43m \u001b[49m\u001b[38;5;241;43m0\u001b[39;49m\u001b[43m)\u001b[49m\n\u001b[0;32m     70\u001b[0m     \u001b[38;5;28;01mif\u001b[39;00m dxl_comm_result \u001b[38;5;241m!=\u001b[39m COMM_SUCCESS:\n\u001b[0;32m     71\u001b[0m         \u001b[38;5;28mprint\u001b[39m(\u001b[38;5;124m\"\u001b[39m\u001b[38;5;132;01m%s\u001b[39;00m\u001b[38;5;124m\"\u001b[39m \u001b[38;5;241m%\u001b[39m \u001b[38;5;28mself\u001b[39m\u001b[38;5;241m.\u001b[39mpacketHandler\u001b[38;5;241m.\u001b[39mgetTxRxResult(dxl_comm_result))\n",
      "File \u001b[1;32mc:\\Users\\carlo\\OneDrive\\Imágenes\\Documentos\\GitHub\\EMERGE\\Dynamixel SDK\\protocol1_0\\dynamixel_sdk\\protocol1_packet_handler.py:428\u001b[0m, in \u001b[0;36mProtocol1PacketHandler.write1ByteTxRx\u001b[1;34m(self, port, dxl_id, address, data)\u001b[0m\n\u001b[0;32m    426\u001b[0m \u001b[38;5;28;01mdef\u001b[39;00m \u001b[38;5;21mwrite1ByteTxRx\u001b[39m(\u001b[38;5;28mself\u001b[39m, port, dxl_id, address, data):\n\u001b[0;32m    427\u001b[0m     data_write \u001b[38;5;241m=\u001b[39m [data]\n\u001b[1;32m--> 428\u001b[0m     \u001b[38;5;28;01mreturn\u001b[39;00m \u001b[38;5;28;43mself\u001b[39;49m\u001b[38;5;241;43m.\u001b[39;49m\u001b[43mwriteTxRx\u001b[49m\u001b[43m(\u001b[49m\u001b[43mport\u001b[49m\u001b[43m,\u001b[49m\u001b[43m \u001b[49m\u001b[43mdxl_id\u001b[49m\u001b[43m,\u001b[49m\u001b[43m \u001b[49m\u001b[43maddress\u001b[49m\u001b[43m,\u001b[49m\u001b[43m \u001b[49m\u001b[38;5;241;43m1\u001b[39;49m\u001b[43m,\u001b[49m\u001b[43m \u001b[49m\u001b[43mdata_write\u001b[49m\u001b[43m)\u001b[49m\n",
      "File \u001b[1;32mc:\\Users\\carlo\\OneDrive\\Imágenes\\Documentos\\GitHub\\EMERGE\\Dynamixel SDK\\protocol1_0\\dynamixel_sdk\\protocol1_packet_handler.py:418\u001b[0m, in \u001b[0;36mProtocol1PacketHandler.writeTxRx\u001b[1;34m(self, port, dxl_id, address, length, data)\u001b[0m\n\u001b[0;32m    415\u001b[0m txpacket[PKT_PARAMETER0] \u001b[38;5;241m=\u001b[39m address\n\u001b[0;32m    417\u001b[0m txpacket[PKT_PARAMETER0 \u001b[38;5;241m+\u001b[39m \u001b[38;5;241m1\u001b[39m: PKT_PARAMETER0 \u001b[38;5;241m+\u001b[39m \u001b[38;5;241m1\u001b[39m \u001b[38;5;241m+\u001b[39m length] \u001b[38;5;241m=\u001b[39m data[\u001b[38;5;241m0\u001b[39m: length]\n\u001b[1;32m--> 418\u001b[0m rxpacket, result, error \u001b[38;5;241m=\u001b[39m \u001b[38;5;28;43mself\u001b[39;49m\u001b[38;5;241;43m.\u001b[39;49m\u001b[43mtxRxPacket\u001b[49m\u001b[43m(\u001b[49m\u001b[43mport\u001b[49m\u001b[43m,\u001b[49m\u001b[43m \u001b[49m\u001b[43mtxpacket\u001b[49m\u001b[43m)\u001b[49m\n\u001b[0;32m    420\u001b[0m \u001b[38;5;28;01mreturn\u001b[39;00m result, error\n",
      "File \u001b[1;32mc:\\Users\\carlo\\OneDrive\\Imágenes\\Documentos\\GitHub\\EMERGE\\Dynamixel SDK\\protocol1_0\\dynamixel_sdk\\protocol1_packet_handler.py:210\u001b[0m, in \u001b[0;36mProtocol1PacketHandler.txRxPacket\u001b[1;34m(self, port, txpacket)\u001b[0m\n\u001b[0;32m    207\u001b[0m error \u001b[38;5;241m=\u001b[39m \u001b[38;5;241m0\u001b[39m\n\u001b[0;32m    209\u001b[0m \u001b[38;5;66;03m# tx packet\u001b[39;00m\n\u001b[1;32m--> 210\u001b[0m result \u001b[38;5;241m=\u001b[39m \u001b[38;5;28;43mself\u001b[39;49m\u001b[38;5;241;43m.\u001b[39;49m\u001b[43mtxPacket\u001b[49m\u001b[43m(\u001b[49m\u001b[43mport\u001b[49m\u001b[43m,\u001b[49m\u001b[43m \u001b[49m\u001b[43mtxpacket\u001b[49m\u001b[43m)\u001b[49m\n\u001b[0;32m    211\u001b[0m \u001b[38;5;28;01mif\u001b[39;00m result \u001b[38;5;241m!=\u001b[39m COMM_SUCCESS:\n\u001b[0;32m    212\u001b[0m     \u001b[38;5;28;01mreturn\u001b[39;00m rxpacket, result, error\n",
      "File \u001b[1;32mc:\\Users\\carlo\\OneDrive\\Imágenes\\Documentos\\GitHub\\EMERGE\\Dynamixel SDK\\protocol1_0\\dynamixel_sdk\\protocol1_packet_handler.py:122\u001b[0m, in \u001b[0;36mProtocol1PacketHandler.txPacket\u001b[1;34m(self, port, txpacket)\u001b[0m\n\u001b[0;32m    117\u001b[0m txpacket[total_packet_length \u001b[38;5;241m-\u001b[39m \u001b[38;5;241m1\u001b[39m] \u001b[38;5;241m=\u001b[39m \u001b[38;5;241m~\u001b[39mchecksum \u001b[38;5;241m&\u001b[39m \u001b[38;5;241m0xFF\u001b[39m\n\u001b[0;32m    119\u001b[0m \u001b[38;5;66;03m#print \"[TxPacket] %r\" % txpacket\u001b[39;00m\n\u001b[0;32m    120\u001b[0m \n\u001b[0;32m    121\u001b[0m \u001b[38;5;66;03m# tx packet\u001b[39;00m\n\u001b[1;32m--> 122\u001b[0m \u001b[43mport\u001b[49m\u001b[38;5;241;43m.\u001b[39;49m\u001b[43mclearPort\u001b[49m\u001b[43m(\u001b[49m\u001b[43m)\u001b[49m\n\u001b[0;32m    123\u001b[0m written_packet_length \u001b[38;5;241m=\u001b[39m port\u001b[38;5;241m.\u001b[39mwritePort(txpacket)\n\u001b[0;32m    124\u001b[0m \u001b[38;5;28;01mif\u001b[39;00m total_packet_length \u001b[38;5;241m!=\u001b[39m written_packet_length:\n",
      "File \u001b[1;32mc:\\Users\\carlo\\OneDrive\\Imágenes\\Documentos\\GitHub\\EMERGE\\Dynamixel SDK\\protocol1_0\\dynamixel_sdk\\port_handler.py:51\u001b[0m, in \u001b[0;36mPortHandler.clearPort\u001b[1;34m(self)\u001b[0m\n\u001b[0;32m     50\u001b[0m \u001b[38;5;28;01mdef\u001b[39;00m \u001b[38;5;21mclearPort\u001b[39m(\u001b[38;5;28mself\u001b[39m):\n\u001b[1;32m---> 51\u001b[0m     \u001b[38;5;28;43mself\u001b[39;49m\u001b[38;5;241;43m.\u001b[39;49m\u001b[43mser\u001b[49m\u001b[38;5;241;43m.\u001b[39;49m\u001b[43mflush\u001b[49m\u001b[43m(\u001b[49m\u001b[43m)\u001b[49m\n",
      "File \u001b[1;32mc:\\Users\\carlo\\anaconda3\\envs\\EMERGE_Py311\\Lib\\site-packages\\serial\\serialwin32.py:345\u001b[0m, in \u001b[0;36mSerial.flush\u001b[1;34m(self)\u001b[0m\n\u001b[0;32m    340\u001b[0m \u001b[38;5;28;01mdef\u001b[39;00m \u001b[38;5;21mflush\u001b[39m(\u001b[38;5;28mself\u001b[39m):\n\u001b[0;32m    341\u001b[0m \u001b[38;5;250m    \u001b[39m\u001b[38;5;124;03m\"\"\"\\\u001b[39;00m\n\u001b[0;32m    342\u001b[0m \u001b[38;5;124;03m    Flush of file like objects. In this case, wait until all data\u001b[39;00m\n\u001b[0;32m    343\u001b[0m \u001b[38;5;124;03m    is written.\u001b[39;00m\n\u001b[0;32m    344\u001b[0m \u001b[38;5;124;03m    \"\"\"\u001b[39;00m\n\u001b[1;32m--> 345\u001b[0m     \u001b[38;5;28;01mwhile\u001b[39;00m \u001b[38;5;28;43mself\u001b[39;49m\u001b[38;5;241;43m.\u001b[39;49m\u001b[43mout_waiting\u001b[49m:\n\u001b[0;32m    346\u001b[0m         time\u001b[38;5;241m.\u001b[39msleep(\u001b[38;5;241m0.05\u001b[39m)\n",
      "File \u001b[1;32mc:\\Users\\carlo\\anaconda3\\envs\\EMERGE_Py311\\Lib\\site-packages\\serial\\serialwin32.py:447\u001b[0m, in \u001b[0;36mSerial.out_waiting\u001b[1;34m(self)\u001b[0m\n\u001b[0;32m    445\u001b[0m comstat \u001b[38;5;241m=\u001b[39m win32\u001b[38;5;241m.\u001b[39mCOMSTAT()\n\u001b[0;32m    446\u001b[0m \u001b[38;5;28;01mif\u001b[39;00m \u001b[38;5;129;01mnot\u001b[39;00m win32\u001b[38;5;241m.\u001b[39mClearCommError(\u001b[38;5;28mself\u001b[39m\u001b[38;5;241m.\u001b[39m_port_handle, ctypes\u001b[38;5;241m.\u001b[39mbyref(flags), ctypes\u001b[38;5;241m.\u001b[39mbyref(comstat)):\n\u001b[1;32m--> 447\u001b[0m     \u001b[38;5;28;01mraise\u001b[39;00m SerialException(\u001b[38;5;124m\"\u001b[39m\u001b[38;5;124mClearCommError failed (\u001b[39m\u001b[38;5;132;01m{!r}\u001b[39;00m\u001b[38;5;124m)\u001b[39m\u001b[38;5;124m\"\u001b[39m\u001b[38;5;241m.\u001b[39mformat(ctypes\u001b[38;5;241m.\u001b[39mWinError()))\n\u001b[0;32m    448\u001b[0m \u001b[38;5;28;01mreturn\u001b[39;00m comstat\u001b[38;5;241m.\u001b[39mcbOutQue\n",
      "\u001b[1;31mSerialException\u001b[0m: ClearCommError failed (OSError(9, 'Controlador no válido.', None, 6))"
     ]
    }
   ],
   "source": [
    "jointHandler.unloadEMERGE()"
   ]
  },
  {
   "cell_type": "markdown",
   "metadata": {},
   "source": [
    "### 1 modulo"
   ]
  },
  {
   "cell_type": "code",
   "execution_count": null,
   "metadata": {},
   "outputs": [],
   "source": [
    "conexiones = [\"superior\", \"lateral\", \"inferior\"]\n",
    "targets = [math.pi/4,-math.pi/2]"
   ]
  },
  {
   "cell_type": "markdown",
   "metadata": {},
   "source": [
    "Listas de salidas"
   ]
  },
  {
   "cell_type": "code",
   "execution_count": null,
   "metadata": {},
   "outputs": [],
   "source": [
    "excel_conex = []\n",
    "excel_modulos = []\n",
    "excel_mun_m = []\n",
    "excel_target = []\n",
    "excel_final = []"
   ]
  },
  {
   "cell_type": "code",
   "execution_count": null,
   "metadata": {},
   "outputs": [],
   "source": [
    "for conexion in conexiones:\n",
    "    jointHandler.loadEMERGE()\n",
    "    for target in targets:\n",
    "        # 30 reps\n",
    "        for k in range (30):\n",
    "            # Lleva el motor a 0\n",
    "            jointHandler.setJointInitialPosition()\n",
    "\n",
    "            # Conexion\n",
    "            excel_conex.append(conexion)\n",
    "\n",
    "            # Lista con ID de modulos\n",
    "            modulos = jointHandler.joint_ids\n",
    "            excel_modulos.append(modulos)\n",
    "\n",
    "            # Numero de modulos\n",
    "            num_modulos = jointHandler.num_joints\n",
    "            excel_mun_m.append(num_modulos)\n",
    "\n",
    "            # Guarda la posicion objetivo\n",
    "            excel_target.append(target)\n",
    "\n",
    "            # Mueve el motor\n",
    "            finals = []\n",
    "            for joint in modulos:\n",
    "                jointHandler.setJointTargetPosition(joint, target)\n",
    "                time.sleep(1)\n",
    "                final = jointHandler.getJointPosition(joint)\n",
    "                finals.append(final)\n",
    "\n",
    "            # Guarda las posiciones finales\n",
    "            excel_final.append(finals)\n",
    "    jointHandler.unloadEMERGE()\n",
    "    print(\"Cambiando de lugar el modulo...\")\n",
    "    time.sleep(5)\n",
    "    print(\"Presiona cualquier tecla para continuar...\")\n",
    "    msvcrt.getch()"
   ]
  },
  {
   "cell_type": "markdown",
   "metadata": {},
   "source": [
    "#### Exportar"
   ]
  },
  {
   "cell_type": "code",
   "execution_count": null,
   "metadata": {},
   "outputs": [],
   "source": [
    "# Combina las dos listas en una lista de tuplas\n",
    "datos_combinados = list(zip(excel_conex, excel_modulos, excel_mun_m, excel_target, excel_final))\n",
    "\n",
    "# Especifica el nombre del archivo CSV\n",
    "nombre_archivo = 'verificacion_modulos_1.csv'\n",
    "\n",
    "# Abre el archivo CSV en modo de escritura\n",
    "with open(nombre_archivo, 'w', newline='') as archivo_csv:\n",
    "    # Crea un objeto escritor CSV\n",
    "    escritor_csv = csv.writer(archivo_csv)\n",
    "\n",
    "    # Escribe los encabezados si es necesario\n",
    "    escritor_csv.writerow(['Conexion', 'Modulos','Numero de modulos', 'Posicion objetivo', 'Posicion final'])\n",
    "\n",
    "    # Escribe los datos\n",
    "    escritor_csv.writerows(datos_combinados)\n",
    "\n",
    "print(f'Datos exportados a {nombre_archivo}')"
   ]
  },
  {
   "cell_type": "markdown",
   "metadata": {},
   "source": [
    "### 2 modulos"
   ]
  },
  {
   "cell_type": "code",
   "execution_count": null,
   "metadata": {},
   "outputs": [],
   "source": [
    "conexiones = [\"lateral\", \"inferior\"]\n",
    "targets = [math.pi/4,-math.pi/8]\n",
    "excel_conex = []\n",
    "excel_modulos = []\n",
    "excel_mun_m = []\n",
    "excel_target = []\n",
    "excel_final = []"
   ]
  },
  {
   "cell_type": "markdown",
   "metadata": {},
   "source": [
    "#### Exportar"
   ]
  },
  {
   "cell_type": "code",
   "execution_count": null,
   "metadata": {},
   "outputs": [],
   "source": [
    "# Combina las dos listas en una lista de tuplas\n",
    "datos_combinados = list(zip(excel_conex, excel_modulos, excel_mun_m, excel_target, excel_final))\n",
    "\n",
    "# Especifica el nombre del archivo CSV\n",
    "nombre_archivo = 'verificacion_modulos_1.csv'\n",
    "\n",
    "# Abre el archivo CSV en modo de escritura\n",
    "with open(nombre_archivo, 'w', newline='') as archivo_csv:\n",
    "    # Crea un objeto escritor CSV\n",
    "    escritor_csv = csv.writer(archivo_csv)\n",
    "\n",
    "    # Escribe los encabezados si es necesario\n",
    "    escritor_csv.writerow(['Conexion', 'Modulos','Numero de modulos', 'Posicion objetivo', 'Posicion final'])\n",
    "\n",
    "    # Escribe los datos\n",
    "    escritor_csv.writerows(datos_combinados)\n",
    "\n",
    "print(f'Datos exportados a {nombre_archivo}')"
   ]
  },
  {
   "cell_type": "markdown",
   "metadata": {},
   "source": [
    "### 3 modulos"
   ]
  },
  {
   "cell_type": "code",
   "execution_count": null,
   "metadata": {},
   "outputs": [],
   "source": [
    "conexiones = [\"inferior\", \"superior\"]\n",
    "targets = [math.pi/4,-math.pi/8]\n",
    "excel_conex = []\n",
    "excel_modulos = []\n",
    "excel_mun_m = []\n",
    "excel_target = []\n",
    "excel_final = []"
   ]
  },
  {
   "cell_type": "markdown",
   "metadata": {},
   "source": [
    "#### Exportar"
   ]
  },
  {
   "cell_type": "code",
   "execution_count": null,
   "metadata": {},
   "outputs": [],
   "source": [
    "# Combina las dos listas en una lista de tuplas\n",
    "datos_combinados = list(zip(excel_conex, excel_modulos, excel_mun_m, excel_target, excel_final))\n",
    "\n",
    "# Especifica el nombre del archivo CSV\n",
    "nombre_archivo = 'verificacion_modulos_1.csv'\n",
    "\n",
    "# Abre el archivo CSV en modo de escritura\n",
    "with open(nombre_archivo, 'w', newline='') as archivo_csv:\n",
    "    # Crea un objeto escritor CSV\n",
    "    escritor_csv = csv.writer(archivo_csv)\n",
    "\n",
    "    # Escribe los encabezados si es necesario\n",
    "    escritor_csv.writerow(['Conexion', 'Modulos','Numero de modulos', 'Posicion objetivo', 'Posicion final'])\n",
    "\n",
    "    # Escribe los datos\n",
    "    escritor_csv.writerows(datos_combinados)\n",
    "\n",
    "print(f'Datos exportados a {nombre_archivo}')"
   ]
  }
 ],
 "metadata": {
  "kernelspec": {
   "display_name": "EMERGE_Py311",
   "language": "python",
   "name": "python3"
  },
  "language_info": {
   "codemirror_mode": {
    "name": "ipython",
    "version": 3
   },
   "file_extension": ".py",
   "mimetype": "text/x-python",
   "name": "python",
   "nbconvert_exporter": "python",
   "pygments_lexer": "ipython3",
   "version": "3.11.5"
  }
 },
 "nbformat": 4,
 "nbformat_minor": 2
}
