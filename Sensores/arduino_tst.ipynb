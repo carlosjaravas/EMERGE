{
 "cells": [
  {
   "cell_type": "code",
   "execution_count": 1,
   "metadata": {},
   "outputs": [],
   "source": [
    "import serial\n",
    "import time\n",
    "import csv"
   ]
  },
  {
   "cell_type": "code",
   "execution_count": 26,
   "metadata": {},
   "outputs": [],
   "source": [
    "class SensorHandler:\n",
    "    def __init__(self, arduino_baud = 9600, arduino_port = 'COM6'):\n",
    "        self.port = arduino_port\n",
    "        self.baudrate = arduino_baud\n",
    "        self.arduino = 0\n",
    "        self.IR_command = 'IR'\n",
    "        self.IMUg_command = 'Gyro'\n",
    "\n",
    "    def connectArduino(self):\n",
    "        self.arduino = serial.Serial(self.port, self.baudrate, timeout=1)\n",
    "    \n",
    "    def disconnectArduino(self):\n",
    "        self.arduino.close()\n",
    "    \n",
    "    def getDistance(self):\n",
    "        self.arduino.write(self.IR_command.encode())\n",
    "        rdistance = self.arduino.readline().decode().strip()\n",
    "        if rdistance == '':\n",
    "            rdistance = self.arduino.readline().decode().strip()\n",
    "        return float(rdistance)\n",
    "    \n",
    "    def getDPS(self):\n",
    "        self.arduino.write(self.IMUg_command.encode())\n",
    "        rDPS = self.arduino.readline().decode().strip()\n",
    "        if rDPS == '':\n",
    "            rDPS = self.arduino.readline().decode().strip()\n",
    "        dps = rDPS.split(\",\")\n",
    "        xdps = float(dps[0])\n",
    "        ydps = float(dps[1])\n",
    "        zdps = float(dps[2])\n",
    "        return xdps,ydps,zdps\n",
    "        #return rDPS\n"
   ]
  },
  {
   "cell_type": "code",
   "execution_count": 57,
   "metadata": {},
   "outputs": [],
   "source": [
    "# Cambia el puerto serial a tu configuración específica\n",
    "puerto_serial = 'COM6'  # Cambia esto al puerto que estés usando en tu sistema\n",
    "\n",
    "arduino = serial.Serial(puerto_serial, 9600, timeout=1)\n",
    "\n",
    "# Espera un momento para que la conexión se establezca\n",
    "time.sleep(2)"
   ]
  },
  {
   "cell_type": "code",
   "execution_count": 9,
   "metadata": {},
   "outputs": [
    {
     "name": "stdout",
     "output_type": "stream",
     "text": [
      "Valor recibido desde Arduino: 435\n"
     ]
    }
   ],
   "source": [
    "# Envía un comando a Arduino para solicitar la variable\n",
    "comando = 'IR'\n",
    "arduino.write(comando.encode())\n",
    "\n",
    "# Espera la respuesta de Arduino\n",
    "respuesta = arduino.readline().decode().strip()\n",
    "print(f'Valor recibido desde Arduino: {respuesta}')\n",
    "\n",
    "# Cierra la conexión\n",
    "arduino.close()"
   ]
  },
  {
   "cell_type": "markdown",
   "metadata": {},
   "source": [
    "### Cact IR"
   ]
  },
  {
   "cell_type": "code",
   "execution_count": 35,
   "metadata": {},
   "outputs": [],
   "source": [
    "sensorHandler = SensorHandler()\n",
    "sensorHandler.connectArduino()"
   ]
  },
  {
   "cell_type": "code",
   "execution_count": 31,
   "metadata": {},
   "outputs": [
    {
     "data": {
      "text/plain": [
       "53.38"
      ]
     },
     "execution_count": 31,
     "metadata": {},
     "output_type": "execute_result"
    }
   ],
   "source": [
    "sensorHandler.getDistance()"
   ]
  },
  {
   "cell_type": "code",
   "execution_count": 13,
   "metadata": {},
   "outputs": [
    {
     "name": "stdout",
     "output_type": "stream",
     "text": [
      "0.57\n"
     ]
    }
   ],
   "source": [
    "x = sensorHandler.getDistance()\n",
    "print(x)"
   ]
  },
  {
   "cell_type": "code",
   "execution_count": 19,
   "metadata": {},
   "outputs": [
    {
     "name": "stdout",
     "output_type": "stream",
     "text": [
      "El resultado para x=0.57 es 105.02316739745004\n"
     ]
    }
   ],
   "source": [
    "import numpy as np\n",
    "\n",
    "# Definir los coeficientes del polinomio (en orden descendente)\n",
    "coeficientes = [49.745, -304.1, 701.24, -752.48, 357.17]\n",
    "\n",
    "# Crear el polinomio\n",
    "polinomio = np.poly1d(coeficientes)\n",
    "\n",
    "# Evaluar el polinomio en un valor específico de x\n",
    "x_valor = x\n",
    "resultado = polinomio(x_valor)\n",
    "\n",
    "# Imprimir el resultado\n",
    "print(f\"El resultado para x={x_valor} es {resultado}\")"
   ]
  },
  {
   "cell_type": "code",
   "execution_count": 36,
   "metadata": {},
   "outputs": [],
   "source": [
    "sensorHandler.disconnectArduino()"
   ]
  },
  {
   "cell_type": "code",
   "execution_count": null,
   "metadata": {},
   "outputs": [],
   "source": [
    "sensorHandler = SensorHandler()\n",
    "sensorHandler.connectArduino()"
   ]
  },
  {
   "cell_type": "code",
   "execution_count": 68,
   "metadata": {},
   "outputs": [],
   "source": [
    "measures = []\n",
    "points = [20,22,25,30,40,55,80,105,120,130,140,145,150]\n",
    "dist = []"
   ]
  },
  {
   "cell_type": "code",
   "execution_count": 74,
   "metadata": {},
   "outputs": [
    {
     "name": "stdout",
     "output_type": "stream",
     "text": [
      "3\n"
     ]
    }
   ],
   "source": [
    "k=int(len(measures)/30)\n",
    "print(k)"
   ]
  },
  {
   "cell_type": "code",
   "execution_count": 75,
   "metadata": {},
   "outputs": [
    {
     "name": "stdout",
     "output_type": "stream",
     "text": [
      "30\n"
     ]
    }
   ],
   "source": [
    "true = points[k]\n",
    "print(true)"
   ]
  },
  {
   "cell_type": "code",
   "execution_count": 94,
   "metadata": {},
   "outputs": [
    {
     "name": "stdout",
     "output_type": "stream",
     "text": [
      "Ultimo valor medido: \n",
      "145\n",
      "Valor por medir: \n",
      "150\n"
     ]
    }
   ],
   "source": [
    "print(\"Ultimo valor medido: \")\n",
    "print(dist[-1])\n",
    "k=int(len(measures)/30)\n",
    "true = points[k]\n",
    "print(\"Valor por medir: \")\n",
    "print(true)"
   ]
  },
  {
   "cell_type": "code",
   "execution_count": 95,
   "metadata": {},
   "outputs": [
    {
     "name": "stdout",
     "output_type": "stream",
     "text": [
      "Valor Medido: \n",
      "150 390\n"
     ]
    }
   ],
   "source": [
    "for i in range(30):\n",
    "    dist_mv = sensorHandler.getDistance()\n",
    "    if dist_mv == '':\n",
    "        dist_mv = sensorHandler.getDistance()\n",
    "    measures.append(dist_mv)\n",
    "    dist.append(true)\n",
    "print(\"Valor Medido: \")\n",
    "print(dist[-1],len(measures))"
   ]
  },
  {
   "cell_type": "code",
   "execution_count": 96,
   "metadata": {},
   "outputs": [
    {
     "name": "stdout",
     "output_type": "stream",
     "text": [
      "Datos exportados a caractIR.csv\n"
     ]
    }
   ],
   "source": [
    "# Combina las dos listas en una lista de tuplas\n",
    "datos_combinados = list(zip(dist, measures))\n",
    "\n",
    "# Especifica el nombre del archivo CSV\n",
    "nombre_archivo = 'caractIR.csv'\n",
    "\n",
    "# Abre el archivo CSV en modo de escritura\n",
    "with open(nombre_archivo, 'w', newline='') as archivo_csv:\n",
    "    # Crea un objeto escritor CSV\n",
    "    escritor_csv = csv.writer(archivo_csv)\n",
    "\n",
    "    # Escribe los encabezados si es necesario\n",
    "    escritor_csv.writerow(['Distancia(mm)', 'Vout(V)'])\n",
    "\n",
    "    # Escribe los datos\n",
    "    escritor_csv.writerows(datos_combinados)\n",
    "\n",
    "print(f'Datos exportados a {nombre_archivo}')"
   ]
  },
  {
   "cell_type": "markdown",
   "metadata": {},
   "source": [
    "### IMM"
   ]
  },
  {
   "cell_type": "code",
   "execution_count": 27,
   "metadata": {},
   "outputs": [],
   "source": [
    "sensorHandler = SensorHandler()\n",
    "sensorHandler.connectArduino()"
   ]
  },
  {
   "cell_type": "code",
   "execution_count": 24,
   "metadata": {},
   "outputs": [],
   "source": [
    "sensorHandler.disconnectArduino()"
   ]
  },
  {
   "cell_type": "code",
   "execution_count": 28,
   "metadata": {},
   "outputs": [
    {
     "data": {
      "text/plain": [
       "(-0.17, 3.5, -0.72)"
      ]
     },
     "execution_count": 28,
     "metadata": {},
     "output_type": "execute_result"
    }
   ],
   "source": [
    "sensorHandler.getDPS()"
   ]
  },
  {
   "cell_type": "code",
   "execution_count": 38,
   "metadata": {},
   "outputs": [
    {
     "name": "stdout",
     "output_type": "stream",
     "text": [
      "(-1.11, 3.72, -0.18)\n"
     ]
    }
   ],
   "source": [
    "rDPS = sensorHandler.getDPS()\n",
    "print(rDPS)"
   ]
  },
  {
   "cell_type": "code",
   "execution_count": 22,
   "metadata": {},
   "outputs": [
    {
     "name": "stdout",
     "output_type": "stream",
     "text": [
      "['00002.19', ' 00001.87', ' 00002.06']\n"
     ]
    }
   ],
   "source": [
    "dps = rDPS.split(\",\")\n",
    "print(dps)\n",
    "xdps = float(dps[0])\n",
    "ydps = float(dps[1])\n",
    "zdps = float(dps[2])"
   ]
  },
  {
   "cell_type": "code",
   "execution_count": 23,
   "metadata": {},
   "outputs": [
    {
     "name": "stdout",
     "output_type": "stream",
     "text": [
      "2.19 1.87 2.06\n"
     ]
    }
   ],
   "source": [
    "print(xdps,ydps,zdps)"
   ]
  }
 ],
 "metadata": {
  "kernelspec": {
   "display_name": "EMERGE_Py311",
   "language": "python",
   "name": "python3"
  },
  "language_info": {
   "codemirror_mode": {
    "name": "ipython",
    "version": 3
   },
   "file_extension": ".py",
   "mimetype": "text/x-python",
   "name": "python",
   "nbconvert_exporter": "python",
   "pygments_lexer": "ipython3",
   "version": "3.11.5"
  }
 },
 "nbformat": 4,
 "nbformat_minor": 2
}
